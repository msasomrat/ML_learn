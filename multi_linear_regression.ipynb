{
 "cells": [
  {
   "cell_type": "code",
   "execution_count": 1,
   "metadata": {},
   "outputs": [],
   "source": [
    "import pandas as pd\n",
    "import numpy as np"
   ]
  },
  {
   "cell_type": "code",
   "execution_count": 17,
   "metadata": {},
   "outputs": [],
   "source": [
    "from sklearn.datasets import make_regression\n",
    "from sklearn.metrics import mean_absolute_error\n",
    "from sklearn.metrics import mean_squared_error\n",
    "from sklearn.metrics import r2_score\n",
    "\n",
    "\n",
    "from sklearn.model_selection import train_test_split\n",
    "from sklearn.linear_model import LinearRegression"
   ]
  },
  {
   "cell_type": "code",
   "execution_count": 56,
   "metadata": {},
   "outputs": [],
   "source": [
    "import plotly.express as px\n",
    "import plotly.graph_objects as go"
   ]
  },
  {
   "cell_type": "code",
   "execution_count": 87,
   "metadata": {},
   "outputs": [],
   "source": [
    "x, y = make_regression(n_samples=100, n_features=2, n_targets=1, n_informative=2, noise=50)"
   ]
  },
  {
   "cell_type": "code",
   "execution_count": 88,
   "metadata": {},
   "outputs": [],
   "source": [
    "df = pd.DataFrame({'feature1': x[:,0], 'feature2': x[:,1], 'target': y})"
   ]
  },
  {
   "cell_type": "code",
   "execution_count": 89,
   "metadata": {},
   "outputs": [
    {
     "data": {
      "text/html": [
       "<div>\n",
       "<style scoped>\n",
       "    .dataframe tbody tr th:only-of-type {\n",
       "        vertical-align: middle;\n",
       "    }\n",
       "\n",
       "    .dataframe tbody tr th {\n",
       "        vertical-align: top;\n",
       "    }\n",
       "\n",
       "    .dataframe thead th {\n",
       "        text-align: right;\n",
       "    }\n",
       "</style>\n",
       "<table border=\"1\" class=\"dataframe\">\n",
       "  <thead>\n",
       "    <tr style=\"text-align: right;\">\n",
       "      <th></th>\n",
       "      <th>feature1</th>\n",
       "      <th>feature2</th>\n",
       "      <th>target</th>\n",
       "    </tr>\n",
       "  </thead>\n",
       "  <tbody>\n",
       "    <tr>\n",
       "      <th>0</th>\n",
       "      <td>2.564751</td>\n",
       "      <td>1.421892</td>\n",
       "      <td>204.807509</td>\n",
       "    </tr>\n",
       "    <tr>\n",
       "      <th>1</th>\n",
       "      <td>0.520178</td>\n",
       "      <td>0.798050</td>\n",
       "      <td>132.344533</td>\n",
       "    </tr>\n",
       "    <tr>\n",
       "      <th>2</th>\n",
       "      <td>-1.999921</td>\n",
       "      <td>1.523097</td>\n",
       "      <td>28.338282</td>\n",
       "    </tr>\n",
       "    <tr>\n",
       "      <th>3</th>\n",
       "      <td>1.742663</td>\n",
       "      <td>-0.479780</td>\n",
       "      <td>73.508743</td>\n",
       "    </tr>\n",
       "    <tr>\n",
       "      <th>4</th>\n",
       "      <td>-0.669184</td>\n",
       "      <td>-0.063186</td>\n",
       "      <td>-49.850177</td>\n",
       "    </tr>\n",
       "    <tr>\n",
       "      <th>...</th>\n",
       "      <td>...</td>\n",
       "      <td>...</td>\n",
       "      <td>...</td>\n",
       "    </tr>\n",
       "    <tr>\n",
       "      <th>95</th>\n",
       "      <td>-1.012832</td>\n",
       "      <td>-0.418728</td>\n",
       "      <td>-106.188682</td>\n",
       "    </tr>\n",
       "    <tr>\n",
       "      <th>96</th>\n",
       "      <td>1.689682</td>\n",
       "      <td>0.167482</td>\n",
       "      <td>74.618783</td>\n",
       "    </tr>\n",
       "    <tr>\n",
       "      <th>97</th>\n",
       "      <td>0.611942</td>\n",
       "      <td>0.194214</td>\n",
       "      <td>-39.117245</td>\n",
       "    </tr>\n",
       "    <tr>\n",
       "      <th>98</th>\n",
       "      <td>0.726655</td>\n",
       "      <td>1.464750</td>\n",
       "      <td>24.941878</td>\n",
       "    </tr>\n",
       "    <tr>\n",
       "      <th>99</th>\n",
       "      <td>-1.104043</td>\n",
       "      <td>-1.746333</td>\n",
       "      <td>-89.504212</td>\n",
       "    </tr>\n",
       "  </tbody>\n",
       "</table>\n",
       "<p>100 rows × 3 columns</p>\n",
       "</div>"
      ],
      "text/plain": [
       "    feature1  feature2      target\n",
       "0   2.564751  1.421892  204.807509\n",
       "1   0.520178  0.798050  132.344533\n",
       "2  -1.999921  1.523097   28.338282\n",
       "3   1.742663 -0.479780   73.508743\n",
       "4  -0.669184 -0.063186  -49.850177\n",
       "..       ...       ...         ...\n",
       "95 -1.012832 -0.418728 -106.188682\n",
       "96  1.689682  0.167482   74.618783\n",
       "97  0.611942  0.194214  -39.117245\n",
       "98  0.726655  1.464750   24.941878\n",
       "99 -1.104043 -1.746333  -89.504212\n",
       "\n",
       "[100 rows x 3 columns]"
      ]
     },
     "execution_count": 89,
     "metadata": {},
     "output_type": "execute_result"
    }
   ],
   "source": [
    "df"
   ]
  },
  {
   "cell_type": "code",
   "execution_count": 90,
   "metadata": {},
   "outputs": [
    {
     "name": "stdout",
     "output_type": "stream",
     "text": [
      "<class 'pandas.core.frame.DataFrame'>\n",
      "RangeIndex: 100 entries, 0 to 99\n",
      "Data columns (total 3 columns):\n",
      " #   Column    Non-Null Count  Dtype  \n",
      "---  ------    --------------  -----  \n",
      " 0   feature1  100 non-null    float64\n",
      " 1   feature2  100 non-null    float64\n",
      " 2   target    100 non-null    float64\n",
      "dtypes: float64(3)\n",
      "memory usage: 2.5 KB\n"
     ]
    }
   ],
   "source": [
    "df.info()"
   ]
  },
  {
   "cell_type": "code",
   "execution_count": 91,
   "metadata": {},
   "outputs": [
    {
     "data": {
      "text/plain": [
       "feature1    0\n",
       "feature2    0\n",
       "target      0\n",
       "dtype: int64"
      ]
     },
     "execution_count": 91,
     "metadata": {},
     "output_type": "execute_result"
    }
   ],
   "source": [
    "df.isnull().sum()"
   ]
  },
  {
   "cell_type": "code",
   "execution_count": 92,
   "metadata": {},
   "outputs": [
    {
     "data": {
      "text/html": [
       "<div>\n",
       "<style scoped>\n",
       "    .dataframe tbody tr th:only-of-type {\n",
       "        vertical-align: middle;\n",
       "    }\n",
       "\n",
       "    .dataframe tbody tr th {\n",
       "        vertical-align: top;\n",
       "    }\n",
       "\n",
       "    .dataframe thead th {\n",
       "        text-align: right;\n",
       "    }\n",
       "</style>\n",
       "<table border=\"1\" class=\"dataframe\">\n",
       "  <thead>\n",
       "    <tr style=\"text-align: right;\">\n",
       "      <th></th>\n",
       "      <th>feature1</th>\n",
       "      <th>feature2</th>\n",
       "      <th>target</th>\n",
       "    </tr>\n",
       "  </thead>\n",
       "  <tbody>\n",
       "    <tr>\n",
       "      <th>count</th>\n",
       "      <td>100.000000</td>\n",
       "      <td>100.000000</td>\n",
       "      <td>100.000000</td>\n",
       "    </tr>\n",
       "    <tr>\n",
       "      <th>mean</th>\n",
       "      <td>-0.002002</td>\n",
       "      <td>-0.063507</td>\n",
       "      <td>0.419444</td>\n",
       "    </tr>\n",
       "    <tr>\n",
       "      <th>std</th>\n",
       "      <td>0.958778</td>\n",
       "      <td>0.957895</td>\n",
       "      <td>66.311698</td>\n",
       "    </tr>\n",
       "    <tr>\n",
       "      <th>min</th>\n",
       "      <td>-3.327183</td>\n",
       "      <td>-2.421281</td>\n",
       "      <td>-217.955581</td>\n",
       "    </tr>\n",
       "    <tr>\n",
       "      <th>25%</th>\n",
       "      <td>-0.522697</td>\n",
       "      <td>-0.618033</td>\n",
       "      <td>-38.823879</td>\n",
       "    </tr>\n",
       "    <tr>\n",
       "      <th>50%</th>\n",
       "      <td>0.015296</td>\n",
       "      <td>-0.038515</td>\n",
       "      <td>9.896967</td>\n",
       "    </tr>\n",
       "    <tr>\n",
       "      <th>75%</th>\n",
       "      <td>0.566396</td>\n",
       "      <td>0.575703</td>\n",
       "      <td>42.441185</td>\n",
       "    </tr>\n",
       "    <tr>\n",
       "      <th>max</th>\n",
       "      <td>2.564751</td>\n",
       "      <td>2.050284</td>\n",
       "      <td>204.807509</td>\n",
       "    </tr>\n",
       "  </tbody>\n",
       "</table>\n",
       "</div>"
      ],
      "text/plain": [
       "         feature1    feature2      target\n",
       "count  100.000000  100.000000  100.000000\n",
       "mean    -0.002002   -0.063507    0.419444\n",
       "std      0.958778    0.957895   66.311698\n",
       "min     -3.327183   -2.421281 -217.955581\n",
       "25%     -0.522697   -0.618033  -38.823879\n",
       "50%      0.015296   -0.038515    9.896967\n",
       "75%      0.566396    0.575703   42.441185\n",
       "max      2.564751    2.050284  204.807509"
      ]
     },
     "execution_count": 92,
     "metadata": {},
     "output_type": "execute_result"
    }
   ],
   "source": [
    "df.describe()"
   ]
  },
  {
   "cell_type": "code",
   "execution_count": 93,
   "metadata": {},
   "outputs": [
    {
     "data": {
      "application/vnd.plotly.v1+json": {
       "config": {
        "plotlyServerURL": "https://plot.ly"
       },
       "data": [
        {
         "hovertemplate": "feature1=%{x}<br>feature2=%{y}<br>target=%{z}<extra></extra>",
         "legendgroup": "",
         "marker": {
          "color": "#636efa",
          "symbol": "circle"
         },
         "mode": "markers",
         "name": "",
         "scene": "scene",
         "showlegend": false,
         "type": "scatter3d",
         "x": [
          2.564751298426742,
          0.5201781419087251,
          -1.9999212946626972,
          1.742662557497569,
          -0.6691842655903,
          -0.37970087499722055,
          0.24189250928226114,
          0.5915539113653364,
          -0.8205962853552067,
          -0.3542670299901184,
          -0.35413468516439334,
          0.7255469456409779,
          -0.11199338711909586,
          -0.6943325766631248,
          -0.8502629812684084,
          0.040450705252771155,
          0.5753284598985732,
          0.4716204261561293,
          0.7974459349311407,
          -1.3375181101058673,
          -1.1137456061640232,
          -3.3271832265687507,
          0.3621173780183496,
          0.920456818810757,
          0.145893042233133,
          -0.6637975608855339,
          -0.9074201732278216,
          -0.24027942552876844,
          -0.00985954604965405,
          0.13101359483952754,
          -0.4421589643905845,
          -0.7464717149040972,
          -0.6780868145713128,
          -0.4564724608691973,
          -0.6816269093225485,
          0.24271230864270038,
          -0.40484181049437085,
          -1.4847139413209156,
          0.19541813753514461,
          0.6705645311260051,
          0.46801271264558925,
          0.43873234592082383,
          0.2945307014603731,
          -0.17441304767732416,
          -0.23312023977684035,
          2.22762840433109,
          0.08855307339742548,
          -0.47728601919291563,
          -0.15433517686353193,
          -2.810669070592664,
          0.8497462968943945,
          0.9005048940490392,
          1.8844801886175016,
          0.6224237433155415,
          -0.2574118352238699,
          0.5011582158235237,
          -0.5926283059136763,
          0.3254267875853169,
          0.3808627162598682,
          -0.48152117096346575,
          0.05331837414952119,
          0.5058516791484573,
          0.6634340107153425,
          1.5462444772456165,
          0.34577856575843374,
          0.6391106580863734,
          -0.9564083805964981,
          -0.19742383374316327,
          -1.533841701068146,
          0.5634184919320159,
          0.9326477795955949,
          1.4495306328547957,
          -0.5077863772058723,
          -0.2927892700538708,
          -0.3285169627364328,
          -0.5401135752431762,
          0.7544207469413612,
          -0.17993116561688965,
          0.2640746920269667,
          0.1923606265644829,
          -0.14286552836188696,
          1.2715582609085383,
          0.20392778911570492,
          -0.45285122753367246,
          -0.8039850083122592,
          -0.5474481885569644,
          0.18835290139700522,
          0.46216276718177945,
          -0.516892108697241,
          -0.2761618589142405,
          -0.7333112873860086,
          -1.7512311095768147,
          -0.34795813950050936,
          0.6004618062146885,
          2.349523806485327,
          -1.012831674738469,
          1.6896819163874095,
          0.6119421323343424,
          0.7266545196495695,
          -1.1040433321488305
         ],
         "y": [
          1.4218922688686624,
          0.7980502884981207,
          1.5230965574669044,
          -0.47978042261588727,
          -0.06318617009767698,
          -1.4077347099105202,
          0.4350024691207139,
          -0.5093705441306956,
          -2.4212814069153845,
          -1.4894430690555063,
          -0.025745714865367284,
          -0.5955318817197452,
          -1.5849490524859668,
          2.050283845215277,
          0.49311032030642243,
          -0.5183164407621013,
          1.8230626579340798,
          -0.07587717753014953,
          0.6645648317256454,
          -0.9568516436540229,
          0.512115263039482,
          -1.3550972170381712,
          0.7182425331743655,
          -1.6514337741888145,
          0.22395972428687125,
          -0.17484632478108253,
          -0.5792082663325437,
          0.3594330031433504,
          0.6021325854115679,
          -0.38682452470373796,
          -0.16281683923934925,
          -1.8437064384254003,
          0.6209264046342228,
          1.5819399994469177,
          1.3148878842860765,
          -0.7753368336368713,
          0.5341606028788554,
          0.06221996668054359,
          -1.2699613335429127,
          -0.9464051675742673,
          -0.449118947146436,
          -0.11404770722141194,
          0.8449322500080744,
          -0.6855349526858436,
          0.27309716089619085,
          0.5384089996133427,
          -1.5796385309468632,
          -0.4643632618231236,
          -0.22167176653922943,
          -0.8563732176006593,
          -1.3972217732437675,
          0.2845520553455576,
          -0.5133005173071064,
          -0.33754711289060174,
          1.858941488593549,
          -0.2681960089880855,
          -1.0320562035132212,
          0.32366391123370825,
          0.5668934738120013,
          0.7253191273995103,
          0.6501265888462517,
          0.6107562996135139,
          -1.3487160109733611,
          -0.05302056165001688,
          0.15612818540213125,
          0.5151340771101659,
          1.0423452035756675,
          0.6753580095729397,
          -0.9850516366030087,
          -1.4689860301297233,
          -0.23227728700163117,
          0.6948805126435392,
          -1.2991953733365011,
          -0.16069234982026803,
          -1.7098788145141584,
          1.267500952498246,
          0.46184818490937646,
          -0.24308942888531576,
          -0.5866628362748685,
          -0.03869482071564884,
          0.23654136781052867,
          -1.5585989665387485,
          -0.5797304965033309,
          1.1632588031445814,
          1.1823993270843949,
          -0.7978762838218529,
          0.38049710449104945,
          0.4636214269145272,
          -1.44526130334383,
          1.4827111202046328,
          0.34866619786809044,
          -0.038335370440452966,
          0.8105479555009176,
          0.37935829461361315,
          0.050160108599990344,
          -0.4187279514581173,
          0.167482308963813,
          0.19421378697605293,
          1.4647499413417928,
          -1.7463330736210967
         ],
         "z": [
          204.8075090117443,
          132.34453309508342,
          28.338282001093035,
          73.50874327826065,
          -49.850177263394286,
          -10.193520878495931,
          36.08973679186273,
          -7.743384783875927,
          -124.7073446288867,
          5.474369378368749,
          -15.13614689419733,
          27.958532108870152,
          71.46597878669905,
          6.074909094015318,
          -52.82565780918307,
          9.77446005391835,
          30.215731614386414,
          0.8166010315378891,
          30.637522787466185,
          -84.71760308264868,
          45.9161624670881,
          -217.95558141429512,
          -31.49971568553523,
          -51.559985892271776,
          -38.166720996673455,
          20.039451711442524,
          -22.99820494340505,
          -42.883107937963025,
          4.262094665715665,
          -25.833939173866842,
          -38.72609044088834,
          -72.110486250762,
          -45.20122628972096,
          35.04584681967081,
          72.4167576325664,
          40.8681677569967,
          -11.558668540243797,
          -27.965423946969686,
          27.468498476159326,
          -72.79076755610653,
          -29.886101691207358,
          28.38342551049883,
          -0.9602108832701433,
          -103.74733583322485,
          92.89063209261596,
          67.87065664679908,
          -157.00430225942725,
          -21.836597359191344,
          -19.194220231753516,
          -142.17278151375325,
          -34.11490683130736,
          -49.189253238360415,
          68.75451758772664,
          25.073291201837286,
          52.40516715920058,
          69.54268369669241,
          -53.3408929012877,
          -38.121438689470025,
          56.71248024634194,
          13.98893080548723,
          26.741050464617,
          38.30414329030569,
          -55.955660627615885,
          21.734934408436274,
          -30.63066535046578,
          53.289711705068775,
          49.87140447186763,
          87.86502530416583,
          -143.56984546868983,
          10.283522821944288,
          36.29285151997259,
          19.435824602881254,
          11.155639754850071,
          -64.43492017552957,
          -116.7357537136831,
          55.79427417822012,
          -6.963216918106575,
          22.028840301374924,
          42.0470640305012,
          44.148815847767985,
          -82.94600631178383,
          21.913147362340748,
          0.4171770394777692,
          49.90037202761707,
          1.1053334056114155,
          10.01947430209367,
          57.88005900965352,
          43.62354671963434,
          -39.43783273674237,
          101.04419691145208,
          61.47814461183484,
          -59.24729672886336,
          14.275042139977929,
          65.93727376068324,
          145.37429553634897,
          -106.18868176126064,
          74.61878305006887,
          -39.117244732243975,
          24.94187818277846,
          -89.5042122935776
         ]
        }
       ],
       "layout": {
        "legend": {
         "tracegroupgap": 0
        },
        "margin": {
         "t": 60
        },
        "scene": {
         "domain": {
          "x": [
           0,
           1
          ],
          "y": [
           0,
           1
          ]
         },
         "xaxis": {
          "title": {
           "text": "feature1"
          }
         },
         "yaxis": {
          "title": {
           "text": "feature2"
          }
         },
         "zaxis": {
          "title": {
           "text": "target"
          }
         }
        },
        "template": {
         "data": {
          "bar": [
           {
            "error_x": {
             "color": "#2a3f5f"
            },
            "error_y": {
             "color": "#2a3f5f"
            },
            "marker": {
             "line": {
              "color": "#E5ECF6",
              "width": 0.5
             },
             "pattern": {
              "fillmode": "overlay",
              "size": 10,
              "solidity": 0.2
             }
            },
            "type": "bar"
           }
          ],
          "barpolar": [
           {
            "marker": {
             "line": {
              "color": "#E5ECF6",
              "width": 0.5
             },
             "pattern": {
              "fillmode": "overlay",
              "size": 10,
              "solidity": 0.2
             }
            },
            "type": "barpolar"
           }
          ],
          "carpet": [
           {
            "aaxis": {
             "endlinecolor": "#2a3f5f",
             "gridcolor": "white",
             "linecolor": "white",
             "minorgridcolor": "white",
             "startlinecolor": "#2a3f5f"
            },
            "baxis": {
             "endlinecolor": "#2a3f5f",
             "gridcolor": "white",
             "linecolor": "white",
             "minorgridcolor": "white",
             "startlinecolor": "#2a3f5f"
            },
            "type": "carpet"
           }
          ],
          "choropleth": [
           {
            "colorbar": {
             "outlinewidth": 0,
             "ticks": ""
            },
            "type": "choropleth"
           }
          ],
          "contour": [
           {
            "colorbar": {
             "outlinewidth": 0,
             "ticks": ""
            },
            "colorscale": [
             [
              0,
              "#0d0887"
             ],
             [
              0.1111111111111111,
              "#46039f"
             ],
             [
              0.2222222222222222,
              "#7201a8"
             ],
             [
              0.3333333333333333,
              "#9c179e"
             ],
             [
              0.4444444444444444,
              "#bd3786"
             ],
             [
              0.5555555555555556,
              "#d8576b"
             ],
             [
              0.6666666666666666,
              "#ed7953"
             ],
             [
              0.7777777777777778,
              "#fb9f3a"
             ],
             [
              0.8888888888888888,
              "#fdca26"
             ],
             [
              1,
              "#f0f921"
             ]
            ],
            "type": "contour"
           }
          ],
          "contourcarpet": [
           {
            "colorbar": {
             "outlinewidth": 0,
             "ticks": ""
            },
            "type": "contourcarpet"
           }
          ],
          "heatmap": [
           {
            "colorbar": {
             "outlinewidth": 0,
             "ticks": ""
            },
            "colorscale": [
             [
              0,
              "#0d0887"
             ],
             [
              0.1111111111111111,
              "#46039f"
             ],
             [
              0.2222222222222222,
              "#7201a8"
             ],
             [
              0.3333333333333333,
              "#9c179e"
             ],
             [
              0.4444444444444444,
              "#bd3786"
             ],
             [
              0.5555555555555556,
              "#d8576b"
             ],
             [
              0.6666666666666666,
              "#ed7953"
             ],
             [
              0.7777777777777778,
              "#fb9f3a"
             ],
             [
              0.8888888888888888,
              "#fdca26"
             ],
             [
              1,
              "#f0f921"
             ]
            ],
            "type": "heatmap"
           }
          ],
          "heatmapgl": [
           {
            "colorbar": {
             "outlinewidth": 0,
             "ticks": ""
            },
            "colorscale": [
             [
              0,
              "#0d0887"
             ],
             [
              0.1111111111111111,
              "#46039f"
             ],
             [
              0.2222222222222222,
              "#7201a8"
             ],
             [
              0.3333333333333333,
              "#9c179e"
             ],
             [
              0.4444444444444444,
              "#bd3786"
             ],
             [
              0.5555555555555556,
              "#d8576b"
             ],
             [
              0.6666666666666666,
              "#ed7953"
             ],
             [
              0.7777777777777778,
              "#fb9f3a"
             ],
             [
              0.8888888888888888,
              "#fdca26"
             ],
             [
              1,
              "#f0f921"
             ]
            ],
            "type": "heatmapgl"
           }
          ],
          "histogram": [
           {
            "marker": {
             "pattern": {
              "fillmode": "overlay",
              "size": 10,
              "solidity": 0.2
             }
            },
            "type": "histogram"
           }
          ],
          "histogram2d": [
           {
            "colorbar": {
             "outlinewidth": 0,
             "ticks": ""
            },
            "colorscale": [
             [
              0,
              "#0d0887"
             ],
             [
              0.1111111111111111,
              "#46039f"
             ],
             [
              0.2222222222222222,
              "#7201a8"
             ],
             [
              0.3333333333333333,
              "#9c179e"
             ],
             [
              0.4444444444444444,
              "#bd3786"
             ],
             [
              0.5555555555555556,
              "#d8576b"
             ],
             [
              0.6666666666666666,
              "#ed7953"
             ],
             [
              0.7777777777777778,
              "#fb9f3a"
             ],
             [
              0.8888888888888888,
              "#fdca26"
             ],
             [
              1,
              "#f0f921"
             ]
            ],
            "type": "histogram2d"
           }
          ],
          "histogram2dcontour": [
           {
            "colorbar": {
             "outlinewidth": 0,
             "ticks": ""
            },
            "colorscale": [
             [
              0,
              "#0d0887"
             ],
             [
              0.1111111111111111,
              "#46039f"
             ],
             [
              0.2222222222222222,
              "#7201a8"
             ],
             [
              0.3333333333333333,
              "#9c179e"
             ],
             [
              0.4444444444444444,
              "#bd3786"
             ],
             [
              0.5555555555555556,
              "#d8576b"
             ],
             [
              0.6666666666666666,
              "#ed7953"
             ],
             [
              0.7777777777777778,
              "#fb9f3a"
             ],
             [
              0.8888888888888888,
              "#fdca26"
             ],
             [
              1,
              "#f0f921"
             ]
            ],
            "type": "histogram2dcontour"
           }
          ],
          "mesh3d": [
           {
            "colorbar": {
             "outlinewidth": 0,
             "ticks": ""
            },
            "type": "mesh3d"
           }
          ],
          "parcoords": [
           {
            "line": {
             "colorbar": {
              "outlinewidth": 0,
              "ticks": ""
             }
            },
            "type": "parcoords"
           }
          ],
          "pie": [
           {
            "automargin": true,
            "type": "pie"
           }
          ],
          "scatter": [
           {
            "fillpattern": {
             "fillmode": "overlay",
             "size": 10,
             "solidity": 0.2
            },
            "type": "scatter"
           }
          ],
          "scatter3d": [
           {
            "line": {
             "colorbar": {
              "outlinewidth": 0,
              "ticks": ""
             }
            },
            "marker": {
             "colorbar": {
              "outlinewidth": 0,
              "ticks": ""
             }
            },
            "type": "scatter3d"
           }
          ],
          "scattercarpet": [
           {
            "marker": {
             "colorbar": {
              "outlinewidth": 0,
              "ticks": ""
             }
            },
            "type": "scattercarpet"
           }
          ],
          "scattergeo": [
           {
            "marker": {
             "colorbar": {
              "outlinewidth": 0,
              "ticks": ""
             }
            },
            "type": "scattergeo"
           }
          ],
          "scattergl": [
           {
            "marker": {
             "colorbar": {
              "outlinewidth": 0,
              "ticks": ""
             }
            },
            "type": "scattergl"
           }
          ],
          "scattermapbox": [
           {
            "marker": {
             "colorbar": {
              "outlinewidth": 0,
              "ticks": ""
             }
            },
            "type": "scattermapbox"
           }
          ],
          "scatterpolar": [
           {
            "marker": {
             "colorbar": {
              "outlinewidth": 0,
              "ticks": ""
             }
            },
            "type": "scatterpolar"
           }
          ],
          "scatterpolargl": [
           {
            "marker": {
             "colorbar": {
              "outlinewidth": 0,
              "ticks": ""
             }
            },
            "type": "scatterpolargl"
           }
          ],
          "scatterternary": [
           {
            "marker": {
             "colorbar": {
              "outlinewidth": 0,
              "ticks": ""
             }
            },
            "type": "scatterternary"
           }
          ],
          "surface": [
           {
            "colorbar": {
             "outlinewidth": 0,
             "ticks": ""
            },
            "colorscale": [
             [
              0,
              "#0d0887"
             ],
             [
              0.1111111111111111,
              "#46039f"
             ],
             [
              0.2222222222222222,
              "#7201a8"
             ],
             [
              0.3333333333333333,
              "#9c179e"
             ],
             [
              0.4444444444444444,
              "#bd3786"
             ],
             [
              0.5555555555555556,
              "#d8576b"
             ],
             [
              0.6666666666666666,
              "#ed7953"
             ],
             [
              0.7777777777777778,
              "#fb9f3a"
             ],
             [
              0.8888888888888888,
              "#fdca26"
             ],
             [
              1,
              "#f0f921"
             ]
            ],
            "type": "surface"
           }
          ],
          "table": [
           {
            "cells": {
             "fill": {
              "color": "#EBF0F8"
             },
             "line": {
              "color": "white"
             }
            },
            "header": {
             "fill": {
              "color": "#C8D4E3"
             },
             "line": {
              "color": "white"
             }
            },
            "type": "table"
           }
          ]
         },
         "layout": {
          "annotationdefaults": {
           "arrowcolor": "#2a3f5f",
           "arrowhead": 0,
           "arrowwidth": 1
          },
          "autotypenumbers": "strict",
          "coloraxis": {
           "colorbar": {
            "outlinewidth": 0,
            "ticks": ""
           }
          },
          "colorscale": {
           "diverging": [
            [
             0,
             "#8e0152"
            ],
            [
             0.1,
             "#c51b7d"
            ],
            [
             0.2,
             "#de77ae"
            ],
            [
             0.3,
             "#f1b6da"
            ],
            [
             0.4,
             "#fde0ef"
            ],
            [
             0.5,
             "#f7f7f7"
            ],
            [
             0.6,
             "#e6f5d0"
            ],
            [
             0.7,
             "#b8e186"
            ],
            [
             0.8,
             "#7fbc41"
            ],
            [
             0.9,
             "#4d9221"
            ],
            [
             1,
             "#276419"
            ]
           ],
           "sequential": [
            [
             0,
             "#0d0887"
            ],
            [
             0.1111111111111111,
             "#46039f"
            ],
            [
             0.2222222222222222,
             "#7201a8"
            ],
            [
             0.3333333333333333,
             "#9c179e"
            ],
            [
             0.4444444444444444,
             "#bd3786"
            ],
            [
             0.5555555555555556,
             "#d8576b"
            ],
            [
             0.6666666666666666,
             "#ed7953"
            ],
            [
             0.7777777777777778,
             "#fb9f3a"
            ],
            [
             0.8888888888888888,
             "#fdca26"
            ],
            [
             1,
             "#f0f921"
            ]
           ],
           "sequentialminus": [
            [
             0,
             "#0d0887"
            ],
            [
             0.1111111111111111,
             "#46039f"
            ],
            [
             0.2222222222222222,
             "#7201a8"
            ],
            [
             0.3333333333333333,
             "#9c179e"
            ],
            [
             0.4444444444444444,
             "#bd3786"
            ],
            [
             0.5555555555555556,
             "#d8576b"
            ],
            [
             0.6666666666666666,
             "#ed7953"
            ],
            [
             0.7777777777777778,
             "#fb9f3a"
            ],
            [
             0.8888888888888888,
             "#fdca26"
            ],
            [
             1,
             "#f0f921"
            ]
           ]
          },
          "colorway": [
           "#636efa",
           "#EF553B",
           "#00cc96",
           "#ab63fa",
           "#FFA15A",
           "#19d3f3",
           "#FF6692",
           "#B6E880",
           "#FF97FF",
           "#FECB52"
          ],
          "font": {
           "color": "#2a3f5f"
          },
          "geo": {
           "bgcolor": "white",
           "lakecolor": "white",
           "landcolor": "#E5ECF6",
           "showlakes": true,
           "showland": true,
           "subunitcolor": "white"
          },
          "hoverlabel": {
           "align": "left"
          },
          "hovermode": "closest",
          "mapbox": {
           "style": "light"
          },
          "paper_bgcolor": "white",
          "plot_bgcolor": "#E5ECF6",
          "polar": {
           "angularaxis": {
            "gridcolor": "white",
            "linecolor": "white",
            "ticks": ""
           },
           "bgcolor": "#E5ECF6",
           "radialaxis": {
            "gridcolor": "white",
            "linecolor": "white",
            "ticks": ""
           }
          },
          "scene": {
           "xaxis": {
            "backgroundcolor": "#E5ECF6",
            "gridcolor": "white",
            "gridwidth": 2,
            "linecolor": "white",
            "showbackground": true,
            "ticks": "",
            "zerolinecolor": "white"
           },
           "yaxis": {
            "backgroundcolor": "#E5ECF6",
            "gridcolor": "white",
            "gridwidth": 2,
            "linecolor": "white",
            "showbackground": true,
            "ticks": "",
            "zerolinecolor": "white"
           },
           "zaxis": {
            "backgroundcolor": "#E5ECF6",
            "gridcolor": "white",
            "gridwidth": 2,
            "linecolor": "white",
            "showbackground": true,
            "ticks": "",
            "zerolinecolor": "white"
           }
          },
          "shapedefaults": {
           "line": {
            "color": "#2a3f5f"
           }
          },
          "ternary": {
           "aaxis": {
            "gridcolor": "white",
            "linecolor": "white",
            "ticks": ""
           },
           "baxis": {
            "gridcolor": "white",
            "linecolor": "white",
            "ticks": ""
           },
           "bgcolor": "#E5ECF6",
           "caxis": {
            "gridcolor": "white",
            "linecolor": "white",
            "ticks": ""
           }
          },
          "title": {
           "x": 0.05
          },
          "xaxis": {
           "automargin": true,
           "gridcolor": "white",
           "linecolor": "white",
           "ticks": "",
           "title": {
            "standoff": 15
           },
           "zerolinecolor": "white",
           "zerolinewidth": 2
          },
          "yaxis": {
           "automargin": true,
           "gridcolor": "white",
           "linecolor": "white",
           "ticks": "",
           "title": {
            "standoff": 15
           },
           "zerolinecolor": "white",
           "zerolinewidth": 2
          }
         }
        }
       }
      }
     },
     "metadata": {},
     "output_type": "display_data"
    }
   ],
   "source": [
    "px.scatter_3d(df, x='feature1', y='feature2', z = 'target')"
   ]
  },
  {
   "cell_type": "code",
   "execution_count": 94,
   "metadata": {},
   "outputs": [],
   "source": [
    "x_train,x_test,y_train,y_test = train_test_split(x,y,test_size=0.2,random_state=3)"
   ]
  },
  {
   "cell_type": "code",
   "execution_count": 95,
   "metadata": {},
   "outputs": [],
   "source": [
    "model = LinearRegression()"
   ]
  },
  {
   "cell_type": "code",
   "execution_count": 96,
   "metadata": {},
   "outputs": [
    {
     "data": {
      "text/html": [
       "<style>#sk-container-id-3 {\n",
       "  /* Definition of color scheme common for light and dark mode */\n",
       "  --sklearn-color-text: black;\n",
       "  --sklearn-color-line: gray;\n",
       "  /* Definition of color scheme for unfitted estimators */\n",
       "  --sklearn-color-unfitted-level-0: #fff5e6;\n",
       "  --sklearn-color-unfitted-level-1: #f6e4d2;\n",
       "  --sklearn-color-unfitted-level-2: #ffe0b3;\n",
       "  --sklearn-color-unfitted-level-3: chocolate;\n",
       "  /* Definition of color scheme for fitted estimators */\n",
       "  --sklearn-color-fitted-level-0: #f0f8ff;\n",
       "  --sklearn-color-fitted-level-1: #d4ebff;\n",
       "  --sklearn-color-fitted-level-2: #b3dbfd;\n",
       "  --sklearn-color-fitted-level-3: cornflowerblue;\n",
       "\n",
       "  /* Specific color for light theme */\n",
       "  --sklearn-color-text-on-default-background: var(--sg-text-color, var(--theme-code-foreground, var(--jp-content-font-color1, black)));\n",
       "  --sklearn-color-background: var(--sg-background-color, var(--theme-background, var(--jp-layout-color0, white)));\n",
       "  --sklearn-color-border-box: var(--sg-text-color, var(--theme-code-foreground, var(--jp-content-font-color1, black)));\n",
       "  --sklearn-color-icon: #696969;\n",
       "\n",
       "  @media (prefers-color-scheme: dark) {\n",
       "    /* Redefinition of color scheme for dark theme */\n",
       "    --sklearn-color-text-on-default-background: var(--sg-text-color, var(--theme-code-foreground, var(--jp-content-font-color1, white)));\n",
       "    --sklearn-color-background: var(--sg-background-color, var(--theme-background, var(--jp-layout-color0, #111)));\n",
       "    --sklearn-color-border-box: var(--sg-text-color, var(--theme-code-foreground, var(--jp-content-font-color1, white)));\n",
       "    --sklearn-color-icon: #878787;\n",
       "  }\n",
       "}\n",
       "\n",
       "#sk-container-id-3 {\n",
       "  color: var(--sklearn-color-text);\n",
       "}\n",
       "\n",
       "#sk-container-id-3 pre {\n",
       "  padding: 0;\n",
       "}\n",
       "\n",
       "#sk-container-id-3 input.sk-hidden--visually {\n",
       "  border: 0;\n",
       "  clip: rect(1px 1px 1px 1px);\n",
       "  clip: rect(1px, 1px, 1px, 1px);\n",
       "  height: 1px;\n",
       "  margin: -1px;\n",
       "  overflow: hidden;\n",
       "  padding: 0;\n",
       "  position: absolute;\n",
       "  width: 1px;\n",
       "}\n",
       "\n",
       "#sk-container-id-3 div.sk-dashed-wrapped {\n",
       "  border: 1px dashed var(--sklearn-color-line);\n",
       "  margin: 0 0.4em 0.5em 0.4em;\n",
       "  box-sizing: border-box;\n",
       "  padding-bottom: 0.4em;\n",
       "  background-color: var(--sklearn-color-background);\n",
       "}\n",
       "\n",
       "#sk-container-id-3 div.sk-container {\n",
       "  /* jupyter's `normalize.less` sets `[hidden] { display: none; }`\n",
       "     but bootstrap.min.css set `[hidden] { display: none !important; }`\n",
       "     so we also need the `!important` here to be able to override the\n",
       "     default hidden behavior on the sphinx rendered scikit-learn.org.\n",
       "     See: https://github.com/scikit-learn/scikit-learn/issues/21755 */\n",
       "  display: inline-block !important;\n",
       "  position: relative;\n",
       "}\n",
       "\n",
       "#sk-container-id-3 div.sk-text-repr-fallback {\n",
       "  display: none;\n",
       "}\n",
       "\n",
       "div.sk-parallel-item,\n",
       "div.sk-serial,\n",
       "div.sk-item {\n",
       "  /* draw centered vertical line to link estimators */\n",
       "  background-image: linear-gradient(var(--sklearn-color-text-on-default-background), var(--sklearn-color-text-on-default-background));\n",
       "  background-size: 2px 100%;\n",
       "  background-repeat: no-repeat;\n",
       "  background-position: center center;\n",
       "}\n",
       "\n",
       "/* Parallel-specific style estimator block */\n",
       "\n",
       "#sk-container-id-3 div.sk-parallel-item::after {\n",
       "  content: \"\";\n",
       "  width: 100%;\n",
       "  border-bottom: 2px solid var(--sklearn-color-text-on-default-background);\n",
       "  flex-grow: 1;\n",
       "}\n",
       "\n",
       "#sk-container-id-3 div.sk-parallel {\n",
       "  display: flex;\n",
       "  align-items: stretch;\n",
       "  justify-content: center;\n",
       "  background-color: var(--sklearn-color-background);\n",
       "  position: relative;\n",
       "}\n",
       "\n",
       "#sk-container-id-3 div.sk-parallel-item {\n",
       "  display: flex;\n",
       "  flex-direction: column;\n",
       "}\n",
       "\n",
       "#sk-container-id-3 div.sk-parallel-item:first-child::after {\n",
       "  align-self: flex-end;\n",
       "  width: 50%;\n",
       "}\n",
       "\n",
       "#sk-container-id-3 div.sk-parallel-item:last-child::after {\n",
       "  align-self: flex-start;\n",
       "  width: 50%;\n",
       "}\n",
       "\n",
       "#sk-container-id-3 div.sk-parallel-item:only-child::after {\n",
       "  width: 0;\n",
       "}\n",
       "\n",
       "/* Serial-specific style estimator block */\n",
       "\n",
       "#sk-container-id-3 div.sk-serial {\n",
       "  display: flex;\n",
       "  flex-direction: column;\n",
       "  align-items: center;\n",
       "  background-color: var(--sklearn-color-background);\n",
       "  padding-right: 1em;\n",
       "  padding-left: 1em;\n",
       "}\n",
       "\n",
       "\n",
       "/* Toggleable style: style used for estimator/Pipeline/ColumnTransformer box that is\n",
       "clickable and can be expanded/collapsed.\n",
       "- Pipeline and ColumnTransformer use this feature and define the default style\n",
       "- Estimators will overwrite some part of the style using the `sk-estimator` class\n",
       "*/\n",
       "\n",
       "/* Pipeline and ColumnTransformer style (default) */\n",
       "\n",
       "#sk-container-id-3 div.sk-toggleable {\n",
       "  /* Default theme specific background. It is overwritten whether we have a\n",
       "  specific estimator or a Pipeline/ColumnTransformer */\n",
       "  background-color: var(--sklearn-color-background);\n",
       "}\n",
       "\n",
       "/* Toggleable label */\n",
       "#sk-container-id-3 label.sk-toggleable__label {\n",
       "  cursor: pointer;\n",
       "  display: block;\n",
       "  width: 100%;\n",
       "  margin-bottom: 0;\n",
       "  padding: 0.5em;\n",
       "  box-sizing: border-box;\n",
       "  text-align: center;\n",
       "}\n",
       "\n",
       "#sk-container-id-3 label.sk-toggleable__label-arrow:before {\n",
       "  /* Arrow on the left of the label */\n",
       "  content: \"▸\";\n",
       "  float: left;\n",
       "  margin-right: 0.25em;\n",
       "  color: var(--sklearn-color-icon);\n",
       "}\n",
       "\n",
       "#sk-container-id-3 label.sk-toggleable__label-arrow:hover:before {\n",
       "  color: var(--sklearn-color-text);\n",
       "}\n",
       "\n",
       "/* Toggleable content - dropdown */\n",
       "\n",
       "#sk-container-id-3 div.sk-toggleable__content {\n",
       "  max-height: 0;\n",
       "  max-width: 0;\n",
       "  overflow: hidden;\n",
       "  text-align: left;\n",
       "  /* unfitted */\n",
       "  background-color: var(--sklearn-color-unfitted-level-0);\n",
       "}\n",
       "\n",
       "#sk-container-id-3 div.sk-toggleable__content.fitted {\n",
       "  /* fitted */\n",
       "  background-color: var(--sklearn-color-fitted-level-0);\n",
       "}\n",
       "\n",
       "#sk-container-id-3 div.sk-toggleable__content pre {\n",
       "  margin: 0.2em;\n",
       "  border-radius: 0.25em;\n",
       "  color: var(--sklearn-color-text);\n",
       "  /* unfitted */\n",
       "  background-color: var(--sklearn-color-unfitted-level-0);\n",
       "}\n",
       "\n",
       "#sk-container-id-3 div.sk-toggleable__content.fitted pre {\n",
       "  /* unfitted */\n",
       "  background-color: var(--sklearn-color-fitted-level-0);\n",
       "}\n",
       "\n",
       "#sk-container-id-3 input.sk-toggleable__control:checked~div.sk-toggleable__content {\n",
       "  /* Expand drop-down */\n",
       "  max-height: 200px;\n",
       "  max-width: 100%;\n",
       "  overflow: auto;\n",
       "}\n",
       "\n",
       "#sk-container-id-3 input.sk-toggleable__control:checked~label.sk-toggleable__label-arrow:before {\n",
       "  content: \"▾\";\n",
       "}\n",
       "\n",
       "/* Pipeline/ColumnTransformer-specific style */\n",
       "\n",
       "#sk-container-id-3 div.sk-label input.sk-toggleable__control:checked~label.sk-toggleable__label {\n",
       "  color: var(--sklearn-color-text);\n",
       "  background-color: var(--sklearn-color-unfitted-level-2);\n",
       "}\n",
       "\n",
       "#sk-container-id-3 div.sk-label.fitted input.sk-toggleable__control:checked~label.sk-toggleable__label {\n",
       "  background-color: var(--sklearn-color-fitted-level-2);\n",
       "}\n",
       "\n",
       "/* Estimator-specific style */\n",
       "\n",
       "/* Colorize estimator box */\n",
       "#sk-container-id-3 div.sk-estimator input.sk-toggleable__control:checked~label.sk-toggleable__label {\n",
       "  /* unfitted */\n",
       "  background-color: var(--sklearn-color-unfitted-level-2);\n",
       "}\n",
       "\n",
       "#sk-container-id-3 div.sk-estimator.fitted input.sk-toggleable__control:checked~label.sk-toggleable__label {\n",
       "  /* fitted */\n",
       "  background-color: var(--sklearn-color-fitted-level-2);\n",
       "}\n",
       "\n",
       "#sk-container-id-3 div.sk-label label.sk-toggleable__label,\n",
       "#sk-container-id-3 div.sk-label label {\n",
       "  /* The background is the default theme color */\n",
       "  color: var(--sklearn-color-text-on-default-background);\n",
       "}\n",
       "\n",
       "/* On hover, darken the color of the background */\n",
       "#sk-container-id-3 div.sk-label:hover label.sk-toggleable__label {\n",
       "  color: var(--sklearn-color-text);\n",
       "  background-color: var(--sklearn-color-unfitted-level-2);\n",
       "}\n",
       "\n",
       "/* Label box, darken color on hover, fitted */\n",
       "#sk-container-id-3 div.sk-label.fitted:hover label.sk-toggleable__label.fitted {\n",
       "  color: var(--sklearn-color-text);\n",
       "  background-color: var(--sklearn-color-fitted-level-2);\n",
       "}\n",
       "\n",
       "/* Estimator label */\n",
       "\n",
       "#sk-container-id-3 div.sk-label label {\n",
       "  font-family: monospace;\n",
       "  font-weight: bold;\n",
       "  display: inline-block;\n",
       "  line-height: 1.2em;\n",
       "}\n",
       "\n",
       "#sk-container-id-3 div.sk-label-container {\n",
       "  text-align: center;\n",
       "}\n",
       "\n",
       "/* Estimator-specific */\n",
       "#sk-container-id-3 div.sk-estimator {\n",
       "  font-family: monospace;\n",
       "  border: 1px dotted var(--sklearn-color-border-box);\n",
       "  border-radius: 0.25em;\n",
       "  box-sizing: border-box;\n",
       "  margin-bottom: 0.5em;\n",
       "  /* unfitted */\n",
       "  background-color: var(--sklearn-color-unfitted-level-0);\n",
       "}\n",
       "\n",
       "#sk-container-id-3 div.sk-estimator.fitted {\n",
       "  /* fitted */\n",
       "  background-color: var(--sklearn-color-fitted-level-0);\n",
       "}\n",
       "\n",
       "/* on hover */\n",
       "#sk-container-id-3 div.sk-estimator:hover {\n",
       "  /* unfitted */\n",
       "  background-color: var(--sklearn-color-unfitted-level-2);\n",
       "}\n",
       "\n",
       "#sk-container-id-3 div.sk-estimator.fitted:hover {\n",
       "  /* fitted */\n",
       "  background-color: var(--sklearn-color-fitted-level-2);\n",
       "}\n",
       "\n",
       "/* Specification for estimator info (e.g. \"i\" and \"?\") */\n",
       "\n",
       "/* Common style for \"i\" and \"?\" */\n",
       "\n",
       ".sk-estimator-doc-link,\n",
       "a:link.sk-estimator-doc-link,\n",
       "a:visited.sk-estimator-doc-link {\n",
       "  float: right;\n",
       "  font-size: smaller;\n",
       "  line-height: 1em;\n",
       "  font-family: monospace;\n",
       "  background-color: var(--sklearn-color-background);\n",
       "  border-radius: 1em;\n",
       "  height: 1em;\n",
       "  width: 1em;\n",
       "  text-decoration: none !important;\n",
       "  margin-left: 1ex;\n",
       "  /* unfitted */\n",
       "  border: var(--sklearn-color-unfitted-level-1) 1pt solid;\n",
       "  color: var(--sklearn-color-unfitted-level-1);\n",
       "}\n",
       "\n",
       ".sk-estimator-doc-link.fitted,\n",
       "a:link.sk-estimator-doc-link.fitted,\n",
       "a:visited.sk-estimator-doc-link.fitted {\n",
       "  /* fitted */\n",
       "  border: var(--sklearn-color-fitted-level-1) 1pt solid;\n",
       "  color: var(--sklearn-color-fitted-level-1);\n",
       "}\n",
       "\n",
       "/* On hover */\n",
       "div.sk-estimator:hover .sk-estimator-doc-link:hover,\n",
       ".sk-estimator-doc-link:hover,\n",
       "div.sk-label-container:hover .sk-estimator-doc-link:hover,\n",
       ".sk-estimator-doc-link:hover {\n",
       "  /* unfitted */\n",
       "  background-color: var(--sklearn-color-unfitted-level-3);\n",
       "  color: var(--sklearn-color-background);\n",
       "  text-decoration: none;\n",
       "}\n",
       "\n",
       "div.sk-estimator.fitted:hover .sk-estimator-doc-link.fitted:hover,\n",
       ".sk-estimator-doc-link.fitted:hover,\n",
       "div.sk-label-container:hover .sk-estimator-doc-link.fitted:hover,\n",
       ".sk-estimator-doc-link.fitted:hover {\n",
       "  /* fitted */\n",
       "  background-color: var(--sklearn-color-fitted-level-3);\n",
       "  color: var(--sklearn-color-background);\n",
       "  text-decoration: none;\n",
       "}\n",
       "\n",
       "/* Span, style for the box shown on hovering the info icon */\n",
       ".sk-estimator-doc-link span {\n",
       "  display: none;\n",
       "  z-index: 9999;\n",
       "  position: relative;\n",
       "  font-weight: normal;\n",
       "  right: .2ex;\n",
       "  padding: .5ex;\n",
       "  margin: .5ex;\n",
       "  width: min-content;\n",
       "  min-width: 20ex;\n",
       "  max-width: 50ex;\n",
       "  color: var(--sklearn-color-text);\n",
       "  box-shadow: 2pt 2pt 4pt #999;\n",
       "  /* unfitted */\n",
       "  background: var(--sklearn-color-unfitted-level-0);\n",
       "  border: .5pt solid var(--sklearn-color-unfitted-level-3);\n",
       "}\n",
       "\n",
       ".sk-estimator-doc-link.fitted span {\n",
       "  /* fitted */\n",
       "  background: var(--sklearn-color-fitted-level-0);\n",
       "  border: var(--sklearn-color-fitted-level-3);\n",
       "}\n",
       "\n",
       ".sk-estimator-doc-link:hover span {\n",
       "  display: block;\n",
       "}\n",
       "\n",
       "/* \"?\"-specific style due to the `<a>` HTML tag */\n",
       "\n",
       "#sk-container-id-3 a.estimator_doc_link {\n",
       "  float: right;\n",
       "  font-size: 1rem;\n",
       "  line-height: 1em;\n",
       "  font-family: monospace;\n",
       "  background-color: var(--sklearn-color-background);\n",
       "  border-radius: 1rem;\n",
       "  height: 1rem;\n",
       "  width: 1rem;\n",
       "  text-decoration: none;\n",
       "  /* unfitted */\n",
       "  color: var(--sklearn-color-unfitted-level-1);\n",
       "  border: var(--sklearn-color-unfitted-level-1) 1pt solid;\n",
       "}\n",
       "\n",
       "#sk-container-id-3 a.estimator_doc_link.fitted {\n",
       "  /* fitted */\n",
       "  border: var(--sklearn-color-fitted-level-1) 1pt solid;\n",
       "  color: var(--sklearn-color-fitted-level-1);\n",
       "}\n",
       "\n",
       "/* On hover */\n",
       "#sk-container-id-3 a.estimator_doc_link:hover {\n",
       "  /* unfitted */\n",
       "  background-color: var(--sklearn-color-unfitted-level-3);\n",
       "  color: var(--sklearn-color-background);\n",
       "  text-decoration: none;\n",
       "}\n",
       "\n",
       "#sk-container-id-3 a.estimator_doc_link.fitted:hover {\n",
       "  /* fitted */\n",
       "  background-color: var(--sklearn-color-fitted-level-3);\n",
       "}\n",
       "</style><div id=\"sk-container-id-3\" class=\"sk-top-container\"><div class=\"sk-text-repr-fallback\"><pre>LinearRegression()</pre><b>In a Jupyter environment, please rerun this cell to show the HTML representation or trust the notebook. <br />On GitHub, the HTML representation is unable to render, please try loading this page with nbviewer.org.</b></div><div class=\"sk-container\" hidden><div class=\"sk-item\"><div class=\"sk-estimator fitted sk-toggleable\"><input class=\"sk-toggleable__control sk-hidden--visually\" id=\"sk-estimator-id-3\" type=\"checkbox\" checked><label for=\"sk-estimator-id-3\" class=\"sk-toggleable__label fitted sk-toggleable__label-arrow fitted\">&nbsp;&nbsp;LinearRegression<a class=\"sk-estimator-doc-link fitted\" rel=\"noreferrer\" target=\"_blank\" href=\"https://scikit-learn.org/1.4/modules/generated/sklearn.linear_model.LinearRegression.html\">?<span>Documentation for LinearRegression</span></a><span class=\"sk-estimator-doc-link fitted\">i<span>Fitted</span></span></label><div class=\"sk-toggleable__content fitted\"><pre>LinearRegression()</pre></div> </div></div></div></div>"
      ],
      "text/plain": [
       "LinearRegression()"
      ]
     },
     "execution_count": 96,
     "metadata": {},
     "output_type": "execute_result"
    }
   ],
   "source": [
    "model.fit(x_train, y_train)"
   ]
  },
  {
   "cell_type": "code",
   "execution_count": 97,
   "metadata": {},
   "outputs": [],
   "source": [
    "prediction = model.predict(x_test)"
   ]
  },
  {
   "cell_type": "code",
   "execution_count": 98,
   "metadata": {},
   "outputs": [
    {
     "data": {
      "text/plain": [
       "38.90968011706813"
      ]
     },
     "execution_count": 98,
     "metadata": {},
     "output_type": "execute_result"
    }
   ],
   "source": [
    "mean_absolute_error(y_test, prediction)"
   ]
  },
  {
   "cell_type": "code",
   "execution_count": 99,
   "metadata": {},
   "outputs": [
    {
     "data": {
      "text/plain": [
       "1960.4207452724756"
      ]
     },
     "execution_count": 99,
     "metadata": {},
     "output_type": "execute_result"
    }
   ],
   "source": [
    "mean_squared_error(y_test, prediction)"
   ]
  },
  {
   "cell_type": "code",
   "execution_count": 100,
   "metadata": {},
   "outputs": [
    {
     "data": {
      "text/plain": [
       "-0.35151655552203476"
      ]
     },
     "execution_count": 100,
     "metadata": {},
     "output_type": "execute_result"
    }
   ],
   "source": [
    "r2_score(y_test, prediction)"
   ]
  },
  {
   "cell_type": "code",
   "execution_count": 104,
   "metadata": {},
   "outputs": [],
   "source": [
    "x = np.linspace(-5, 5, 10)\n",
    "y = np.linspace(-5, 5, 10)"
   ]
  },
  {
   "cell_type": "code",
   "execution_count": 105,
   "metadata": {},
   "outputs": [
    {
     "data": {
      "text/plain": [
       "array([-5.        , -3.88888889, -2.77777778, -1.66666667, -0.55555556,\n",
       "        0.55555556,  1.66666667,  2.77777778,  3.88888889,  5.        ])"
      ]
     },
     "execution_count": 105,
     "metadata": {},
     "output_type": "execute_result"
    }
   ],
   "source": [
    "x"
   ]
  },
  {
   "cell_type": "code",
   "execution_count": 106,
   "metadata": {},
   "outputs": [
    {
     "data": {
      "text/plain": [
       "array([-5.        , -3.88888889, -2.77777778, -1.66666667, -0.55555556,\n",
       "        0.55555556,  1.66666667,  2.77777778,  3.88888889,  5.        ])"
      ]
     },
     "execution_count": 106,
     "metadata": {},
     "output_type": "execute_result"
    }
   ],
   "source": [
    "y"
   ]
  },
  {
   "cell_type": "code",
   "execution_count": 118,
   "metadata": {},
   "outputs": [],
   "source": [
    "x = np.linspace(-5, 5, 10)\n",
    "y = np.linspace(-5, 5, 10)\n",
    "xGrid, yGrid = np.meshgrid(y, x)\n",
    "\n",
    "z_final = model.predict(final).reshape(10,10)\n",
    "\n",
    "z = z_final\n",
    "\n",
    "final = np.vstack((xGrid.ravel().reshape(1,100),yGrid.ravel().reshape(1,100))).T"
   ]
  },
  {
   "cell_type": "code",
   "execution_count": 119,
   "metadata": {},
   "outputs": [
    {
     "data": {
      "text/plain": [
       "array([[-5.        , -3.88888889, -2.77777778, -1.66666667, -0.55555556,\n",
       "         0.55555556,  1.66666667,  2.77777778,  3.88888889,  5.        ],\n",
       "       [-5.        , -3.88888889, -2.77777778, -1.66666667, -0.55555556,\n",
       "         0.55555556,  1.66666667,  2.77777778,  3.88888889,  5.        ],\n",
       "       [-5.        , -3.88888889, -2.77777778, -1.66666667, -0.55555556,\n",
       "         0.55555556,  1.66666667,  2.77777778,  3.88888889,  5.        ],\n",
       "       [-5.        , -3.88888889, -2.77777778, -1.66666667, -0.55555556,\n",
       "         0.55555556,  1.66666667,  2.77777778,  3.88888889,  5.        ],\n",
       "       [-5.        , -3.88888889, -2.77777778, -1.66666667, -0.55555556,\n",
       "         0.55555556,  1.66666667,  2.77777778,  3.88888889,  5.        ],\n",
       "       [-5.        , -3.88888889, -2.77777778, -1.66666667, -0.55555556,\n",
       "         0.55555556,  1.66666667,  2.77777778,  3.88888889,  5.        ],\n",
       "       [-5.        , -3.88888889, -2.77777778, -1.66666667, -0.55555556,\n",
       "         0.55555556,  1.66666667,  2.77777778,  3.88888889,  5.        ],\n",
       "       [-5.        , -3.88888889, -2.77777778, -1.66666667, -0.55555556,\n",
       "         0.55555556,  1.66666667,  2.77777778,  3.88888889,  5.        ],\n",
       "       [-5.        , -3.88888889, -2.77777778, -1.66666667, -0.55555556,\n",
       "         0.55555556,  1.66666667,  2.77777778,  3.88888889,  5.        ],\n",
       "       [-5.        , -3.88888889, -2.77777778, -1.66666667, -0.55555556,\n",
       "         0.55555556,  1.66666667,  2.77777778,  3.88888889,  5.        ]])"
      ]
     },
     "execution_count": 119,
     "metadata": {},
     "output_type": "execute_result"
    }
   ],
   "source": [
    "xGrid"
   ]
  },
  {
   "cell_type": "code",
   "execution_count": 120,
   "metadata": {},
   "outputs": [
    {
     "data": {
      "application/vnd.plotly.v1+json": {
       "config": {
        "plotlyServerURL": "https://plot.ly"
       },
       "data": [
        {
         "hovertemplate": "feature1=%{x}<br>feature2=%{y}<br>target=%{z}<extra></extra>",
         "legendgroup": "",
         "marker": {
          "color": "#636efa",
          "symbol": "circle"
         },
         "mode": "markers",
         "name": "",
         "scene": "scene",
         "showlegend": false,
         "type": "scatter3d",
         "x": [
          2.564751298426742,
          0.5201781419087251,
          -1.9999212946626972,
          1.742662557497569,
          -0.6691842655903,
          -0.37970087499722055,
          0.24189250928226114,
          0.5915539113653364,
          -0.8205962853552067,
          -0.3542670299901184,
          -0.35413468516439334,
          0.7255469456409779,
          -0.11199338711909586,
          -0.6943325766631248,
          -0.8502629812684084,
          0.040450705252771155,
          0.5753284598985732,
          0.4716204261561293,
          0.7974459349311407,
          -1.3375181101058673,
          -1.1137456061640232,
          -3.3271832265687507,
          0.3621173780183496,
          0.920456818810757,
          0.145893042233133,
          -0.6637975608855339,
          -0.9074201732278216,
          -0.24027942552876844,
          -0.00985954604965405,
          0.13101359483952754,
          -0.4421589643905845,
          -0.7464717149040972,
          -0.6780868145713128,
          -0.4564724608691973,
          -0.6816269093225485,
          0.24271230864270038,
          -0.40484181049437085,
          -1.4847139413209156,
          0.19541813753514461,
          0.6705645311260051,
          0.46801271264558925,
          0.43873234592082383,
          0.2945307014603731,
          -0.17441304767732416,
          -0.23312023977684035,
          2.22762840433109,
          0.08855307339742548,
          -0.47728601919291563,
          -0.15433517686353193,
          -2.810669070592664,
          0.8497462968943945,
          0.9005048940490392,
          1.8844801886175016,
          0.6224237433155415,
          -0.2574118352238699,
          0.5011582158235237,
          -0.5926283059136763,
          0.3254267875853169,
          0.3808627162598682,
          -0.48152117096346575,
          0.05331837414952119,
          0.5058516791484573,
          0.6634340107153425,
          1.5462444772456165,
          0.34577856575843374,
          0.6391106580863734,
          -0.9564083805964981,
          -0.19742383374316327,
          -1.533841701068146,
          0.5634184919320159,
          0.9326477795955949,
          1.4495306328547957,
          -0.5077863772058723,
          -0.2927892700538708,
          -0.3285169627364328,
          -0.5401135752431762,
          0.7544207469413612,
          -0.17993116561688965,
          0.2640746920269667,
          0.1923606265644829,
          -0.14286552836188696,
          1.2715582609085383,
          0.20392778911570492,
          -0.45285122753367246,
          -0.8039850083122592,
          -0.5474481885569644,
          0.18835290139700522,
          0.46216276718177945,
          -0.516892108697241,
          -0.2761618589142405,
          -0.7333112873860086,
          -1.7512311095768147,
          -0.34795813950050936,
          0.6004618062146885,
          2.349523806485327,
          -1.012831674738469,
          1.6896819163874095,
          0.6119421323343424,
          0.7266545196495695,
          -1.1040433321488305
         ],
         "y": [
          1.4218922688686624,
          0.7980502884981207,
          1.5230965574669044,
          -0.47978042261588727,
          -0.06318617009767698,
          -1.4077347099105202,
          0.4350024691207139,
          -0.5093705441306956,
          -2.4212814069153845,
          -1.4894430690555063,
          -0.025745714865367284,
          -0.5955318817197452,
          -1.5849490524859668,
          2.050283845215277,
          0.49311032030642243,
          -0.5183164407621013,
          1.8230626579340798,
          -0.07587717753014953,
          0.6645648317256454,
          -0.9568516436540229,
          0.512115263039482,
          -1.3550972170381712,
          0.7182425331743655,
          -1.6514337741888145,
          0.22395972428687125,
          -0.17484632478108253,
          -0.5792082663325437,
          0.3594330031433504,
          0.6021325854115679,
          -0.38682452470373796,
          -0.16281683923934925,
          -1.8437064384254003,
          0.6209264046342228,
          1.5819399994469177,
          1.3148878842860765,
          -0.7753368336368713,
          0.5341606028788554,
          0.06221996668054359,
          -1.2699613335429127,
          -0.9464051675742673,
          -0.449118947146436,
          -0.11404770722141194,
          0.8449322500080744,
          -0.6855349526858436,
          0.27309716089619085,
          0.5384089996133427,
          -1.5796385309468632,
          -0.4643632618231236,
          -0.22167176653922943,
          -0.8563732176006593,
          -1.3972217732437675,
          0.2845520553455576,
          -0.5133005173071064,
          -0.33754711289060174,
          1.858941488593549,
          -0.2681960089880855,
          -1.0320562035132212,
          0.32366391123370825,
          0.5668934738120013,
          0.7253191273995103,
          0.6501265888462517,
          0.6107562996135139,
          -1.3487160109733611,
          -0.05302056165001688,
          0.15612818540213125,
          0.5151340771101659,
          1.0423452035756675,
          0.6753580095729397,
          -0.9850516366030087,
          -1.4689860301297233,
          -0.23227728700163117,
          0.6948805126435392,
          -1.2991953733365011,
          -0.16069234982026803,
          -1.7098788145141584,
          1.267500952498246,
          0.46184818490937646,
          -0.24308942888531576,
          -0.5866628362748685,
          -0.03869482071564884,
          0.23654136781052867,
          -1.5585989665387485,
          -0.5797304965033309,
          1.1632588031445814,
          1.1823993270843949,
          -0.7978762838218529,
          0.38049710449104945,
          0.4636214269145272,
          -1.44526130334383,
          1.4827111202046328,
          0.34866619786809044,
          -0.038335370440452966,
          0.8105479555009176,
          0.37935829461361315,
          0.050160108599990344,
          -0.4187279514581173,
          0.167482308963813,
          0.19421378697605293,
          1.4647499413417928,
          -1.7463330736210967
         ],
         "z": [
          204.8075090117443,
          132.34453309508342,
          28.338282001093035,
          73.50874327826065,
          -49.850177263394286,
          -10.193520878495931,
          36.08973679186273,
          -7.743384783875927,
          -124.7073446288867,
          5.474369378368749,
          -15.13614689419733,
          27.958532108870152,
          71.46597878669905,
          6.074909094015318,
          -52.82565780918307,
          9.77446005391835,
          30.215731614386414,
          0.8166010315378891,
          30.637522787466185,
          -84.71760308264868,
          45.9161624670881,
          -217.95558141429512,
          -31.49971568553523,
          -51.559985892271776,
          -38.166720996673455,
          20.039451711442524,
          -22.99820494340505,
          -42.883107937963025,
          4.262094665715665,
          -25.833939173866842,
          -38.72609044088834,
          -72.110486250762,
          -45.20122628972096,
          35.04584681967081,
          72.4167576325664,
          40.8681677569967,
          -11.558668540243797,
          -27.965423946969686,
          27.468498476159326,
          -72.79076755610653,
          -29.886101691207358,
          28.38342551049883,
          -0.9602108832701433,
          -103.74733583322485,
          92.89063209261596,
          67.87065664679908,
          -157.00430225942725,
          -21.836597359191344,
          -19.194220231753516,
          -142.17278151375325,
          -34.11490683130736,
          -49.189253238360415,
          68.75451758772664,
          25.073291201837286,
          52.40516715920058,
          69.54268369669241,
          -53.3408929012877,
          -38.121438689470025,
          56.71248024634194,
          13.98893080548723,
          26.741050464617,
          38.30414329030569,
          -55.955660627615885,
          21.734934408436274,
          -30.63066535046578,
          53.289711705068775,
          49.87140447186763,
          87.86502530416583,
          -143.56984546868983,
          10.283522821944288,
          36.29285151997259,
          19.435824602881254,
          11.155639754850071,
          -64.43492017552957,
          -116.7357537136831,
          55.79427417822012,
          -6.963216918106575,
          22.028840301374924,
          42.0470640305012,
          44.148815847767985,
          -82.94600631178383,
          21.913147362340748,
          0.4171770394777692,
          49.90037202761707,
          1.1053334056114155,
          10.01947430209367,
          57.88005900965352,
          43.62354671963434,
          -39.43783273674237,
          101.04419691145208,
          61.47814461183484,
          -59.24729672886336,
          14.275042139977929,
          65.93727376068324,
          145.37429553634897,
          -106.18868176126064,
          74.61878305006887,
          -39.117244732243975,
          24.94187818277846,
          -89.5042122935776
         ]
        },
        {
         "type": "surface",
         "x": [
          -5,
          -3.888888888888889,
          -2.7777777777777777,
          -1.6666666666666665,
          -0.5555555555555554,
          0.5555555555555554,
          1.666666666666667,
          2.7777777777777786,
          3.8888888888888893,
          5
         ],
         "y": [
          -5,
          -3.888888888888889,
          -2.7777777777777777,
          -1.6666666666666665,
          -0.5555555555555554,
          0.5555555555555554,
          1.666666666666667,
          2.7777777777777786,
          3.8888888888888893,
          5
         ],
         "z": [
          [
           -359.159838177105,
           -314.7948374862399,
           -270.42983679537485,
           -226.06483610450977,
           -181.69983541364468,
           -137.33483472277965,
           -92.96983403191454,
           -48.60483334104946,
           -4.239832650184408,
           40.12516804068064
          ],
          [
           -323.27939899244257,
           -278.91439830157753,
           -234.54939761071245,
           -190.1843969198474,
           -145.8193962289823,
           -101.45439553811725,
           -57.08939484725217,
           -12.724394156387081,
           31.640606534477968,
           76.00560722534303
          ],
          [
           -287.3989598077802,
           -243.03395911691513,
           -198.66895842605007,
           -154.30395773518498,
           -109.93895704431992,
           -65.57395635345486,
           -21.208955662589773,
           23.156045028275308,
           67.52104571914036,
           111.8860464100054
          ],
          [
           -251.5185206231178,
           -207.15351993225272,
           -162.78851924138766,
           -118.42351855052259,
           -74.05851785965753,
           -29.693517168792468,
           14.671483522072617,
           59.0364842129377,
           103.40148490380275,
           147.7664855946678
          ],
          [
           -215.6380814384554,
           -171.27308074759034,
           -126.90808005672528,
           -82.5430793658602,
           -38.17807867499513,
           6.186922015869923,
           50.551922706735006,
           94.9169233976001,
           139.28192408846516,
           183.6469247793302
          ],
          [
           -179.75764225379302,
           -135.39264156292796,
           -91.02764087206289,
           -46.66264018119782,
           -2.2976394903327506,
           42.0673612005323,
           86.43236189139739,
           130.79736258226248,
           175.16236327312754,
           219.52736396399257
          ],
          [
           -143.87720306913062,
           -99.51220237826556,
           -55.14720168740048,
           -10.782200996535412,
           33.58279969432966,
           77.94780038519471,
           122.3128010760598,
           166.6778017669249,
           211.04280245778995,
           255.40780314865498
          ],
          [
           -107.99676388446821,
           -63.63176319360315,
           -19.266762502738075,
           25.09823818812699,
           69.46323887899206,
           113.82823956985712,
           158.1932402607222,
           202.5582409515873,
           246.92324164245235,
           291.2882423333174
          ],
          [
           -72.11632469980583,
           -27.751324008940763,
           16.613676681924304,
           60.97867737278937,
           105.34367806365444,
           149.7086787545195,
           194.07367944538458,
           238.43868013624967,
           282.8036808271147,
           327.1686815179798
          ],
          [
           -36.23588551514347,
           8.129115175721598,
           52.49411586658667,
           96.85911655745174,
           141.22411724831682,
           185.58911793918185,
           229.95411863004693,
           274.319119320912,
           318.6841200117771,
           363.04912070264214
          ]
         ]
        }
       ],
       "layout": {
        "legend": {
         "tracegroupgap": 0
        },
        "margin": {
         "t": 60
        },
        "scene": {
         "domain": {
          "x": [
           0,
           1
          ],
          "y": [
           0,
           1
          ]
         },
         "xaxis": {
          "title": {
           "text": "feature1"
          }
         },
         "yaxis": {
          "title": {
           "text": "feature2"
          }
         },
         "zaxis": {
          "title": {
           "text": "target"
          }
         }
        },
        "template": {
         "data": {
          "bar": [
           {
            "error_x": {
             "color": "#2a3f5f"
            },
            "error_y": {
             "color": "#2a3f5f"
            },
            "marker": {
             "line": {
              "color": "#E5ECF6",
              "width": 0.5
             },
             "pattern": {
              "fillmode": "overlay",
              "size": 10,
              "solidity": 0.2
             }
            },
            "type": "bar"
           }
          ],
          "barpolar": [
           {
            "marker": {
             "line": {
              "color": "#E5ECF6",
              "width": 0.5
             },
             "pattern": {
              "fillmode": "overlay",
              "size": 10,
              "solidity": 0.2
             }
            },
            "type": "barpolar"
           }
          ],
          "carpet": [
           {
            "aaxis": {
             "endlinecolor": "#2a3f5f",
             "gridcolor": "white",
             "linecolor": "white",
             "minorgridcolor": "white",
             "startlinecolor": "#2a3f5f"
            },
            "baxis": {
             "endlinecolor": "#2a3f5f",
             "gridcolor": "white",
             "linecolor": "white",
             "minorgridcolor": "white",
             "startlinecolor": "#2a3f5f"
            },
            "type": "carpet"
           }
          ],
          "choropleth": [
           {
            "colorbar": {
             "outlinewidth": 0,
             "ticks": ""
            },
            "type": "choropleth"
           }
          ],
          "contour": [
           {
            "colorbar": {
             "outlinewidth": 0,
             "ticks": ""
            },
            "colorscale": [
             [
              0,
              "#0d0887"
             ],
             [
              0.1111111111111111,
              "#46039f"
             ],
             [
              0.2222222222222222,
              "#7201a8"
             ],
             [
              0.3333333333333333,
              "#9c179e"
             ],
             [
              0.4444444444444444,
              "#bd3786"
             ],
             [
              0.5555555555555556,
              "#d8576b"
             ],
             [
              0.6666666666666666,
              "#ed7953"
             ],
             [
              0.7777777777777778,
              "#fb9f3a"
             ],
             [
              0.8888888888888888,
              "#fdca26"
             ],
             [
              1,
              "#f0f921"
             ]
            ],
            "type": "contour"
           }
          ],
          "contourcarpet": [
           {
            "colorbar": {
             "outlinewidth": 0,
             "ticks": ""
            },
            "type": "contourcarpet"
           }
          ],
          "heatmap": [
           {
            "colorbar": {
             "outlinewidth": 0,
             "ticks": ""
            },
            "colorscale": [
             [
              0,
              "#0d0887"
             ],
             [
              0.1111111111111111,
              "#46039f"
             ],
             [
              0.2222222222222222,
              "#7201a8"
             ],
             [
              0.3333333333333333,
              "#9c179e"
             ],
             [
              0.4444444444444444,
              "#bd3786"
             ],
             [
              0.5555555555555556,
              "#d8576b"
             ],
             [
              0.6666666666666666,
              "#ed7953"
             ],
             [
              0.7777777777777778,
              "#fb9f3a"
             ],
             [
              0.8888888888888888,
              "#fdca26"
             ],
             [
              1,
              "#f0f921"
             ]
            ],
            "type": "heatmap"
           }
          ],
          "heatmapgl": [
           {
            "colorbar": {
             "outlinewidth": 0,
             "ticks": ""
            },
            "colorscale": [
             [
              0,
              "#0d0887"
             ],
             [
              0.1111111111111111,
              "#46039f"
             ],
             [
              0.2222222222222222,
              "#7201a8"
             ],
             [
              0.3333333333333333,
              "#9c179e"
             ],
             [
              0.4444444444444444,
              "#bd3786"
             ],
             [
              0.5555555555555556,
              "#d8576b"
             ],
             [
              0.6666666666666666,
              "#ed7953"
             ],
             [
              0.7777777777777778,
              "#fb9f3a"
             ],
             [
              0.8888888888888888,
              "#fdca26"
             ],
             [
              1,
              "#f0f921"
             ]
            ],
            "type": "heatmapgl"
           }
          ],
          "histogram": [
           {
            "marker": {
             "pattern": {
              "fillmode": "overlay",
              "size": 10,
              "solidity": 0.2
             }
            },
            "type": "histogram"
           }
          ],
          "histogram2d": [
           {
            "colorbar": {
             "outlinewidth": 0,
             "ticks": ""
            },
            "colorscale": [
             [
              0,
              "#0d0887"
             ],
             [
              0.1111111111111111,
              "#46039f"
             ],
             [
              0.2222222222222222,
              "#7201a8"
             ],
             [
              0.3333333333333333,
              "#9c179e"
             ],
             [
              0.4444444444444444,
              "#bd3786"
             ],
             [
              0.5555555555555556,
              "#d8576b"
             ],
             [
              0.6666666666666666,
              "#ed7953"
             ],
             [
              0.7777777777777778,
              "#fb9f3a"
             ],
             [
              0.8888888888888888,
              "#fdca26"
             ],
             [
              1,
              "#f0f921"
             ]
            ],
            "type": "histogram2d"
           }
          ],
          "histogram2dcontour": [
           {
            "colorbar": {
             "outlinewidth": 0,
             "ticks": ""
            },
            "colorscale": [
             [
              0,
              "#0d0887"
             ],
             [
              0.1111111111111111,
              "#46039f"
             ],
             [
              0.2222222222222222,
              "#7201a8"
             ],
             [
              0.3333333333333333,
              "#9c179e"
             ],
             [
              0.4444444444444444,
              "#bd3786"
             ],
             [
              0.5555555555555556,
              "#d8576b"
             ],
             [
              0.6666666666666666,
              "#ed7953"
             ],
             [
              0.7777777777777778,
              "#fb9f3a"
             ],
             [
              0.8888888888888888,
              "#fdca26"
             ],
             [
              1,
              "#f0f921"
             ]
            ],
            "type": "histogram2dcontour"
           }
          ],
          "mesh3d": [
           {
            "colorbar": {
             "outlinewidth": 0,
             "ticks": ""
            },
            "type": "mesh3d"
           }
          ],
          "parcoords": [
           {
            "line": {
             "colorbar": {
              "outlinewidth": 0,
              "ticks": ""
             }
            },
            "type": "parcoords"
           }
          ],
          "pie": [
           {
            "automargin": true,
            "type": "pie"
           }
          ],
          "scatter": [
           {
            "fillpattern": {
             "fillmode": "overlay",
             "size": 10,
             "solidity": 0.2
            },
            "type": "scatter"
           }
          ],
          "scatter3d": [
           {
            "line": {
             "colorbar": {
              "outlinewidth": 0,
              "ticks": ""
             }
            },
            "marker": {
             "colorbar": {
              "outlinewidth": 0,
              "ticks": ""
             }
            },
            "type": "scatter3d"
           }
          ],
          "scattercarpet": [
           {
            "marker": {
             "colorbar": {
              "outlinewidth": 0,
              "ticks": ""
             }
            },
            "type": "scattercarpet"
           }
          ],
          "scattergeo": [
           {
            "marker": {
             "colorbar": {
              "outlinewidth": 0,
              "ticks": ""
             }
            },
            "type": "scattergeo"
           }
          ],
          "scattergl": [
           {
            "marker": {
             "colorbar": {
              "outlinewidth": 0,
              "ticks": ""
             }
            },
            "type": "scattergl"
           }
          ],
          "scattermapbox": [
           {
            "marker": {
             "colorbar": {
              "outlinewidth": 0,
              "ticks": ""
             }
            },
            "type": "scattermapbox"
           }
          ],
          "scatterpolar": [
           {
            "marker": {
             "colorbar": {
              "outlinewidth": 0,
              "ticks": ""
             }
            },
            "type": "scatterpolar"
           }
          ],
          "scatterpolargl": [
           {
            "marker": {
             "colorbar": {
              "outlinewidth": 0,
              "ticks": ""
             }
            },
            "type": "scatterpolargl"
           }
          ],
          "scatterternary": [
           {
            "marker": {
             "colorbar": {
              "outlinewidth": 0,
              "ticks": ""
             }
            },
            "type": "scatterternary"
           }
          ],
          "surface": [
           {
            "colorbar": {
             "outlinewidth": 0,
             "ticks": ""
            },
            "colorscale": [
             [
              0,
              "#0d0887"
             ],
             [
              0.1111111111111111,
              "#46039f"
             ],
             [
              0.2222222222222222,
              "#7201a8"
             ],
             [
              0.3333333333333333,
              "#9c179e"
             ],
             [
              0.4444444444444444,
              "#bd3786"
             ],
             [
              0.5555555555555556,
              "#d8576b"
             ],
             [
              0.6666666666666666,
              "#ed7953"
             ],
             [
              0.7777777777777778,
              "#fb9f3a"
             ],
             [
              0.8888888888888888,
              "#fdca26"
             ],
             [
              1,
              "#f0f921"
             ]
            ],
            "type": "surface"
           }
          ],
          "table": [
           {
            "cells": {
             "fill": {
              "color": "#EBF0F8"
             },
             "line": {
              "color": "white"
             }
            },
            "header": {
             "fill": {
              "color": "#C8D4E3"
             },
             "line": {
              "color": "white"
             }
            },
            "type": "table"
           }
          ]
         },
         "layout": {
          "annotationdefaults": {
           "arrowcolor": "#2a3f5f",
           "arrowhead": 0,
           "arrowwidth": 1
          },
          "autotypenumbers": "strict",
          "coloraxis": {
           "colorbar": {
            "outlinewidth": 0,
            "ticks": ""
           }
          },
          "colorscale": {
           "diverging": [
            [
             0,
             "#8e0152"
            ],
            [
             0.1,
             "#c51b7d"
            ],
            [
             0.2,
             "#de77ae"
            ],
            [
             0.3,
             "#f1b6da"
            ],
            [
             0.4,
             "#fde0ef"
            ],
            [
             0.5,
             "#f7f7f7"
            ],
            [
             0.6,
             "#e6f5d0"
            ],
            [
             0.7,
             "#b8e186"
            ],
            [
             0.8,
             "#7fbc41"
            ],
            [
             0.9,
             "#4d9221"
            ],
            [
             1,
             "#276419"
            ]
           ],
           "sequential": [
            [
             0,
             "#0d0887"
            ],
            [
             0.1111111111111111,
             "#46039f"
            ],
            [
             0.2222222222222222,
             "#7201a8"
            ],
            [
             0.3333333333333333,
             "#9c179e"
            ],
            [
             0.4444444444444444,
             "#bd3786"
            ],
            [
             0.5555555555555556,
             "#d8576b"
            ],
            [
             0.6666666666666666,
             "#ed7953"
            ],
            [
             0.7777777777777778,
             "#fb9f3a"
            ],
            [
             0.8888888888888888,
             "#fdca26"
            ],
            [
             1,
             "#f0f921"
            ]
           ],
           "sequentialminus": [
            [
             0,
             "#0d0887"
            ],
            [
             0.1111111111111111,
             "#46039f"
            ],
            [
             0.2222222222222222,
             "#7201a8"
            ],
            [
             0.3333333333333333,
             "#9c179e"
            ],
            [
             0.4444444444444444,
             "#bd3786"
            ],
            [
             0.5555555555555556,
             "#d8576b"
            ],
            [
             0.6666666666666666,
             "#ed7953"
            ],
            [
             0.7777777777777778,
             "#fb9f3a"
            ],
            [
             0.8888888888888888,
             "#fdca26"
            ],
            [
             1,
             "#f0f921"
            ]
           ]
          },
          "colorway": [
           "#636efa",
           "#EF553B",
           "#00cc96",
           "#ab63fa",
           "#FFA15A",
           "#19d3f3",
           "#FF6692",
           "#B6E880",
           "#FF97FF",
           "#FECB52"
          ],
          "font": {
           "color": "#2a3f5f"
          },
          "geo": {
           "bgcolor": "white",
           "lakecolor": "white",
           "landcolor": "#E5ECF6",
           "showlakes": true,
           "showland": true,
           "subunitcolor": "white"
          },
          "hoverlabel": {
           "align": "left"
          },
          "hovermode": "closest",
          "mapbox": {
           "style": "light"
          },
          "paper_bgcolor": "white",
          "plot_bgcolor": "#E5ECF6",
          "polar": {
           "angularaxis": {
            "gridcolor": "white",
            "linecolor": "white",
            "ticks": ""
           },
           "bgcolor": "#E5ECF6",
           "radialaxis": {
            "gridcolor": "white",
            "linecolor": "white",
            "ticks": ""
           }
          },
          "scene": {
           "xaxis": {
            "backgroundcolor": "#E5ECF6",
            "gridcolor": "white",
            "gridwidth": 2,
            "linecolor": "white",
            "showbackground": true,
            "ticks": "",
            "zerolinecolor": "white"
           },
           "yaxis": {
            "backgroundcolor": "#E5ECF6",
            "gridcolor": "white",
            "gridwidth": 2,
            "linecolor": "white",
            "showbackground": true,
            "ticks": "",
            "zerolinecolor": "white"
           },
           "zaxis": {
            "backgroundcolor": "#E5ECF6",
            "gridcolor": "white",
            "gridwidth": 2,
            "linecolor": "white",
            "showbackground": true,
            "ticks": "",
            "zerolinecolor": "white"
           }
          },
          "shapedefaults": {
           "line": {
            "color": "#2a3f5f"
           }
          },
          "ternary": {
           "aaxis": {
            "gridcolor": "white",
            "linecolor": "white",
            "ticks": ""
           },
           "baxis": {
            "gridcolor": "white",
            "linecolor": "white",
            "ticks": ""
           },
           "bgcolor": "#E5ECF6",
           "caxis": {
            "gridcolor": "white",
            "linecolor": "white",
            "ticks": ""
           }
          },
          "title": {
           "x": 0.05
          },
          "xaxis": {
           "automargin": true,
           "gridcolor": "white",
           "linecolor": "white",
           "ticks": "",
           "title": {
            "standoff": 15
           },
           "zerolinecolor": "white",
           "zerolinewidth": 2
          },
          "yaxis": {
           "automargin": true,
           "gridcolor": "white",
           "linecolor": "white",
           "ticks": "",
           "title": {
            "standoff": 15
           },
           "zerolinecolor": "white",
           "zerolinewidth": 2
          }
         }
        }
       }
      }
     },
     "metadata": {},
     "output_type": "display_data"
    }
   ],
   "source": [
    "\n",
    "fig = px.scatter_3d(df, x='feature1', y='feature2', z='target')\n",
    "\n",
    "fig.add_trace(go.Surface(x = x, y = y, z =z ))\n",
    "\n",
    "fig.show()"
   ]
  },
  {
   "cell_type": "code",
   "execution_count": 110,
   "metadata": {},
   "outputs": [
    {
     "data": {
      "text/plain": [
       "array([[-359.15983818, -314.79483749, -270.4298368 , -226.0648361 ,\n",
       "        -181.69983541, -137.33483472,  -92.96983403,  -48.60483334,\n",
       "          -4.23983265,   40.12516804],\n",
       "       [-323.27939899, -278.9143983 , -234.54939761, -190.18439692,\n",
       "        -145.81939623, -101.45439554,  -57.08939485,  -12.72439416,\n",
       "          31.64060653,   76.00560723],\n",
       "       [-287.39895981, -243.03395912, -198.66895843, -154.30395774,\n",
       "        -109.93895704,  -65.57395635,  -21.20895566,   23.15604503,\n",
       "          67.52104572,  111.88604641],\n",
       "       [-251.51852062, -207.15351993, -162.78851924, -118.42351855,\n",
       "         -74.05851786,  -29.69351717,   14.67148352,   59.03648421,\n",
       "         103.4014849 ,  147.76648559],\n",
       "       [-215.63808144, -171.27308075, -126.90808006,  -82.54307937,\n",
       "         -38.17807867,    6.18692202,   50.55192271,   94.9169234 ,\n",
       "         139.28192409,  183.64692478],\n",
       "       [-179.75764225, -135.39264156,  -91.02764087,  -46.66264018,\n",
       "          -2.29763949,   42.0673612 ,   86.43236189,  130.79736258,\n",
       "         175.16236327,  219.52736396],\n",
       "       [-143.87720307,  -99.51220238,  -55.14720169,  -10.782201  ,\n",
       "          33.58279969,   77.94780039,  122.31280108,  166.67780177,\n",
       "         211.04280246,  255.40780315],\n",
       "       [-107.99676388,  -63.63176319,  -19.2667625 ,   25.09823819,\n",
       "          69.46323888,  113.82823957,  158.19324026,  202.55824095,\n",
       "         246.92324164,  291.28824233],\n",
       "       [ -72.1163247 ,  -27.75132401,   16.61367668,   60.97867737,\n",
       "         105.34367806,  149.70867875,  194.07367945,  238.43868014,\n",
       "         282.80368083,  327.16868152],\n",
       "       [ -36.23588552,    8.12911518,   52.49411587,   96.85911656,\n",
       "         141.22411725,  185.58911794,  229.95411863,  274.31911932,\n",
       "         318.68412001,  363.0491207 ]])"
      ]
     },
     "execution_count": 110,
     "metadata": {},
     "output_type": "execute_result"
    }
   ],
   "source": [
    "z_final"
   ]
  },
  {
   "cell_type": "code",
   "execution_count": 112,
   "metadata": {},
   "outputs": [],
   "source": [
    "z = z_final\n",
    "\n",
    "final = np.vstack((xGrid.ravel().reshape(1,100),yGrid.ravel().reshape(1,100))).T"
   ]
  },
  {
   "cell_type": "code",
   "execution_count": 113,
   "metadata": {},
   "outputs": [],
   "source": [
    "fig = px.scatter_3d(df, x='feature1', y='feature2', z='target')"
   ]
  },
  {
   "cell_type": "code",
   "execution_count": 114,
   "metadata": {},
   "outputs": [
    {
     "data": {
      "application/vnd.plotly.v1+json": {
       "config": {
        "plotlyServerURL": "https://plot.ly"
       },
       "data": [
        {
         "hovertemplate": "feature1=%{x}<br>feature2=%{y}<br>target=%{z}<extra></extra>",
         "legendgroup": "",
         "marker": {
          "color": "#636efa",
          "symbol": "circle"
         },
         "mode": "markers",
         "name": "",
         "scene": "scene",
         "showlegend": false,
         "type": "scatter3d",
         "x": [
          2.564751298426742,
          0.5201781419087251,
          -1.9999212946626972,
          1.742662557497569,
          -0.6691842655903,
          -0.37970087499722055,
          0.24189250928226114,
          0.5915539113653364,
          -0.8205962853552067,
          -0.3542670299901184,
          -0.35413468516439334,
          0.7255469456409779,
          -0.11199338711909586,
          -0.6943325766631248,
          -0.8502629812684084,
          0.040450705252771155,
          0.5753284598985732,
          0.4716204261561293,
          0.7974459349311407,
          -1.3375181101058673,
          -1.1137456061640232,
          -3.3271832265687507,
          0.3621173780183496,
          0.920456818810757,
          0.145893042233133,
          -0.6637975608855339,
          -0.9074201732278216,
          -0.24027942552876844,
          -0.00985954604965405,
          0.13101359483952754,
          -0.4421589643905845,
          -0.7464717149040972,
          -0.6780868145713128,
          -0.4564724608691973,
          -0.6816269093225485,
          0.24271230864270038,
          -0.40484181049437085,
          -1.4847139413209156,
          0.19541813753514461,
          0.6705645311260051,
          0.46801271264558925,
          0.43873234592082383,
          0.2945307014603731,
          -0.17441304767732416,
          -0.23312023977684035,
          2.22762840433109,
          0.08855307339742548,
          -0.47728601919291563,
          -0.15433517686353193,
          -2.810669070592664,
          0.8497462968943945,
          0.9005048940490392,
          1.8844801886175016,
          0.6224237433155415,
          -0.2574118352238699,
          0.5011582158235237,
          -0.5926283059136763,
          0.3254267875853169,
          0.3808627162598682,
          -0.48152117096346575,
          0.05331837414952119,
          0.5058516791484573,
          0.6634340107153425,
          1.5462444772456165,
          0.34577856575843374,
          0.6391106580863734,
          -0.9564083805964981,
          -0.19742383374316327,
          -1.533841701068146,
          0.5634184919320159,
          0.9326477795955949,
          1.4495306328547957,
          -0.5077863772058723,
          -0.2927892700538708,
          -0.3285169627364328,
          -0.5401135752431762,
          0.7544207469413612,
          -0.17993116561688965,
          0.2640746920269667,
          0.1923606265644829,
          -0.14286552836188696,
          1.2715582609085383,
          0.20392778911570492,
          -0.45285122753367246,
          -0.8039850083122592,
          -0.5474481885569644,
          0.18835290139700522,
          0.46216276718177945,
          -0.516892108697241,
          -0.2761618589142405,
          -0.7333112873860086,
          -1.7512311095768147,
          -0.34795813950050936,
          0.6004618062146885,
          2.349523806485327,
          -1.012831674738469,
          1.6896819163874095,
          0.6119421323343424,
          0.7266545196495695,
          -1.1040433321488305
         ],
         "y": [
          1.4218922688686624,
          0.7980502884981207,
          1.5230965574669044,
          -0.47978042261588727,
          -0.06318617009767698,
          -1.4077347099105202,
          0.4350024691207139,
          -0.5093705441306956,
          -2.4212814069153845,
          -1.4894430690555063,
          -0.025745714865367284,
          -0.5955318817197452,
          -1.5849490524859668,
          2.050283845215277,
          0.49311032030642243,
          -0.5183164407621013,
          1.8230626579340798,
          -0.07587717753014953,
          0.6645648317256454,
          -0.9568516436540229,
          0.512115263039482,
          -1.3550972170381712,
          0.7182425331743655,
          -1.6514337741888145,
          0.22395972428687125,
          -0.17484632478108253,
          -0.5792082663325437,
          0.3594330031433504,
          0.6021325854115679,
          -0.38682452470373796,
          -0.16281683923934925,
          -1.8437064384254003,
          0.6209264046342228,
          1.5819399994469177,
          1.3148878842860765,
          -0.7753368336368713,
          0.5341606028788554,
          0.06221996668054359,
          -1.2699613335429127,
          -0.9464051675742673,
          -0.449118947146436,
          -0.11404770722141194,
          0.8449322500080744,
          -0.6855349526858436,
          0.27309716089619085,
          0.5384089996133427,
          -1.5796385309468632,
          -0.4643632618231236,
          -0.22167176653922943,
          -0.8563732176006593,
          -1.3972217732437675,
          0.2845520553455576,
          -0.5133005173071064,
          -0.33754711289060174,
          1.858941488593549,
          -0.2681960089880855,
          -1.0320562035132212,
          0.32366391123370825,
          0.5668934738120013,
          0.7253191273995103,
          0.6501265888462517,
          0.6107562996135139,
          -1.3487160109733611,
          -0.05302056165001688,
          0.15612818540213125,
          0.5151340771101659,
          1.0423452035756675,
          0.6753580095729397,
          -0.9850516366030087,
          -1.4689860301297233,
          -0.23227728700163117,
          0.6948805126435392,
          -1.2991953733365011,
          -0.16069234982026803,
          -1.7098788145141584,
          1.267500952498246,
          0.46184818490937646,
          -0.24308942888531576,
          -0.5866628362748685,
          -0.03869482071564884,
          0.23654136781052867,
          -1.5585989665387485,
          -0.5797304965033309,
          1.1632588031445814,
          1.1823993270843949,
          -0.7978762838218529,
          0.38049710449104945,
          0.4636214269145272,
          -1.44526130334383,
          1.4827111202046328,
          0.34866619786809044,
          -0.038335370440452966,
          0.8105479555009176,
          0.37935829461361315,
          0.050160108599990344,
          -0.4187279514581173,
          0.167482308963813,
          0.19421378697605293,
          1.4647499413417928,
          -1.7463330736210967
         ],
         "z": [
          204.8075090117443,
          132.34453309508342,
          28.338282001093035,
          73.50874327826065,
          -49.850177263394286,
          -10.193520878495931,
          36.08973679186273,
          -7.743384783875927,
          -124.7073446288867,
          5.474369378368749,
          -15.13614689419733,
          27.958532108870152,
          71.46597878669905,
          6.074909094015318,
          -52.82565780918307,
          9.77446005391835,
          30.215731614386414,
          0.8166010315378891,
          30.637522787466185,
          -84.71760308264868,
          45.9161624670881,
          -217.95558141429512,
          -31.49971568553523,
          -51.559985892271776,
          -38.166720996673455,
          20.039451711442524,
          -22.99820494340505,
          -42.883107937963025,
          4.262094665715665,
          -25.833939173866842,
          -38.72609044088834,
          -72.110486250762,
          -45.20122628972096,
          35.04584681967081,
          72.4167576325664,
          40.8681677569967,
          -11.558668540243797,
          -27.965423946969686,
          27.468498476159326,
          -72.79076755610653,
          -29.886101691207358,
          28.38342551049883,
          -0.9602108832701433,
          -103.74733583322485,
          92.89063209261596,
          67.87065664679908,
          -157.00430225942725,
          -21.836597359191344,
          -19.194220231753516,
          -142.17278151375325,
          -34.11490683130736,
          -49.189253238360415,
          68.75451758772664,
          25.073291201837286,
          52.40516715920058,
          69.54268369669241,
          -53.3408929012877,
          -38.121438689470025,
          56.71248024634194,
          13.98893080548723,
          26.741050464617,
          38.30414329030569,
          -55.955660627615885,
          21.734934408436274,
          -30.63066535046578,
          53.289711705068775,
          49.87140447186763,
          87.86502530416583,
          -143.56984546868983,
          10.283522821944288,
          36.29285151997259,
          19.435824602881254,
          11.155639754850071,
          -64.43492017552957,
          -116.7357537136831,
          55.79427417822012,
          -6.963216918106575,
          22.028840301374924,
          42.0470640305012,
          44.148815847767985,
          -82.94600631178383,
          21.913147362340748,
          0.4171770394777692,
          49.90037202761707,
          1.1053334056114155,
          10.01947430209367,
          57.88005900965352,
          43.62354671963434,
          -39.43783273674237,
          101.04419691145208,
          61.47814461183484,
          -59.24729672886336,
          14.275042139977929,
          65.93727376068324,
          145.37429553634897,
          -106.18868176126064,
          74.61878305006887,
          -39.117244732243975,
          24.94187818277846,
          -89.5042122935776
         ]
        },
        {
         "type": "surface",
         "x": [
          -5,
          -3.888888888888889,
          -2.7777777777777777,
          -1.6666666666666665,
          -0.5555555555555554,
          0.5555555555555554,
          1.666666666666667,
          2.7777777777777786,
          3.8888888888888893,
          5
         ],
         "y": [
          -5,
          -3.888888888888889,
          -2.7777777777777777,
          -1.6666666666666665,
          -0.5555555555555554,
          0.5555555555555554,
          1.666666666666667,
          2.7777777777777786,
          3.8888888888888893,
          5
         ],
         "z": [
          [
           -359.159838177105,
           -314.7948374862399,
           -270.42983679537485,
           -226.06483610450977,
           -181.69983541364468,
           -137.33483472277965,
           -92.96983403191454,
           -48.60483334104946,
           -4.239832650184408,
           40.12516804068064
          ],
          [
           -323.27939899244257,
           -278.91439830157753,
           -234.54939761071245,
           -190.1843969198474,
           -145.8193962289823,
           -101.45439553811725,
           -57.08939484725217,
           -12.724394156387081,
           31.640606534477968,
           76.00560722534303
          ],
          [
           -287.3989598077802,
           -243.03395911691513,
           -198.66895842605007,
           -154.30395773518498,
           -109.93895704431992,
           -65.57395635345486,
           -21.208955662589773,
           23.156045028275308,
           67.52104571914036,
           111.8860464100054
          ],
          [
           -251.5185206231178,
           -207.15351993225272,
           -162.78851924138766,
           -118.42351855052259,
           -74.05851785965753,
           -29.693517168792468,
           14.671483522072617,
           59.0364842129377,
           103.40148490380275,
           147.7664855946678
          ],
          [
           -215.6380814384554,
           -171.27308074759034,
           -126.90808005672528,
           -82.5430793658602,
           -38.17807867499513,
           6.186922015869923,
           50.551922706735006,
           94.9169233976001,
           139.28192408846516,
           183.6469247793302
          ],
          [
           -179.75764225379302,
           -135.39264156292796,
           -91.02764087206289,
           -46.66264018119782,
           -2.2976394903327506,
           42.0673612005323,
           86.43236189139739,
           130.79736258226248,
           175.16236327312754,
           219.52736396399257
          ],
          [
           -143.87720306913062,
           -99.51220237826556,
           -55.14720168740048,
           -10.782200996535412,
           33.58279969432966,
           77.94780038519471,
           122.3128010760598,
           166.6778017669249,
           211.04280245778995,
           255.40780314865498
          ],
          [
           -107.99676388446821,
           -63.63176319360315,
           -19.266762502738075,
           25.09823818812699,
           69.46323887899206,
           113.82823956985712,
           158.1932402607222,
           202.5582409515873,
           246.92324164245235,
           291.2882423333174
          ],
          [
           -72.11632469980583,
           -27.751324008940763,
           16.613676681924304,
           60.97867737278937,
           105.34367806365444,
           149.7086787545195,
           194.07367944538458,
           238.43868013624967,
           282.8036808271147,
           327.1686815179798
          ],
          [
           -36.23588551514347,
           8.129115175721598,
           52.49411586658667,
           96.85911655745174,
           141.22411724831682,
           185.58911793918185,
           229.95411863004693,
           274.319119320912,
           318.6841200117771,
           363.04912070264214
          ]
         ]
        }
       ],
       "layout": {
        "legend": {
         "tracegroupgap": 0
        },
        "margin": {
         "t": 60
        },
        "scene": {
         "domain": {
          "x": [
           0,
           1
          ],
          "y": [
           0,
           1
          ]
         },
         "xaxis": {
          "title": {
           "text": "feature1"
          }
         },
         "yaxis": {
          "title": {
           "text": "feature2"
          }
         },
         "zaxis": {
          "title": {
           "text": "target"
          }
         }
        },
        "template": {
         "data": {
          "bar": [
           {
            "error_x": {
             "color": "#2a3f5f"
            },
            "error_y": {
             "color": "#2a3f5f"
            },
            "marker": {
             "line": {
              "color": "#E5ECF6",
              "width": 0.5
             },
             "pattern": {
              "fillmode": "overlay",
              "size": 10,
              "solidity": 0.2
             }
            },
            "type": "bar"
           }
          ],
          "barpolar": [
           {
            "marker": {
             "line": {
              "color": "#E5ECF6",
              "width": 0.5
             },
             "pattern": {
              "fillmode": "overlay",
              "size": 10,
              "solidity": 0.2
             }
            },
            "type": "barpolar"
           }
          ],
          "carpet": [
           {
            "aaxis": {
             "endlinecolor": "#2a3f5f",
             "gridcolor": "white",
             "linecolor": "white",
             "minorgridcolor": "white",
             "startlinecolor": "#2a3f5f"
            },
            "baxis": {
             "endlinecolor": "#2a3f5f",
             "gridcolor": "white",
             "linecolor": "white",
             "minorgridcolor": "white",
             "startlinecolor": "#2a3f5f"
            },
            "type": "carpet"
           }
          ],
          "choropleth": [
           {
            "colorbar": {
             "outlinewidth": 0,
             "ticks": ""
            },
            "type": "choropleth"
           }
          ],
          "contour": [
           {
            "colorbar": {
             "outlinewidth": 0,
             "ticks": ""
            },
            "colorscale": [
             [
              0,
              "#0d0887"
             ],
             [
              0.1111111111111111,
              "#46039f"
             ],
             [
              0.2222222222222222,
              "#7201a8"
             ],
             [
              0.3333333333333333,
              "#9c179e"
             ],
             [
              0.4444444444444444,
              "#bd3786"
             ],
             [
              0.5555555555555556,
              "#d8576b"
             ],
             [
              0.6666666666666666,
              "#ed7953"
             ],
             [
              0.7777777777777778,
              "#fb9f3a"
             ],
             [
              0.8888888888888888,
              "#fdca26"
             ],
             [
              1,
              "#f0f921"
             ]
            ],
            "type": "contour"
           }
          ],
          "contourcarpet": [
           {
            "colorbar": {
             "outlinewidth": 0,
             "ticks": ""
            },
            "type": "contourcarpet"
           }
          ],
          "heatmap": [
           {
            "colorbar": {
             "outlinewidth": 0,
             "ticks": ""
            },
            "colorscale": [
             [
              0,
              "#0d0887"
             ],
             [
              0.1111111111111111,
              "#46039f"
             ],
             [
              0.2222222222222222,
              "#7201a8"
             ],
             [
              0.3333333333333333,
              "#9c179e"
             ],
             [
              0.4444444444444444,
              "#bd3786"
             ],
             [
              0.5555555555555556,
              "#d8576b"
             ],
             [
              0.6666666666666666,
              "#ed7953"
             ],
             [
              0.7777777777777778,
              "#fb9f3a"
             ],
             [
              0.8888888888888888,
              "#fdca26"
             ],
             [
              1,
              "#f0f921"
             ]
            ],
            "type": "heatmap"
           }
          ],
          "heatmapgl": [
           {
            "colorbar": {
             "outlinewidth": 0,
             "ticks": ""
            },
            "colorscale": [
             [
              0,
              "#0d0887"
             ],
             [
              0.1111111111111111,
              "#46039f"
             ],
             [
              0.2222222222222222,
              "#7201a8"
             ],
             [
              0.3333333333333333,
              "#9c179e"
             ],
             [
              0.4444444444444444,
              "#bd3786"
             ],
             [
              0.5555555555555556,
              "#d8576b"
             ],
             [
              0.6666666666666666,
              "#ed7953"
             ],
             [
              0.7777777777777778,
              "#fb9f3a"
             ],
             [
              0.8888888888888888,
              "#fdca26"
             ],
             [
              1,
              "#f0f921"
             ]
            ],
            "type": "heatmapgl"
           }
          ],
          "histogram": [
           {
            "marker": {
             "pattern": {
              "fillmode": "overlay",
              "size": 10,
              "solidity": 0.2
             }
            },
            "type": "histogram"
           }
          ],
          "histogram2d": [
           {
            "colorbar": {
             "outlinewidth": 0,
             "ticks": ""
            },
            "colorscale": [
             [
              0,
              "#0d0887"
             ],
             [
              0.1111111111111111,
              "#46039f"
             ],
             [
              0.2222222222222222,
              "#7201a8"
             ],
             [
              0.3333333333333333,
              "#9c179e"
             ],
             [
              0.4444444444444444,
              "#bd3786"
             ],
             [
              0.5555555555555556,
              "#d8576b"
             ],
             [
              0.6666666666666666,
              "#ed7953"
             ],
             [
              0.7777777777777778,
              "#fb9f3a"
             ],
             [
              0.8888888888888888,
              "#fdca26"
             ],
             [
              1,
              "#f0f921"
             ]
            ],
            "type": "histogram2d"
           }
          ],
          "histogram2dcontour": [
           {
            "colorbar": {
             "outlinewidth": 0,
             "ticks": ""
            },
            "colorscale": [
             [
              0,
              "#0d0887"
             ],
             [
              0.1111111111111111,
              "#46039f"
             ],
             [
              0.2222222222222222,
              "#7201a8"
             ],
             [
              0.3333333333333333,
              "#9c179e"
             ],
             [
              0.4444444444444444,
              "#bd3786"
             ],
             [
              0.5555555555555556,
              "#d8576b"
             ],
             [
              0.6666666666666666,
              "#ed7953"
             ],
             [
              0.7777777777777778,
              "#fb9f3a"
             ],
             [
              0.8888888888888888,
              "#fdca26"
             ],
             [
              1,
              "#f0f921"
             ]
            ],
            "type": "histogram2dcontour"
           }
          ],
          "mesh3d": [
           {
            "colorbar": {
             "outlinewidth": 0,
             "ticks": ""
            },
            "type": "mesh3d"
           }
          ],
          "parcoords": [
           {
            "line": {
             "colorbar": {
              "outlinewidth": 0,
              "ticks": ""
             }
            },
            "type": "parcoords"
           }
          ],
          "pie": [
           {
            "automargin": true,
            "type": "pie"
           }
          ],
          "scatter": [
           {
            "fillpattern": {
             "fillmode": "overlay",
             "size": 10,
             "solidity": 0.2
            },
            "type": "scatter"
           }
          ],
          "scatter3d": [
           {
            "line": {
             "colorbar": {
              "outlinewidth": 0,
              "ticks": ""
             }
            },
            "marker": {
             "colorbar": {
              "outlinewidth": 0,
              "ticks": ""
             }
            },
            "type": "scatter3d"
           }
          ],
          "scattercarpet": [
           {
            "marker": {
             "colorbar": {
              "outlinewidth": 0,
              "ticks": ""
             }
            },
            "type": "scattercarpet"
           }
          ],
          "scattergeo": [
           {
            "marker": {
             "colorbar": {
              "outlinewidth": 0,
              "ticks": ""
             }
            },
            "type": "scattergeo"
           }
          ],
          "scattergl": [
           {
            "marker": {
             "colorbar": {
              "outlinewidth": 0,
              "ticks": ""
             }
            },
            "type": "scattergl"
           }
          ],
          "scattermapbox": [
           {
            "marker": {
             "colorbar": {
              "outlinewidth": 0,
              "ticks": ""
             }
            },
            "type": "scattermapbox"
           }
          ],
          "scatterpolar": [
           {
            "marker": {
             "colorbar": {
              "outlinewidth": 0,
              "ticks": ""
             }
            },
            "type": "scatterpolar"
           }
          ],
          "scatterpolargl": [
           {
            "marker": {
             "colorbar": {
              "outlinewidth": 0,
              "ticks": ""
             }
            },
            "type": "scatterpolargl"
           }
          ],
          "scatterternary": [
           {
            "marker": {
             "colorbar": {
              "outlinewidth": 0,
              "ticks": ""
             }
            },
            "type": "scatterternary"
           }
          ],
          "surface": [
           {
            "colorbar": {
             "outlinewidth": 0,
             "ticks": ""
            },
            "colorscale": [
             [
              0,
              "#0d0887"
             ],
             [
              0.1111111111111111,
              "#46039f"
             ],
             [
              0.2222222222222222,
              "#7201a8"
             ],
             [
              0.3333333333333333,
              "#9c179e"
             ],
             [
              0.4444444444444444,
              "#bd3786"
             ],
             [
              0.5555555555555556,
              "#d8576b"
             ],
             [
              0.6666666666666666,
              "#ed7953"
             ],
             [
              0.7777777777777778,
              "#fb9f3a"
             ],
             [
              0.8888888888888888,
              "#fdca26"
             ],
             [
              1,
              "#f0f921"
             ]
            ],
            "type": "surface"
           }
          ],
          "table": [
           {
            "cells": {
             "fill": {
              "color": "#EBF0F8"
             },
             "line": {
              "color": "white"
             }
            },
            "header": {
             "fill": {
              "color": "#C8D4E3"
             },
             "line": {
              "color": "white"
             }
            },
            "type": "table"
           }
          ]
         },
         "layout": {
          "annotationdefaults": {
           "arrowcolor": "#2a3f5f",
           "arrowhead": 0,
           "arrowwidth": 1
          },
          "autotypenumbers": "strict",
          "coloraxis": {
           "colorbar": {
            "outlinewidth": 0,
            "ticks": ""
           }
          },
          "colorscale": {
           "diverging": [
            [
             0,
             "#8e0152"
            ],
            [
             0.1,
             "#c51b7d"
            ],
            [
             0.2,
             "#de77ae"
            ],
            [
             0.3,
             "#f1b6da"
            ],
            [
             0.4,
             "#fde0ef"
            ],
            [
             0.5,
             "#f7f7f7"
            ],
            [
             0.6,
             "#e6f5d0"
            ],
            [
             0.7,
             "#b8e186"
            ],
            [
             0.8,
             "#7fbc41"
            ],
            [
             0.9,
             "#4d9221"
            ],
            [
             1,
             "#276419"
            ]
           ],
           "sequential": [
            [
             0,
             "#0d0887"
            ],
            [
             0.1111111111111111,
             "#46039f"
            ],
            [
             0.2222222222222222,
             "#7201a8"
            ],
            [
             0.3333333333333333,
             "#9c179e"
            ],
            [
             0.4444444444444444,
             "#bd3786"
            ],
            [
             0.5555555555555556,
             "#d8576b"
            ],
            [
             0.6666666666666666,
             "#ed7953"
            ],
            [
             0.7777777777777778,
             "#fb9f3a"
            ],
            [
             0.8888888888888888,
             "#fdca26"
            ],
            [
             1,
             "#f0f921"
            ]
           ],
           "sequentialminus": [
            [
             0,
             "#0d0887"
            ],
            [
             0.1111111111111111,
             "#46039f"
            ],
            [
             0.2222222222222222,
             "#7201a8"
            ],
            [
             0.3333333333333333,
             "#9c179e"
            ],
            [
             0.4444444444444444,
             "#bd3786"
            ],
            [
             0.5555555555555556,
             "#d8576b"
            ],
            [
             0.6666666666666666,
             "#ed7953"
            ],
            [
             0.7777777777777778,
             "#fb9f3a"
            ],
            [
             0.8888888888888888,
             "#fdca26"
            ],
            [
             1,
             "#f0f921"
            ]
           ]
          },
          "colorway": [
           "#636efa",
           "#EF553B",
           "#00cc96",
           "#ab63fa",
           "#FFA15A",
           "#19d3f3",
           "#FF6692",
           "#B6E880",
           "#FF97FF",
           "#FECB52"
          ],
          "font": {
           "color": "#2a3f5f"
          },
          "geo": {
           "bgcolor": "white",
           "lakecolor": "white",
           "landcolor": "#E5ECF6",
           "showlakes": true,
           "showland": true,
           "subunitcolor": "white"
          },
          "hoverlabel": {
           "align": "left"
          },
          "hovermode": "closest",
          "mapbox": {
           "style": "light"
          },
          "paper_bgcolor": "white",
          "plot_bgcolor": "#E5ECF6",
          "polar": {
           "angularaxis": {
            "gridcolor": "white",
            "linecolor": "white",
            "ticks": ""
           },
           "bgcolor": "#E5ECF6",
           "radialaxis": {
            "gridcolor": "white",
            "linecolor": "white",
            "ticks": ""
           }
          },
          "scene": {
           "xaxis": {
            "backgroundcolor": "#E5ECF6",
            "gridcolor": "white",
            "gridwidth": 2,
            "linecolor": "white",
            "showbackground": true,
            "ticks": "",
            "zerolinecolor": "white"
           },
           "yaxis": {
            "backgroundcolor": "#E5ECF6",
            "gridcolor": "white",
            "gridwidth": 2,
            "linecolor": "white",
            "showbackground": true,
            "ticks": "",
            "zerolinecolor": "white"
           },
           "zaxis": {
            "backgroundcolor": "#E5ECF6",
            "gridcolor": "white",
            "gridwidth": 2,
            "linecolor": "white",
            "showbackground": true,
            "ticks": "",
            "zerolinecolor": "white"
           }
          },
          "shapedefaults": {
           "line": {
            "color": "#2a3f5f"
           }
          },
          "ternary": {
           "aaxis": {
            "gridcolor": "white",
            "linecolor": "white",
            "ticks": ""
           },
           "baxis": {
            "gridcolor": "white",
            "linecolor": "white",
            "ticks": ""
           },
           "bgcolor": "#E5ECF6",
           "caxis": {
            "gridcolor": "white",
            "linecolor": "white",
            "ticks": ""
           }
          },
          "title": {
           "x": 0.05
          },
          "xaxis": {
           "automargin": true,
           "gridcolor": "white",
           "linecolor": "white",
           "ticks": "",
           "title": {
            "standoff": 15
           },
           "zerolinecolor": "white",
           "zerolinewidth": 2
          },
          "yaxis": {
           "automargin": true,
           "gridcolor": "white",
           "linecolor": "white",
           "ticks": "",
           "title": {
            "standoff": 15
           },
           "zerolinecolor": "white",
           "zerolinewidth": 2
          }
         }
        }
       }
      }
     },
     "metadata": {},
     "output_type": "display_data"
    }
   ],
   "source": [
    "fig.add_trace(go.Surface(x = x, y = y, z =z ))"
   ]
  },
  {
   "cell_type": "code",
   "execution_count": 115,
   "metadata": {},
   "outputs": [
    {
     "data": {
      "application/vnd.plotly.v1+json": {
       "config": {
        "plotlyServerURL": "https://plot.ly"
       },
       "data": [
        {
         "hovertemplate": "feature1=%{x}<br>feature2=%{y}<br>target=%{z}<extra></extra>",
         "legendgroup": "",
         "marker": {
          "color": "#636efa",
          "symbol": "circle"
         },
         "mode": "markers",
         "name": "",
         "scene": "scene",
         "showlegend": false,
         "type": "scatter3d",
         "x": [
          2.564751298426742,
          0.5201781419087251,
          -1.9999212946626972,
          1.742662557497569,
          -0.6691842655903,
          -0.37970087499722055,
          0.24189250928226114,
          0.5915539113653364,
          -0.8205962853552067,
          -0.3542670299901184,
          -0.35413468516439334,
          0.7255469456409779,
          -0.11199338711909586,
          -0.6943325766631248,
          -0.8502629812684084,
          0.040450705252771155,
          0.5753284598985732,
          0.4716204261561293,
          0.7974459349311407,
          -1.3375181101058673,
          -1.1137456061640232,
          -3.3271832265687507,
          0.3621173780183496,
          0.920456818810757,
          0.145893042233133,
          -0.6637975608855339,
          -0.9074201732278216,
          -0.24027942552876844,
          -0.00985954604965405,
          0.13101359483952754,
          -0.4421589643905845,
          -0.7464717149040972,
          -0.6780868145713128,
          -0.4564724608691973,
          -0.6816269093225485,
          0.24271230864270038,
          -0.40484181049437085,
          -1.4847139413209156,
          0.19541813753514461,
          0.6705645311260051,
          0.46801271264558925,
          0.43873234592082383,
          0.2945307014603731,
          -0.17441304767732416,
          -0.23312023977684035,
          2.22762840433109,
          0.08855307339742548,
          -0.47728601919291563,
          -0.15433517686353193,
          -2.810669070592664,
          0.8497462968943945,
          0.9005048940490392,
          1.8844801886175016,
          0.6224237433155415,
          -0.2574118352238699,
          0.5011582158235237,
          -0.5926283059136763,
          0.3254267875853169,
          0.3808627162598682,
          -0.48152117096346575,
          0.05331837414952119,
          0.5058516791484573,
          0.6634340107153425,
          1.5462444772456165,
          0.34577856575843374,
          0.6391106580863734,
          -0.9564083805964981,
          -0.19742383374316327,
          -1.533841701068146,
          0.5634184919320159,
          0.9326477795955949,
          1.4495306328547957,
          -0.5077863772058723,
          -0.2927892700538708,
          -0.3285169627364328,
          -0.5401135752431762,
          0.7544207469413612,
          -0.17993116561688965,
          0.2640746920269667,
          0.1923606265644829,
          -0.14286552836188696,
          1.2715582609085383,
          0.20392778911570492,
          -0.45285122753367246,
          -0.8039850083122592,
          -0.5474481885569644,
          0.18835290139700522,
          0.46216276718177945,
          -0.516892108697241,
          -0.2761618589142405,
          -0.7333112873860086,
          -1.7512311095768147,
          -0.34795813950050936,
          0.6004618062146885,
          2.349523806485327,
          -1.012831674738469,
          1.6896819163874095,
          0.6119421323343424,
          0.7266545196495695,
          -1.1040433321488305
         ],
         "y": [
          1.4218922688686624,
          0.7980502884981207,
          1.5230965574669044,
          -0.47978042261588727,
          -0.06318617009767698,
          -1.4077347099105202,
          0.4350024691207139,
          -0.5093705441306956,
          -2.4212814069153845,
          -1.4894430690555063,
          -0.025745714865367284,
          -0.5955318817197452,
          -1.5849490524859668,
          2.050283845215277,
          0.49311032030642243,
          -0.5183164407621013,
          1.8230626579340798,
          -0.07587717753014953,
          0.6645648317256454,
          -0.9568516436540229,
          0.512115263039482,
          -1.3550972170381712,
          0.7182425331743655,
          -1.6514337741888145,
          0.22395972428687125,
          -0.17484632478108253,
          -0.5792082663325437,
          0.3594330031433504,
          0.6021325854115679,
          -0.38682452470373796,
          -0.16281683923934925,
          -1.8437064384254003,
          0.6209264046342228,
          1.5819399994469177,
          1.3148878842860765,
          -0.7753368336368713,
          0.5341606028788554,
          0.06221996668054359,
          -1.2699613335429127,
          -0.9464051675742673,
          -0.449118947146436,
          -0.11404770722141194,
          0.8449322500080744,
          -0.6855349526858436,
          0.27309716089619085,
          0.5384089996133427,
          -1.5796385309468632,
          -0.4643632618231236,
          -0.22167176653922943,
          -0.8563732176006593,
          -1.3972217732437675,
          0.2845520553455576,
          -0.5133005173071064,
          -0.33754711289060174,
          1.858941488593549,
          -0.2681960089880855,
          -1.0320562035132212,
          0.32366391123370825,
          0.5668934738120013,
          0.7253191273995103,
          0.6501265888462517,
          0.6107562996135139,
          -1.3487160109733611,
          -0.05302056165001688,
          0.15612818540213125,
          0.5151340771101659,
          1.0423452035756675,
          0.6753580095729397,
          -0.9850516366030087,
          -1.4689860301297233,
          -0.23227728700163117,
          0.6948805126435392,
          -1.2991953733365011,
          -0.16069234982026803,
          -1.7098788145141584,
          1.267500952498246,
          0.46184818490937646,
          -0.24308942888531576,
          -0.5866628362748685,
          -0.03869482071564884,
          0.23654136781052867,
          -1.5585989665387485,
          -0.5797304965033309,
          1.1632588031445814,
          1.1823993270843949,
          -0.7978762838218529,
          0.38049710449104945,
          0.4636214269145272,
          -1.44526130334383,
          1.4827111202046328,
          0.34866619786809044,
          -0.038335370440452966,
          0.8105479555009176,
          0.37935829461361315,
          0.050160108599990344,
          -0.4187279514581173,
          0.167482308963813,
          0.19421378697605293,
          1.4647499413417928,
          -1.7463330736210967
         ],
         "z": [
          204.8075090117443,
          132.34453309508342,
          28.338282001093035,
          73.50874327826065,
          -49.850177263394286,
          -10.193520878495931,
          36.08973679186273,
          -7.743384783875927,
          -124.7073446288867,
          5.474369378368749,
          -15.13614689419733,
          27.958532108870152,
          71.46597878669905,
          6.074909094015318,
          -52.82565780918307,
          9.77446005391835,
          30.215731614386414,
          0.8166010315378891,
          30.637522787466185,
          -84.71760308264868,
          45.9161624670881,
          -217.95558141429512,
          -31.49971568553523,
          -51.559985892271776,
          -38.166720996673455,
          20.039451711442524,
          -22.99820494340505,
          -42.883107937963025,
          4.262094665715665,
          -25.833939173866842,
          -38.72609044088834,
          -72.110486250762,
          -45.20122628972096,
          35.04584681967081,
          72.4167576325664,
          40.8681677569967,
          -11.558668540243797,
          -27.965423946969686,
          27.468498476159326,
          -72.79076755610653,
          -29.886101691207358,
          28.38342551049883,
          -0.9602108832701433,
          -103.74733583322485,
          92.89063209261596,
          67.87065664679908,
          -157.00430225942725,
          -21.836597359191344,
          -19.194220231753516,
          -142.17278151375325,
          -34.11490683130736,
          -49.189253238360415,
          68.75451758772664,
          25.073291201837286,
          52.40516715920058,
          69.54268369669241,
          -53.3408929012877,
          -38.121438689470025,
          56.71248024634194,
          13.98893080548723,
          26.741050464617,
          38.30414329030569,
          -55.955660627615885,
          21.734934408436274,
          -30.63066535046578,
          53.289711705068775,
          49.87140447186763,
          87.86502530416583,
          -143.56984546868983,
          10.283522821944288,
          36.29285151997259,
          19.435824602881254,
          11.155639754850071,
          -64.43492017552957,
          -116.7357537136831,
          55.79427417822012,
          -6.963216918106575,
          22.028840301374924,
          42.0470640305012,
          44.148815847767985,
          -82.94600631178383,
          21.913147362340748,
          0.4171770394777692,
          49.90037202761707,
          1.1053334056114155,
          10.01947430209367,
          57.88005900965352,
          43.62354671963434,
          -39.43783273674237,
          101.04419691145208,
          61.47814461183484,
          -59.24729672886336,
          14.275042139977929,
          65.93727376068324,
          145.37429553634897,
          -106.18868176126064,
          74.61878305006887,
          -39.117244732243975,
          24.94187818277846,
          -89.5042122935776
         ]
        },
        {
         "type": "surface",
         "x": [
          -5,
          -3.888888888888889,
          -2.7777777777777777,
          -1.6666666666666665,
          -0.5555555555555554,
          0.5555555555555554,
          1.666666666666667,
          2.7777777777777786,
          3.8888888888888893,
          5
         ],
         "y": [
          -5,
          -3.888888888888889,
          -2.7777777777777777,
          -1.6666666666666665,
          -0.5555555555555554,
          0.5555555555555554,
          1.666666666666667,
          2.7777777777777786,
          3.8888888888888893,
          5
         ],
         "z": [
          [
           -359.159838177105,
           -314.7948374862399,
           -270.42983679537485,
           -226.06483610450977,
           -181.69983541364468,
           -137.33483472277965,
           -92.96983403191454,
           -48.60483334104946,
           -4.239832650184408,
           40.12516804068064
          ],
          [
           -323.27939899244257,
           -278.91439830157753,
           -234.54939761071245,
           -190.1843969198474,
           -145.8193962289823,
           -101.45439553811725,
           -57.08939484725217,
           -12.724394156387081,
           31.640606534477968,
           76.00560722534303
          ],
          [
           -287.3989598077802,
           -243.03395911691513,
           -198.66895842605007,
           -154.30395773518498,
           -109.93895704431992,
           -65.57395635345486,
           -21.208955662589773,
           23.156045028275308,
           67.52104571914036,
           111.8860464100054
          ],
          [
           -251.5185206231178,
           -207.15351993225272,
           -162.78851924138766,
           -118.42351855052259,
           -74.05851785965753,
           -29.693517168792468,
           14.671483522072617,
           59.0364842129377,
           103.40148490380275,
           147.7664855946678
          ],
          [
           -215.6380814384554,
           -171.27308074759034,
           -126.90808005672528,
           -82.5430793658602,
           -38.17807867499513,
           6.186922015869923,
           50.551922706735006,
           94.9169233976001,
           139.28192408846516,
           183.6469247793302
          ],
          [
           -179.75764225379302,
           -135.39264156292796,
           -91.02764087206289,
           -46.66264018119782,
           -2.2976394903327506,
           42.0673612005323,
           86.43236189139739,
           130.79736258226248,
           175.16236327312754,
           219.52736396399257
          ],
          [
           -143.87720306913062,
           -99.51220237826556,
           -55.14720168740048,
           -10.782200996535412,
           33.58279969432966,
           77.94780038519471,
           122.3128010760598,
           166.6778017669249,
           211.04280245778995,
           255.40780314865498
          ],
          [
           -107.99676388446821,
           -63.63176319360315,
           -19.266762502738075,
           25.09823818812699,
           69.46323887899206,
           113.82823956985712,
           158.1932402607222,
           202.5582409515873,
           246.92324164245235,
           291.2882423333174
          ],
          [
           -72.11632469980583,
           -27.751324008940763,
           16.613676681924304,
           60.97867737278937,
           105.34367806365444,
           149.7086787545195,
           194.07367944538458,
           238.43868013624967,
           282.8036808271147,
           327.1686815179798
          ],
          [
           -36.23588551514347,
           8.129115175721598,
           52.49411586658667,
           96.85911655745174,
           141.22411724831682,
           185.58911793918185,
           229.95411863004693,
           274.319119320912,
           318.6841200117771,
           363.04912070264214
          ]
         ]
        }
       ],
       "layout": {
        "legend": {
         "tracegroupgap": 0
        },
        "margin": {
         "t": 60
        },
        "scene": {
         "domain": {
          "x": [
           0,
           1
          ],
          "y": [
           0,
           1
          ]
         },
         "xaxis": {
          "title": {
           "text": "feature1"
          }
         },
         "yaxis": {
          "title": {
           "text": "feature2"
          }
         },
         "zaxis": {
          "title": {
           "text": "target"
          }
         }
        },
        "template": {
         "data": {
          "bar": [
           {
            "error_x": {
             "color": "#2a3f5f"
            },
            "error_y": {
             "color": "#2a3f5f"
            },
            "marker": {
             "line": {
              "color": "#E5ECF6",
              "width": 0.5
             },
             "pattern": {
              "fillmode": "overlay",
              "size": 10,
              "solidity": 0.2
             }
            },
            "type": "bar"
           }
          ],
          "barpolar": [
           {
            "marker": {
             "line": {
              "color": "#E5ECF6",
              "width": 0.5
             },
             "pattern": {
              "fillmode": "overlay",
              "size": 10,
              "solidity": 0.2
             }
            },
            "type": "barpolar"
           }
          ],
          "carpet": [
           {
            "aaxis": {
             "endlinecolor": "#2a3f5f",
             "gridcolor": "white",
             "linecolor": "white",
             "minorgridcolor": "white",
             "startlinecolor": "#2a3f5f"
            },
            "baxis": {
             "endlinecolor": "#2a3f5f",
             "gridcolor": "white",
             "linecolor": "white",
             "minorgridcolor": "white",
             "startlinecolor": "#2a3f5f"
            },
            "type": "carpet"
           }
          ],
          "choropleth": [
           {
            "colorbar": {
             "outlinewidth": 0,
             "ticks": ""
            },
            "type": "choropleth"
           }
          ],
          "contour": [
           {
            "colorbar": {
             "outlinewidth": 0,
             "ticks": ""
            },
            "colorscale": [
             [
              0,
              "#0d0887"
             ],
             [
              0.1111111111111111,
              "#46039f"
             ],
             [
              0.2222222222222222,
              "#7201a8"
             ],
             [
              0.3333333333333333,
              "#9c179e"
             ],
             [
              0.4444444444444444,
              "#bd3786"
             ],
             [
              0.5555555555555556,
              "#d8576b"
             ],
             [
              0.6666666666666666,
              "#ed7953"
             ],
             [
              0.7777777777777778,
              "#fb9f3a"
             ],
             [
              0.8888888888888888,
              "#fdca26"
             ],
             [
              1,
              "#f0f921"
             ]
            ],
            "type": "contour"
           }
          ],
          "contourcarpet": [
           {
            "colorbar": {
             "outlinewidth": 0,
             "ticks": ""
            },
            "type": "contourcarpet"
           }
          ],
          "heatmap": [
           {
            "colorbar": {
             "outlinewidth": 0,
             "ticks": ""
            },
            "colorscale": [
             [
              0,
              "#0d0887"
             ],
             [
              0.1111111111111111,
              "#46039f"
             ],
             [
              0.2222222222222222,
              "#7201a8"
             ],
             [
              0.3333333333333333,
              "#9c179e"
             ],
             [
              0.4444444444444444,
              "#bd3786"
             ],
             [
              0.5555555555555556,
              "#d8576b"
             ],
             [
              0.6666666666666666,
              "#ed7953"
             ],
             [
              0.7777777777777778,
              "#fb9f3a"
             ],
             [
              0.8888888888888888,
              "#fdca26"
             ],
             [
              1,
              "#f0f921"
             ]
            ],
            "type": "heatmap"
           }
          ],
          "heatmapgl": [
           {
            "colorbar": {
             "outlinewidth": 0,
             "ticks": ""
            },
            "colorscale": [
             [
              0,
              "#0d0887"
             ],
             [
              0.1111111111111111,
              "#46039f"
             ],
             [
              0.2222222222222222,
              "#7201a8"
             ],
             [
              0.3333333333333333,
              "#9c179e"
             ],
             [
              0.4444444444444444,
              "#bd3786"
             ],
             [
              0.5555555555555556,
              "#d8576b"
             ],
             [
              0.6666666666666666,
              "#ed7953"
             ],
             [
              0.7777777777777778,
              "#fb9f3a"
             ],
             [
              0.8888888888888888,
              "#fdca26"
             ],
             [
              1,
              "#f0f921"
             ]
            ],
            "type": "heatmapgl"
           }
          ],
          "histogram": [
           {
            "marker": {
             "pattern": {
              "fillmode": "overlay",
              "size": 10,
              "solidity": 0.2
             }
            },
            "type": "histogram"
           }
          ],
          "histogram2d": [
           {
            "colorbar": {
             "outlinewidth": 0,
             "ticks": ""
            },
            "colorscale": [
             [
              0,
              "#0d0887"
             ],
             [
              0.1111111111111111,
              "#46039f"
             ],
             [
              0.2222222222222222,
              "#7201a8"
             ],
             [
              0.3333333333333333,
              "#9c179e"
             ],
             [
              0.4444444444444444,
              "#bd3786"
             ],
             [
              0.5555555555555556,
              "#d8576b"
             ],
             [
              0.6666666666666666,
              "#ed7953"
             ],
             [
              0.7777777777777778,
              "#fb9f3a"
             ],
             [
              0.8888888888888888,
              "#fdca26"
             ],
             [
              1,
              "#f0f921"
             ]
            ],
            "type": "histogram2d"
           }
          ],
          "histogram2dcontour": [
           {
            "colorbar": {
             "outlinewidth": 0,
             "ticks": ""
            },
            "colorscale": [
             [
              0,
              "#0d0887"
             ],
             [
              0.1111111111111111,
              "#46039f"
             ],
             [
              0.2222222222222222,
              "#7201a8"
             ],
             [
              0.3333333333333333,
              "#9c179e"
             ],
             [
              0.4444444444444444,
              "#bd3786"
             ],
             [
              0.5555555555555556,
              "#d8576b"
             ],
             [
              0.6666666666666666,
              "#ed7953"
             ],
             [
              0.7777777777777778,
              "#fb9f3a"
             ],
             [
              0.8888888888888888,
              "#fdca26"
             ],
             [
              1,
              "#f0f921"
             ]
            ],
            "type": "histogram2dcontour"
           }
          ],
          "mesh3d": [
           {
            "colorbar": {
             "outlinewidth": 0,
             "ticks": ""
            },
            "type": "mesh3d"
           }
          ],
          "parcoords": [
           {
            "line": {
             "colorbar": {
              "outlinewidth": 0,
              "ticks": ""
             }
            },
            "type": "parcoords"
           }
          ],
          "pie": [
           {
            "automargin": true,
            "type": "pie"
           }
          ],
          "scatter": [
           {
            "fillpattern": {
             "fillmode": "overlay",
             "size": 10,
             "solidity": 0.2
            },
            "type": "scatter"
           }
          ],
          "scatter3d": [
           {
            "line": {
             "colorbar": {
              "outlinewidth": 0,
              "ticks": ""
             }
            },
            "marker": {
             "colorbar": {
              "outlinewidth": 0,
              "ticks": ""
             }
            },
            "type": "scatter3d"
           }
          ],
          "scattercarpet": [
           {
            "marker": {
             "colorbar": {
              "outlinewidth": 0,
              "ticks": ""
             }
            },
            "type": "scattercarpet"
           }
          ],
          "scattergeo": [
           {
            "marker": {
             "colorbar": {
              "outlinewidth": 0,
              "ticks": ""
             }
            },
            "type": "scattergeo"
           }
          ],
          "scattergl": [
           {
            "marker": {
             "colorbar": {
              "outlinewidth": 0,
              "ticks": ""
             }
            },
            "type": "scattergl"
           }
          ],
          "scattermapbox": [
           {
            "marker": {
             "colorbar": {
              "outlinewidth": 0,
              "ticks": ""
             }
            },
            "type": "scattermapbox"
           }
          ],
          "scatterpolar": [
           {
            "marker": {
             "colorbar": {
              "outlinewidth": 0,
              "ticks": ""
             }
            },
            "type": "scatterpolar"
           }
          ],
          "scatterpolargl": [
           {
            "marker": {
             "colorbar": {
              "outlinewidth": 0,
              "ticks": ""
             }
            },
            "type": "scatterpolargl"
           }
          ],
          "scatterternary": [
           {
            "marker": {
             "colorbar": {
              "outlinewidth": 0,
              "ticks": ""
             }
            },
            "type": "scatterternary"
           }
          ],
          "surface": [
           {
            "colorbar": {
             "outlinewidth": 0,
             "ticks": ""
            },
            "colorscale": [
             [
              0,
              "#0d0887"
             ],
             [
              0.1111111111111111,
              "#46039f"
             ],
             [
              0.2222222222222222,
              "#7201a8"
             ],
             [
              0.3333333333333333,
              "#9c179e"
             ],
             [
              0.4444444444444444,
              "#bd3786"
             ],
             [
              0.5555555555555556,
              "#d8576b"
             ],
             [
              0.6666666666666666,
              "#ed7953"
             ],
             [
              0.7777777777777778,
              "#fb9f3a"
             ],
             [
              0.8888888888888888,
              "#fdca26"
             ],
             [
              1,
              "#f0f921"
             ]
            ],
            "type": "surface"
           }
          ],
          "table": [
           {
            "cells": {
             "fill": {
              "color": "#EBF0F8"
             },
             "line": {
              "color": "white"
             }
            },
            "header": {
             "fill": {
              "color": "#C8D4E3"
             },
             "line": {
              "color": "white"
             }
            },
            "type": "table"
           }
          ]
         },
         "layout": {
          "annotationdefaults": {
           "arrowcolor": "#2a3f5f",
           "arrowhead": 0,
           "arrowwidth": 1
          },
          "autotypenumbers": "strict",
          "coloraxis": {
           "colorbar": {
            "outlinewidth": 0,
            "ticks": ""
           }
          },
          "colorscale": {
           "diverging": [
            [
             0,
             "#8e0152"
            ],
            [
             0.1,
             "#c51b7d"
            ],
            [
             0.2,
             "#de77ae"
            ],
            [
             0.3,
             "#f1b6da"
            ],
            [
             0.4,
             "#fde0ef"
            ],
            [
             0.5,
             "#f7f7f7"
            ],
            [
             0.6,
             "#e6f5d0"
            ],
            [
             0.7,
             "#b8e186"
            ],
            [
             0.8,
             "#7fbc41"
            ],
            [
             0.9,
             "#4d9221"
            ],
            [
             1,
             "#276419"
            ]
           ],
           "sequential": [
            [
             0,
             "#0d0887"
            ],
            [
             0.1111111111111111,
             "#46039f"
            ],
            [
             0.2222222222222222,
             "#7201a8"
            ],
            [
             0.3333333333333333,
             "#9c179e"
            ],
            [
             0.4444444444444444,
             "#bd3786"
            ],
            [
             0.5555555555555556,
             "#d8576b"
            ],
            [
             0.6666666666666666,
             "#ed7953"
            ],
            [
             0.7777777777777778,
             "#fb9f3a"
            ],
            [
             0.8888888888888888,
             "#fdca26"
            ],
            [
             1,
             "#f0f921"
            ]
           ],
           "sequentialminus": [
            [
             0,
             "#0d0887"
            ],
            [
             0.1111111111111111,
             "#46039f"
            ],
            [
             0.2222222222222222,
             "#7201a8"
            ],
            [
             0.3333333333333333,
             "#9c179e"
            ],
            [
             0.4444444444444444,
             "#bd3786"
            ],
            [
             0.5555555555555556,
             "#d8576b"
            ],
            [
             0.6666666666666666,
             "#ed7953"
            ],
            [
             0.7777777777777778,
             "#fb9f3a"
            ],
            [
             0.8888888888888888,
             "#fdca26"
            ],
            [
             1,
             "#f0f921"
            ]
           ]
          },
          "colorway": [
           "#636efa",
           "#EF553B",
           "#00cc96",
           "#ab63fa",
           "#FFA15A",
           "#19d3f3",
           "#FF6692",
           "#B6E880",
           "#FF97FF",
           "#FECB52"
          ],
          "font": {
           "color": "#2a3f5f"
          },
          "geo": {
           "bgcolor": "white",
           "lakecolor": "white",
           "landcolor": "#E5ECF6",
           "showlakes": true,
           "showland": true,
           "subunitcolor": "white"
          },
          "hoverlabel": {
           "align": "left"
          },
          "hovermode": "closest",
          "mapbox": {
           "style": "light"
          },
          "paper_bgcolor": "white",
          "plot_bgcolor": "#E5ECF6",
          "polar": {
           "angularaxis": {
            "gridcolor": "white",
            "linecolor": "white",
            "ticks": ""
           },
           "bgcolor": "#E5ECF6",
           "radialaxis": {
            "gridcolor": "white",
            "linecolor": "white",
            "ticks": ""
           }
          },
          "scene": {
           "xaxis": {
            "backgroundcolor": "#E5ECF6",
            "gridcolor": "white",
            "gridwidth": 2,
            "linecolor": "white",
            "showbackground": true,
            "ticks": "",
            "zerolinecolor": "white"
           },
           "yaxis": {
            "backgroundcolor": "#E5ECF6",
            "gridcolor": "white",
            "gridwidth": 2,
            "linecolor": "white",
            "showbackground": true,
            "ticks": "",
            "zerolinecolor": "white"
           },
           "zaxis": {
            "backgroundcolor": "#E5ECF6",
            "gridcolor": "white",
            "gridwidth": 2,
            "linecolor": "white",
            "showbackground": true,
            "ticks": "",
            "zerolinecolor": "white"
           }
          },
          "shapedefaults": {
           "line": {
            "color": "#2a3f5f"
           }
          },
          "ternary": {
           "aaxis": {
            "gridcolor": "white",
            "linecolor": "white",
            "ticks": ""
           },
           "baxis": {
            "gridcolor": "white",
            "linecolor": "white",
            "ticks": ""
           },
           "bgcolor": "#E5ECF6",
           "caxis": {
            "gridcolor": "white",
            "linecolor": "white",
            "ticks": ""
           }
          },
          "title": {
           "x": 0.05
          },
          "xaxis": {
           "automargin": true,
           "gridcolor": "white",
           "linecolor": "white",
           "ticks": "",
           "title": {
            "standoff": 15
           },
           "zerolinecolor": "white",
           "zerolinewidth": 2
          },
          "yaxis": {
           "automargin": true,
           "gridcolor": "white",
           "linecolor": "white",
           "ticks": "",
           "title": {
            "standoff": 15
           },
           "zerolinecolor": "white",
           "zerolinewidth": 2
          }
         }
        }
       }
      }
     },
     "metadata": {},
     "output_type": "display_data"
    }
   ],
   "source": [
    "fig.show()"
   ]
  },
  {
   "cell_type": "code",
   "execution_count": 116,
   "metadata": {},
   "outputs": [
    {
     "data": {
      "application/vnd.plotly.v1+json": {
       "config": {
        "plotlyServerURL": "https://plot.ly"
       },
       "data": [
        {
         "hovertemplate": "feature1=%{x}<br>feature2=%{y}<br>target=%{z}<extra></extra>",
         "legendgroup": "",
         "marker": {
          "color": "#636efa",
          "symbol": "circle"
         },
         "mode": "markers",
         "name": "",
         "scene": "scene",
         "showlegend": false,
         "type": "scatter3d",
         "x": [
          2.564751298426742,
          0.5201781419087251,
          -1.9999212946626972,
          1.742662557497569,
          -0.6691842655903,
          -0.37970087499722055,
          0.24189250928226114,
          0.5915539113653364,
          -0.8205962853552067,
          -0.3542670299901184,
          -0.35413468516439334,
          0.7255469456409779,
          -0.11199338711909586,
          -0.6943325766631248,
          -0.8502629812684084,
          0.040450705252771155,
          0.5753284598985732,
          0.4716204261561293,
          0.7974459349311407,
          -1.3375181101058673,
          -1.1137456061640232,
          -3.3271832265687507,
          0.3621173780183496,
          0.920456818810757,
          0.145893042233133,
          -0.6637975608855339,
          -0.9074201732278216,
          -0.24027942552876844,
          -0.00985954604965405,
          0.13101359483952754,
          -0.4421589643905845,
          -0.7464717149040972,
          -0.6780868145713128,
          -0.4564724608691973,
          -0.6816269093225485,
          0.24271230864270038,
          -0.40484181049437085,
          -1.4847139413209156,
          0.19541813753514461,
          0.6705645311260051,
          0.46801271264558925,
          0.43873234592082383,
          0.2945307014603731,
          -0.17441304767732416,
          -0.23312023977684035,
          2.22762840433109,
          0.08855307339742548,
          -0.47728601919291563,
          -0.15433517686353193,
          -2.810669070592664,
          0.8497462968943945,
          0.9005048940490392,
          1.8844801886175016,
          0.6224237433155415,
          -0.2574118352238699,
          0.5011582158235237,
          -0.5926283059136763,
          0.3254267875853169,
          0.3808627162598682,
          -0.48152117096346575,
          0.05331837414952119,
          0.5058516791484573,
          0.6634340107153425,
          1.5462444772456165,
          0.34577856575843374,
          0.6391106580863734,
          -0.9564083805964981,
          -0.19742383374316327,
          -1.533841701068146,
          0.5634184919320159,
          0.9326477795955949,
          1.4495306328547957,
          -0.5077863772058723,
          -0.2927892700538708,
          -0.3285169627364328,
          -0.5401135752431762,
          0.7544207469413612,
          -0.17993116561688965,
          0.2640746920269667,
          0.1923606265644829,
          -0.14286552836188696,
          1.2715582609085383,
          0.20392778911570492,
          -0.45285122753367246,
          -0.8039850083122592,
          -0.5474481885569644,
          0.18835290139700522,
          0.46216276718177945,
          -0.516892108697241,
          -0.2761618589142405,
          -0.7333112873860086,
          -1.7512311095768147,
          -0.34795813950050936,
          0.6004618062146885,
          2.349523806485327,
          -1.012831674738469,
          1.6896819163874095,
          0.6119421323343424,
          0.7266545196495695,
          -1.1040433321488305
         ],
         "y": [
          1.4218922688686624,
          0.7980502884981207,
          1.5230965574669044,
          -0.47978042261588727,
          -0.06318617009767698,
          -1.4077347099105202,
          0.4350024691207139,
          -0.5093705441306956,
          -2.4212814069153845,
          -1.4894430690555063,
          -0.025745714865367284,
          -0.5955318817197452,
          -1.5849490524859668,
          2.050283845215277,
          0.49311032030642243,
          -0.5183164407621013,
          1.8230626579340798,
          -0.07587717753014953,
          0.6645648317256454,
          -0.9568516436540229,
          0.512115263039482,
          -1.3550972170381712,
          0.7182425331743655,
          -1.6514337741888145,
          0.22395972428687125,
          -0.17484632478108253,
          -0.5792082663325437,
          0.3594330031433504,
          0.6021325854115679,
          -0.38682452470373796,
          -0.16281683923934925,
          -1.8437064384254003,
          0.6209264046342228,
          1.5819399994469177,
          1.3148878842860765,
          -0.7753368336368713,
          0.5341606028788554,
          0.06221996668054359,
          -1.2699613335429127,
          -0.9464051675742673,
          -0.449118947146436,
          -0.11404770722141194,
          0.8449322500080744,
          -0.6855349526858436,
          0.27309716089619085,
          0.5384089996133427,
          -1.5796385309468632,
          -0.4643632618231236,
          -0.22167176653922943,
          -0.8563732176006593,
          -1.3972217732437675,
          0.2845520553455576,
          -0.5133005173071064,
          -0.33754711289060174,
          1.858941488593549,
          -0.2681960089880855,
          -1.0320562035132212,
          0.32366391123370825,
          0.5668934738120013,
          0.7253191273995103,
          0.6501265888462517,
          0.6107562996135139,
          -1.3487160109733611,
          -0.05302056165001688,
          0.15612818540213125,
          0.5151340771101659,
          1.0423452035756675,
          0.6753580095729397,
          -0.9850516366030087,
          -1.4689860301297233,
          -0.23227728700163117,
          0.6948805126435392,
          -1.2991953733365011,
          -0.16069234982026803,
          -1.7098788145141584,
          1.267500952498246,
          0.46184818490937646,
          -0.24308942888531576,
          -0.5866628362748685,
          -0.03869482071564884,
          0.23654136781052867,
          -1.5585989665387485,
          -0.5797304965033309,
          1.1632588031445814,
          1.1823993270843949,
          -0.7978762838218529,
          0.38049710449104945,
          0.4636214269145272,
          -1.44526130334383,
          1.4827111202046328,
          0.34866619786809044,
          -0.038335370440452966,
          0.8105479555009176,
          0.37935829461361315,
          0.050160108599990344,
          -0.4187279514581173,
          0.167482308963813,
          0.19421378697605293,
          1.4647499413417928,
          -1.7463330736210967
         ],
         "z": [
          204.8075090117443,
          132.34453309508342,
          28.338282001093035,
          73.50874327826065,
          -49.850177263394286,
          -10.193520878495931,
          36.08973679186273,
          -7.743384783875927,
          -124.7073446288867,
          5.474369378368749,
          -15.13614689419733,
          27.958532108870152,
          71.46597878669905,
          6.074909094015318,
          -52.82565780918307,
          9.77446005391835,
          30.215731614386414,
          0.8166010315378891,
          30.637522787466185,
          -84.71760308264868,
          45.9161624670881,
          -217.95558141429512,
          -31.49971568553523,
          -51.559985892271776,
          -38.166720996673455,
          20.039451711442524,
          -22.99820494340505,
          -42.883107937963025,
          4.262094665715665,
          -25.833939173866842,
          -38.72609044088834,
          -72.110486250762,
          -45.20122628972096,
          35.04584681967081,
          72.4167576325664,
          40.8681677569967,
          -11.558668540243797,
          -27.965423946969686,
          27.468498476159326,
          -72.79076755610653,
          -29.886101691207358,
          28.38342551049883,
          -0.9602108832701433,
          -103.74733583322485,
          92.89063209261596,
          67.87065664679908,
          -157.00430225942725,
          -21.836597359191344,
          -19.194220231753516,
          -142.17278151375325,
          -34.11490683130736,
          -49.189253238360415,
          68.75451758772664,
          25.073291201837286,
          52.40516715920058,
          69.54268369669241,
          -53.3408929012877,
          -38.121438689470025,
          56.71248024634194,
          13.98893080548723,
          26.741050464617,
          38.30414329030569,
          -55.955660627615885,
          21.734934408436274,
          -30.63066535046578,
          53.289711705068775,
          49.87140447186763,
          87.86502530416583,
          -143.56984546868983,
          10.283522821944288,
          36.29285151997259,
          19.435824602881254,
          11.155639754850071,
          -64.43492017552957,
          -116.7357537136831,
          55.79427417822012,
          -6.963216918106575,
          22.028840301374924,
          42.0470640305012,
          44.148815847767985,
          -82.94600631178383,
          21.913147362340748,
          0.4171770394777692,
          49.90037202761707,
          1.1053334056114155,
          10.01947430209367,
          57.88005900965352,
          43.62354671963434,
          -39.43783273674237,
          101.04419691145208,
          61.47814461183484,
          -59.24729672886336,
          14.275042139977929,
          65.93727376068324,
          145.37429553634897,
          -106.18868176126064,
          74.61878305006887,
          -39.117244732243975,
          24.94187818277846,
          -89.5042122935776
         ]
        },
        {
         "type": "surface",
         "x": [
          -5,
          -3.888888888888889,
          -2.7777777777777777,
          -1.6666666666666665,
          -0.5555555555555554,
          0.5555555555555554,
          1.666666666666667,
          2.7777777777777786,
          3.8888888888888893,
          5
         ],
         "y": [
          -5,
          -3.888888888888889,
          -2.7777777777777777,
          -1.6666666666666665,
          -0.5555555555555554,
          0.5555555555555554,
          1.666666666666667,
          2.7777777777777786,
          3.8888888888888893,
          5
         ],
         "z": [
          [
           -359.159838177105,
           -314.7948374862399,
           -270.42983679537485,
           -226.06483610450977,
           -181.69983541364468,
           -137.33483472277965,
           -92.96983403191454,
           -48.60483334104946,
           -4.239832650184408,
           40.12516804068064
          ],
          [
           -323.27939899244257,
           -278.91439830157753,
           -234.54939761071245,
           -190.1843969198474,
           -145.8193962289823,
           -101.45439553811725,
           -57.08939484725217,
           -12.724394156387081,
           31.640606534477968,
           76.00560722534303
          ],
          [
           -287.3989598077802,
           -243.03395911691513,
           -198.66895842605007,
           -154.30395773518498,
           -109.93895704431992,
           -65.57395635345486,
           -21.208955662589773,
           23.156045028275308,
           67.52104571914036,
           111.8860464100054
          ],
          [
           -251.5185206231178,
           -207.15351993225272,
           -162.78851924138766,
           -118.42351855052259,
           -74.05851785965753,
           -29.693517168792468,
           14.671483522072617,
           59.0364842129377,
           103.40148490380275,
           147.7664855946678
          ],
          [
           -215.6380814384554,
           -171.27308074759034,
           -126.90808005672528,
           -82.5430793658602,
           -38.17807867499513,
           6.186922015869923,
           50.551922706735006,
           94.9169233976001,
           139.28192408846516,
           183.6469247793302
          ],
          [
           -179.75764225379302,
           -135.39264156292796,
           -91.02764087206289,
           -46.66264018119782,
           -2.2976394903327506,
           42.0673612005323,
           86.43236189139739,
           130.79736258226248,
           175.16236327312754,
           219.52736396399257
          ],
          [
           -143.87720306913062,
           -99.51220237826556,
           -55.14720168740048,
           -10.782200996535412,
           33.58279969432966,
           77.94780038519471,
           122.3128010760598,
           166.6778017669249,
           211.04280245778995,
           255.40780314865498
          ],
          [
           -107.99676388446821,
           -63.63176319360315,
           -19.266762502738075,
           25.09823818812699,
           69.46323887899206,
           113.82823956985712,
           158.1932402607222,
           202.5582409515873,
           246.92324164245235,
           291.2882423333174
          ],
          [
           -72.11632469980583,
           -27.751324008940763,
           16.613676681924304,
           60.97867737278937,
           105.34367806365444,
           149.7086787545195,
           194.07367944538458,
           238.43868013624967,
           282.8036808271147,
           327.1686815179798
          ],
          [
           -36.23588551514347,
           8.129115175721598,
           52.49411586658667,
           96.85911655745174,
           141.22411724831682,
           185.58911793918185,
           229.95411863004693,
           274.319119320912,
           318.6841200117771,
           363.04912070264214
          ]
         ]
        }
       ],
       "layout": {
        "legend": {
         "tracegroupgap": 0
        },
        "margin": {
         "t": 60
        },
        "scene": {
         "domain": {
          "x": [
           0,
           1
          ],
          "y": [
           0,
           1
          ]
         },
         "xaxis": {
          "title": {
           "text": "feature1"
          }
         },
         "yaxis": {
          "title": {
           "text": "feature2"
          }
         },
         "zaxis": {
          "title": {
           "text": "target"
          }
         }
        },
        "template": {
         "data": {
          "bar": [
           {
            "error_x": {
             "color": "#2a3f5f"
            },
            "error_y": {
             "color": "#2a3f5f"
            },
            "marker": {
             "line": {
              "color": "#E5ECF6",
              "width": 0.5
             },
             "pattern": {
              "fillmode": "overlay",
              "size": 10,
              "solidity": 0.2
             }
            },
            "type": "bar"
           }
          ],
          "barpolar": [
           {
            "marker": {
             "line": {
              "color": "#E5ECF6",
              "width": 0.5
             },
             "pattern": {
              "fillmode": "overlay",
              "size": 10,
              "solidity": 0.2
             }
            },
            "type": "barpolar"
           }
          ],
          "carpet": [
           {
            "aaxis": {
             "endlinecolor": "#2a3f5f",
             "gridcolor": "white",
             "linecolor": "white",
             "minorgridcolor": "white",
             "startlinecolor": "#2a3f5f"
            },
            "baxis": {
             "endlinecolor": "#2a3f5f",
             "gridcolor": "white",
             "linecolor": "white",
             "minorgridcolor": "white",
             "startlinecolor": "#2a3f5f"
            },
            "type": "carpet"
           }
          ],
          "choropleth": [
           {
            "colorbar": {
             "outlinewidth": 0,
             "ticks": ""
            },
            "type": "choropleth"
           }
          ],
          "contour": [
           {
            "colorbar": {
             "outlinewidth": 0,
             "ticks": ""
            },
            "colorscale": [
             [
              0,
              "#0d0887"
             ],
             [
              0.1111111111111111,
              "#46039f"
             ],
             [
              0.2222222222222222,
              "#7201a8"
             ],
             [
              0.3333333333333333,
              "#9c179e"
             ],
             [
              0.4444444444444444,
              "#bd3786"
             ],
             [
              0.5555555555555556,
              "#d8576b"
             ],
             [
              0.6666666666666666,
              "#ed7953"
             ],
             [
              0.7777777777777778,
              "#fb9f3a"
             ],
             [
              0.8888888888888888,
              "#fdca26"
             ],
             [
              1,
              "#f0f921"
             ]
            ],
            "type": "contour"
           }
          ],
          "contourcarpet": [
           {
            "colorbar": {
             "outlinewidth": 0,
             "ticks": ""
            },
            "type": "contourcarpet"
           }
          ],
          "heatmap": [
           {
            "colorbar": {
             "outlinewidth": 0,
             "ticks": ""
            },
            "colorscale": [
             [
              0,
              "#0d0887"
             ],
             [
              0.1111111111111111,
              "#46039f"
             ],
             [
              0.2222222222222222,
              "#7201a8"
             ],
             [
              0.3333333333333333,
              "#9c179e"
             ],
             [
              0.4444444444444444,
              "#bd3786"
             ],
             [
              0.5555555555555556,
              "#d8576b"
             ],
             [
              0.6666666666666666,
              "#ed7953"
             ],
             [
              0.7777777777777778,
              "#fb9f3a"
             ],
             [
              0.8888888888888888,
              "#fdca26"
             ],
             [
              1,
              "#f0f921"
             ]
            ],
            "type": "heatmap"
           }
          ],
          "heatmapgl": [
           {
            "colorbar": {
             "outlinewidth": 0,
             "ticks": ""
            },
            "colorscale": [
             [
              0,
              "#0d0887"
             ],
             [
              0.1111111111111111,
              "#46039f"
             ],
             [
              0.2222222222222222,
              "#7201a8"
             ],
             [
              0.3333333333333333,
              "#9c179e"
             ],
             [
              0.4444444444444444,
              "#bd3786"
             ],
             [
              0.5555555555555556,
              "#d8576b"
             ],
             [
              0.6666666666666666,
              "#ed7953"
             ],
             [
              0.7777777777777778,
              "#fb9f3a"
             ],
             [
              0.8888888888888888,
              "#fdca26"
             ],
             [
              1,
              "#f0f921"
             ]
            ],
            "type": "heatmapgl"
           }
          ],
          "histogram": [
           {
            "marker": {
             "pattern": {
              "fillmode": "overlay",
              "size": 10,
              "solidity": 0.2
             }
            },
            "type": "histogram"
           }
          ],
          "histogram2d": [
           {
            "colorbar": {
             "outlinewidth": 0,
             "ticks": ""
            },
            "colorscale": [
             [
              0,
              "#0d0887"
             ],
             [
              0.1111111111111111,
              "#46039f"
             ],
             [
              0.2222222222222222,
              "#7201a8"
             ],
             [
              0.3333333333333333,
              "#9c179e"
             ],
             [
              0.4444444444444444,
              "#bd3786"
             ],
             [
              0.5555555555555556,
              "#d8576b"
             ],
             [
              0.6666666666666666,
              "#ed7953"
             ],
             [
              0.7777777777777778,
              "#fb9f3a"
             ],
             [
              0.8888888888888888,
              "#fdca26"
             ],
             [
              1,
              "#f0f921"
             ]
            ],
            "type": "histogram2d"
           }
          ],
          "histogram2dcontour": [
           {
            "colorbar": {
             "outlinewidth": 0,
             "ticks": ""
            },
            "colorscale": [
             [
              0,
              "#0d0887"
             ],
             [
              0.1111111111111111,
              "#46039f"
             ],
             [
              0.2222222222222222,
              "#7201a8"
             ],
             [
              0.3333333333333333,
              "#9c179e"
             ],
             [
              0.4444444444444444,
              "#bd3786"
             ],
             [
              0.5555555555555556,
              "#d8576b"
             ],
             [
              0.6666666666666666,
              "#ed7953"
             ],
             [
              0.7777777777777778,
              "#fb9f3a"
             ],
             [
              0.8888888888888888,
              "#fdca26"
             ],
             [
              1,
              "#f0f921"
             ]
            ],
            "type": "histogram2dcontour"
           }
          ],
          "mesh3d": [
           {
            "colorbar": {
             "outlinewidth": 0,
             "ticks": ""
            },
            "type": "mesh3d"
           }
          ],
          "parcoords": [
           {
            "line": {
             "colorbar": {
              "outlinewidth": 0,
              "ticks": ""
             }
            },
            "type": "parcoords"
           }
          ],
          "pie": [
           {
            "automargin": true,
            "type": "pie"
           }
          ],
          "scatter": [
           {
            "fillpattern": {
             "fillmode": "overlay",
             "size": 10,
             "solidity": 0.2
            },
            "type": "scatter"
           }
          ],
          "scatter3d": [
           {
            "line": {
             "colorbar": {
              "outlinewidth": 0,
              "ticks": ""
             }
            },
            "marker": {
             "colorbar": {
              "outlinewidth": 0,
              "ticks": ""
             }
            },
            "type": "scatter3d"
           }
          ],
          "scattercarpet": [
           {
            "marker": {
             "colorbar": {
              "outlinewidth": 0,
              "ticks": ""
             }
            },
            "type": "scattercarpet"
           }
          ],
          "scattergeo": [
           {
            "marker": {
             "colorbar": {
              "outlinewidth": 0,
              "ticks": ""
             }
            },
            "type": "scattergeo"
           }
          ],
          "scattergl": [
           {
            "marker": {
             "colorbar": {
              "outlinewidth": 0,
              "ticks": ""
             }
            },
            "type": "scattergl"
           }
          ],
          "scattermapbox": [
           {
            "marker": {
             "colorbar": {
              "outlinewidth": 0,
              "ticks": ""
             }
            },
            "type": "scattermapbox"
           }
          ],
          "scatterpolar": [
           {
            "marker": {
             "colorbar": {
              "outlinewidth": 0,
              "ticks": ""
             }
            },
            "type": "scatterpolar"
           }
          ],
          "scatterpolargl": [
           {
            "marker": {
             "colorbar": {
              "outlinewidth": 0,
              "ticks": ""
             }
            },
            "type": "scatterpolargl"
           }
          ],
          "scatterternary": [
           {
            "marker": {
             "colorbar": {
              "outlinewidth": 0,
              "ticks": ""
             }
            },
            "type": "scatterternary"
           }
          ],
          "surface": [
           {
            "colorbar": {
             "outlinewidth": 0,
             "ticks": ""
            },
            "colorscale": [
             [
              0,
              "#0d0887"
             ],
             [
              0.1111111111111111,
              "#46039f"
             ],
             [
              0.2222222222222222,
              "#7201a8"
             ],
             [
              0.3333333333333333,
              "#9c179e"
             ],
             [
              0.4444444444444444,
              "#bd3786"
             ],
             [
              0.5555555555555556,
              "#d8576b"
             ],
             [
              0.6666666666666666,
              "#ed7953"
             ],
             [
              0.7777777777777778,
              "#fb9f3a"
             ],
             [
              0.8888888888888888,
              "#fdca26"
             ],
             [
              1,
              "#f0f921"
             ]
            ],
            "type": "surface"
           }
          ],
          "table": [
           {
            "cells": {
             "fill": {
              "color": "#EBF0F8"
             },
             "line": {
              "color": "white"
             }
            },
            "header": {
             "fill": {
              "color": "#C8D4E3"
             },
             "line": {
              "color": "white"
             }
            },
            "type": "table"
           }
          ]
         },
         "layout": {
          "annotationdefaults": {
           "arrowcolor": "#2a3f5f",
           "arrowhead": 0,
           "arrowwidth": 1
          },
          "autotypenumbers": "strict",
          "coloraxis": {
           "colorbar": {
            "outlinewidth": 0,
            "ticks": ""
           }
          },
          "colorscale": {
           "diverging": [
            [
             0,
             "#8e0152"
            ],
            [
             0.1,
             "#c51b7d"
            ],
            [
             0.2,
             "#de77ae"
            ],
            [
             0.3,
             "#f1b6da"
            ],
            [
             0.4,
             "#fde0ef"
            ],
            [
             0.5,
             "#f7f7f7"
            ],
            [
             0.6,
             "#e6f5d0"
            ],
            [
             0.7,
             "#b8e186"
            ],
            [
             0.8,
             "#7fbc41"
            ],
            [
             0.9,
             "#4d9221"
            ],
            [
             1,
             "#276419"
            ]
           ],
           "sequential": [
            [
             0,
             "#0d0887"
            ],
            [
             0.1111111111111111,
             "#46039f"
            ],
            [
             0.2222222222222222,
             "#7201a8"
            ],
            [
             0.3333333333333333,
             "#9c179e"
            ],
            [
             0.4444444444444444,
             "#bd3786"
            ],
            [
             0.5555555555555556,
             "#d8576b"
            ],
            [
             0.6666666666666666,
             "#ed7953"
            ],
            [
             0.7777777777777778,
             "#fb9f3a"
            ],
            [
             0.8888888888888888,
             "#fdca26"
            ],
            [
             1,
             "#f0f921"
            ]
           ],
           "sequentialminus": [
            [
             0,
             "#0d0887"
            ],
            [
             0.1111111111111111,
             "#46039f"
            ],
            [
             0.2222222222222222,
             "#7201a8"
            ],
            [
             0.3333333333333333,
             "#9c179e"
            ],
            [
             0.4444444444444444,
             "#bd3786"
            ],
            [
             0.5555555555555556,
             "#d8576b"
            ],
            [
             0.6666666666666666,
             "#ed7953"
            ],
            [
             0.7777777777777778,
             "#fb9f3a"
            ],
            [
             0.8888888888888888,
             "#fdca26"
            ],
            [
             1,
             "#f0f921"
            ]
           ]
          },
          "colorway": [
           "#636efa",
           "#EF553B",
           "#00cc96",
           "#ab63fa",
           "#FFA15A",
           "#19d3f3",
           "#FF6692",
           "#B6E880",
           "#FF97FF",
           "#FECB52"
          ],
          "font": {
           "color": "#2a3f5f"
          },
          "geo": {
           "bgcolor": "white",
           "lakecolor": "white",
           "landcolor": "#E5ECF6",
           "showlakes": true,
           "showland": true,
           "subunitcolor": "white"
          },
          "hoverlabel": {
           "align": "left"
          },
          "hovermode": "closest",
          "mapbox": {
           "style": "light"
          },
          "paper_bgcolor": "white",
          "plot_bgcolor": "#E5ECF6",
          "polar": {
           "angularaxis": {
            "gridcolor": "white",
            "linecolor": "white",
            "ticks": ""
           },
           "bgcolor": "#E5ECF6",
           "radialaxis": {
            "gridcolor": "white",
            "linecolor": "white",
            "ticks": ""
           }
          },
          "scene": {
           "xaxis": {
            "backgroundcolor": "#E5ECF6",
            "gridcolor": "white",
            "gridwidth": 2,
            "linecolor": "white",
            "showbackground": true,
            "ticks": "",
            "zerolinecolor": "white"
           },
           "yaxis": {
            "backgroundcolor": "#E5ECF6",
            "gridcolor": "white",
            "gridwidth": 2,
            "linecolor": "white",
            "showbackground": true,
            "ticks": "",
            "zerolinecolor": "white"
           },
           "zaxis": {
            "backgroundcolor": "#E5ECF6",
            "gridcolor": "white",
            "gridwidth": 2,
            "linecolor": "white",
            "showbackground": true,
            "ticks": "",
            "zerolinecolor": "white"
           }
          },
          "shapedefaults": {
           "line": {
            "color": "#2a3f5f"
           }
          },
          "ternary": {
           "aaxis": {
            "gridcolor": "white",
            "linecolor": "white",
            "ticks": ""
           },
           "baxis": {
            "gridcolor": "white",
            "linecolor": "white",
            "ticks": ""
           },
           "bgcolor": "#E5ECF6",
           "caxis": {
            "gridcolor": "white",
            "linecolor": "white",
            "ticks": ""
           }
          },
          "title": {
           "x": 0.05
          },
          "xaxis": {
           "automargin": true,
           "gridcolor": "white",
           "linecolor": "white",
           "ticks": "",
           "title": {
            "standoff": 15
           },
           "zerolinecolor": "white",
           "zerolinewidth": 2
          },
          "yaxis": {
           "automargin": true,
           "gridcolor": "white",
           "linecolor": "white",
           "ticks": "",
           "title": {
            "standoff": 15
           },
           "zerolinecolor": "white",
           "zerolinewidth": 2
          }
         }
        }
       }
      }
     },
     "metadata": {},
     "output_type": "display_data"
    }
   ],
   "source": [
    "\n",
    "fig = px.scatter_3d(df, x='feature1', y='feature2', z='target')\n",
    "\n",
    "fig.add_trace(go.Surface(x = x, y = y, z =z ))\n",
    "\n",
    "fig.show()"
   ]
  },
  {
   "cell_type": "code",
   "execution_count": 121,
   "metadata": {},
   "outputs": [],
   "source": [
    "x = np.linspace(df['feature1'].min(), df['feature1'].max(), 10)\n",
    "y = np.linspace(df['feature2'].min(), df['feature2'].max(), 10)"
   ]
  },
  {
   "cell_type": "code",
   "execution_count": 122,
   "metadata": {},
   "outputs": [],
   "source": [
    "xGrid, yGrid = np.meshgrid(x, y)"
   ]
  },
  {
   "cell_type": "code",
   "execution_count": 123,
   "metadata": {},
   "outputs": [],
   "source": [
    "final = np.c_[xGrid.ravel(), yGrid.ravel()]\n",
    "z_final = model.predict(final).reshape(xGrid.shape)"
   ]
  },
  {
   "cell_type": "code",
   "execution_count": 133,
   "metadata": {},
   "outputs": [],
   "source": [
    "fig = px.scatter_3d(df, x='feature1', y='feature2', z='target', width=1000, height=1000)"
   ]
  },
  {
   "cell_type": "code",
   "execution_count": 134,
   "metadata": {},
   "outputs": [
    {
     "data": {
      "application/vnd.plotly.v1+json": {
       "config": {
        "plotlyServerURL": "https://plot.ly"
       },
       "data": [
        {
         "hovertemplate": "feature1=%{x}<br>feature2=%{y}<br>target=%{z}<extra></extra>",
         "legendgroup": "",
         "marker": {
          "color": "#636efa",
          "symbol": "circle"
         },
         "mode": "markers",
         "name": "",
         "scene": "scene",
         "showlegend": false,
         "type": "scatter3d",
         "x": [
          2.564751298426742,
          0.5201781419087251,
          -1.9999212946626972,
          1.742662557497569,
          -0.6691842655903,
          -0.37970087499722055,
          0.24189250928226114,
          0.5915539113653364,
          -0.8205962853552067,
          -0.3542670299901184,
          -0.35413468516439334,
          0.7255469456409779,
          -0.11199338711909586,
          -0.6943325766631248,
          -0.8502629812684084,
          0.040450705252771155,
          0.5753284598985732,
          0.4716204261561293,
          0.7974459349311407,
          -1.3375181101058673,
          -1.1137456061640232,
          -3.3271832265687507,
          0.3621173780183496,
          0.920456818810757,
          0.145893042233133,
          -0.6637975608855339,
          -0.9074201732278216,
          -0.24027942552876844,
          -0.00985954604965405,
          0.13101359483952754,
          -0.4421589643905845,
          -0.7464717149040972,
          -0.6780868145713128,
          -0.4564724608691973,
          -0.6816269093225485,
          0.24271230864270038,
          -0.40484181049437085,
          -1.4847139413209156,
          0.19541813753514461,
          0.6705645311260051,
          0.46801271264558925,
          0.43873234592082383,
          0.2945307014603731,
          -0.17441304767732416,
          -0.23312023977684035,
          2.22762840433109,
          0.08855307339742548,
          -0.47728601919291563,
          -0.15433517686353193,
          -2.810669070592664,
          0.8497462968943945,
          0.9005048940490392,
          1.8844801886175016,
          0.6224237433155415,
          -0.2574118352238699,
          0.5011582158235237,
          -0.5926283059136763,
          0.3254267875853169,
          0.3808627162598682,
          -0.48152117096346575,
          0.05331837414952119,
          0.5058516791484573,
          0.6634340107153425,
          1.5462444772456165,
          0.34577856575843374,
          0.6391106580863734,
          -0.9564083805964981,
          -0.19742383374316327,
          -1.533841701068146,
          0.5634184919320159,
          0.9326477795955949,
          1.4495306328547957,
          -0.5077863772058723,
          -0.2927892700538708,
          -0.3285169627364328,
          -0.5401135752431762,
          0.7544207469413612,
          -0.17993116561688965,
          0.2640746920269667,
          0.1923606265644829,
          -0.14286552836188696,
          1.2715582609085383,
          0.20392778911570492,
          -0.45285122753367246,
          -0.8039850083122592,
          -0.5474481885569644,
          0.18835290139700522,
          0.46216276718177945,
          -0.516892108697241,
          -0.2761618589142405,
          -0.7333112873860086,
          -1.7512311095768147,
          -0.34795813950050936,
          0.6004618062146885,
          2.349523806485327,
          -1.012831674738469,
          1.6896819163874095,
          0.6119421323343424,
          0.7266545196495695,
          -1.1040433321488305
         ],
         "y": [
          1.4218922688686624,
          0.7980502884981207,
          1.5230965574669044,
          -0.47978042261588727,
          -0.06318617009767698,
          -1.4077347099105202,
          0.4350024691207139,
          -0.5093705441306956,
          -2.4212814069153845,
          -1.4894430690555063,
          -0.025745714865367284,
          -0.5955318817197452,
          -1.5849490524859668,
          2.050283845215277,
          0.49311032030642243,
          -0.5183164407621013,
          1.8230626579340798,
          -0.07587717753014953,
          0.6645648317256454,
          -0.9568516436540229,
          0.512115263039482,
          -1.3550972170381712,
          0.7182425331743655,
          -1.6514337741888145,
          0.22395972428687125,
          -0.17484632478108253,
          -0.5792082663325437,
          0.3594330031433504,
          0.6021325854115679,
          -0.38682452470373796,
          -0.16281683923934925,
          -1.8437064384254003,
          0.6209264046342228,
          1.5819399994469177,
          1.3148878842860765,
          -0.7753368336368713,
          0.5341606028788554,
          0.06221996668054359,
          -1.2699613335429127,
          -0.9464051675742673,
          -0.449118947146436,
          -0.11404770722141194,
          0.8449322500080744,
          -0.6855349526858436,
          0.27309716089619085,
          0.5384089996133427,
          -1.5796385309468632,
          -0.4643632618231236,
          -0.22167176653922943,
          -0.8563732176006593,
          -1.3972217732437675,
          0.2845520553455576,
          -0.5133005173071064,
          -0.33754711289060174,
          1.858941488593549,
          -0.2681960089880855,
          -1.0320562035132212,
          0.32366391123370825,
          0.5668934738120013,
          0.7253191273995103,
          0.6501265888462517,
          0.6107562996135139,
          -1.3487160109733611,
          -0.05302056165001688,
          0.15612818540213125,
          0.5151340771101659,
          1.0423452035756675,
          0.6753580095729397,
          -0.9850516366030087,
          -1.4689860301297233,
          -0.23227728700163117,
          0.6948805126435392,
          -1.2991953733365011,
          -0.16069234982026803,
          -1.7098788145141584,
          1.267500952498246,
          0.46184818490937646,
          -0.24308942888531576,
          -0.5866628362748685,
          -0.03869482071564884,
          0.23654136781052867,
          -1.5585989665387485,
          -0.5797304965033309,
          1.1632588031445814,
          1.1823993270843949,
          -0.7978762838218529,
          0.38049710449104945,
          0.4636214269145272,
          -1.44526130334383,
          1.4827111202046328,
          0.34866619786809044,
          -0.038335370440452966,
          0.8105479555009176,
          0.37935829461361315,
          0.050160108599990344,
          -0.4187279514581173,
          0.167482308963813,
          0.19421378697605293,
          1.4647499413417928,
          -1.7463330736210967
         ],
         "z": [
          204.8075090117443,
          132.34453309508342,
          28.338282001093035,
          73.50874327826065,
          -49.850177263394286,
          -10.193520878495931,
          36.08973679186273,
          -7.743384783875927,
          -124.7073446288867,
          5.474369378368749,
          -15.13614689419733,
          27.958532108870152,
          71.46597878669905,
          6.074909094015318,
          -52.82565780918307,
          9.77446005391835,
          30.215731614386414,
          0.8166010315378891,
          30.637522787466185,
          -84.71760308264868,
          45.9161624670881,
          -217.95558141429512,
          -31.49971568553523,
          -51.559985892271776,
          -38.166720996673455,
          20.039451711442524,
          -22.99820494340505,
          -42.883107937963025,
          4.262094665715665,
          -25.833939173866842,
          -38.72609044088834,
          -72.110486250762,
          -45.20122628972096,
          35.04584681967081,
          72.4167576325664,
          40.8681677569967,
          -11.558668540243797,
          -27.965423946969686,
          27.468498476159326,
          -72.79076755610653,
          -29.886101691207358,
          28.38342551049883,
          -0.9602108832701433,
          -103.74733583322485,
          92.89063209261596,
          67.87065664679908,
          -157.00430225942725,
          -21.836597359191344,
          -19.194220231753516,
          -142.17278151375325,
          -34.11490683130736,
          -49.189253238360415,
          68.75451758772664,
          25.073291201837286,
          52.40516715920058,
          69.54268369669241,
          -53.3408929012877,
          -38.121438689470025,
          56.71248024634194,
          13.98893080548723,
          26.741050464617,
          38.30414329030569,
          -55.955660627615885,
          21.734934408436274,
          -30.63066535046578,
          53.289711705068775,
          49.87140447186763,
          87.86502530416583,
          -143.56984546868983,
          10.283522821944288,
          36.29285151997259,
          19.435824602881254,
          11.155639754850071,
          -64.43492017552957,
          -116.7357537136831,
          55.79427417822012,
          -6.963216918106575,
          22.028840301374924,
          42.0470640305012,
          44.148815847767985,
          -82.94600631178383,
          21.913147362340748,
          0.4171770394777692,
          49.90037202761707,
          1.1053334056114155,
          10.01947430209367,
          57.88005900965352,
          43.62354671963434,
          -39.43783273674237,
          101.04419691145208,
          61.47814461183484,
          -59.24729672886336,
          14.275042139977929,
          65.93727376068324,
          145.37429553634897,
          -106.18868176126064,
          74.61878305006887,
          -39.117244732243975,
          24.94187818277846,
          -89.5042122935776
         ]
        },
        {
         "opacity": 0.6,
         "type": "surface",
         "x": [
          [
           -3.3271832265687507,
           -2.672523834902585,
           -2.0178644432364186,
           -1.3632050515702527,
           -0.7085456599040869,
           -0.05388626823792109,
           0.6007731234282452,
           1.255432515094411,
           1.9100919067605768,
           2.564751298426742
          ],
          [
           -3.3271832265687507,
           -2.672523834902585,
           -2.0178644432364186,
           -1.3632050515702527,
           -0.7085456599040869,
           -0.05388626823792109,
           0.6007731234282452,
           1.255432515094411,
           1.9100919067605768,
           2.564751298426742
          ],
          [
           -3.3271832265687507,
           -2.672523834902585,
           -2.0178644432364186,
           -1.3632050515702527,
           -0.7085456599040869,
           -0.05388626823792109,
           0.6007731234282452,
           1.255432515094411,
           1.9100919067605768,
           2.564751298426742
          ],
          [
           -3.3271832265687507,
           -2.672523834902585,
           -2.0178644432364186,
           -1.3632050515702527,
           -0.7085456599040869,
           -0.05388626823792109,
           0.6007731234282452,
           1.255432515094411,
           1.9100919067605768,
           2.564751298426742
          ],
          [
           -3.3271832265687507,
           -2.672523834902585,
           -2.0178644432364186,
           -1.3632050515702527,
           -0.7085456599040869,
           -0.05388626823792109,
           0.6007731234282452,
           1.255432515094411,
           1.9100919067605768,
           2.564751298426742
          ],
          [
           -3.3271832265687507,
           -2.672523834902585,
           -2.0178644432364186,
           -1.3632050515702527,
           -0.7085456599040869,
           -0.05388626823792109,
           0.6007731234282452,
           1.255432515094411,
           1.9100919067605768,
           2.564751298426742
          ],
          [
           -3.3271832265687507,
           -2.672523834902585,
           -2.0178644432364186,
           -1.3632050515702527,
           -0.7085456599040869,
           -0.05388626823792109,
           0.6007731234282452,
           1.255432515094411,
           1.9100919067605768,
           2.564751298426742
          ],
          [
           -3.3271832265687507,
           -2.672523834902585,
           -2.0178644432364186,
           -1.3632050515702527,
           -0.7085456599040869,
           -0.05388626823792109,
           0.6007731234282452,
           1.255432515094411,
           1.9100919067605768,
           2.564751298426742
          ],
          [
           -3.3271832265687507,
           -2.672523834902585,
           -2.0178644432364186,
           -1.3632050515702527,
           -0.7085456599040869,
           -0.05388626823792109,
           0.6007731234282452,
           1.255432515094411,
           1.9100919067605768,
           2.564751298426742
          ],
          [
           -3.3271832265687507,
           -2.672523834902585,
           -2.0178644432364186,
           -1.3632050515702527,
           -0.7085456599040869,
           -0.05388626823792109,
           0.6007731234282452,
           1.255432515094411,
           1.9100919067605768,
           2.564751298426742
          ]
         ],
         "y": [
          [
           -2.4212814069153845,
           -2.4212814069153845,
           -2.4212814069153845,
           -2.4212814069153845,
           -2.4212814069153845,
           -2.4212814069153845,
           -2.4212814069153845,
           -2.4212814069153845,
           -2.4212814069153845,
           -2.4212814069153845
          ],
          [
           -1.924440823345311,
           -1.924440823345311,
           -1.924440823345311,
           -1.924440823345311,
           -1.924440823345311,
           -1.924440823345311,
           -1.924440823345311,
           -1.924440823345311,
           -1.924440823345311,
           -1.924440823345311
          ],
          [
           -1.4276002397752374,
           -1.4276002397752374,
           -1.4276002397752374,
           -1.4276002397752374,
           -1.4276002397752374,
           -1.4276002397752374,
           -1.4276002397752374,
           -1.4276002397752374,
           -1.4276002397752374,
           -1.4276002397752374
          ],
          [
           -0.9307596562051641,
           -0.9307596562051641,
           -0.9307596562051641,
           -0.9307596562051641,
           -0.9307596562051641,
           -0.9307596562051641,
           -0.9307596562051641,
           -0.9307596562051641,
           -0.9307596562051641,
           -0.9307596562051641
          ],
          [
           -0.43391907263509055,
           -0.43391907263509055,
           -0.43391907263509055,
           -0.43391907263509055,
           -0.43391907263509055,
           -0.43391907263509055,
           -0.43391907263509055,
           -0.43391907263509055,
           -0.43391907263509055,
           -0.43391907263509055
          ],
          [
           0.062921510934983,
           0.062921510934983,
           0.062921510934983,
           0.062921510934983,
           0.062921510934983,
           0.062921510934983,
           0.062921510934983,
           0.062921510934983,
           0.062921510934983,
           0.062921510934983
          ],
          [
           0.5597620945050563,
           0.5597620945050563,
           0.5597620945050563,
           0.5597620945050563,
           0.5597620945050563,
           0.5597620945050563,
           0.5597620945050563,
           0.5597620945050563,
           0.5597620945050563,
           0.5597620945050563
          ],
          [
           1.05660267807513,
           1.05660267807513,
           1.05660267807513,
           1.05660267807513,
           1.05660267807513,
           1.05660267807513,
           1.05660267807513,
           1.05660267807513,
           1.05660267807513,
           1.05660267807513
          ],
          [
           1.5534432616452034,
           1.5534432616452034,
           1.5534432616452034,
           1.5534432616452034,
           1.5534432616452034,
           1.5534432616452034,
           1.5534432616452034,
           1.5534432616452034,
           1.5534432616452034,
           1.5534432616452034
          ],
          [
           2.050283845215277,
           2.050283845215277,
           2.050283845215277,
           2.050283845215277,
           2.050283845215277,
           2.050283845215277,
           2.050283845215277,
           2.050283845215277,
           2.050283845215277,
           2.050283845215277
          ]
         ],
         "z": [
          [
           -209.0937725108561,
           -182.9542045836604,
           -156.81463665646473,
           -130.67506872926904,
           -104.53550080207337,
           -78.3959328748777,
           -52.256364947682,
           -26.116797020486324,
           0.02277090670935311,
           26.16233883390501
          ],
          [
           -193.04960000192372,
           -166.91003207472804,
           -140.77046414753235,
           -114.63089622033667,
           -88.491328293141,
           -62.351760365945324,
           -36.212192438749625,
           -10.072624511553947,
           16.06694341564173,
           42.20651134283739
          ],
          [
           -177.00542749299134,
           -150.86585956579566,
           -124.72629163859997,
           -98.58672371140429,
           -72.44715578420862,
           -46.30758785701294,
           -20.16801992981725,
           5.97154799737843,
           32.11111592457411,
           58.250683851769764
          ],
          [
           -160.96125498405897,
           -134.82168705686328,
           -108.6821191296676,
           -82.54255120247193,
           -56.40298327527625,
           -30.26341534808057,
           -4.123847420884877,
           22.0157205063108,
           48.15528843350648,
           74.29485636070213
          ],
          [
           -144.9170824751266,
           -118.77751454793092,
           -92.63794662073522,
           -66.49837869353955,
           -40.35881076634387,
           -14.219242839148192,
           11.9203250880475,
           38.059893015243176,
           64.19946094243886,
           90.3390288696345
          ],
          [
           -128.87290996619421,
           -102.73334203899854,
           -76.59377411180284,
           -50.45420618460717,
           -24.314638257411495,
           1.824929669784182,
           27.964497596979875,
           54.10406552417555,
           80.24363345137122,
           106.38320137856688
          ],
          [
           -112.82873745726185,
           -86.68916953006617,
           -60.54960160287048,
           -34.4100336756748,
           -8.270465748479124,
           17.869102178716552,
           44.008670105912245,
           70.14823803310792,
           96.2878059603036,
           122.42737388749926
          ],
          [
           -96.78456494832946,
           -70.64499702113379,
           -44.5054290939381,
           -18.36586116674242,
           7.77370676045326,
           33.913274687648936,
           60.05284261484463,
           86.1924105420403,
           112.33197846923598,
           138.47154639643165
          ],
          [
           -80.7403924393971,
           -54.60082451220142,
           -28.46125658500572,
           -2.3216886578100464,
           23.817879269385628,
           49.957447196581306,
           76.097015123777,
           102.23658305097267,
           128.37615097816837,
           154.515718905364
          ],
          [
           -64.69621993046472,
           -38.55665200326904,
           -12.417084076073346,
           13.72248385112233,
           39.862051778318005,
           66.00161970551368,
           92.14118763270938,
           118.28075555990505,
           144.42032348710072,
           170.55989141429637
          ]
         ]
        }
       ],
       "layout": {
        "height": 1000,
        "legend": {
         "tracegroupgap": 0
        },
        "margin": {
         "t": 60
        },
        "scene": {
         "domain": {
          "x": [
           0,
           1
          ],
          "y": [
           0,
           1
          ]
         },
         "xaxis": {
          "title": {
           "text": "feature1"
          }
         },
         "yaxis": {
          "title": {
           "text": "feature2"
          }
         },
         "zaxis": {
          "title": {
           "text": "target"
          }
         }
        },
        "template": {
         "data": {
          "bar": [
           {
            "error_x": {
             "color": "#2a3f5f"
            },
            "error_y": {
             "color": "#2a3f5f"
            },
            "marker": {
             "line": {
              "color": "#E5ECF6",
              "width": 0.5
             },
             "pattern": {
              "fillmode": "overlay",
              "size": 10,
              "solidity": 0.2
             }
            },
            "type": "bar"
           }
          ],
          "barpolar": [
           {
            "marker": {
             "line": {
              "color": "#E5ECF6",
              "width": 0.5
             },
             "pattern": {
              "fillmode": "overlay",
              "size": 10,
              "solidity": 0.2
             }
            },
            "type": "barpolar"
           }
          ],
          "carpet": [
           {
            "aaxis": {
             "endlinecolor": "#2a3f5f",
             "gridcolor": "white",
             "linecolor": "white",
             "minorgridcolor": "white",
             "startlinecolor": "#2a3f5f"
            },
            "baxis": {
             "endlinecolor": "#2a3f5f",
             "gridcolor": "white",
             "linecolor": "white",
             "minorgridcolor": "white",
             "startlinecolor": "#2a3f5f"
            },
            "type": "carpet"
           }
          ],
          "choropleth": [
           {
            "colorbar": {
             "outlinewidth": 0,
             "ticks": ""
            },
            "type": "choropleth"
           }
          ],
          "contour": [
           {
            "colorbar": {
             "outlinewidth": 0,
             "ticks": ""
            },
            "colorscale": [
             [
              0,
              "#0d0887"
             ],
             [
              0.1111111111111111,
              "#46039f"
             ],
             [
              0.2222222222222222,
              "#7201a8"
             ],
             [
              0.3333333333333333,
              "#9c179e"
             ],
             [
              0.4444444444444444,
              "#bd3786"
             ],
             [
              0.5555555555555556,
              "#d8576b"
             ],
             [
              0.6666666666666666,
              "#ed7953"
             ],
             [
              0.7777777777777778,
              "#fb9f3a"
             ],
             [
              0.8888888888888888,
              "#fdca26"
             ],
             [
              1,
              "#f0f921"
             ]
            ],
            "type": "contour"
           }
          ],
          "contourcarpet": [
           {
            "colorbar": {
             "outlinewidth": 0,
             "ticks": ""
            },
            "type": "contourcarpet"
           }
          ],
          "heatmap": [
           {
            "colorbar": {
             "outlinewidth": 0,
             "ticks": ""
            },
            "colorscale": [
             [
              0,
              "#0d0887"
             ],
             [
              0.1111111111111111,
              "#46039f"
             ],
             [
              0.2222222222222222,
              "#7201a8"
             ],
             [
              0.3333333333333333,
              "#9c179e"
             ],
             [
              0.4444444444444444,
              "#bd3786"
             ],
             [
              0.5555555555555556,
              "#d8576b"
             ],
             [
              0.6666666666666666,
              "#ed7953"
             ],
             [
              0.7777777777777778,
              "#fb9f3a"
             ],
             [
              0.8888888888888888,
              "#fdca26"
             ],
             [
              1,
              "#f0f921"
             ]
            ],
            "type": "heatmap"
           }
          ],
          "heatmapgl": [
           {
            "colorbar": {
             "outlinewidth": 0,
             "ticks": ""
            },
            "colorscale": [
             [
              0,
              "#0d0887"
             ],
             [
              0.1111111111111111,
              "#46039f"
             ],
             [
              0.2222222222222222,
              "#7201a8"
             ],
             [
              0.3333333333333333,
              "#9c179e"
             ],
             [
              0.4444444444444444,
              "#bd3786"
             ],
             [
              0.5555555555555556,
              "#d8576b"
             ],
             [
              0.6666666666666666,
              "#ed7953"
             ],
             [
              0.7777777777777778,
              "#fb9f3a"
             ],
             [
              0.8888888888888888,
              "#fdca26"
             ],
             [
              1,
              "#f0f921"
             ]
            ],
            "type": "heatmapgl"
           }
          ],
          "histogram": [
           {
            "marker": {
             "pattern": {
              "fillmode": "overlay",
              "size": 10,
              "solidity": 0.2
             }
            },
            "type": "histogram"
           }
          ],
          "histogram2d": [
           {
            "colorbar": {
             "outlinewidth": 0,
             "ticks": ""
            },
            "colorscale": [
             [
              0,
              "#0d0887"
             ],
             [
              0.1111111111111111,
              "#46039f"
             ],
             [
              0.2222222222222222,
              "#7201a8"
             ],
             [
              0.3333333333333333,
              "#9c179e"
             ],
             [
              0.4444444444444444,
              "#bd3786"
             ],
             [
              0.5555555555555556,
              "#d8576b"
             ],
             [
              0.6666666666666666,
              "#ed7953"
             ],
             [
              0.7777777777777778,
              "#fb9f3a"
             ],
             [
              0.8888888888888888,
              "#fdca26"
             ],
             [
              1,
              "#f0f921"
             ]
            ],
            "type": "histogram2d"
           }
          ],
          "histogram2dcontour": [
           {
            "colorbar": {
             "outlinewidth": 0,
             "ticks": ""
            },
            "colorscale": [
             [
              0,
              "#0d0887"
             ],
             [
              0.1111111111111111,
              "#46039f"
             ],
             [
              0.2222222222222222,
              "#7201a8"
             ],
             [
              0.3333333333333333,
              "#9c179e"
             ],
             [
              0.4444444444444444,
              "#bd3786"
             ],
             [
              0.5555555555555556,
              "#d8576b"
             ],
             [
              0.6666666666666666,
              "#ed7953"
             ],
             [
              0.7777777777777778,
              "#fb9f3a"
             ],
             [
              0.8888888888888888,
              "#fdca26"
             ],
             [
              1,
              "#f0f921"
             ]
            ],
            "type": "histogram2dcontour"
           }
          ],
          "mesh3d": [
           {
            "colorbar": {
             "outlinewidth": 0,
             "ticks": ""
            },
            "type": "mesh3d"
           }
          ],
          "parcoords": [
           {
            "line": {
             "colorbar": {
              "outlinewidth": 0,
              "ticks": ""
             }
            },
            "type": "parcoords"
           }
          ],
          "pie": [
           {
            "automargin": true,
            "type": "pie"
           }
          ],
          "scatter": [
           {
            "fillpattern": {
             "fillmode": "overlay",
             "size": 10,
             "solidity": 0.2
            },
            "type": "scatter"
           }
          ],
          "scatter3d": [
           {
            "line": {
             "colorbar": {
              "outlinewidth": 0,
              "ticks": ""
             }
            },
            "marker": {
             "colorbar": {
              "outlinewidth": 0,
              "ticks": ""
             }
            },
            "type": "scatter3d"
           }
          ],
          "scattercarpet": [
           {
            "marker": {
             "colorbar": {
              "outlinewidth": 0,
              "ticks": ""
             }
            },
            "type": "scattercarpet"
           }
          ],
          "scattergeo": [
           {
            "marker": {
             "colorbar": {
              "outlinewidth": 0,
              "ticks": ""
             }
            },
            "type": "scattergeo"
           }
          ],
          "scattergl": [
           {
            "marker": {
             "colorbar": {
              "outlinewidth": 0,
              "ticks": ""
             }
            },
            "type": "scattergl"
           }
          ],
          "scattermapbox": [
           {
            "marker": {
             "colorbar": {
              "outlinewidth": 0,
              "ticks": ""
             }
            },
            "type": "scattermapbox"
           }
          ],
          "scatterpolar": [
           {
            "marker": {
             "colorbar": {
              "outlinewidth": 0,
              "ticks": ""
             }
            },
            "type": "scatterpolar"
           }
          ],
          "scatterpolargl": [
           {
            "marker": {
             "colorbar": {
              "outlinewidth": 0,
              "ticks": ""
             }
            },
            "type": "scatterpolargl"
           }
          ],
          "scatterternary": [
           {
            "marker": {
             "colorbar": {
              "outlinewidth": 0,
              "ticks": ""
             }
            },
            "type": "scatterternary"
           }
          ],
          "surface": [
           {
            "colorbar": {
             "outlinewidth": 0,
             "ticks": ""
            },
            "colorscale": [
             [
              0,
              "#0d0887"
             ],
             [
              0.1111111111111111,
              "#46039f"
             ],
             [
              0.2222222222222222,
              "#7201a8"
             ],
             [
              0.3333333333333333,
              "#9c179e"
             ],
             [
              0.4444444444444444,
              "#bd3786"
             ],
             [
              0.5555555555555556,
              "#d8576b"
             ],
             [
              0.6666666666666666,
              "#ed7953"
             ],
             [
              0.7777777777777778,
              "#fb9f3a"
             ],
             [
              0.8888888888888888,
              "#fdca26"
             ],
             [
              1,
              "#f0f921"
             ]
            ],
            "type": "surface"
           }
          ],
          "table": [
           {
            "cells": {
             "fill": {
              "color": "#EBF0F8"
             },
             "line": {
              "color": "white"
             }
            },
            "header": {
             "fill": {
              "color": "#C8D4E3"
             },
             "line": {
              "color": "white"
             }
            },
            "type": "table"
           }
          ]
         },
         "layout": {
          "annotationdefaults": {
           "arrowcolor": "#2a3f5f",
           "arrowhead": 0,
           "arrowwidth": 1
          },
          "autotypenumbers": "strict",
          "coloraxis": {
           "colorbar": {
            "outlinewidth": 0,
            "ticks": ""
           }
          },
          "colorscale": {
           "diverging": [
            [
             0,
             "#8e0152"
            ],
            [
             0.1,
             "#c51b7d"
            ],
            [
             0.2,
             "#de77ae"
            ],
            [
             0.3,
             "#f1b6da"
            ],
            [
             0.4,
             "#fde0ef"
            ],
            [
             0.5,
             "#f7f7f7"
            ],
            [
             0.6,
             "#e6f5d0"
            ],
            [
             0.7,
             "#b8e186"
            ],
            [
             0.8,
             "#7fbc41"
            ],
            [
             0.9,
             "#4d9221"
            ],
            [
             1,
             "#276419"
            ]
           ],
           "sequential": [
            [
             0,
             "#0d0887"
            ],
            [
             0.1111111111111111,
             "#46039f"
            ],
            [
             0.2222222222222222,
             "#7201a8"
            ],
            [
             0.3333333333333333,
             "#9c179e"
            ],
            [
             0.4444444444444444,
             "#bd3786"
            ],
            [
             0.5555555555555556,
             "#d8576b"
            ],
            [
             0.6666666666666666,
             "#ed7953"
            ],
            [
             0.7777777777777778,
             "#fb9f3a"
            ],
            [
             0.8888888888888888,
             "#fdca26"
            ],
            [
             1,
             "#f0f921"
            ]
           ],
           "sequentialminus": [
            [
             0,
             "#0d0887"
            ],
            [
             0.1111111111111111,
             "#46039f"
            ],
            [
             0.2222222222222222,
             "#7201a8"
            ],
            [
             0.3333333333333333,
             "#9c179e"
            ],
            [
             0.4444444444444444,
             "#bd3786"
            ],
            [
             0.5555555555555556,
             "#d8576b"
            ],
            [
             0.6666666666666666,
             "#ed7953"
            ],
            [
             0.7777777777777778,
             "#fb9f3a"
            ],
            [
             0.8888888888888888,
             "#fdca26"
            ],
            [
             1,
             "#f0f921"
            ]
           ]
          },
          "colorway": [
           "#636efa",
           "#EF553B",
           "#00cc96",
           "#ab63fa",
           "#FFA15A",
           "#19d3f3",
           "#FF6692",
           "#B6E880",
           "#FF97FF",
           "#FECB52"
          ],
          "font": {
           "color": "#2a3f5f"
          },
          "geo": {
           "bgcolor": "white",
           "lakecolor": "white",
           "landcolor": "#E5ECF6",
           "showlakes": true,
           "showland": true,
           "subunitcolor": "white"
          },
          "hoverlabel": {
           "align": "left"
          },
          "hovermode": "closest",
          "mapbox": {
           "style": "light"
          },
          "paper_bgcolor": "white",
          "plot_bgcolor": "#E5ECF6",
          "polar": {
           "angularaxis": {
            "gridcolor": "white",
            "linecolor": "white",
            "ticks": ""
           },
           "bgcolor": "#E5ECF6",
           "radialaxis": {
            "gridcolor": "white",
            "linecolor": "white",
            "ticks": ""
           }
          },
          "scene": {
           "xaxis": {
            "backgroundcolor": "#E5ECF6",
            "gridcolor": "white",
            "gridwidth": 2,
            "linecolor": "white",
            "showbackground": true,
            "ticks": "",
            "zerolinecolor": "white"
           },
           "yaxis": {
            "backgroundcolor": "#E5ECF6",
            "gridcolor": "white",
            "gridwidth": 2,
            "linecolor": "white",
            "showbackground": true,
            "ticks": "",
            "zerolinecolor": "white"
           },
           "zaxis": {
            "backgroundcolor": "#E5ECF6",
            "gridcolor": "white",
            "gridwidth": 2,
            "linecolor": "white",
            "showbackground": true,
            "ticks": "",
            "zerolinecolor": "white"
           }
          },
          "shapedefaults": {
           "line": {
            "color": "#2a3f5f"
           }
          },
          "ternary": {
           "aaxis": {
            "gridcolor": "white",
            "linecolor": "white",
            "ticks": ""
           },
           "baxis": {
            "gridcolor": "white",
            "linecolor": "white",
            "ticks": ""
           },
           "bgcolor": "#E5ECF6",
           "caxis": {
            "gridcolor": "white",
            "linecolor": "white",
            "ticks": ""
           }
          },
          "title": {
           "x": 0.05
          },
          "xaxis": {
           "automargin": true,
           "gridcolor": "white",
           "linecolor": "white",
           "ticks": "",
           "title": {
            "standoff": 15
           },
           "zerolinecolor": "white",
           "zerolinewidth": 2
          },
          "yaxis": {
           "automargin": true,
           "gridcolor": "white",
           "linecolor": "white",
           "ticks": "",
           "title": {
            "standoff": 15
           },
           "zerolinecolor": "white",
           "zerolinewidth": 2
          }
         }
        },
        "width": 1000
       }
      }
     },
     "metadata": {},
     "output_type": "display_data"
    }
   ],
   "source": [
    "fig.add_trace(go.Surface(x=xGrid, y=yGrid, z=z_final, opacity=0.6))"
   ]
  },
  {
   "cell_type": "code",
   "execution_count": 136,
   "metadata": {},
   "outputs": [
    {
     "data": {
      "application/vnd.plotly.v1+json": {
       "config": {
        "plotlyServerURL": "https://plot.ly"
       },
       "data": [
        {
         "hovertemplate": "feature1=%{x}<br>feature2=%{y}<br>target=%{z}<extra></extra>",
         "legendgroup": "",
         "marker": {
          "color": "#636efa",
          "symbol": "circle"
         },
         "mode": "markers",
         "name": "",
         "scene": "scene",
         "showlegend": false,
         "type": "scatter3d",
         "x": [
          2.564751298426742,
          0.5201781419087251,
          -1.9999212946626972,
          1.742662557497569,
          -0.6691842655903,
          -0.37970087499722055,
          0.24189250928226114,
          0.5915539113653364,
          -0.8205962853552067,
          -0.3542670299901184,
          -0.35413468516439334,
          0.7255469456409779,
          -0.11199338711909586,
          -0.6943325766631248,
          -0.8502629812684084,
          0.040450705252771155,
          0.5753284598985732,
          0.4716204261561293,
          0.7974459349311407,
          -1.3375181101058673,
          -1.1137456061640232,
          -3.3271832265687507,
          0.3621173780183496,
          0.920456818810757,
          0.145893042233133,
          -0.6637975608855339,
          -0.9074201732278216,
          -0.24027942552876844,
          -0.00985954604965405,
          0.13101359483952754,
          -0.4421589643905845,
          -0.7464717149040972,
          -0.6780868145713128,
          -0.4564724608691973,
          -0.6816269093225485,
          0.24271230864270038,
          -0.40484181049437085,
          -1.4847139413209156,
          0.19541813753514461,
          0.6705645311260051,
          0.46801271264558925,
          0.43873234592082383,
          0.2945307014603731,
          -0.17441304767732416,
          -0.23312023977684035,
          2.22762840433109,
          0.08855307339742548,
          -0.47728601919291563,
          -0.15433517686353193,
          -2.810669070592664,
          0.8497462968943945,
          0.9005048940490392,
          1.8844801886175016,
          0.6224237433155415,
          -0.2574118352238699,
          0.5011582158235237,
          -0.5926283059136763,
          0.3254267875853169,
          0.3808627162598682,
          -0.48152117096346575,
          0.05331837414952119,
          0.5058516791484573,
          0.6634340107153425,
          1.5462444772456165,
          0.34577856575843374,
          0.6391106580863734,
          -0.9564083805964981,
          -0.19742383374316327,
          -1.533841701068146,
          0.5634184919320159,
          0.9326477795955949,
          1.4495306328547957,
          -0.5077863772058723,
          -0.2927892700538708,
          -0.3285169627364328,
          -0.5401135752431762,
          0.7544207469413612,
          -0.17993116561688965,
          0.2640746920269667,
          0.1923606265644829,
          -0.14286552836188696,
          1.2715582609085383,
          0.20392778911570492,
          -0.45285122753367246,
          -0.8039850083122592,
          -0.5474481885569644,
          0.18835290139700522,
          0.46216276718177945,
          -0.516892108697241,
          -0.2761618589142405,
          -0.7333112873860086,
          -1.7512311095768147,
          -0.34795813950050936,
          0.6004618062146885,
          2.349523806485327,
          -1.012831674738469,
          1.6896819163874095,
          0.6119421323343424,
          0.7266545196495695,
          -1.1040433321488305
         ],
         "y": [
          1.4218922688686624,
          0.7980502884981207,
          1.5230965574669044,
          -0.47978042261588727,
          -0.06318617009767698,
          -1.4077347099105202,
          0.4350024691207139,
          -0.5093705441306956,
          -2.4212814069153845,
          -1.4894430690555063,
          -0.025745714865367284,
          -0.5955318817197452,
          -1.5849490524859668,
          2.050283845215277,
          0.49311032030642243,
          -0.5183164407621013,
          1.8230626579340798,
          -0.07587717753014953,
          0.6645648317256454,
          -0.9568516436540229,
          0.512115263039482,
          -1.3550972170381712,
          0.7182425331743655,
          -1.6514337741888145,
          0.22395972428687125,
          -0.17484632478108253,
          -0.5792082663325437,
          0.3594330031433504,
          0.6021325854115679,
          -0.38682452470373796,
          -0.16281683923934925,
          -1.8437064384254003,
          0.6209264046342228,
          1.5819399994469177,
          1.3148878842860765,
          -0.7753368336368713,
          0.5341606028788554,
          0.06221996668054359,
          -1.2699613335429127,
          -0.9464051675742673,
          -0.449118947146436,
          -0.11404770722141194,
          0.8449322500080744,
          -0.6855349526858436,
          0.27309716089619085,
          0.5384089996133427,
          -1.5796385309468632,
          -0.4643632618231236,
          -0.22167176653922943,
          -0.8563732176006593,
          -1.3972217732437675,
          0.2845520553455576,
          -0.5133005173071064,
          -0.33754711289060174,
          1.858941488593549,
          -0.2681960089880855,
          -1.0320562035132212,
          0.32366391123370825,
          0.5668934738120013,
          0.7253191273995103,
          0.6501265888462517,
          0.6107562996135139,
          -1.3487160109733611,
          -0.05302056165001688,
          0.15612818540213125,
          0.5151340771101659,
          1.0423452035756675,
          0.6753580095729397,
          -0.9850516366030087,
          -1.4689860301297233,
          -0.23227728700163117,
          0.6948805126435392,
          -1.2991953733365011,
          -0.16069234982026803,
          -1.7098788145141584,
          1.267500952498246,
          0.46184818490937646,
          -0.24308942888531576,
          -0.5866628362748685,
          -0.03869482071564884,
          0.23654136781052867,
          -1.5585989665387485,
          -0.5797304965033309,
          1.1632588031445814,
          1.1823993270843949,
          -0.7978762838218529,
          0.38049710449104945,
          0.4636214269145272,
          -1.44526130334383,
          1.4827111202046328,
          0.34866619786809044,
          -0.038335370440452966,
          0.8105479555009176,
          0.37935829461361315,
          0.050160108599990344,
          -0.4187279514581173,
          0.167482308963813,
          0.19421378697605293,
          1.4647499413417928,
          -1.7463330736210967
         ],
         "z": [
          204.8075090117443,
          132.34453309508342,
          28.338282001093035,
          73.50874327826065,
          -49.850177263394286,
          -10.193520878495931,
          36.08973679186273,
          -7.743384783875927,
          -124.7073446288867,
          5.474369378368749,
          -15.13614689419733,
          27.958532108870152,
          71.46597878669905,
          6.074909094015318,
          -52.82565780918307,
          9.77446005391835,
          30.215731614386414,
          0.8166010315378891,
          30.637522787466185,
          -84.71760308264868,
          45.9161624670881,
          -217.95558141429512,
          -31.49971568553523,
          -51.559985892271776,
          -38.166720996673455,
          20.039451711442524,
          -22.99820494340505,
          -42.883107937963025,
          4.262094665715665,
          -25.833939173866842,
          -38.72609044088834,
          -72.110486250762,
          -45.20122628972096,
          35.04584681967081,
          72.4167576325664,
          40.8681677569967,
          -11.558668540243797,
          -27.965423946969686,
          27.468498476159326,
          -72.79076755610653,
          -29.886101691207358,
          28.38342551049883,
          -0.9602108832701433,
          -103.74733583322485,
          92.89063209261596,
          67.87065664679908,
          -157.00430225942725,
          -21.836597359191344,
          -19.194220231753516,
          -142.17278151375325,
          -34.11490683130736,
          -49.189253238360415,
          68.75451758772664,
          25.073291201837286,
          52.40516715920058,
          69.54268369669241,
          -53.3408929012877,
          -38.121438689470025,
          56.71248024634194,
          13.98893080548723,
          26.741050464617,
          38.30414329030569,
          -55.955660627615885,
          21.734934408436274,
          -30.63066535046578,
          53.289711705068775,
          49.87140447186763,
          87.86502530416583,
          -143.56984546868983,
          10.283522821944288,
          36.29285151997259,
          19.435824602881254,
          11.155639754850071,
          -64.43492017552957,
          -116.7357537136831,
          55.79427417822012,
          -6.963216918106575,
          22.028840301374924,
          42.0470640305012,
          44.148815847767985,
          -82.94600631178383,
          21.913147362340748,
          0.4171770394777692,
          49.90037202761707,
          1.1053334056114155,
          10.01947430209367,
          57.88005900965352,
          43.62354671963434,
          -39.43783273674237,
          101.04419691145208,
          61.47814461183484,
          -59.24729672886336,
          14.275042139977929,
          65.93727376068324,
          145.37429553634897,
          -106.18868176126064,
          74.61878305006887,
          -39.117244732243975,
          24.94187818277846,
          -89.5042122935776
         ]
        },
        {
         "opacity": 0.6,
         "type": "surface",
         "x": [
          [
           -3.3271832265687507,
           -2.672523834902585,
           -2.0178644432364186,
           -1.3632050515702527,
           -0.7085456599040869,
           -0.05388626823792109,
           0.6007731234282452,
           1.255432515094411,
           1.9100919067605768,
           2.564751298426742
          ],
          [
           -3.3271832265687507,
           -2.672523834902585,
           -2.0178644432364186,
           -1.3632050515702527,
           -0.7085456599040869,
           -0.05388626823792109,
           0.6007731234282452,
           1.255432515094411,
           1.9100919067605768,
           2.564751298426742
          ],
          [
           -3.3271832265687507,
           -2.672523834902585,
           -2.0178644432364186,
           -1.3632050515702527,
           -0.7085456599040869,
           -0.05388626823792109,
           0.6007731234282452,
           1.255432515094411,
           1.9100919067605768,
           2.564751298426742
          ],
          [
           -3.3271832265687507,
           -2.672523834902585,
           -2.0178644432364186,
           -1.3632050515702527,
           -0.7085456599040869,
           -0.05388626823792109,
           0.6007731234282452,
           1.255432515094411,
           1.9100919067605768,
           2.564751298426742
          ],
          [
           -3.3271832265687507,
           -2.672523834902585,
           -2.0178644432364186,
           -1.3632050515702527,
           -0.7085456599040869,
           -0.05388626823792109,
           0.6007731234282452,
           1.255432515094411,
           1.9100919067605768,
           2.564751298426742
          ],
          [
           -3.3271832265687507,
           -2.672523834902585,
           -2.0178644432364186,
           -1.3632050515702527,
           -0.7085456599040869,
           -0.05388626823792109,
           0.6007731234282452,
           1.255432515094411,
           1.9100919067605768,
           2.564751298426742
          ],
          [
           -3.3271832265687507,
           -2.672523834902585,
           -2.0178644432364186,
           -1.3632050515702527,
           -0.7085456599040869,
           -0.05388626823792109,
           0.6007731234282452,
           1.255432515094411,
           1.9100919067605768,
           2.564751298426742
          ],
          [
           -3.3271832265687507,
           -2.672523834902585,
           -2.0178644432364186,
           -1.3632050515702527,
           -0.7085456599040869,
           -0.05388626823792109,
           0.6007731234282452,
           1.255432515094411,
           1.9100919067605768,
           2.564751298426742
          ],
          [
           -3.3271832265687507,
           -2.672523834902585,
           -2.0178644432364186,
           -1.3632050515702527,
           -0.7085456599040869,
           -0.05388626823792109,
           0.6007731234282452,
           1.255432515094411,
           1.9100919067605768,
           2.564751298426742
          ],
          [
           -3.3271832265687507,
           -2.672523834902585,
           -2.0178644432364186,
           -1.3632050515702527,
           -0.7085456599040869,
           -0.05388626823792109,
           0.6007731234282452,
           1.255432515094411,
           1.9100919067605768,
           2.564751298426742
          ]
         ],
         "y": [
          [
           -2.4212814069153845,
           -2.4212814069153845,
           -2.4212814069153845,
           -2.4212814069153845,
           -2.4212814069153845,
           -2.4212814069153845,
           -2.4212814069153845,
           -2.4212814069153845,
           -2.4212814069153845,
           -2.4212814069153845
          ],
          [
           -1.924440823345311,
           -1.924440823345311,
           -1.924440823345311,
           -1.924440823345311,
           -1.924440823345311,
           -1.924440823345311,
           -1.924440823345311,
           -1.924440823345311,
           -1.924440823345311,
           -1.924440823345311
          ],
          [
           -1.4276002397752374,
           -1.4276002397752374,
           -1.4276002397752374,
           -1.4276002397752374,
           -1.4276002397752374,
           -1.4276002397752374,
           -1.4276002397752374,
           -1.4276002397752374,
           -1.4276002397752374,
           -1.4276002397752374
          ],
          [
           -0.9307596562051641,
           -0.9307596562051641,
           -0.9307596562051641,
           -0.9307596562051641,
           -0.9307596562051641,
           -0.9307596562051641,
           -0.9307596562051641,
           -0.9307596562051641,
           -0.9307596562051641,
           -0.9307596562051641
          ],
          [
           -0.43391907263509055,
           -0.43391907263509055,
           -0.43391907263509055,
           -0.43391907263509055,
           -0.43391907263509055,
           -0.43391907263509055,
           -0.43391907263509055,
           -0.43391907263509055,
           -0.43391907263509055,
           -0.43391907263509055
          ],
          [
           0.062921510934983,
           0.062921510934983,
           0.062921510934983,
           0.062921510934983,
           0.062921510934983,
           0.062921510934983,
           0.062921510934983,
           0.062921510934983,
           0.062921510934983,
           0.062921510934983
          ],
          [
           0.5597620945050563,
           0.5597620945050563,
           0.5597620945050563,
           0.5597620945050563,
           0.5597620945050563,
           0.5597620945050563,
           0.5597620945050563,
           0.5597620945050563,
           0.5597620945050563,
           0.5597620945050563
          ],
          [
           1.05660267807513,
           1.05660267807513,
           1.05660267807513,
           1.05660267807513,
           1.05660267807513,
           1.05660267807513,
           1.05660267807513,
           1.05660267807513,
           1.05660267807513,
           1.05660267807513
          ],
          [
           1.5534432616452034,
           1.5534432616452034,
           1.5534432616452034,
           1.5534432616452034,
           1.5534432616452034,
           1.5534432616452034,
           1.5534432616452034,
           1.5534432616452034,
           1.5534432616452034,
           1.5534432616452034
          ],
          [
           2.050283845215277,
           2.050283845215277,
           2.050283845215277,
           2.050283845215277,
           2.050283845215277,
           2.050283845215277,
           2.050283845215277,
           2.050283845215277,
           2.050283845215277,
           2.050283845215277
          ]
         ],
         "z": [
          [
           -209.0937725108561,
           -182.9542045836604,
           -156.81463665646473,
           -130.67506872926904,
           -104.53550080207337,
           -78.3959328748777,
           -52.256364947682,
           -26.116797020486324,
           0.02277090670935311,
           26.16233883390501
          ],
          [
           -193.04960000192372,
           -166.91003207472804,
           -140.77046414753235,
           -114.63089622033667,
           -88.491328293141,
           -62.351760365945324,
           -36.212192438749625,
           -10.072624511553947,
           16.06694341564173,
           42.20651134283739
          ],
          [
           -177.00542749299134,
           -150.86585956579566,
           -124.72629163859997,
           -98.58672371140429,
           -72.44715578420862,
           -46.30758785701294,
           -20.16801992981725,
           5.97154799737843,
           32.11111592457411,
           58.250683851769764
          ],
          [
           -160.96125498405897,
           -134.82168705686328,
           -108.6821191296676,
           -82.54255120247193,
           -56.40298327527625,
           -30.26341534808057,
           -4.123847420884877,
           22.0157205063108,
           48.15528843350648,
           74.29485636070213
          ],
          [
           -144.9170824751266,
           -118.77751454793092,
           -92.63794662073522,
           -66.49837869353955,
           -40.35881076634387,
           -14.219242839148192,
           11.9203250880475,
           38.059893015243176,
           64.19946094243886,
           90.3390288696345
          ],
          [
           -128.87290996619421,
           -102.73334203899854,
           -76.59377411180284,
           -50.45420618460717,
           -24.314638257411495,
           1.824929669784182,
           27.964497596979875,
           54.10406552417555,
           80.24363345137122,
           106.38320137856688
          ],
          [
           -112.82873745726185,
           -86.68916953006617,
           -60.54960160287048,
           -34.4100336756748,
           -8.270465748479124,
           17.869102178716552,
           44.008670105912245,
           70.14823803310792,
           96.2878059603036,
           122.42737388749926
          ],
          [
           -96.78456494832946,
           -70.64499702113379,
           -44.5054290939381,
           -18.36586116674242,
           7.77370676045326,
           33.913274687648936,
           60.05284261484463,
           86.1924105420403,
           112.33197846923598,
           138.47154639643165
          ],
          [
           -80.7403924393971,
           -54.60082451220142,
           -28.46125658500572,
           -2.3216886578100464,
           23.817879269385628,
           49.957447196581306,
           76.097015123777,
           102.23658305097267,
           128.37615097816837,
           154.515718905364
          ],
          [
           -64.69621993046472,
           -38.55665200326904,
           -12.417084076073346,
           13.72248385112233,
           39.862051778318005,
           66.00161970551368,
           92.14118763270938,
           118.28075555990505,
           144.42032348710072,
           170.55989141429637
          ]
         ]
        }
       ],
       "layout": {
        "height": 1000,
        "legend": {
         "tracegroupgap": 0
        },
        "margin": {
         "t": 60
        },
        "scene": {
         "domain": {
          "x": [
           0,
           1
          ],
          "y": [
           0,
           1
          ]
         },
         "xaxis": {
          "title": {
           "text": "feature1"
          }
         },
         "yaxis": {
          "title": {
           "text": "feature2"
          }
         },
         "zaxis": {
          "title": {
           "text": "target"
          }
         }
        },
        "template": {
         "data": {
          "bar": [
           {
            "error_x": {
             "color": "#2a3f5f"
            },
            "error_y": {
             "color": "#2a3f5f"
            },
            "marker": {
             "line": {
              "color": "#E5ECF6",
              "width": 0.5
             },
             "pattern": {
              "fillmode": "overlay",
              "size": 10,
              "solidity": 0.2
             }
            },
            "type": "bar"
           }
          ],
          "barpolar": [
           {
            "marker": {
             "line": {
              "color": "#E5ECF6",
              "width": 0.5
             },
             "pattern": {
              "fillmode": "overlay",
              "size": 10,
              "solidity": 0.2
             }
            },
            "type": "barpolar"
           }
          ],
          "carpet": [
           {
            "aaxis": {
             "endlinecolor": "#2a3f5f",
             "gridcolor": "white",
             "linecolor": "white",
             "minorgridcolor": "white",
             "startlinecolor": "#2a3f5f"
            },
            "baxis": {
             "endlinecolor": "#2a3f5f",
             "gridcolor": "white",
             "linecolor": "white",
             "minorgridcolor": "white",
             "startlinecolor": "#2a3f5f"
            },
            "type": "carpet"
           }
          ],
          "choropleth": [
           {
            "colorbar": {
             "outlinewidth": 0,
             "ticks": ""
            },
            "type": "choropleth"
           }
          ],
          "contour": [
           {
            "colorbar": {
             "outlinewidth": 0,
             "ticks": ""
            },
            "colorscale": [
             [
              0,
              "#0d0887"
             ],
             [
              0.1111111111111111,
              "#46039f"
             ],
             [
              0.2222222222222222,
              "#7201a8"
             ],
             [
              0.3333333333333333,
              "#9c179e"
             ],
             [
              0.4444444444444444,
              "#bd3786"
             ],
             [
              0.5555555555555556,
              "#d8576b"
             ],
             [
              0.6666666666666666,
              "#ed7953"
             ],
             [
              0.7777777777777778,
              "#fb9f3a"
             ],
             [
              0.8888888888888888,
              "#fdca26"
             ],
             [
              1,
              "#f0f921"
             ]
            ],
            "type": "contour"
           }
          ],
          "contourcarpet": [
           {
            "colorbar": {
             "outlinewidth": 0,
             "ticks": ""
            },
            "type": "contourcarpet"
           }
          ],
          "heatmap": [
           {
            "colorbar": {
             "outlinewidth": 0,
             "ticks": ""
            },
            "colorscale": [
             [
              0,
              "#0d0887"
             ],
             [
              0.1111111111111111,
              "#46039f"
             ],
             [
              0.2222222222222222,
              "#7201a8"
             ],
             [
              0.3333333333333333,
              "#9c179e"
             ],
             [
              0.4444444444444444,
              "#bd3786"
             ],
             [
              0.5555555555555556,
              "#d8576b"
             ],
             [
              0.6666666666666666,
              "#ed7953"
             ],
             [
              0.7777777777777778,
              "#fb9f3a"
             ],
             [
              0.8888888888888888,
              "#fdca26"
             ],
             [
              1,
              "#f0f921"
             ]
            ],
            "type": "heatmap"
           }
          ],
          "heatmapgl": [
           {
            "colorbar": {
             "outlinewidth": 0,
             "ticks": ""
            },
            "colorscale": [
             [
              0,
              "#0d0887"
             ],
             [
              0.1111111111111111,
              "#46039f"
             ],
             [
              0.2222222222222222,
              "#7201a8"
             ],
             [
              0.3333333333333333,
              "#9c179e"
             ],
             [
              0.4444444444444444,
              "#bd3786"
             ],
             [
              0.5555555555555556,
              "#d8576b"
             ],
             [
              0.6666666666666666,
              "#ed7953"
             ],
             [
              0.7777777777777778,
              "#fb9f3a"
             ],
             [
              0.8888888888888888,
              "#fdca26"
             ],
             [
              1,
              "#f0f921"
             ]
            ],
            "type": "heatmapgl"
           }
          ],
          "histogram": [
           {
            "marker": {
             "pattern": {
              "fillmode": "overlay",
              "size": 10,
              "solidity": 0.2
             }
            },
            "type": "histogram"
           }
          ],
          "histogram2d": [
           {
            "colorbar": {
             "outlinewidth": 0,
             "ticks": ""
            },
            "colorscale": [
             [
              0,
              "#0d0887"
             ],
             [
              0.1111111111111111,
              "#46039f"
             ],
             [
              0.2222222222222222,
              "#7201a8"
             ],
             [
              0.3333333333333333,
              "#9c179e"
             ],
             [
              0.4444444444444444,
              "#bd3786"
             ],
             [
              0.5555555555555556,
              "#d8576b"
             ],
             [
              0.6666666666666666,
              "#ed7953"
             ],
             [
              0.7777777777777778,
              "#fb9f3a"
             ],
             [
              0.8888888888888888,
              "#fdca26"
             ],
             [
              1,
              "#f0f921"
             ]
            ],
            "type": "histogram2d"
           }
          ],
          "histogram2dcontour": [
           {
            "colorbar": {
             "outlinewidth": 0,
             "ticks": ""
            },
            "colorscale": [
             [
              0,
              "#0d0887"
             ],
             [
              0.1111111111111111,
              "#46039f"
             ],
             [
              0.2222222222222222,
              "#7201a8"
             ],
             [
              0.3333333333333333,
              "#9c179e"
             ],
             [
              0.4444444444444444,
              "#bd3786"
             ],
             [
              0.5555555555555556,
              "#d8576b"
             ],
             [
              0.6666666666666666,
              "#ed7953"
             ],
             [
              0.7777777777777778,
              "#fb9f3a"
             ],
             [
              0.8888888888888888,
              "#fdca26"
             ],
             [
              1,
              "#f0f921"
             ]
            ],
            "type": "histogram2dcontour"
           }
          ],
          "mesh3d": [
           {
            "colorbar": {
             "outlinewidth": 0,
             "ticks": ""
            },
            "type": "mesh3d"
           }
          ],
          "parcoords": [
           {
            "line": {
             "colorbar": {
              "outlinewidth": 0,
              "ticks": ""
             }
            },
            "type": "parcoords"
           }
          ],
          "pie": [
           {
            "automargin": true,
            "type": "pie"
           }
          ],
          "scatter": [
           {
            "fillpattern": {
             "fillmode": "overlay",
             "size": 10,
             "solidity": 0.2
            },
            "type": "scatter"
           }
          ],
          "scatter3d": [
           {
            "line": {
             "colorbar": {
              "outlinewidth": 0,
              "ticks": ""
             }
            },
            "marker": {
             "colorbar": {
              "outlinewidth": 0,
              "ticks": ""
             }
            },
            "type": "scatter3d"
           }
          ],
          "scattercarpet": [
           {
            "marker": {
             "colorbar": {
              "outlinewidth": 0,
              "ticks": ""
             }
            },
            "type": "scattercarpet"
           }
          ],
          "scattergeo": [
           {
            "marker": {
             "colorbar": {
              "outlinewidth": 0,
              "ticks": ""
             }
            },
            "type": "scattergeo"
           }
          ],
          "scattergl": [
           {
            "marker": {
             "colorbar": {
              "outlinewidth": 0,
              "ticks": ""
             }
            },
            "type": "scattergl"
           }
          ],
          "scattermapbox": [
           {
            "marker": {
             "colorbar": {
              "outlinewidth": 0,
              "ticks": ""
             }
            },
            "type": "scattermapbox"
           }
          ],
          "scatterpolar": [
           {
            "marker": {
             "colorbar": {
              "outlinewidth": 0,
              "ticks": ""
             }
            },
            "type": "scatterpolar"
           }
          ],
          "scatterpolargl": [
           {
            "marker": {
             "colorbar": {
              "outlinewidth": 0,
              "ticks": ""
             }
            },
            "type": "scatterpolargl"
           }
          ],
          "scatterternary": [
           {
            "marker": {
             "colorbar": {
              "outlinewidth": 0,
              "ticks": ""
             }
            },
            "type": "scatterternary"
           }
          ],
          "surface": [
           {
            "colorbar": {
             "outlinewidth": 0,
             "ticks": ""
            },
            "colorscale": [
             [
              0,
              "#0d0887"
             ],
             [
              0.1111111111111111,
              "#46039f"
             ],
             [
              0.2222222222222222,
              "#7201a8"
             ],
             [
              0.3333333333333333,
              "#9c179e"
             ],
             [
              0.4444444444444444,
              "#bd3786"
             ],
             [
              0.5555555555555556,
              "#d8576b"
             ],
             [
              0.6666666666666666,
              "#ed7953"
             ],
             [
              0.7777777777777778,
              "#fb9f3a"
             ],
             [
              0.8888888888888888,
              "#fdca26"
             ],
             [
              1,
              "#f0f921"
             ]
            ],
            "type": "surface"
           }
          ],
          "table": [
           {
            "cells": {
             "fill": {
              "color": "#EBF0F8"
             },
             "line": {
              "color": "white"
             }
            },
            "header": {
             "fill": {
              "color": "#C8D4E3"
             },
             "line": {
              "color": "white"
             }
            },
            "type": "table"
           }
          ]
         },
         "layout": {
          "annotationdefaults": {
           "arrowcolor": "#2a3f5f",
           "arrowhead": 0,
           "arrowwidth": 1
          },
          "autotypenumbers": "strict",
          "coloraxis": {
           "colorbar": {
            "outlinewidth": 0,
            "ticks": ""
           }
          },
          "colorscale": {
           "diverging": [
            [
             0,
             "#8e0152"
            ],
            [
             0.1,
             "#c51b7d"
            ],
            [
             0.2,
             "#de77ae"
            ],
            [
             0.3,
             "#f1b6da"
            ],
            [
             0.4,
             "#fde0ef"
            ],
            [
             0.5,
             "#f7f7f7"
            ],
            [
             0.6,
             "#e6f5d0"
            ],
            [
             0.7,
             "#b8e186"
            ],
            [
             0.8,
             "#7fbc41"
            ],
            [
             0.9,
             "#4d9221"
            ],
            [
             1,
             "#276419"
            ]
           ],
           "sequential": [
            [
             0,
             "#0d0887"
            ],
            [
             0.1111111111111111,
             "#46039f"
            ],
            [
             0.2222222222222222,
             "#7201a8"
            ],
            [
             0.3333333333333333,
             "#9c179e"
            ],
            [
             0.4444444444444444,
             "#bd3786"
            ],
            [
             0.5555555555555556,
             "#d8576b"
            ],
            [
             0.6666666666666666,
             "#ed7953"
            ],
            [
             0.7777777777777778,
             "#fb9f3a"
            ],
            [
             0.8888888888888888,
             "#fdca26"
            ],
            [
             1,
             "#f0f921"
            ]
           ],
           "sequentialminus": [
            [
             0,
             "#0d0887"
            ],
            [
             0.1111111111111111,
             "#46039f"
            ],
            [
             0.2222222222222222,
             "#7201a8"
            ],
            [
             0.3333333333333333,
             "#9c179e"
            ],
            [
             0.4444444444444444,
             "#bd3786"
            ],
            [
             0.5555555555555556,
             "#d8576b"
            ],
            [
             0.6666666666666666,
             "#ed7953"
            ],
            [
             0.7777777777777778,
             "#fb9f3a"
            ],
            [
             0.8888888888888888,
             "#fdca26"
            ],
            [
             1,
             "#f0f921"
            ]
           ]
          },
          "colorway": [
           "#636efa",
           "#EF553B",
           "#00cc96",
           "#ab63fa",
           "#FFA15A",
           "#19d3f3",
           "#FF6692",
           "#B6E880",
           "#FF97FF",
           "#FECB52"
          ],
          "font": {
           "color": "#2a3f5f"
          },
          "geo": {
           "bgcolor": "white",
           "lakecolor": "white",
           "landcolor": "#E5ECF6",
           "showlakes": true,
           "showland": true,
           "subunitcolor": "white"
          },
          "hoverlabel": {
           "align": "left"
          },
          "hovermode": "closest",
          "mapbox": {
           "style": "light"
          },
          "paper_bgcolor": "white",
          "plot_bgcolor": "#E5ECF6",
          "polar": {
           "angularaxis": {
            "gridcolor": "white",
            "linecolor": "white",
            "ticks": ""
           },
           "bgcolor": "#E5ECF6",
           "radialaxis": {
            "gridcolor": "white",
            "linecolor": "white",
            "ticks": ""
           }
          },
          "scene": {
           "xaxis": {
            "backgroundcolor": "#E5ECF6",
            "gridcolor": "white",
            "gridwidth": 2,
            "linecolor": "white",
            "showbackground": true,
            "ticks": "",
            "zerolinecolor": "white"
           },
           "yaxis": {
            "backgroundcolor": "#E5ECF6",
            "gridcolor": "white",
            "gridwidth": 2,
            "linecolor": "white",
            "showbackground": true,
            "ticks": "",
            "zerolinecolor": "white"
           },
           "zaxis": {
            "backgroundcolor": "#E5ECF6",
            "gridcolor": "white",
            "gridwidth": 2,
            "linecolor": "white",
            "showbackground": true,
            "ticks": "",
            "zerolinecolor": "white"
           }
          },
          "shapedefaults": {
           "line": {
            "color": "#2a3f5f"
           }
          },
          "ternary": {
           "aaxis": {
            "gridcolor": "white",
            "linecolor": "white",
            "ticks": ""
           },
           "baxis": {
            "gridcolor": "white",
            "linecolor": "white",
            "ticks": ""
           },
           "bgcolor": "#E5ECF6",
           "caxis": {
            "gridcolor": "white",
            "linecolor": "white",
            "ticks": ""
           }
          },
          "title": {
           "x": 0.05
          },
          "xaxis": {
           "automargin": true,
           "gridcolor": "white",
           "linecolor": "white",
           "ticks": "",
           "title": {
            "standoff": 15
           },
           "zerolinecolor": "white",
           "zerolinewidth": 2
          },
          "yaxis": {
           "automargin": true,
           "gridcolor": "white",
           "linecolor": "white",
           "ticks": "",
           "title": {
            "standoff": 15
           },
           "zerolinecolor": "white",
           "zerolinewidth": 2
          }
         }
        },
        "width": 1000
       }
      }
     },
     "metadata": {},
     "output_type": "display_data"
    }
   ],
   "source": [
    "fig.show()"
   ]
  },
  {
   "cell_type": "code",
   "execution_count": null,
   "metadata": {},
   "outputs": [],
   "source": []
  }
 ],
 "metadata": {
  "kernelspec": {
   "display_name": "Python 3",
   "language": "python",
   "name": "python3"
  },
  "language_info": {
   "codemirror_mode": {
    "name": "ipython",
    "version": 3
   },
   "file_extension": ".py",
   "mimetype": "text/x-python",
   "name": "python",
   "nbconvert_exporter": "python",
   "pygments_lexer": "ipython3",
   "version": "3.12.2"
  }
 },
 "nbformat": 4,
 "nbformat_minor": 2
}
