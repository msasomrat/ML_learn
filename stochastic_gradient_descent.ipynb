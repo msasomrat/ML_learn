{
 "cells": [
  {
   "cell_type": "code",
   "execution_count": 172,
   "metadata": {},
   "outputs": [],
   "source": [
    "import pandas as pd\n",
    "import numpy as np"
   ]
  },
  {
   "cell_type": "code",
   "execution_count": 173,
   "metadata": {},
   "outputs": [],
   "source": [
    "import matplotlib.pyplot as plt"
   ]
  },
  {
   "cell_type": "code",
   "execution_count": 174,
   "metadata": {},
   "outputs": [],
   "source": [
    "from sklearn.datasets import make_regression\n",
    "from sklearn.linear_model import LinearRegression"
   ]
  },
  {
   "cell_type": "code",
   "execution_count": 175,
   "metadata": {},
   "outputs": [],
   "source": [
    "from matplotlib.animation import FuncAnimation\n",
    "import matplotlib.animation as animation"
   ]
  },
  {
   "cell_type": "code",
   "execution_count": 176,
   "metadata": {},
   "outputs": [],
   "source": [
    "x,y = make_regression(n_samples=1000, n_features=1, n_informative=1, n_targets=1,noise=30,random_state=13)"
   ]
  },
  {
   "cell_type": "code",
   "execution_count": 177,
   "metadata": {},
   "outputs": [
    {
     "data": {
      "text/plain": [
       "<matplotlib.collections.PathCollection at 0x19500df80b0>"
      ]
     },
     "execution_count": 177,
     "metadata": {},
     "output_type": "execute_result"
    },
    {
     "data": {
      "image/png": "[encoded data removed]",
      "text/plain": [
       "<Figure size 640x480 with 1 Axes>"
      ]
     },
     "metadata": {},
     "output_type": "display_data"
    }
   ],
   "source": [
    "plt.scatter(x, y)"
   ]
  },
  {
   "cell_type": "code",
   "execution_count": 178,
   "metadata": {},
   "outputs": [
    {
     "data": {
      "text/html": [
       "<style>#sk-container-id-5 {\n",
       "  /* Definition of color scheme common for light and dark mode */\n",
       "  --sklearn-color-text: black;\n",
       "  --sklearn-color-line: gray;\n",
       "  /* Definition of color scheme for unfitted estimators */\n",
       "  --sklearn-color-unfitted-level-0: #fff5e6;\n",
       "  --sklearn-color-unfitted-level-1: #f6e4d2;\n",
       "  --sklearn-color-unfitted-level-2: #ffe0b3;\n",
       "  --sklearn-color-unfitted-level-3: chocolate;\n",
       "  /* Definition of color scheme for fitted estimators */\n",
       "  --sklearn-color-fitted-level-0: #f0f8ff;\n",
       "  --sklearn-color-fitted-level-1: #d4ebff;\n",
       "  --sklearn-color-fitted-level-2: #b3dbfd;\n",
       "  --sklearn-color-fitted-level-3: cornflowerblue;\n",
       "\n",
       "  /* Specific color for light theme */\n",
       "  --sklearn-color-text-on-default-background: var(--sg-text-color, var(--theme-code-foreground, var(--jp-content-font-color1, black)));\n",
       "  --sklearn-color-background: var(--sg-background-color, var(--theme-background, var(--jp-layout-color0, white)));\n",
       "  --sklearn-color-border-box: var(--sg-text-color, var(--theme-code-foreground, var(--jp-content-font-color1, black)));\n",
       "  --sklearn-color-icon: #696969;\n",
       "\n",
       "  @media (prefers-color-scheme: dark) {\n",
       "    /* Redefinition of color scheme for dark theme */\n",
       "    --sklearn-color-text-on-default-background: var(--sg-text-color, var(--theme-code-foreground, var(--jp-content-font-color1, white)));\n",
       "    --sklearn-color-background: var(--sg-background-color, var(--theme-background, var(--jp-layout-color0, #111)));\n",
       "    --sklearn-color-border-box: var(--sg-text-color, var(--theme-code-foreground, var(--jp-content-font-color1, white)));\n",
       "    --sklearn-color-icon: #878787;\n",
       "  }\n",
       "}\n",
       "\n",
       "#sk-container-id-5 {\n",
       "  color: var(--sklearn-color-text);\n",
       "}\n",
       "\n",
       "#sk-container-id-5 pre {\n",
       "  padding: 0;\n",
       "}\n",
       "\n",
       "#sk-container-id-5 input.sk-hidden--visually {\n",
       "  border: 0;\n",
       "  clip: rect(1px 1px 1px 1px);\n",
       "  clip: rect(1px, 1px, 1px, 1px);\n",
       "  height: 1px;\n",
       "  margin: -1px;\n",
       "  overflow: hidden;\n",
       "  padding: 0;\n",
       "  position: absolute;\n",
       "  width: 1px;\n",
       "}\n",
       "\n",
       "#sk-container-id-5 div.sk-dashed-wrapped {\n",
       "  border: 1px dashed var(--sklearn-color-line);\n",
       "  margin: 0 0.4em 0.5em 0.4em;\n",
       "  box-sizing: border-box;\n",
       "  padding-bottom: 0.4em;\n",
       "  background-color: var(--sklearn-color-background);\n",
       "}\n",
       "\n",
       "#sk-container-id-5 div.sk-container {\n",
       "  /* jupyter's `normalize.less` sets `[hidden] { display: none; }`\n",
       "     but bootstrap.min.css set `[hidden] { display: none !important; }`\n",
       "     so we also need the `!important` here to be able to override the\n",
       "     default hidden behavior on the sphinx rendered scikit-learn.org.\n",
       "     See: https://github.com/scikit-learn/scikit-learn/issues/21755 */\n",
       "  display: inline-block !important;\n",
       "  position: relative;\n",
       "}\n",
       "\n",
       "#sk-container-id-5 div.sk-text-repr-fallback {\n",
       "  display: none;\n",
       "}\n",
       "\n",
       "div.sk-parallel-item,\n",
       "div.sk-serial,\n",
       "div.sk-item {\n",
       "  /* draw centered vertical line to link estimators */\n",
       "  background-image: linear-gradient(var(--sklearn-color-text-on-default-background), var(--sklearn-color-text-on-default-background));\n",
       "  background-size: 2px 100%;\n",
       "  background-repeat: no-repeat;\n",
       "  background-position: center center;\n",
       "}\n",
       "\n",
       "/* Parallel-specific style estimator block */\n",
       "\n",
       "#sk-container-id-5 div.sk-parallel-item::after {\n",
       "  content: \"\";\n",
       "  width: 100%;\n",
       "  border-bottom: 2px solid var(--sklearn-color-text-on-default-background);\n",
       "  flex-grow: 1;\n",
       "}\n",
       "\n",
       "#sk-container-id-5 div.sk-parallel {\n",
       "  display: flex;\n",
       "  align-items: stretch;\n",
       "  justify-content: center;\n",
       "  background-color: var(--sklearn-color-background);\n",
       "  position: relative;\n",
       "}\n",
       "\n",
       "#sk-container-id-5 div.sk-parallel-item {\n",
       "  display: flex;\n",
       "  flex-direction: column;\n",
       "}\n",
       "\n",
       "#sk-container-id-5 div.sk-parallel-item:first-child::after {\n",
       "  align-self: flex-end;\n",
       "  width: 50%;\n",
       "}\n",
       "\n",
       "#sk-container-id-5 div.sk-parallel-item:last-child::after {\n",
       "  align-self: flex-start;\n",
       "  width: 50%;\n",
       "}\n",
       "\n",
       "#sk-container-id-5 div.sk-parallel-item:only-child::after {\n",
       "  width: 0;\n",
       "}\n",
       "\n",
       "/* Serial-specific style estimator block */\n",
       "\n",
       "#sk-container-id-5 div.sk-serial {\n",
       "  display: flex;\n",
       "  flex-direction: column;\n",
       "  align-items: center;\n",
       "  background-color: var(--sklearn-color-background);\n",
       "  padding-right: 1em;\n",
       "  padding-left: 1em;\n",
       "}\n",
       "\n",
       "\n",
       "/* Toggleable style: style used for estimator/Pipeline/ColumnTransformer box that is\n",
       "clickable and can be expanded/collapsed.\n",
       "- Pipeline and ColumnTransformer use this feature and define the default style\n",
       "- Estimators will overwrite some part of the style using the `sk-estimator` class\n",
       "*/\n",
       "\n",
       "/* Pipeline and ColumnTransformer style (default) */\n",
       "\n",
       "#sk-container-id-5 div.sk-toggleable {\n",
       "  /* Default theme specific background. It is overwritten whether we have a\n",
       "  specific estimator or a Pipeline/ColumnTransformer */\n",
       "  background-color: var(--sklearn-color-background);\n",
       "}\n",
       "\n",
       "/* Toggleable label */\n",
       "#sk-container-id-5 label.sk-toggleable__label {\n",
       "  cursor: pointer;\n",
       "  display: block;\n",
       "  width: 100%;\n",
       "  margin-bottom: 0;\n",
       "  padding: 0.5em;\n",
       "  box-sizing: border-box;\n",
       "  text-align: center;\n",
       "}\n",
       "\n",
       "#sk-container-id-5 label.sk-toggleable__label-arrow:before {\n",
       "  /* Arrow on the left of the label */\n",
       "  content: \"▸\";\n",
       "  float: left;\n",
       "  margin-right: 0.25em;\n",
       "  color: var(--sklearn-color-icon);\n",
       "}\n",
       "\n",
       "#sk-container-id-5 label.sk-toggleable__label-arrow:hover:before {\n",
       "  color: var(--sklearn-color-text);\n",
       "}\n",
       "\n",
       "/* Toggleable content - dropdown */\n",
       "\n",
       "#sk-container-id-5 div.sk-toggleable__content {\n",
       "  max-height: 0;\n",
       "  max-width: 0;\n",
       "  overflow: hidden;\n",
       "  text-align: left;\n",
       "  /* unfitted */\n",
       "  background-color: var(--sklearn-color-unfitted-level-0);\n",
       "}\n",
       "\n",
       "#sk-container-id-5 div.sk-toggleable__content.fitted {\n",
       "  /* fitted */\n",
       "  background-color: var(--sklearn-color-fitted-level-0);\n",
       "}\n",
       "\n",
       "#sk-container-id-5 div.sk-toggleable__content pre {\n",
       "  margin: 0.2em;\n",
       "  border-radius: 0.25em;\n",
       "  color: var(--sklearn-color-text);\n",
       "  /* unfitted */\n",
       "  background-color: var(--sklearn-color-unfitted-level-0);\n",
       "}\n",
       "\n",
       "#sk-container-id-5 div.sk-toggleable__content.fitted pre {\n",
       "  /* unfitted */\n",
       "  background-color: var(--sklearn-color-fitted-level-0);\n",
       "}\n",
       "\n",
       "#sk-container-id-5 input.sk-toggleable__control:checked~div.sk-toggleable__content {\n",
       "  /* Expand drop-down */\n",
       "  max-height: 200px;\n",
       "  max-width: 100%;\n",
       "  overflow: auto;\n",
       "}\n",
       "\n",
       "#sk-container-id-5 input.sk-toggleable__control:checked~label.sk-toggleable__label-arrow:before {\n",
       "  content: \"▾\";\n",
       "}\n",
       "\n",
       "/* Pipeline/ColumnTransformer-specific style */\n",
       "\n",
       "#sk-container-id-5 div.sk-label input.sk-toggleable__control:checked~label.sk-toggleable__label {\n",
       "  color: var(--sklearn-color-text);\n",
       "  background-color: var(--sklearn-color-unfitted-level-2);\n",
       "}\n",
       "\n",
       "#sk-container-id-5 div.sk-label.fitted input.sk-toggleable__control:checked~label.sk-toggleable__label {\n",
       "  background-color: var(--sklearn-color-fitted-level-2);\n",
       "}\n",
       "\n",
       "/* Estimator-specific style */\n",
       "\n",
       "/* Colorize estimator box */\n",
       "#sk-container-id-5 div.sk-estimator input.sk-toggleable__control:checked~label.sk-toggleable__label {\n",
       "  /* unfitted */\n",
       "  background-color: var(--sklearn-color-unfitted-level-2);\n",
       "}\n",
       "\n",
       "#sk-container-id-5 div.sk-estimator.fitted input.sk-toggleable__control:checked~label.sk-toggleable__label {\n",
       "  /* fitted */\n",
       "  background-color: var(--sklearn-color-fitted-level-2);\n",
       "}\n",
       "\n",
       "#sk-container-id-5 div.sk-label label.sk-toggleable__label,\n",
       "#sk-container-id-5 div.sk-label label {\n",
       "  /* The background is the default theme color */\n",
       "  color: var(--sklearn-color-text-on-default-background);\n",
       "}\n",
       "\n",
       "/* On hover, darken the color of the background */\n",
       "#sk-container-id-5 div.sk-label:hover label.sk-toggleable__label {\n",
       "  color: var(--sklearn-color-text);\n",
       "  background-color: var(--sklearn-color-unfitted-level-2);\n",
       "}\n",
       "\n",
       "/* Label box, darken color on hover, fitted */\n",
       "#sk-container-id-5 div.sk-label.fitted:hover label.sk-toggleable__label.fitted {\n",
       "  color: var(--sklearn-color-text);\n",
       "  background-color: var(--sklearn-color-fitted-level-2);\n",
       "}\n",
       "\n",
       "/* Estimator label */\n",
       "\n",
       "#sk-container-id-5 div.sk-label label {\n",
       "  font-family: monospace;\n",
       "  font-weight: bold;\n",
       "  display: inline-block;\n",
       "  line-height: 1.2em;\n",
       "}\n",
       "\n",
       "#sk-container-id-5 div.sk-label-container {\n",
       "  text-align: center;\n",
       "}\n",
       "\n",
       "/* Estimator-specific */\n",
       "#sk-container-id-5 div.sk-estimator {\n",
       "  font-family: monospace;\n",
       "  border: 1px dotted var(--sklearn-color-border-box);\n",
       "  border-radius: 0.25em;\n",
       "  box-sizing: border-box;\n",
       "  margin-bottom: 0.5em;\n",
       "  /* unfitted */\n",
       "  background-color: var(--sklearn-color-unfitted-level-0);\n",
       "}\n",
       "\n",
       "#sk-container-id-5 div.sk-estimator.fitted {\n",
       "  /* fitted */\n",
       "  background-color: var(--sklearn-color-fitted-level-0);\n",
       "}\n",
       "\n",
       "/* on hover */\n",
       "#sk-container-id-5 div.sk-estimator:hover {\n",
       "  /* unfitted */\n",
       "  background-color: var(--sklearn-color-unfitted-level-2);\n",
       "}\n",
       "\n",
       "#sk-container-id-5 div.sk-estimator.fitted:hover {\n",
       "  /* fitted */\n",
       "  background-color: var(--sklearn-color-fitted-level-2);\n",
       "}\n",
       "\n",
       "/* Specification for estimator info (e.g. \"i\" and \"?\") */\n",
       "\n",
       "/* Common style for \"i\" and \"?\" */\n",
       "\n",
       ".sk-estimator-doc-link,\n",
       "a:link.sk-estimator-doc-link,\n",
       "a:visited.sk-estimator-doc-link {\n",
       "  float: right;\n",
       "  font-size: smaller;\n",
       "  line-height: 1em;\n",
       "  font-family: monospace;\n",
       "  background-color: var(--sklearn-color-background);\n",
       "  border-radius: 1em;\n",
       "  height: 1em;\n",
       "  width: 1em;\n",
       "  text-decoration: none !important;\n",
       "  margin-left: 1ex;\n",
       "  /* unfitted */\n",
       "  border: var(--sklearn-color-unfitted-level-1) 1pt solid;\n",
       "  color: var(--sklearn-color-unfitted-level-1);\n",
       "}\n",
       "\n",
       ".sk-estimator-doc-link.fitted,\n",
       "a:link.sk-estimator-doc-link.fitted,\n",
       "a:visited.sk-estimator-doc-link.fitted {\n",
       "  /* fitted */\n",
       "  border: var(--sklearn-color-fitted-level-1) 1pt solid;\n",
       "  color: var(--sklearn-color-fitted-level-1);\n",
       "}\n",
       "\n",
       "/* On hover */\n",
       "div.sk-estimator:hover .sk-estimator-doc-link:hover,\n",
       ".sk-estimator-doc-link:hover,\n",
       "div.sk-label-container:hover .sk-estimator-doc-link:hover,\n",
       ".sk-estimator-doc-link:hover {\n",
       "  /* unfitted */\n",
       "  background-color: var(--sklearn-color-unfitted-level-3);\n",
       "  color: var(--sklearn-color-background);\n",
       "  text-decoration: none;\n",
       "}\n",
       "\n",
       "div.sk-estimator.fitted:hover .sk-estimator-doc-link.fitted:hover,\n",
       ".sk-estimator-doc-link.fitted:hover,\n",
       "div.sk-label-container:hover .sk-estimator-doc-link.fitted:hover,\n",
       ".sk-estimator-doc-link.fitted:hover {\n",
       "  /* fitted */\n",
       "  background-color: var(--sklearn-color-fitted-level-3);\n",
       "  color: var(--sklearn-color-background);\n",
       "  text-decoration: none;\n",
       "}\n",
       "\n",
       "/* Span, style for the box shown on hovering the info icon */\n",
       ".sk-estimator-doc-link span {\n",
       "  display: none;\n",
       "  z-index: 9999;\n",
       "  position: relative;\n",
       "  font-weight: normal;\n",
       "  right: .2ex;\n",
       "  padding: .5ex;\n",
       "  margin: .5ex;\n",
       "  width: min-content;\n",
       "  min-width: 20ex;\n",
       "  max-width: 50ex;\n",
       "  color: var(--sklearn-color-text);\n",
       "  box-shadow: 2pt 2pt 4pt #999;\n",
       "  /* unfitted */\n",
       "  background: var(--sklearn-color-unfitted-level-0);\n",
       "  border: .5pt solid var(--sklearn-color-unfitted-level-3);\n",
       "}\n",
       "\n",
       ".sk-estimator-doc-link.fitted span {\n",
       "  /* fitted */\n",
       "  background: var(--sklearn-color-fitted-level-0);\n",
       "  border: var(--sklearn-color-fitted-level-3);\n",
       "}\n",
       "\n",
       ".sk-estimator-doc-link:hover span {\n",
       "  display: block;\n",
       "}\n",
       "\n",
       "/* \"?\"-specific style due to the `<a>` HTML tag */\n",
       "\n",
       "#sk-container-id-5 a.estimator_doc_link {\n",
       "  float: right;\n",
       "  font-size: 1rem;\n",
       "  line-height: 1em;\n",
       "  font-family: monospace;\n",
       "  background-color: var(--sklearn-color-background);\n",
       "  border-radius: 1rem;\n",
       "  height: 1rem;\n",
       "  width: 1rem;\n",
       "  text-decoration: none;\n",
       "  /* unfitted */\n",
       "  color: var(--sklearn-color-unfitted-level-1);\n",
       "  border: var(--sklearn-color-unfitted-level-1) 1pt solid;\n",
       "}\n",
       "\n",
       "#sk-container-id-5 a.estimator_doc_link.fitted {\n",
       "  /* fitted */\n",
       "  border: var(--sklearn-color-fitted-level-1) 1pt solid;\n",
       "  color: var(--sklearn-color-fitted-level-1);\n",
       "}\n",
       "\n",
       "/* On hover */\n",
       "#sk-container-id-5 a.estimator_doc_link:hover {\n",
       "  /* unfitted */\n",
       "  background-color: var(--sklearn-color-unfitted-level-3);\n",
       "  color: var(--sklearn-color-background);\n",
       "  text-decoration: none;\n",
       "}\n",
       "\n",
       "#sk-container-id-5 a.estimator_doc_link.fitted:hover {\n",
       "  /* fitted */\n",
       "  background-color: var(--sklearn-color-fitted-level-3);\n",
       "}\n",
       "</style><div id=\"sk-container-id-5\" class=\"sk-top-container\"><div class=\"sk-text-repr-fallback\"><pre>LinearRegression()</pre><b>In a Jupyter environment, please rerun this cell to show the HTML representation or trust the notebook. <br />On GitHub, the HTML representation is unable to render, please try loading this page with nbviewer.org.</b></div><div class=\"sk-container\" hidden><div class=\"sk-item\"><div class=\"sk-estimator fitted sk-toggleable\"><input class=\"sk-toggleable__control sk-hidden--visually\" id=\"sk-estimator-id-5\" type=\"checkbox\" checked><label for=\"sk-estimator-id-5\" class=\"sk-toggleable__label fitted sk-toggleable__label-arrow fitted\">&nbsp;&nbsp;LinearRegression<a class=\"sk-estimator-doc-link fitted\" rel=\"noreferrer\" target=\"_blank\" href=\"https://scikit-learn.org/1.4/modules/generated/sklearn.linear_model.LinearRegression.html\">?<span>Documentation for LinearRegression</span></a><span class=\"sk-estimator-doc-link fitted\">i<span>Fitted</span></span></label><div class=\"sk-toggleable__content fitted\"><pre>LinearRegression()</pre></div> </div></div></div></div>"
      ],
      "text/plain": [
       "LinearRegression()"
      ]
     },
     "execution_count": 178,
     "metadata": {},
     "output_type": "execute_result"
    }
   ],
   "source": [
    "model = LinearRegression()\n",
    "model.fit(x,y)"
   ]
  },
  {
   "cell_type": "code",
   "execution_count": 179,
   "metadata": {},
   "outputs": [
    {
     "data": {
      "text/plain": [
       "array([89.52596582])"
      ]
     },
     "execution_count": 179,
     "metadata": {},
     "output_type": "execute_result"
    }
   ],
   "source": [
    "model.coef_"
   ]
  },
  {
   "cell_type": "code",
   "execution_count": 180,
   "metadata": {},
   "outputs": [
    {
     "data": {
      "text/plain": [
       "0.84257316455032"
      ]
     },
     "execution_count": 180,
     "metadata": {},
     "output_type": "execute_result"
    }
   ],
   "source": [
    "model.intercept_"
   ]
  },
  {
   "cell_type": "code",
   "execution_count": 181,
   "metadata": {},
   "outputs": [
    {
     "name": "stdout",
     "output_type": "stream",
     "text": [
      "Total time taken 0.09235715866088867\n"
     ]
    }
   ],
   "source": [
    "import time\n",
    "\n",
    "b = -20\n",
    "m = 20\n",
    "all_b = []\n",
    "all_m = []\n",
    "all_cost = []\n",
    "all_lr = []\n",
    "\n",
    "\n",
    "epochs = 1\n",
    "\n",
    "start = time.time()\n",
    "\n",
    "t0,t1 = 5,50\n",
    "def learning_rate(t):\n",
    "    return t0/(t + t1)\n",
    "\n",
    "for i in range(epochs):\n",
    "    for j in range(x.shape[0]):\n",
    "        \n",
    "        lr = learning_rate(i * x.shape[0] + j)\n",
    "        \n",
    "        idx = np.random.randint(x.shape[0], size=1)\n",
    "        \n",
    "        slope_b = -2 * (y[idx] - (m * x[idx]) -  b)\n",
    "        slope_m = -2 * (y[idx] - (m * x[idx]) -  b) * x[idx]\n",
    "        cost = (y[idx] - m * x[idx] -b) ** 2\n",
    "        \n",
    "        \n",
    "        b = b - (lr * slope_b)\n",
    "        m = m - (lr * slope_m)\n",
    "        all_b.append(b)\n",
    "        all_m.append(m)\n",
    "        all_cost.append(cost)\n",
    "        all_lr.append(lr)\n",
    "print(\"Total time taken\",time.time() - start)"
   ]
  },
  {
   "cell_type": "code",
   "execution_count": 182,
   "metadata": {},
   "outputs": [
    {
     "data": {
      "text/plain": [
       "1000"
      ]
     },
     "execution_count": 182,
     "metadata": {},
     "output_type": "execute_result"
    }
   ],
   "source": [
    "len(all_cost)"
   ]
  },
  {
   "cell_type": "code",
   "execution_count": 183,
   "metadata": {},
   "outputs": [
    {
     "data": {
      "image/png": "[encoded data removed]",
      "text/plain": [
       "<Figure size 900x500 with 1 Axes>"
      ]
     },
     "metadata": {},
     "output_type": "display_data"
    }
   ],
   "source": [
    "fig, ax = plt.subplots(figsize=(9,5))\n",
    "\n",
    "\n",
    "x_i = np.arange(-3, 3, 0.1)\n",
    "y_i = x_i*(-27) -150\n",
    "ax.scatter(x, y)\n",
    "line, = ax.plot(x_i, x_i*50 - 4, 'r-', linewidth=2)\n",
    "\n",
    "def update(i):\n",
    "    label = 'epoch {0}'.format(i + 1)\n",
    "    line.set_ydata(x_i*all_m[i] + all_b[i])\n",
    "    ax.set_xlabel(label)\n",
    "    \n",
    "\n",
    "anim = FuncAnimation(fig, update, frames=100, interval=5)\n",
    "\n",
    "f = r\"stochastic_animation_line_plot.gif\" \n",
    "writergif = animation.PillowWriter(fps=2) \n",
    "anim.save(f, writer=writergif)"
   ]
  },
  {
   "cell_type": "code",
   "execution_count": 184,
   "metadata": {},
   "outputs": [],
   "source": [
    "m_arr = np.linspace(-150, 150, 10)\n",
    "b_arr = np.linspace(-150, 150, 10)\n",
    "mGrid, bGrid = np.meshgrid(m_arr,b_arr)\n",
    "\n",
    "final = np.vstack((mGrid.ravel().reshape(1,100),bGrid.ravel().reshape(1,100))).T\n",
    "\n",
    "z_arr = []\n",
    "\n",
    "for i in range(final.shape[0]):\n",
    "    z_arr.append(np.sum((y - final[i,0]*x.reshape(1000) - final[i,1])**2))\n",
    "\n",
    "z_arr = np.array(z_arr).reshape(10,10)"
   ]
  },
  {
   "cell_type": "code",
   "execution_count": 185,
   "metadata": {},
   "outputs": [
    {
     "name": "stdout",
     "output_type": "stream",
     "text": [
      "Frame 0: m = [[20.9965673]], b = [[-21.62110332]]\n"
     ]
    },
    {
     "data": {
      "image/png": "[encoded data removed]",
      "text/plain": [
       "<Figure size 900x500 with 1 Axes>"
      ]
     },
     "metadata": {},
     "output_type": "display_data"
    }
   ],
   "source": [
    "from matplotlib.animation import FuncAnimation\n",
    "import matplotlib.animation as animation\n",
    "\n",
    "\n",
    "num_epochs = list(range(0,30))\n",
    "fig = plt.figure(figsize=(9,5)) \n",
    "axis = plt.axes(xlim =(-150, 150), ylim =(-150, 150)) \n",
    "\n",
    "axis.contourf(m_arr, b_arr, z_arr)\n",
    "\n",
    "line, = axis.plot([], [], lw = 2,color='white') \n",
    "  \n",
    "xdata, ydata = [], [] \n",
    "  \n",
    " \n",
    "def animate(i): \n",
    "    label = 'epoch {0}'.format(i + 1)\n",
    "    xdata.append(all_m[i]) \n",
    "    ydata.append(all_b[i]) \n",
    "    line.set_data(xdata, ydata) \n",
    "    axis.set_xlabel(label)\n",
    "    \n",
    "    print(f\"Frame {i}: m = {all_m[i]}, b = {all_b[i]}\")  # Debugging print\n",
    "    \n",
    "    return line,\n",
    "     \n",
    "anim = animation.FuncAnimation(fig, animate, frames = 100,repeat=False, interval = 100)"
   ]
  },
  {
   "cell_type": "code",
   "execution_count": 186,
   "metadata": {},
   "outputs": [
    {
     "name": "stdout",
     "output_type": "stream",
     "text": [
      "Frame 0: m = -100.0, b = -100.0\n",
      "Frame 0: m = -100.0, b = -100.0\n",
      "Frame 1: m = -97.97979797979798, b = -97.97979797979798\n",
      "Frame 2: m = -95.95959595959596, b = -95.95959595959596\n",
      "Frame 3: m = -93.93939393939394, b = -93.93939393939394\n",
      "Frame 4: m = -91.91919191919192, b = -91.91919191919192\n",
      "Frame 5: m = -89.8989898989899, b = -89.8989898989899\n",
      "Frame 6: m = -87.87878787878788, b = -87.87878787878788\n",
      "Frame 7: m = -85.85858585858585, b = -85.85858585858585\n",
      "Frame 8: m = -83.83838383838383, b = -83.83838383838383\n",
      "Frame 9: m = -81.81818181818181, b = -81.81818181818181\n",
      "Frame 10: m = -79.79797979797979, b = -79.79797979797979\n",
      "Frame 11: m = -77.77777777777777, b = -77.77777777777777\n",
      "Frame 12: m = -75.75757575757575, b = -75.75757575757575\n",
      "Frame 13: m = -73.73737373737373, b = -73.73737373737373\n",
      "Frame 14: m = -71.71717171717171, b = -71.71717171717171\n",
      "Frame 15: m = -69.69696969696969, b = -69.69696969696969\n",
      "Frame 16: m = -67.67676767676767, b = -67.67676767676767\n",
      "Frame 17: m = -65.65656565656565, b = -65.65656565656565\n",
      "Frame 18: m = -63.63636363636363, b = -63.63636363636363\n",
      "Frame 19: m = -61.61616161616161, b = -61.61616161616161\n",
      "Frame 20: m = -59.59595959595959, b = -59.59595959595959\n",
      "Frame 21: m = -57.57575757575757, b = -57.57575757575757\n",
      "Frame 22: m = -55.55555555555555, b = -55.55555555555555\n",
      "Frame 23: m = -53.53535353535353, b = -53.53535353535353\n",
      "Frame 24: m = -51.515151515151516, b = -51.515151515151516\n",
      "Frame 25: m = -49.494949494949495, b = -49.494949494949495\n",
      "Frame 26: m = -47.474747474747474, b = -47.474747474747474\n",
      "Frame 27: m = -45.45454545454545, b = -45.45454545454545\n",
      "Frame 28: m = -43.43434343434343, b = -43.43434343434343\n",
      "Frame 29: m = -41.41414141414141, b = -41.41414141414141\n",
      "Frame 30: m = -39.39393939393939, b = -39.39393939393939\n",
      "Frame 31: m = -37.37373737373737, b = -37.37373737373737\n",
      "Frame 32: m = -35.35353535353535, b = -35.35353535353535\n",
      "Frame 33: m = -33.33333333333333, b = -33.33333333333333\n",
      "Frame 34: m = -31.313131313131308, b = -31.313131313131308\n",
      "Frame 35: m = -29.292929292929287, b = -29.292929292929287\n",
      "Frame 36: m = -27.272727272727266, b = -27.272727272727266\n",
      "Frame 37: m = -25.252525252525245, b = -25.252525252525245\n",
      "Frame 38: m = -23.232323232323225, b = -23.232323232323225\n",
      "Frame 39: m = -21.212121212121204, b = -21.212121212121204\n",
      "Frame 40: m = -19.191919191919183, b = -19.191919191919183\n",
      "Frame 41: m = -17.171717171717162, b = -17.171717171717162\n",
      "Frame 42: m = -15.151515151515142, b = -15.151515151515142\n",
      "Frame 43: m = -13.13131313131312, b = -13.13131313131312\n",
      "Frame 44: m = -11.1111111111111, b = -11.1111111111111\n",
      "Frame 45: m = -9.09090909090908, b = -9.09090909090908\n",
      "Frame 46: m = -7.0707070707070585, b = -7.0707070707070585\n",
      "Frame 47: m = -5.050505050505038, b = -5.050505050505038\n",
      "Frame 48: m = -3.030303030303031, b = -3.030303030303031\n",
      "Frame 49: m = -1.0101010101010104, b = -1.0101010101010104\n",
      "Frame 50: m = 1.0101010101010104, b = 1.0101010101010104\n",
      "Frame 51: m = 3.030303030303031, b = 3.030303030303031\n",
      "Frame 52: m = 5.050505050505052, b = 5.050505050505052\n",
      "Frame 53: m = 7.070707070707073, b = 7.070707070707073\n",
      "Frame 54: m = 9.090909090909093, b = 9.090909090909093\n",
      "Frame 55: m = 11.111111111111114, b = 11.111111111111114\n",
      "Frame 56: m = 13.131313131313135, b = 13.131313131313135\n",
      "Frame 57: m = 15.151515151515156, b = 15.151515151515156\n",
      "Frame 58: m = 17.171717171717177, b = 17.171717171717177\n",
      "Frame 59: m = 19.191919191919197, b = 19.191919191919197\n",
      "Frame 60: m = 21.212121212121218, b = 21.212121212121218\n",
      "Frame 61: m = 23.23232323232324, b = 23.23232323232324\n",
      "Frame 62: m = 25.25252525252526, b = 25.25252525252526\n",
      "Frame 63: m = 27.27272727272728, b = 27.27272727272728\n",
      "Frame 64: m = 29.2929292929293, b = 29.2929292929293\n",
      "Frame 65: m = 31.313131313131322, b = 31.313131313131322\n",
      "Frame 66: m = 33.33333333333334, b = 33.33333333333334\n",
      "Frame 67: m = 35.353535353535364, b = 35.353535353535364\n",
      "Frame 68: m = 37.373737373737384, b = 37.373737373737384\n",
      "Frame 69: m = 39.393939393939405, b = 39.393939393939405\n",
      "Frame 70: m = 41.414141414141426, b = 41.414141414141426\n",
      "Frame 71: m = 43.43434343434345, b = 43.43434343434345\n",
      "Frame 72: m = 45.45454545454547, b = 45.45454545454547\n",
      "Frame 73: m = 47.47474747474749, b = 47.47474747474749\n",
      "Frame 74: m = 49.49494949494951, b = 49.49494949494951\n",
      "Frame 75: m = 51.51515151515153, b = 51.51515151515153\n",
      "Frame 76: m = 53.53535353535355, b = 53.53535353535355\n",
      "Frame 77: m = 55.55555555555557, b = 55.55555555555557\n",
      "Frame 78: m = 57.57575757575759, b = 57.57575757575759\n",
      "Frame 79: m = 59.59595959595961, b = 59.59595959595961\n",
      "Frame 80: m = 61.616161616161634, b = 61.616161616161634\n",
      "Frame 81: m = 63.636363636363654, b = 63.636363636363654\n",
      "Frame 82: m = 65.65656565656568, b = 65.65656565656568\n",
      "Frame 83: m = 67.6767676767677, b = 67.6767676767677\n",
      "Frame 84: m = 69.69696969696972, b = 69.69696969696972\n",
      "Frame 85: m = 71.71717171717174, b = 71.71717171717174\n",
      "Frame 86: m = 73.73737373737376, b = 73.73737373737376\n",
      "Frame 87: m = 75.75757575757578, b = 75.75757575757578\n",
      "Frame 88: m = 77.7777777777778, b = 77.7777777777778\n",
      "Frame 89: m = 79.79797979797982, b = 79.79797979797982\n",
      "Frame 90: m = 81.81818181818184, b = 81.81818181818184\n",
      "Frame 91: m = 83.83838383838386, b = 83.83838383838386\n",
      "Frame 92: m = 85.85858585858588, b = 85.85858585858588\n",
      "Frame 93: m = 87.8787878787879, b = 87.8787878787879\n",
      "Frame 94: m = 89.89898989898992, b = 89.89898989898992\n",
      "Frame 95: m = 91.91919191919195, b = 91.91919191919195\n",
      "Frame 96: m = 93.93939393939394, b = 93.93939393939394\n",
      "Frame 97: m = 95.95959595959596, b = 95.95959595959596\n",
      "Frame 98: m = 97.97979797979798, b = 97.97979797979798\n",
      "Frame 99: m = 100.0, b = 100.0\n"
     ]
    },
    {
     "data": {
      "image/png": "[encoded data removed]",
      "text/plain": [
       "<Figure size 900x500 with 1 Axes>"
      ]
     },
     "metadata": {},
     "output_type": "display_data"
    }
   ],
   "source": [
    "m_arr = np.linspace(-150, 150, 10)\n",
    "b_arr = np.linspace(-150, 150, 10)\n",
    "mGrid, bGrid = np.meshgrid(m_arr, b_arr)\n",
    "\n",
    "final = np.vstack((mGrid.ravel().reshape(1, 100), bGrid.ravel().reshape(1, 100))).T\n",
    "\n",
    "z_arr = []\n",
    "\n",
    "# Replace x and y with your actual data\n",
    "x = np.random.rand(100) * 300 - 150\n",
    "y = np.random.rand(100) * 300 - 150\n",
    "\n",
    "for i in range(final.shape[0]):\n",
    "    z_arr.append(np.sum((y - final[i, 0] * x.reshape(100) - final[i, 1])**2))\n",
    "\n",
    "z_arr = np.array(z_arr).reshape(10, 10)\n",
    "\n",
    "# Example values for animation (replace these with your actual data)\n",
    "all_m = np.linspace(-100, 100, 100)\n",
    "all_b = np.linspace(-100, 100, 100)\n",
    "num_epochs = list(range(0, 100))\n",
    "\n",
    "# Set up the figure and axis\n",
    "fig = plt.figure(figsize=(9, 5)) \n",
    "axis = plt.axes(xlim=(-150, 150), ylim=(-150, 150))\n",
    "\n",
    "# Contour plot\n",
    "axis.contourf(m_arr, b_arr, z_arr)\n",
    "\n",
    "# Initialize a line that will be updated in the animation\n",
    "line, = axis.plot([], [], lw=2, color='white')\n",
    "\n",
    "# Initialize data lists for the line\n",
    "xdata, ydata = [], []\n",
    "\n",
    "# Animation function\n",
    "def animate(i): \n",
    "    label = f'epoch {i + 1}'\n",
    "    xdata.append(all_m[i]) \n",
    "    ydata.append(all_b[i]) \n",
    "    line.set_data(xdata, ydata) \n",
    "    axis.set_xlabel(label)\n",
    "    \n",
    "    # Debugging output\n",
    "    print(f\"Frame {i}: m = {all_m[i]}, b = {all_b[i]}\") \n",
    "    \n",
    "    return line,\n",
    "\n",
    "# Create the animation\n",
    "anim = animation.FuncAnimation(fig, animate, frames=len(num_epochs), repeat=False, interval=100)\n",
    "\n",
    "# Save the animation as a GIF\n",
    "f = r\"animation7.gif\" \n",
    "writergif = animation.PillowWriter(fps=2) \n",
    "anim.save(f, writer=writergif)\n",
    "\n",
    "plt.show()"
   ]
  },
  {
   "cell_type": "code",
   "execution_count": 187,
   "metadata": {},
   "outputs": [
    {
     "data": {
      "text/plain": [
       "100.0"
      ]
     },
     "execution_count": 187,
     "metadata": {},
     "output_type": "execute_result"
    }
   ],
   "source": [
    "all_b[-1]"
   ]
  },
  {
   "cell_type": "code",
   "execution_count": 188,
   "metadata": {},
   "outputs": [
    {
     "data": {
      "text/plain": [
       "100.0"
      ]
     },
     "execution_count": 188,
     "metadata": {},
     "output_type": "execute_result"
    }
   ],
   "source": [
    "all_m[-1]"
   ]
  },
  {
   "cell_type": "code",
   "execution_count": 189,
   "metadata": {},
   "outputs": [
    {
     "data": {
      "image/png": "[encoded data removed]",
      "text/plain": [
       "<Figure size 900x500 with 1 Axes>"
      ]
     },
     "metadata": {},
     "output_type": "display_data"
    }
   ],
   "source": [
    "num_epochs = list(range(0,100))\n",
    "fig = plt.figure(figsize=(9,5)) \n",
    "axis = plt.axes(xlim =(0, 31), ylim =(0, 175000)) \n",
    "  \n",
    "line, = axis.plot([], [], lw = 2) \n",
    "  \n",
    "xdata, ydata = [], [] \n",
    "  \n",
    "# animation function \n",
    "def animate(i): \n",
    "    label = 'epoch {0}'.format(i + 1)\n",
    "    xdata.append(num_epochs[i]) \n",
    "    ydata.append(all_cost[i]) \n",
    "    line.set_data(xdata, ydata) \n",
    "    axis.set_xlabel(label)\n",
    "      \n",
    "    return line, \n",
    "  \n",
    "# calling the animation function     \n",
    "anim = animation.FuncAnimation(fig, animate, frames = 100,repeat=False, interval = 150)\n",
    "\n",
    "f = r\"stochastic_animation_cost_plot.gif\" \n",
    "writergif = animation.PillowWriter(fps=2) \n",
    "anim.save(f, writer=writergif)"
   ]
  },
  {
   "cell_type": "code",
   "execution_count": 190,
   "metadata": {},
   "outputs": [
    {
     "data": {
      "image/png": "[encoded data removed]",
      "text/plain": [
       "<Figure size 640x480 with 2 Axes>"
      ]
     },
     "metadata": {},
     "output_type": "display_data"
    },
    {
     "data": {
      "text/plain": [
       "<Figure size 1800x400 with 0 Axes>"
      ]
     },
     "metadata": {},
     "output_type": "display_data"
    }
   ],
   "source": [
    "fig,ax=plt.subplots(1,1)\n",
    "plt.figure(figsize=(18,4))\n",
    "cp = ax.contourf(m_arr, b_arr, z_arr)\n",
    "ax.plot(np.array(all_m).ravel(),np.array(all_b).ravel(),color='white')\n",
    "fig.colorbar(cp) # Add a colorbar to a plot\n",
    "ax.set_title('Filled Contours Plot')\n",
    "ax.set_xlabel('m')\n",
    "ax.set_ylabel('b')\n",
    "plt.show()"
   ]
  },
  {
   "cell_type": "code",
   "execution_count": 191,
   "metadata": {},
   "outputs": [
    {
     "data": {
      "text/plain": [
       "0.1"
      ]
     },
     "execution_count": 191,
     "metadata": {},
     "output_type": "execute_result"
    }
   ],
   "source": [
    "all_lr[0]"
   ]
  },
  {
   "cell_type": "code",
   "execution_count": 192,
   "metadata": {},
   "outputs": [
    {
     "data": {
      "text/plain": [
       "0.004766444232602479"
      ]
     },
     "execution_count": 192,
     "metadata": {},
     "output_type": "execute_result"
    }
   ],
   "source": [
    "\n",
    "all_lr[-1]"
   ]
  },
  {
   "cell_type": "code",
   "execution_count": null,
   "metadata": {},
   "outputs": [],
   "source": []
  }
 ],
 "metadata": {
  "kernelspec": {
   "display_name": "Python 3",
   "language": "python",
   "name": "python3"
  },
  "language_info": {
   "codemirror_mode": {
    "name": "ipython",
    "version": 3
   },
   "file_extension": ".py",
   "mimetype": "text/x-python",
   "name": "python",
   "nbconvert_exporter": "python",
   "pygments_lexer": "ipython3",
   "version": "3.12.2"
  }
 },
 "nbformat": 4,
 "nbformat_minor": 2
}
