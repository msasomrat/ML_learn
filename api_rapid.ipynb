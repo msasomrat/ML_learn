{
 "cells": [
  {
   "cell_type": "code",
   "execution_count": 23,
   "metadata": {},
   "outputs": [
    {
     "name": "stdout",
     "output_type": "stream",
     "text": [
      "{'get': 'countries', 'parameters': [], 'errors': [], 'results': 231, 'response': ['Afghanistan', 'Albania', 'Algeria', 'Andorra', 'Angola', 'Anguilla', 'Antigua-and-Barbuda', 'Argentina', 'Armenia', 'Aruba', 'Australia', 'Austria', 'Azerbaijan', 'Bahamas', 'Bahrain', 'Bangladesh', 'Barbados', 'Belarus', 'Belgium', 'Belize', 'Benin', 'Bermuda', 'Bhutan', 'Bolivia', 'Bosnia-and-Herzegovina', 'Botswana', 'Brazil', 'British-Virgin-Islands', 'Brunei', 'Bulgaria', 'Burkina-Faso', 'Burundi', 'Cabo-Verde', 'Cambodia', 'Cameroon', 'Canada', 'CAR', 'Caribbean-Netherlands', 'Cayman-Islands', 'Chad', 'Channel-Islands', 'Chile', 'China', 'Colombia', 'Comoros', 'Congo', 'Cook-Islands', 'Costa-Rica', 'Croatia', 'Cuba', 'Cura&ccedil;ao', 'Cyprus', 'Czechia', 'Denmark', 'Diamond-Princess', 'Djibouti', 'Dominica', 'Dominican-Republic', 'DPRK', 'DRC', 'Ecuador', 'Egypt', 'El-Salvador', 'Equatorial-Guinea', 'Eritrea', 'Estonia', 'Eswatini', 'Ethiopia', 'Faeroe-Islands', 'Falkland-Islands', 'Fiji', 'Finland', 'France', 'French-Guiana', 'French-Polynesia', 'Gabon', 'Gambia', 'Georgia', 'Germany', 'Ghana', 'Gibraltar', 'Greece', 'Greenland', 'Grenada', 'Guadeloupe', 'Guatemala', 'Guinea', 'Guinea-Bissau', 'Guyana', 'Haiti', 'Honduras', 'Hong-Kong', 'Hungary', 'Iceland', 'India', 'Indonesia', 'Iran', 'Iraq', 'Ireland', 'Isle-of-Man', 'Israel', 'Italy', 'Ivory-Coast', 'Jamaica', 'Japan', 'Jordan', 'Kazakhstan', 'Kenya', 'Kiribati', 'Kuwait', 'Kyrgyzstan', 'Laos', 'Latvia', 'Lebanon', 'Lesotho', 'Liberia', 'Libya', 'Liechtenstein', 'Lithuania', 'Luxembourg', 'Macao', 'Madagascar', 'Malawi', 'Malaysia', 'Maldives', 'Mali', 'Malta', 'Marshall-Islands', 'Martinique', 'Mauritania', 'Mauritius', 'Mayotte', 'Mexico', 'Micronesia', 'Moldova', 'Monaco', 'Mongolia', 'Montenegro', 'Montserrat', 'Morocco', 'Mozambique', 'MS-Zaandam', 'Myanmar', 'Namibia', 'Nauru', 'Nepal', 'Netherlands', 'New-Caledonia', 'New-Zealand', 'Nicaragua', 'Niger', 'Nigeria', 'Niue', 'North-Macedonia', 'Norway', 'Oman', 'Pakistan', 'Palau', 'Palestine', 'Panama', 'Papua-New-Guinea', 'Paraguay', 'Peru', 'Philippines', 'Poland', 'Portugal', 'Qatar', 'R&eacute;union', 'Romania', 'Russia', 'Rwanda', 'S-Korea', 'Saint-Helena', 'Saint-Kitts-and-Nevis', 'Saint-Lucia', 'Saint-Martin', 'Saint-Pierre-Miquelon', 'Samoa', 'San-Marino', 'Sao-Tome-and-Principe', 'Saudi-Arabia', 'Senegal', 'Serbia', 'Seychelles', 'Sierra-Leone', 'Singapore', 'Sint-Maarten', 'Slovakia', 'Slovenia', 'Solomon-Islands', 'Somalia', 'South-Africa', 'South-Sudan', 'Spain', 'Sri-Lanka', 'St-Barth', 'St-Vincent-Grenadines', 'Sudan', 'Suriname', 'Sweden', 'Switzerland', 'Syria', 'Taiwan', 'Tajikistan', 'Tanzania', 'Thailand', 'Timor-Leste', 'Togo', 'Tokelau', 'Tonga', 'Trinidad-and-Tobago', 'Tunisia', 'Turkey', 'Turks-and-Caicos', 'Tuvalu', 'UAE', 'Uganda', 'UK', 'Ukraine', 'Uruguay', 'USA', 'Uzbekistan', 'Vanuatu', 'Vatican-City', 'Venezuela', 'Vietnam', 'Wallis-and-Futuna', 'Western-Sahara', 'Yemen', 'Zambia', 'Zimbabwe']}\n"
     ]
    }
   ],
   "source": [
    "import requests\n",
    "\n",
    "url = \"https://covid-193.p.rapidapi.com/countries\"\n",
    "\n",
    "headers = {\n",
    "\t\"x-rapidapi-key\": \"4689861f72mshf62540dd3f99f64p145cd5jsn20845b69381f\",\n",
    "\t\"x-rapidapi-host\": \"covid-193.p.rapidapi.com\"\n",
    "}\n",
    "\n",
    "response = requests.get(url, headers=headers)\n",
    "\n",
    "print(response.json())"
   ]
  },
  {
   "cell_type": "code",
   "execution_count": 26,
   "metadata": {},
   "outputs": [
    {
     "name": "stdout",
     "output_type": "stream",
     "text": [
      "No data found for Cura&ccedil;ao\n",
      "No data found for R&eacute;union\n",
      "Data saved to country_covid_data.csv\n"
     ]
    }
   ],
   "source": [
    "\n",
    "import pandas as pd\n",
    "\n",
    "\n",
    "\n",
    "base_url = \"https://covid-193.p.rapidapi.com\"\n",
    "headers = {\n",
    "    \"x-rapidapi-key\": \"4689861f72mshf62540dd3f99f64p145cd5jsn20845b69381f\",\n",
    "    \"x-rapidapi-host\": \"covid-193.p.rapidapi.com\"\n",
    "}\n",
    "\n",
    "\n",
    "countries_url = f\"{base_url}/countries\"\n",
    "response = requests.get(countries_url, headers=headers)\n",
    "\n",
    "if response.status_code == 200:\n",
    "    countries = response.json()['response']\n",
    "else:\n",
    "    print(f\"Failed to fetch countries with status code {response.status_code}\")\n",
    "    countries = []\n",
    "\n",
    "\n",
    "country_data = []\n",
    "\n",
    "for country in countries:\n",
    "    country_info_url = f\"{base_url}/statistics\"\n",
    "    querystring = {\"country\": country}\n",
    "    response = requests.get(country_info_url, headers=headers, params=querystring)\n",
    "    \n",
    "    if response.status_code == 200:\n",
    "        country_info_response = response.json()['response']\n",
    "        if country_info_response:\n",
    "            country_info = country_info_response[0]  \n",
    "            country_data.append(country_info)\n",
    "        else:\n",
    "            print(f\"No data found for {country}\")\n",
    "    else:\n",
    "        print(f\"Failed to fetch data for {country} with status code {response.status_code}\")\n",
    "    \n",
    "   \n",
    "\n",
    "\n",
    "df = pd.DataFrame(country_data)\n",
    "\n",
    "\n",
    "df.to_csv('country_covid_data.csv', index=False)\n",
    "\n",
    "print(\"Data saved to country_covid_data.csv\")\n"
   ]
  },
  {
   "cell_type": "code",
   "execution_count": 27,
   "metadata": {},
   "outputs": [
    {
     "name": "stdout",
     "output_type": "stream",
     "text": [
      "{'Meta Data': {'1. Information': 'Daily Prices (open, high, low, close) and Volumes', '2. Symbol': 'MSFT', '3. Last Refreshed': '2024-07-12', '4. Output Size': 'Compact', '5. Time Zone': 'US/Eastern'}, 'Time Series (Daily)': {'2024-07-12': {'1. open': '454.3250', '2. high': '456.3600', '3. low': '450.6450', '4. close': '453.5500', '5. volume': '16207015'}, '2024-07-11': {'1. open': '462.9800', '2. high': '464.7800', '3. low': '451.5500', '4. close': '454.7000', '5. volume': '23111175'}, '2024-07-10': {'1. open': '461.2200', '2. high': '466.4600', '3. low': '458.8550', '4. close': '466.2500', '5. volume': '18196100'}, '2024-07-09': {'1. open': '467.0000', '2. high': '467.3300', '3. low': '458.0000', '4. close': '459.5400', '5. volume': '17228507'}, '2024-07-08': {'1. open': '466.5500', '2. high': '467.7000', '3. low': '464.4600', '4. close': '466.2400', '5. volume': '12962321'}, '2024-07-05': {'1. open': '459.6100', '2. high': '468.3500', '3. low': '458.9650', '4. close': '467.5600', '5. volume': '16000290'}, '2024-07-03': {'1. open': '458.1900', '2. high': '461.0200', '3. low': '457.8800', '4. close': '460.7700', '5. volume': '9932830'}, '2024-07-02': {'1. open': '453.2000', '2. high': '459.5900', '3. low': '453.1130', '4. close': '459.2800', '5. volume': '13979779'}, '2024-07-01': {'1. open': '448.6600', '2. high': '457.3700', '3. low': '445.6600', '4. close': '456.7300', '5. volume': '17662818'}, '2024-06-28': {'1. open': '453.0700', '2. high': '455.3800', '3. low': '446.4100', '4. close': '446.9500', '5. volume': '28362271'}, '2024-06-27': {'1. open': '452.1750', '2. high': '456.1700', '3. low': '451.7700', '4. close': '452.8500', '5. volume': '14806324'}, '2024-06-26': {'1. open': '449.0000', '2. high': '453.6000', '3. low': '448.1900', '4. close': '452.1600', '5. volume': '16507030'}, '2024-06-25': {'1. open': '448.2500', '2. high': '451.4200', '3. low': '446.7500', '4. close': '450.9500', '5. volume': '16747529'}, '2024-06-24': {'1. open': '449.8000', '2. high': '452.7500', '3. low': '446.4100', '4. close': '447.6700', '5. volume': '15913719'}, '2024-06-21': {'1. open': '447.3800', '2. high': '450.5800', '3. low': '446.5100', '4. close': '449.7800', '5. volume': '34486172'}, '2024-06-20': {'1. open': '446.3000', '2. high': '446.5300', '3. low': '441.2700', '4. close': '445.7000', '5. volume': '19877378'}, '2024-06-18': {'1. open': '449.7050', '2. high': '450.1400', '3. low': '444.8900', '4. close': '446.3400', '5. volume': '17112504'}, '2024-06-17': {'1. open': '442.5850', '2. high': '450.9400', '3. low': '440.7200', '4. close': '448.3700', '5. volume': '20790030'}, '2024-06-14': {'1. open': '438.2750', '2. high': '443.1376', '3. low': '436.7210', '4. close': '442.5700', '5. volume': '13581985'}, '2024-06-13': {'1. open': '440.8500', '2. high': '443.3900', '3. low': '439.3700', '4. close': '441.5800', '5. volume': '15960565'}, '2024-06-12': {'1. open': '435.3200', '2. high': '443.4000', '3. low': '433.2500', '4. close': '441.0600', '5. volume': '22366233'}, '2024-06-11': {'1. open': '425.4750', '2. high': '432.8200', '3. low': '425.2500', '4. close': '432.6800', '5. volume': '14551101'}, '2024-06-10': {'1. open': '424.7000', '2. high': '428.0800', '3. low': '423.8900', '4. close': '427.8700', '5. volume': '14003034'}, '2024-06-07': {'1. open': '426.2000', '2. high': '426.2800', '3. low': '423.0000', '4. close': '423.8500', '5. volume': '13621650'}, '2024-06-06': {'1. open': '424.0100', '2. high': '425.3100', '3. low': '420.5800', '4. close': '424.5200', '5. volume': '14861251'}, '2024-06-05': {'1. open': '417.8100', '2. high': '424.0800', '3. low': '416.3000', '4. close': '424.0100', '5. volume': '16988038'}, '2024-06-04': {'1. open': '412.4300', '2. high': '416.4400', '3. low': '409.6750', '4. close': '416.0700', '5. volume': '14348917'}, '2024-06-03': {'1. open': '415.5250', '2. high': '416.4300', '3. low': '408.9234', '4. close': '413.5200', '5. volume': '17484675'}, '2024-05-31': {'1. open': '416.7500', '2. high': '416.7500', '3. low': '404.5100', '4. close': '415.1300', '5. volume': '47995250'}, '2024-05-30': {'1. open': '424.3000', '2. high': '424.3000', '3. low': '414.2400', '4. close': '414.6700', '5. volume': '28424847'}, '2024-05-29': {'1. open': '425.6900', '2. high': '430.9400', '3. low': '425.6900', '4. close': '429.1700', '5. volume': '15517130'}, '2024-05-28': {'1. open': '429.6300', '2. high': '430.8200', '3. low': '426.6000', '4. close': '430.3200', '5. volume': '15718024'}, '2024-05-24': {'1. open': '427.1900', '2. high': '431.0550', '3. low': '424.4100', '4. close': '430.1600', '5. volume': '11855285'}, '2024-05-23': {'1. open': '432.9700', '2. high': '433.6000', '3. low': '425.4240', '4. close': '427.0000', '5. volume': '17211689'}, '2024-05-22': {'1. open': '430.0900', '2. high': '432.4100', '3. low': '427.1300', '4. close': '430.5200', '5. volume': '18073698'}, '2024-05-21': {'1. open': '426.8250', '2. high': '432.9700', '3. low': '424.8500', '4. close': '429.0400', '5. volume': '21453255'}, '2024-05-20': {'1. open': '420.2100', '2. high': '426.7700', '3. low': '419.9900', '4. close': '425.3400', '5. volume': '16272137'}, '2024-05-17': {'1. open': '422.5400', '2. high': '422.9200', '3. low': '418.0250', '4. close': '420.2100', '5. volume': '15352239'}, '2024-05-16': {'1. open': '421.8000', '2. high': '425.4200', '3. low': '420.3500', '4. close': '420.9900', '5. volume': '17530050'}, '2024-05-15': {'1. open': '417.9000', '2. high': '423.8100', '3. low': '417.2700', '4. close': '423.0800', '5. volume': '22239533'}, '2024-05-14': {'1. open': '412.0200', '2. high': '417.4900', '3. low': '411.5500', '4. close': '416.5600', '5. volume': '15109306'}, '2024-05-13': {'1. open': '418.0100', '2. high': '418.3480', '3. low': '410.8200', '4. close': '413.7200', '5. volume': '15440226'}, '2024-05-10': {'1. open': '412.9350', '2. high': '415.3800', '3. low': '411.8000', '4. close': '414.7400', '5. volume': '13402281'}, '2024-05-09': {'1. open': '410.5700', '2. high': '412.7200', '3. low': '409.1000', '4. close': '412.3200', '5. volume': '14689727'}, '2024-05-08': {'1. open': '408.1700', '2. high': '412.2300', '3. low': '406.7132', '4. close': '410.5400', '5. volume': '11792308'}, '2024-05-07': {'1. open': '414.6600', '2. high': '414.6700', '3. low': '409.0900', '4. close': '409.3400', '5. volume': '20018228'}, '2024-05-06': {'1. open': '408.7600', '2. high': '413.9300', '3. low': '406.3701', '4. close': '413.5400', '5. volume': '16996639'}, '2024-05-03': {'1. open': '402.2800', '2. high': '407.1500', '3. low': '401.8600', '4. close': '406.6600', '5. volume': '17446724'}, '2024-05-02': {'1. open': '397.6600', '2. high': '399.9300', '3. low': '394.6515', '4. close': '397.8400', '5. volume': '17709364'}, '2024-05-01': {'1. open': '392.6100', '2. high': '401.7199', '3. low': '390.3100', '4. close': '394.9400', '5. volume': '23562481'}, '2024-04-30': {'1. open': '401.4900', '2. high': '402.1600', '3. low': '389.1700', '4. close': '389.3300', '5. volume': '28781374'}, '2024-04-29': {'1. open': '405.2500', '2. high': '406.3200', '3. low': '399.1900', '4. close': '402.2500', '5. volume': '19582091'}, '2024-04-26': {'1. open': '412.1700', '2. high': '413.0000', '3. low': '405.7601', '4. close': '406.3200', '5. volume': '29694654'}, '2024-04-25': {'1. open': '394.0300', '2. high': '399.8899', '3. low': '388.0300', '4. close': '399.0400', '5. volume': '40586450'}, '2024-04-24': {'1. open': '409.5600', '2. high': '412.4700', '3. low': '406.7800', '4. close': '409.0600', '5. volume': '15065330'}, '2024-04-23': {'1. open': '404.2350', '2. high': '408.2000', '3. low': '403.0600', '4. close': '407.5700', '5. volume': '15734501'}, '2024-04-22': {'1. open': '400.0800', '2. high': '402.8500', '3. low': '395.7500', '4. close': '400.9600', '5. volume': '20286875'}, '2024-04-19': {'1. open': '404.0300', '2. high': '405.4800', '3. low': '397.7700', '4. close': '399.1200', '5. volume': '30565789'}, '2024-04-18': {'1. open': '410.6300', '2. high': '411.8900', '3. low': '403.9500', '4. close': '404.2700', '5. volume': '21029917'}, '2024-04-17': {'1. open': '417.2500', '2. high': '418.8800', '3. low': '410.3300', '4. close': '411.8400', '5. volume': '15855485'}, '2024-04-16': {'1. open': '414.5700', '2. high': '418.4000', '3. low': '413.7301', '4. close': '414.5800', '5. volume': '16765616'}, '2024-04-15': {'1. open': '426.6000', '2. high': '426.8200', '3. low': '413.4300', '4. close': '413.6400', '5. volume': '20273538'}, '2024-04-12': {'1. open': '424.0500', '2. high': '425.1794', '3. low': '419.7700', '4. close': '421.9000', '5. volume': '19253750'}, '2024-04-11': {'1. open': '425.8200', '2. high': '429.3700', '3. low': '422.3600', '4. close': '427.9300', '5. volume': '17966423'}, '2024-04-10': {'1. open': '422.1900', '2. high': '424.0300', '3. low': '419.7000', '4. close': '423.2600', '5. volume': '16216581'}, '2024-04-09': {'1. open': '426.4400', '2. high': '427.7400', '3. low': '421.6200', '4. close': '426.2800', '5. volume': '12468710'}, '2024-04-08': {'1. open': '425.1700', '2. high': '427.2800', '3. low': '423.3000', '4. close': '424.5900', '5. volume': '14248192'}, '2024-04-05': {'1. open': '420.0100', '2. high': '426.5100', '3. low': '418.3200', '4. close': '425.5200', '5. volume': '16526878'}, '2024-04-04': {'1. open': '424.9900', '2. high': '428.6700', '3. low': '417.5700', '4. close': '417.8800', '5. volume': '19290884'}, '2024-04-03': {'1. open': '419.7300', '2. high': '423.2600', '3. low': '419.0850', '4. close': '420.4500', '5. volume': '16462007'}, '2024-04-02': {'1. open': '420.1100', '2. high': '422.3800', '3. low': '417.8400', '4. close': '421.4400', '5. volume': '17861855'}, '2024-04-01': {'1. open': '423.9500', '2. high': '427.8900', '3. low': '422.2200', '4. close': '424.5700', '5. volume': '15602611'}, '2024-03-28': {'1. open': '420.9600', '2. high': '421.8700', '3. low': '419.1200', '4. close': '420.7200', '5. volume': '21871161'}, '2024-03-27': {'1. open': '424.4400', '2. high': '424.4500', '3. low': '419.0100', '4. close': '421.4300', '5. volume': '16704978'}, '2024-03-26': {'1. open': '425.6100', '2. high': '425.9900', '3. low': '421.3500', '4. close': '421.6500', '5. volume': '16725647'}, '2024-03-25': {'1. open': '425.2400', '2. high': '427.4100', '3. low': '421.6100', '4. close': '422.8600', '5. volume': '18060450'}, '2024-03-22': {'1. open': '429.7000', '2. high': '429.8600', '3. low': '426.0700', '4. close': '428.7400', '5. volume': '17648473'}, '2024-03-21': {'1. open': '429.8300', '2. high': '430.8200', '3. low': '427.1600', '4. close': '429.3700', '5. volume': '21296222'}, '2024-03-20': {'1. open': '422.0000', '2. high': '425.9600', '3. low': '420.6600', '4. close': '425.2300', '5. volume': '17860085'}, '2024-03-19': {'1. open': '417.8300', '2. high': '421.6656', '3. low': '415.5500', '4. close': '421.4100', '5. volume': '19837915'}, '2024-03-18': {'1. open': '414.2500', '2. high': '420.7300', '3. low': '413.7800', '4. close': '417.3200', '5. volume': '20105977'}, '2024-03-15': {'1. open': '419.2900', '2. high': '422.6000', '3. low': '412.7900', '4. close': '416.4200', '5. volume': '45079903'}, '2024-03-14': {'1. open': '420.2400', '2. high': '427.8200', '3. low': '417.9900', '4. close': '425.2200', '5. volume': '33955263'}, '2024-03-13': {'1. open': '418.1000', '2. high': '418.1800', '3. low': '411.4500', '4. close': '415.1000', '5. volume': '16990048'}, '2024-03-12': {'1. open': '407.6200', '2. high': '415.5700', '3. low': '406.7900', '4. close': '415.2800', '5. volume': '21563656'}, '2024-03-11': {'1. open': '403.7600', '2. high': '405.6800', '3. low': '401.2600', '4. close': '404.5200', '5. volume': '15998511'}, '2024-03-08': {'1. open': '407.9600', '2. high': '410.4200', '3. low': '404.3300', '4. close': '406.2200', '5. volume': '18002186'}, '2024-03-07': {'1. open': '406.1200', '2. high': '409.7800', '3. low': '402.2400', '4. close': '409.1400', '5. volume': '18718479'}, '2024-03-06': {'1. open': '402.9700', '2. high': '405.1600', '3. low': '398.3900', '4. close': '402.0900', '5. volume': '22344149'}, '2024-03-05': {'1. open': '413.9600', '2. high': '414.2500', '3. low': '400.6400', '4. close': '402.6500', '5. volume': '26919177'}, '2024-03-04': {'1. open': '413.4400', '2. high': '417.3500', '3. low': '412.3200', '4. close': '414.9200', '5. volume': '17595956'}, '2024-03-01': {'1. open': '411.2700', '2. high': '415.8700', '3. low': '410.8800', '4. close': '415.5000', '5. volume': '17823445'}, '2024-02-29': {'1. open': '408.6400', '2. high': '414.2000', '3. low': '405.9200', '4. close': '413.6400', '5. volume': '31947263'}, '2024-02-28': {'1. open': '408.1750', '2. high': '409.3000', '3. low': '405.3201', '4. close': '407.7200', '5. volume': '13183125'}, '2024-02-27': {'1. open': '407.9900', '2. high': '408.3200', '3. low': '403.8500', '4. close': '407.4800', '5. volume': '14835827'}, '2024-02-26': {'1. open': '411.4550', '2. high': '412.1600', '3. low': '407.3600', '4. close': '407.5400', '5. volume': '16193505'}, '2024-02-23': {'1. open': '415.6700', '2. high': '415.8600', '3. low': '408.9700', '4. close': '410.3400', '5. volume': '16295879'}, '2024-02-22': {'1. open': '410.1900', '2. high': '412.8300', '3. low': '408.5700', '4. close': '411.6500', '5. volume': '27009869'}, '2024-02-21': {'1. open': '400.1700', '2. high': '402.2900', '3. low': '397.2200', '4. close': '402.1800', '5. volume': '18631072'}, '2024-02-20': {'1. open': '403.2400', '2. high': '404.4900', '3. low': '398.0100', '4. close': '402.7900', '5. volume': '24307915'}}}\n"
     ]
    }
   ],
   "source": [
    "\n",
    "\n",
    "url = \"https://alpha-vantage.p.rapidapi.com/query\"\n",
    "\n",
    "querystring = {\"function\":\"TIME_SERIES_DAILY\",\"symbol\":\"MSFT\",\"outputsize\":\"compact\",\"datatype\":\"json\"}\n",
    "\n",
    "headers = {\n",
    "\t\"x-rapidapi-key\": \"4689861f72mshf62540dd3f99f64p145cd5jsn20845b69381f\",\n",
    "\t\"x-rapidapi-host\": \"alpha-vantage.p.rapidapi.com\"\n",
    "}\n",
    "\n",
    "response = requests.get(url, headers=headers, params=querystring)\n",
    "\n",
    "print(response.json())"
   ]
  },
  {
   "cell_type": "code",
   "execution_count": 29,
   "metadata": {},
   "outputs": [
    {
     "data": {
      "text/plain": [
       "<Response [200]>"
      ]
     },
     "execution_count": 29,
     "metadata": {},
     "output_type": "execute_result"
    }
   ],
   "source": [
    "response"
   ]
  },
  {
   "cell_type": "code",
   "execution_count": 30,
   "metadata": {},
   "outputs": [
    {
     "name": "stdout",
     "output_type": "stream",
     "text": [
      "Data saved to stock_data.csv\n"
     ]
    }
   ],
   "source": [
    "import requests\n",
    "import pandas as pd\n",
    "\n",
    "# API details\n",
    "url = \"https://alpha-vantage.p.rapidapi.com/query\"\n",
    "querystring = {\n",
    "    \"function\": \"TIME_SERIES_DAILY\",\n",
    "    \"symbol\": \"MSFT\",\n",
    "    \"outputsize\": \"compact\",\n",
    "    \"datatype\": \"json\"\n",
    "}\n",
    "headers = {\n",
    "    \"x-rapidapi-key\": \"4689861f72mshf62540dd3f99f64p145cd5jsn20845b69381f\",\n",
    "    \"x-rapidapi-host\": \"alpha-vantage.p.rapidapi.com\"\n",
    "}\n",
    "\n",
    "# Step 1: Fetch stock data\n",
    "response = requests.get(url, headers=headers, params=querystring)\n",
    "\n",
    "if response.status_code == 200:\n",
    "    stock_data = response.json()\n",
    "else:\n",
    "    print(f\"Failed to fetch stock data with status code {response.status_code}\")\n",
    "    stock_data = {}\n",
    "\n",
    "# Step 2: Process the response into a DataFrame\n",
    "if stock_data:\n",
    "    time_series_data = stock_data.get('Time Series (Daily)', {})\n",
    "    df = pd.DataFrame(time_series_data).T.reset_index()\n",
    "    df.columns = ['Date', 'Open', 'High', 'Low', 'Close', 'Volume']\n",
    "else:\n",
    "    df = pd.DataFrame()\n",
    "\n",
    "# Step 3: Save the DataFrame to a CSV file\n",
    "df.to_csv('stock_data.csv', index=False)\n",
    "\n",
    "print(\"Data saved to stock_data.csv\")\n"
   ]
  },
  {
   "cell_type": "code",
   "execution_count": 32,
   "metadata": {},
   "outputs": [
    {
     "name": "stdout",
     "output_type": "stream",
     "text": [
      "{'data': [{'snow': 0, 'solar_rad': 0, 'pop': 45, 'ozone': 295, 'clouds_hi': 100, 'clouds_low': 56, 'wind_gust_spd': 9.2, 'wind_cdir': 'ESE', 'rh': 100, 'pod': 'n', 'timestamp_local': '2024-07-12T23:00:00', 'dni': 0, 'clouds': 73, 'vis': 7.6, 'wind_spd': 2.7, 'wind_cdir_full': 'east-southeast', 'slp': 1019, 'datetime': '2024-07-13:03', 'ts': 1720839600, 'dewpt': 75.6, 'uv': 0, 'wind_dir': 120, 'ghi': 0, 'dhi': 0, 'precip': 0.03, 'weather': {'description': 'Thunderstorm with rain', 'code': 201, 'icon': 't02n'}, 'temp': 75.6, 'pres': 1012, 'app_temp': 77.5, 'timestamp_utc': '2024-07-13T03:00:00', 'clouds_mid': 51, 'snow_depth': 0}, {'snow': 0, 'solar_rad': 0, 'pop': 0, 'ozone': 293, 'clouds_hi': 57, 'clouds_low': 100, 'wind_gust_spd': 7.4, 'wind_cdir': 'SSE', 'rh': 100, 'pod': 'n', 'timestamp_local': '2024-07-13T02:00:00', 'dni': 0, 'clouds': 71, 'vis': 7.7, 'wind_spd': 1.8, 'wind_cdir_full': 'south-southeast', 'slp': 1019, 'datetime': '2024-07-13:06', 'ts': 1720850400, 'dewpt': 75.2, 'uv': 0, 'wind_dir': 150, 'ghi': 0, 'dhi': 0, 'precip': 0, 'weather': {'description': 'Overcast clouds', 'code': 804, 'icon': 'c04n'}, 'temp': 75.2, 'pres': 1012, 'app_temp': 77, 'timestamp_utc': '2024-07-13T06:00:00', 'clouds_mid': 72, 'snow_depth': 0}, {'snow': 0, 'solar_rad': 0, 'pop': 0, 'ozone': 293, 'clouds_hi': 100, 'clouds_low': 85, 'wind_gust_spd': 6.3, 'wind_cdir': 'SE', 'rh': 100, 'pod': 'n', 'timestamp_local': '2024-07-13T05:00:00', 'dni': 0, 'clouds': 73, 'vis': 7.6, 'wind_spd': 1.8, 'wind_cdir_full': 'southeast', 'slp': 1019, 'datetime': '2024-07-13:09', 'ts': 1720861200, 'dewpt': 74.3, 'uv': 0, 'wind_dir': 140, 'ghi': 0, 'dhi': 0, 'precip': 0, 'weather': {'description': 'Overcast clouds', 'code': 804, 'icon': 'c04n'}, 'temp': 74.3, 'pres': 1012, 'app_temp': 76.1, 'timestamp_utc': '2024-07-13T09:00:00', 'clouds_mid': 18, 'snow_depth': 0}, {'snow': 0, 'solar_rad': 161.73401, 'pop': 50, 'ozone': 294, 'clouds_hi': 88, 'clouds_low': 77, 'wind_gust_spd': 5.4, 'wind_cdir': 'SSE', 'rh': 100, 'pod': 'd', 'timestamp_local': '2024-07-13T08:00:00', 'dni': 656, 'clouds': 54, 'vis': 7.6, 'wind_spd': 1.8, 'wind_cdir_full': 'south-southeast', 'slp': 1019, 'datetime': '2024-07-13:12', 'ts': 1720872000, 'dewpt': 76.1, 'uv': 1, 'wind_dir': 160, 'ghi': 297, 'dhi': 75, 'precip': 0.04, 'weather': {'description': 'Thunderstorm with rain', 'code': 201, 'icon': 't02d'}, 'temp': 76.1, 'pres': 1012, 'app_temp': 78.3, 'timestamp_utc': '2024-07-13T12:00:00', 'clouds_mid': 0, 'snow_depth': 0}, {'snow': 0, 'solar_rad': 642.373, 'pop': 0, 'ozone': 291, 'clouds_hi': 0, 'clouds_low': 61, 'wind_gust_spd': 6.5, 'wind_cdir': 'SW', 'rh': 87, 'pod': 'd', 'timestamp_local': '2024-07-13T11:00:00', 'dni': 890, 'clouds': 53, 'vis': 9.2, 'wind_spd': 3.6, 'wind_cdir_full': 'southwest', 'slp': 1020, 'datetime': '2024-07-13:15', 'ts': 1720882800, 'dewpt': 78.3, 'uv': 5, 'wind_dir': 230, 'ghi': 852, 'dhi': 116, 'precip': 0, 'weather': {'description': 'Broken clouds', 'code': 803, 'icon': 'c03d'}, 'temp': 82.6, 'pres': 1013, 'app_temp': 92.1, 'timestamp_utc': '2024-07-13T15:00:00', 'clouds_mid': 0, 'snow_depth': 0}, {'snow': 0, 'solar_rad': 847.66455, 'pop': 20, 'ozone': 292, 'clouds_hi': 13, 'clouds_low': 48, 'wind_gust_spd': 7.8, 'wind_cdir': 'W', 'rh': 80, 'pod': 'd', 'timestamp_local': '2024-07-13T14:00:00', 'dni': 923, 'clouds': 55, 'vis': 12.5, 'wind_spd': 4.5, 'wind_cdir_full': 'west', 'slp': 1019, 'datetime': '2024-07-13:18', 'ts': 1720893600, 'dewpt': 78.4, 'uv': 6, 'wind_dir': 260, 'ghi': 1000, 'dhi': 123, 'precip': 0.01, 'weather': {'description': 'Broken clouds', 'code': 803, 'icon': 'c03d'}, 'temp': 85.3, 'pres': 1012, 'app_temp': 97.7, 'timestamp_utc': '2024-07-13T18:00:00', 'clouds_mid': 0, 'snow_depth': 0}, {'snow': 0, 'solar_rad': 580.7953, 'pop': 0, 'ozone': 292, 'clouds_hi': 38, 'clouds_low': 11, 'wind_gust_spd': 8.3, 'wind_cdir': 'WSW', 'rh': 74, 'pod': 'd', 'timestamp_local': '2024-07-13T17:00:00', 'dni': 824, 'clouds': 32, 'vis': 14.9, 'wind_spd': 3.6, 'wind_cdir_full': 'west-southwest', 'slp': 1017, 'datetime': '2024-07-13:21', 'ts': 1720904400, 'dewpt': 77.9, 'uv': 3, 'wind_dir': 240, 'ghi': 630, 'dhi': 103, 'precip': 0, 'weather': {'description': 'Scattered clouds', 'code': 802, 'icon': 'c02d'}, 'temp': 87.3, 'pres': 1011, 'app_temp': 100.4, 'timestamp_utc': '2024-07-13T21:00:00', 'clouds_mid': 0, 'snow_depth': 0}, {'snow': 0, 'solar_rad': 40.94721, 'pop': 0, 'ozone': 293, 'clouds_hi': 91, 'clouds_low': 0, 'wind_gust_spd': 4.5, 'wind_cdir': 'S', 'rh': 85, 'pod': 'd', 'timestamp_local': '2024-07-13T20:00:00', 'dni': 268, 'clouds': 49, 'vis': 11.2, 'wind_spd': 0.9, 'wind_cdir_full': 'south', 'slp': 1018, 'datetime': '2024-07-14:00', 'ts': 1720915200, 'dewpt': 78.6, 'uv': 1, 'wind_dir': 170, 'ghi': 45, 'dhi': 32, 'precip': 0, 'weather': {'description': 'Broken clouds', 'code': 803, 'icon': 'c03d'}, 'temp': 83.5, 'pres': 1011, 'app_temp': 94.5, 'timestamp_utc': '2024-07-14T00:00:00', 'clouds_mid': 0, 'snow_depth': 0}, {'snow': 0, 'solar_rad': 0, 'pop': 0, 'ozone': 294, 'clouds_hi': 16, 'clouds_low': 2, 'wind_gust_spd': 4.5, 'wind_cdir': 'SSW', 'rh': 98, 'pod': 'n', 'timestamp_local': '2024-07-13T23:00:00', 'dni': 0, 'clouds': 32, 'vis': 8.9, 'wind_spd': 0.9, 'wind_cdir_full': 'south-southwest', 'slp': 1019, 'datetime': '2024-07-14:03', 'ts': 1720926000, 'dewpt': 77.4, 'uv': 0, 'wind_dir': 200, 'ghi': 0, 'dhi': 0, 'precip': 0, 'weather': {'description': 'Scattered clouds', 'code': 802, 'icon': 'c02n'}, 'temp': 78.1, 'pres': 1012, 'app_temp': 80.1, 'timestamp_utc': '2024-07-14T03:00:00', 'clouds_mid': 3, 'snow_depth': 0}, {'snow': 0, 'solar_rad': 0, 'pop': 0, 'ozone': 292, 'clouds_hi': 0, 'clouds_low': 85, 'wind_gust_spd': 4.5, 'wind_cdir': 'SSW', 'rh': 100, 'pod': 'n', 'timestamp_local': '2024-07-14T02:00:00', 'dni': 0, 'clouds': 40, 'vis': 8.4, 'wind_spd': 0.9, 'wind_cdir_full': 'south-southwest', 'slp': 1018, 'datetime': '2024-07-14:06', 'ts': 1720936800, 'dewpt': 76.3, 'uv': 0, 'wind_dir': 210, 'ghi': 0, 'dhi': 0, 'precip': 0, 'weather': {'description': 'Scattered clouds', 'code': 802, 'icon': 'c02n'}, 'temp': 76.3, 'pres': 1011, 'app_temp': 78.4, 'timestamp_utc': '2024-07-14T06:00:00', 'clouds_mid': 43, 'snow_depth': 0}, {'snow': 0, 'solar_rad': 0, 'pop': 0, 'ozone': 293, 'clouds_hi': 0, 'clouds_low': 0, 'wind_gust_spd': 4.5, 'wind_cdir': 'WSW', 'rh': 100, 'pod': 'n', 'timestamp_local': '2024-07-14T05:00:00', 'dni': 0, 'clouds': 31, 'vis': 8.2, 'wind_spd': 0.9, 'wind_cdir_full': 'west-southwest', 'slp': 1018, 'datetime': '2024-07-14:09', 'ts': 1720947600, 'dewpt': 75, 'uv': 0, 'wind_dir': 250, 'ghi': 0, 'dhi': 0, 'precip': 0, 'weather': {'description': 'Scattered clouds', 'code': 802, 'icon': 'c02n'}, 'temp': 75, 'pres': 1011, 'app_temp': 76.8, 'timestamp_utc': '2024-07-14T09:00:00', 'clouds_mid': 7, 'snow_depth': 0}, {'snow': 0, 'solar_rad': 131.04951, 'pop': 0, 'ozone': 295, 'clouds_hi': 0, 'clouds_low': 6, 'wind_gust_spd': 4.5, 'wind_cdir': 'WSW', 'rh': 96, 'pod': 'd', 'timestamp_local': '2024-07-14T08:00:00', 'dni': 655, 'clouds': 22, 'vis': 9.6, 'wind_spd': 0.9, 'wind_cdir_full': 'west-southwest', 'slp': 1019, 'datetime': '2024-07-14:12', 'ts': 1720958400, 'dewpt': 77.2, 'uv': 2, 'wind_dir': 240, 'ghi': 296, 'dhi': 75, 'precip': 0, 'weather': {'description': 'Scattered clouds', 'code': 802, 'icon': 'c02d'}, 'temp': 78.4, 'pres': 1012, 'app_temp': 80.6, 'timestamp_utc': '2024-07-14T12:00:00', 'clouds_mid': 94, 'snow_depth': 0}, {'snow': 0, 'solar_rad': 767.4701, 'pop': 0, 'ozone': 293, 'clouds_hi': 0, 'clouds_low': 21, 'wind_gust_spd': 6.7, 'wind_cdir': 'WSW', 'rh': 74, 'pod': 'd', 'timestamp_local': '2024-07-14T11:00:00', 'dni': 889, 'clouds': 10, 'vis': 12.1, 'wind_spd': 2.7, 'wind_cdir_full': 'west-southwest', 'slp': 1018, 'datetime': '2024-07-14:15', 'ts': 1720969200, 'dewpt': 77.9, 'uv': 7, 'wind_dir': 240, 'ghi': 850, 'dhi': 116, 'precip': 0, 'weather': {'description': 'Few clouds', 'code': 801, 'icon': 'c02d'}, 'temp': 87.3, 'pres': 1011, 'app_temp': 100, 'timestamp_utc': '2024-07-14T15:00:00', 'clouds_mid': 33, 'snow_depth': 0}, {'snow': 0, 'solar_rad': 925.58997, 'pop': 0, 'ozone': 294, 'clouds_hi': 0, 'clouds_low': 5, 'wind_gust_spd': 8.5, 'wind_cdir': 'SW', 'rh': 61, 'pod': 'd', 'timestamp_local': '2024-07-14T14:00:00', 'dni': 923, 'clouds': 23, 'vis': 14.9, 'wind_spd': 3.6, 'wind_cdir_full': 'southwest', 'slp': 1017, 'datetime': '2024-07-14:18', 'ts': 1720980000, 'dewpt': 76.8, 'uv': 9, 'wind_dir': 230, 'ghi': 1000, 'dhi': 123, 'precip': 0, 'weather': {'description': 'Scattered clouds', 'code': 802, 'icon': 'c02d'}, 'temp': 92.3, 'pres': 1010, 'app_temp': 106, 'timestamp_utc': '2024-07-14T18:00:00', 'clouds_mid': 0, 'snow_depth': 0}, {'snow': 0, 'solar_rad': 580.43695, 'pop': 20, 'ozone': 294, 'clouds_hi': 0, 'clouds_low': 52, 'wind_gust_spd': 8.5, 'wind_cdir': 'SW', 'rh': 57, 'pod': 'd', 'timestamp_local': '2024-07-14T17:00:00', 'dni': 824, 'clouds': 23, 'vis': 14.9, 'wind_spd': 3.6, 'wind_cdir_full': 'southwest', 'slp': 1014, 'datetime': '2024-07-14:21', 'ts': 1720990800, 'dewpt': 75.6, 'uv': 4, 'wind_dir': 230, 'ghi': 629, 'dhi': 103, 'precip': 0.01, 'weather': {'description': 'Scattered clouds', 'code': 802, 'icon': 'c02d'}, 'temp': 93, 'pres': 1007, 'app_temp': 105.3, 'timestamp_utc': '2024-07-14T21:00:00', 'clouds_mid': 50, 'snow_depth': 0}, {'snow': 0, 'solar_rad': 40.24746, 'pop': 20, 'ozone': 294, 'clouds_hi': 6, 'clouds_low': 7, 'wind_gust_spd': 5.8, 'wind_cdir': 'S', 'rh': 75, 'pod': 'd', 'timestamp_local': '2024-07-14T20:00:00', 'dni': 265, 'clouds': 24, 'vis': 14.9, 'wind_spd': 1.8, 'wind_cdir_full': 'south', 'slp': 1014, 'datetime': '2024-07-15:00', 'ts': 1721001600, 'dewpt': 76.6, 'uv': 1, 'wind_dir': 180, 'ghi': 44, 'dhi': 32, 'precip': 0.01, 'weather': {'description': 'Scattered clouds', 'code': 802, 'icon': 'c02d'}, 'temp': 85.5, 'pres': 1007, 'app_temp': 95.7, 'timestamp_utc': '2024-07-15T00:00:00', 'clouds_mid': 83, 'snow_depth': 0}, {'snow': 0, 'solar_rad': 0, 'pop': 20, 'ozone': 294, 'clouds_hi': 52, 'clouds_low': 0, 'wind_gust_spd': 7.2, 'wind_cdir': 'SSW', 'rh': 87, 'pod': 'n', 'timestamp_local': '2024-07-14T23:00:00', 'dni': 0, 'clouds': 10, 'vis': 14.9, 'wind_spd': 1.8, 'wind_cdir_full': 'south-southwest', 'slp': 1016, 'datetime': '2024-07-15:03', 'ts': 1721012400, 'dewpt': 75.2, 'uv': 0, 'wind_dir': 210, 'ghi': 0, 'dhi': 0, 'precip': 0.01, 'weather': {'description': 'Few clouds', 'code': 801, 'icon': 'c02n'}, 'temp': 79.3, 'pres': 1009, 'app_temp': 81.1, 'timestamp_utc': '2024-07-15T03:00:00', 'clouds_mid': 4, 'snow_depth': 0}, {'snow': 0, 'solar_rad': 0, 'pop': 0, 'ozone': 291, 'clouds_hi': 100, 'clouds_low': 0, 'wind_gust_spd': 8.1, 'wind_cdir': 'SW', 'rh': 92, 'pod': 'n', 'timestamp_local': '2024-07-15T02:00:00', 'dni': 0, 'clouds': 12, 'vis': 14.9, 'wind_spd': 2.7, 'wind_cdir_full': 'southwest', 'slp': 1015, 'datetime': '2024-07-15:06', 'ts': 1721023200, 'dewpt': 75.6, 'uv': 0, 'wind_dir': 220, 'ghi': 0, 'dhi': 0, 'precip': 0, 'weather': {'description': 'Few clouds', 'code': 801, 'icon': 'c02n'}, 'temp': 78.1, 'pres': 1008, 'app_temp': 79.9, 'timestamp_utc': '2024-07-15T06:00:00', 'clouds_mid': 0, 'snow_depth': 0}, {'snow': 0, 'solar_rad': 0, 'pop': 0, 'ozone': 294, 'clouds_hi': 59, 'clouds_low': 0, 'wind_gust_spd': 8.1, 'wind_cdir': 'SW', 'rh': 95, 'pod': 'n', 'timestamp_local': '2024-07-15T05:00:00', 'dni': 0, 'clouds': 10, 'vis': 14.9, 'wind_spd': 2.7, 'wind_cdir_full': 'southwest', 'slp': 1014, 'datetime': '2024-07-15:09', 'ts': 1721034000, 'dewpt': 75, 'uv': 0, 'wind_dir': 230, 'ghi': 0, 'dhi': 0, 'precip': 0, 'weather': {'description': 'Few clouds', 'code': 801, 'icon': 'c02n'}, 'temp': 76.5, 'pres': 1007, 'app_temp': 78.3, 'timestamp_utc': '2024-07-15T09:00:00', 'clouds_mid': 28, 'snow_depth': 0}, {'snow': 0, 'solar_rad': 271.90286, 'pop': 0, 'ozone': 295, 'clouds_hi': 55, 'clouds_low': 0, 'wind_gust_spd': 8.9, 'wind_cdir': 'SW', 'rh': 91, 'pod': 'd', 'timestamp_local': '2024-07-15T08:00:00', 'dni': 653, 'clouds': 10, 'vis': 14.9, 'wind_spd': 3.6, 'wind_cdir_full': 'southwest', 'slp': 1015, 'datetime': '2024-07-15:12', 'ts': 1721044800, 'dewpt': 76.8, 'uv': 2, 'wind_dir': 230, 'ghi': 294, 'dhi': 75, 'precip': 0, 'weather': {'description': 'Few clouds', 'code': 801, 'icon': 'c02d'}, 'temp': 79.7, 'pres': 1008, 'app_temp': 81.7, 'timestamp_utc': '2024-07-15T12:00:00', 'clouds_mid': 99, 'snow_depth': 0}, {'snow': 0, 'solar_rad': 785.93384, 'pop': 0, 'ozone': 297, 'clouds_hi': 100, 'clouds_low': 10, 'wind_gust_spd': 8.9, 'wind_cdir': 'WSW', 'rh': 68, 'pod': 'd', 'timestamp_local': '2024-07-15T11:00:00', 'dni': 889, 'clouds': 8, 'vis': 14.9, 'wind_spd': 4.5, 'wind_cdir_full': 'west-southwest', 'slp': 1015, 'datetime': '2024-07-15:15', 'ts': 1721055600, 'dewpt': 77, 'uv': 7, 'wind_dir': 240, 'ghi': 849, 'dhi': 116, 'precip': 0, 'weather': {'description': 'Few clouds', 'code': 801, 'icon': 'c02d'}, 'temp': 88.9, 'pres': 1009, 'app_temp': 101.5, 'timestamp_utc': '2024-07-15T15:00:00', 'clouds_mid': 11, 'snow_depth': 0}, {'snow': 0, 'solar_rad': 927.98975, 'pop': 0, 'ozone': 298, 'clouds_hi': 0, 'clouds_low': 0, 'wind_gust_spd': 10.1, 'wind_cdir': 'SW', 'rh': 53, 'pod': 'd', 'timestamp_local': '2024-07-15T14:00:00', 'dni': 923, 'clouds': 13, 'vis': 14.9, 'wind_spd': 5.4, 'wind_cdir_full': 'southwest', 'slp': 1014, 'datetime': '2024-07-15:18', 'ts': 1721066400, 'dewpt': 75.2, 'uv': 9, 'wind_dir': 230, 'ghi': 999, 'dhi': 123, 'precip': 0, 'weather': {'description': 'Few clouds', 'code': 801, 'icon': 'c02d'}, 'temp': 95.2, 'pres': 1008, 'app_temp': 107.6, 'timestamp_utc': '2024-07-15T18:00:00', 'clouds_mid': 2, 'snow_depth': 0}, {'snow': 0, 'solar_rad': 586.17633, 'pop': 0, 'ozone': 300, 'clouds_hi': 0, 'clouds_low': 0, 'wind_gust_spd': 10.3, 'wind_cdir': 'SW', 'rh': 49, 'pod': 'd', 'timestamp_local': '2024-07-15T17:00:00', 'dni': 824, 'clouds': 10, 'vis': 14.9, 'wind_spd': 5.4, 'wind_cdir_full': 'southwest', 'slp': 1012, 'datetime': '2024-07-15:21', 'ts': 1721077200, 'dewpt': 73.6, 'uv': 4, 'wind_dir': 220, 'ghi': 628, 'dhi': 103, 'precip': 0, 'weather': {'description': 'Few clouds', 'code': 801, 'icon': 'c02d'}, 'temp': 95.9, 'pres': 1005, 'app_temp': 106.3, 'timestamp_utc': '2024-07-15T21:00:00', 'clouds_mid': 0, 'snow_depth': 0}, {'snow': 0, 'solar_rad': 39.563732, 'pop': 0, 'ozone': 301, 'clouds_hi': 2, 'clouds_low': 0, 'wind_gust_spd': 9.2, 'wind_cdir': 'S', 'rh': 65, 'pod': 'd', 'timestamp_local': '2024-07-15T20:00:00', 'dni': 261, 'clouds': 19, 'vis': 14.9, 'wind_spd': 3.6, 'wind_cdir_full': 'south', 'slp': 1012, 'datetime': '2024-07-16:00', 'ts': 1721088000, 'dewpt': 75.9, 'uv': 1, 'wind_dir': 190, 'ghi': 43, 'dhi': 31, 'precip': 0, 'weather': {'description': 'Few clouds', 'code': 801, 'icon': 'c02d'}, 'temp': 89.2, 'pres': 1005, 'app_temp': 100.8, 'timestamp_utc': '2024-07-16T00:00:00', 'clouds_mid': 0, 'snow_depth': 0}, {'snow': 0, 'solar_rad': 0, 'pop': 0, 'ozone': 301, 'clouds_hi': 0, 'clouds_low': 0, 'wind_gust_spd': 11.2, 'wind_cdir': 'SSW', 'rh': 78, 'pod': 'n', 'timestamp_local': '2024-07-15T23:00:00', 'dni': 0, 'clouds': 6, 'vis': 14.9, 'wind_spd': 4.5, 'wind_cdir_full': 'south-southwest', 'slp': 1014, 'datetime': '2024-07-16:03', 'ts': 1721098800, 'dewpt': 74.5, 'uv': 0, 'wind_dir': 210, 'ghi': 0, 'dhi': 0, 'precip': 0, 'weather': {'description': 'Few clouds', 'code': 801, 'icon': 'c02n'}, 'temp': 82, 'pres': 1007, 'app_temp': 88.3, 'timestamp_utc': '2024-07-16T03:00:00', 'clouds_mid': 0, 'snow_depth': 0}, {'snow': 0, 'solar_rad': 0, 'pop': 0, 'ozone': 302, 'clouds_hi': 0, 'clouds_low': 0, 'wind_gust_spd': 11.9, 'wind_cdir': 'SW', 'rh': 84, 'pod': 'n', 'timestamp_local': '2024-07-16T02:00:00', 'dni': 0, 'clouds': 6, 'vis': 14.9, 'wind_spd': 3.6, 'wind_cdir_full': 'southwest', 'slp': 1014, 'datetime': '2024-07-16:06', 'ts': 1721109600, 'dewpt': 74.7, 'uv': 0, 'wind_dir': 220, 'ghi': 0, 'dhi': 0, 'precip': 0, 'weather': {'description': 'Few clouds', 'code': 801, 'icon': 'c02n'}, 'temp': 80.1, 'pres': 1007, 'app_temp': 81.7, 'timestamp_utc': '2024-07-16T06:00:00', 'clouds_mid': 0, 'snow_depth': 0}, {'snow': 0, 'solar_rad': 0, 'pop': 0, 'ozone': 300, 'clouds_hi': 0, 'clouds_low': 0, 'wind_gust_spd': 10.8, 'wind_cdir': 'SW', 'rh': 86, 'pod': 'n', 'timestamp_local': '2024-07-16T05:00:00', 'dni': 0, 'clouds': 5, 'vis': 14.9, 'wind_spd': 3.6, 'wind_cdir_full': 'southwest', 'slp': 1014, 'datetime': '2024-07-16:09', 'ts': 1721120400, 'dewpt': 75.6, 'uv': 0, 'wind_dir': 220, 'ghi': 0, 'dhi': 0, 'precip': 0, 'weather': {'description': 'Few clouds', 'code': 801, 'icon': 'c02n'}, 'temp': 80.1, 'pres': 1007, 'app_temp': 85.5, 'timestamp_utc': '2024-07-16T09:00:00', 'clouds_mid': 0, 'snow_depth': 0}, {'snow': 0, 'solar_rad': 270.89935, 'pop': 0, 'ozone': 302, 'clouds_hi': 0, 'clouds_low': 0, 'wind_gust_spd': 9.8, 'wind_cdir': 'SW', 'rh': 87, 'pod': 'd', 'timestamp_local': '2024-07-16T08:00:00', 'dni': 652, 'clouds': 4, 'vis': 14.9, 'wind_spd': 3.6, 'wind_cdir_full': 'southwest', 'slp': 1015, 'datetime': '2024-07-16:12', 'ts': 1721131200, 'dewpt': 76.1, 'uv': 2, 'wind_dir': 220, 'ghi': 292, 'dhi': 75, 'precip': 0, 'weather': {'description': 'Few clouds', 'code': 801, 'icon': 'c02d'}, 'temp': 80.2, 'pres': 1008, 'app_temp': 86, 'timestamp_utc': '2024-07-16T12:00:00', 'clouds_mid': 0, 'snow_depth': 0}, {'snow': 0, 'solar_rad': 784.6324, 'pop': 0, 'ozone': 305, 'clouds_hi': 0, 'clouds_low': 0, 'wind_gust_spd': 11.1, 'wind_cdir': 'SW', 'rh': 70, 'pod': 'd', 'timestamp_local': '2024-07-16T11:00:00', 'dni': 889, 'clouds': 8, 'vis': 14.9, 'wind_spd': 4.9, 'wind_cdir_full': 'southwest', 'slp': 1014, 'datetime': '2024-07-16:15', 'ts': 1721142000, 'dewpt': 77, 'uv': 7, 'wind_dir': 215, 'ghi': 848, 'dhi': 116, 'precip': 0, 'weather': {'description': 'Few clouds', 'code': 801, 'icon': 'c02d'}, 'temp': 88.2, 'pres': 1007, 'app_temp': 100.4, 'timestamp_utc': '2024-07-16T15:00:00', 'clouds_mid': 0, 'snow_depth': 0}, {'snow': 0, 'solar_rad': 927.1982, 'pop': 0, 'ozone': 306, 'clouds_hi': 0, 'clouds_low': 0, 'wind_gust_spd': 12.3, 'wind_cdir': 'SSW', 'rh': 52, 'pod': 'd', 'timestamp_local': '2024-07-16T14:00:00', 'dni': 923, 'clouds': 12, 'vis': 14.9, 'wind_spd': 6.3, 'wind_cdir_full': 'south-southwest', 'slp': 1013, 'datetime': '2024-07-16:18', 'ts': 1721152800, 'dewpt': 75.4, 'uv': 10, 'wind_dir': 210, 'ghi': 998, 'dhi': 123, 'precip': 0, 'weather': {'description': 'Few clouds', 'code': 801, 'icon': 'c02d'}, 'temp': 95.9, 'pres': 1006, 'app_temp': 108.9, 'timestamp_utc': '2024-07-16T18:00:00', 'clouds_mid': 0, 'snow_depth': 0}, {'snow': 0, 'solar_rad': 582.25476, 'pop': 0, 'ozone': 306, 'clouds_hi': 0, 'clouds_low': 0, 'wind_gust_spd': 11.7, 'wind_cdir': 'SSW', 'rh': 58, 'pod': 'd', 'timestamp_local': '2024-07-16T17:00:00', 'dni': 824, 'clouds': 14, 'vis': 14.9, 'wind_spd': 5.4, 'wind_cdir_full': 'south-southwest', 'slp': 1011, 'datetime': '2024-07-16:21', 'ts': 1721163600, 'dewpt': 75.4, 'uv': 4, 'wind_dir': 200, 'ghi': 627, 'dhi': 103, 'precip': 0, 'weather': {'description': 'Few clouds', 'code': 801, 'icon': 'c02d'}, 'temp': 92.3, 'pres': 1005, 'app_temp': 104.2, 'timestamp_utc': '2024-07-16T21:00:00', 'clouds_mid': 0, 'snow_depth': 0}, {'snow': 0, 'solar_rad': 38.753445, 'pop': 0, 'ozone': 306, 'clouds_hi': 0, 'clouds_low': 0, 'wind_gust_spd': 11.2, 'wind_cdir': 'S', 'rh': 64, 'pod': 'd', 'timestamp_local': '2024-07-16T20:00:00', 'dni': 257, 'clouds': 15, 'vis': 14.9, 'wind_spd': 4.5, 'wind_cdir_full': 'south', 'slp': 1011, 'datetime': '2024-07-17:00', 'ts': 1721174400, 'dewpt': 75, 'uv': 1, 'wind_dir': 190, 'ghi': 42, 'dhi': 31, 'precip': 0, 'weather': {'description': 'Few clouds', 'code': 801, 'icon': 'c02d'}, 'temp': 88.7, 'pres': 1005, 'app_temp': 98.8, 'timestamp_utc': '2024-07-17T00:00:00', 'clouds_mid': 0, 'snow_depth': 0}, {'snow': 0, 'solar_rad': 0, 'pop': 0, 'ozone': 307, 'clouds_hi': 22, 'clouds_low': 0, 'wind_gust_spd': 12.2, 'wind_cdir': 'SSW', 'rh': 74, 'pod': 'n', 'timestamp_local': '2024-07-16T23:00:00', 'dni': 0, 'clouds': 14, 'vis': 14.9, 'wind_spd': 4.5, 'wind_cdir_full': 'south-southwest', 'slp': 1013, 'datetime': '2024-07-17:03', 'ts': 1721185200, 'dewpt': 75.2, 'uv': 0, 'wind_dir': 195, 'ghi': 0, 'dhi': 0, 'precip': 0, 'weather': {'description': 'Few clouds', 'code': 801, 'icon': 'c02n'}, 'temp': 84.4, 'pres': 1006, 'app_temp': 92.7, 'timestamp_utc': '2024-07-17T03:00:00', 'clouds_mid': 8, 'snow_depth': 0}, {'snow': 0, 'solar_rad': 0, 'pop': 0, 'ozone': 301, 'clouds_hi': 100, 'clouds_low': 0, 'wind_gust_spd': 13.2, 'wind_cdir': 'SSW', 'rh': 85, 'pod': 'n', 'timestamp_local': '2024-07-17T02:00:00', 'dni': 0, 'clouds': 12, 'vis': 14.9, 'wind_spd': 4.5, 'wind_cdir_full': 'south-southwest', 'slp': 1012, 'datetime': '2024-07-17:06', 'ts': 1721196000, 'dewpt': 75, 'uv': 0, 'wind_dir': 200, 'ghi': 0, 'dhi': 0, 'precip': 0, 'weather': {'description': 'Few clouds', 'code': 801, 'icon': 'c02n'}, 'temp': 80.1, 'pres': 1005, 'app_temp': 84.9, 'timestamp_utc': '2024-07-17T06:00:00', 'clouds_mid': 7, 'snow_depth': 0}, {'snow': 0, 'solar_rad': 0, 'pop': 0, 'ozone': 301, 'clouds_hi': 7, 'clouds_low': 0, 'wind_gust_spd': 13.4, 'wind_cdir': 'SSW', 'rh': 88, 'pod': 'n', 'timestamp_local': '2024-07-17T05:00:00', 'dni': 0, 'clouds': 14, 'vis': 14.9, 'wind_spd': 5.4, 'wind_cdir_full': 'south-southwest', 'slp': 1013, 'datetime': '2024-07-17:09', 'ts': 1721206800, 'dewpt': 76.3, 'uv': 0, 'wind_dir': 205, 'ghi': 0, 'dhi': 0, 'precip': 0, 'weather': {'description': 'Few clouds', 'code': 801, 'icon': 'c02n'}, 'temp': 80.1, 'pres': 1006, 'app_temp': 85.6, 'timestamp_utc': '2024-07-17T09:00:00', 'clouds_mid': 5, 'snow_depth': 0}, {'snow': 0, 'solar_rad': 267.92194, 'pop': 0, 'ozone': 300, 'clouds_hi': 5, 'clouds_low': 0, 'wind_gust_spd': 13.6, 'wind_cdir': 'SSW', 'rh': 90, 'pod': 'd', 'timestamp_local': '2024-07-17T08:00:00', 'dni': 651, 'clouds': 17, 'vis': 14.9, 'wind_spd': 6.3, 'wind_cdir_full': 'south-southwest', 'slp': 1013, 'datetime': '2024-07-17:12', 'ts': 1721217600, 'dewpt': 77, 'uv': 2, 'wind_dir': 210, 'ghi': 290, 'dhi': 75, 'precip': 0, 'weather': {'description': 'Few clouds', 'code': 801, 'icon': 'c02d'}, 'temp': 80.2, 'pres': 1006, 'app_temp': 86.4, 'timestamp_utc': '2024-07-17T12:00:00', 'clouds_mid': 0, 'snow_depth': 0}, {'snow': 0, 'solar_rad': 779.32477, 'pop': 0, 'ozone': 301, 'clouds_hi': 22, 'clouds_low': 0, 'wind_gust_spd': 14.4, 'wind_cdir': 'SSW', 'rh': 74, 'pod': 'd', 'timestamp_local': '2024-07-17T11:00:00', 'dni': 889, 'clouds': 20, 'vis': 14.9, 'wind_spd': 7.2, 'wind_cdir_full': 'south-southwest', 'slp': 1012, 'datetime': '2024-07-17:15', 'ts': 1721228400, 'dewpt': 77.5, 'uv': 6, 'wind_dir': 210, 'ghi': 847, 'dhi': 116, 'precip': 0, 'weather': {'description': 'Scattered clouds', 'code': 802, 'icon': 'c02d'}, 'temp': 86.7, 'pres': 1006, 'app_temp': 99, 'timestamp_utc': '2024-07-17T15:00:00', 'clouds_mid': 0, 'snow_depth': 0}, {'snow': 0, 'solar_rad': 916.7103, 'pop': 0, 'ozone': 299, 'clouds_hi': 59, 'clouds_low': 26, 'wind_gust_spd': 15.2, 'wind_cdir': 'SSW', 'rh': 59, 'pod': 'd', 'timestamp_local': '2024-07-17T14:00:00', 'dni': 923, 'clouds': 24, 'vis': 14.9, 'wind_spd': 8.1, 'wind_cdir_full': 'south-southwest', 'slp': 1011, 'datetime': '2024-07-17:18', 'ts': 1721239200, 'dewpt': 76.8, 'uv': 9, 'wind_dir': 210, 'ghi': 997, 'dhi': 123, 'precip': 0, 'weather': {'description': 'Scattered clouds', 'code': 802, 'icon': 'c02d'}, 'temp': 93.4, 'pres': 1004, 'app_temp': 107.4, 'timestamp_utc': '2024-07-17T18:00:00', 'clouds_mid': 5, 'snow_depth': 0}, {'snow': 0, 'solar_rad': 564.1775, 'pop': 20, 'ozone': 297, 'clouds_hi': 5, 'clouds_low': 100, 'wind_gust_spd': 14.9, 'wind_cdir': 'SSW', 'rh': 66, 'pod': 'd', 'timestamp_local': '2024-07-17T17:00:00', 'dni': 824, 'clouds': 35, 'vis': 14.9, 'wind_spd': 7.2, 'wind_cdir_full': 'south-southwest', 'slp': 1009, 'datetime': '2024-07-17:21', 'ts': 1721250000, 'dewpt': 76.6, 'uv': 3, 'wind_dir': 200, 'ghi': 626, 'dhi': 103, 'precip': 0.01, 'weather': {'description': 'Scattered clouds', 'code': 802, 'icon': 'c02d'}, 'temp': 89.4, 'pres': 1003, 'app_temp': 101.8, 'timestamp_utc': '2024-07-17T21:00:00', 'clouds_mid': 0, 'snow_depth': 0}, {'snow': 0, 'solar_rad': 44.117638, 'pop': 10, 'ozone': 296, 'clouds_hi': 3, 'clouds_low': 88, 'wind_gust_spd': 29.8, 'wind_cdir': 'S', 'rh': 78, 'pod': 'd', 'timestamp_local': '2024-07-17T20:00:00', 'dni': 253, 'clouds': 88, 'vis': 14.8, 'wind_spd': 13.7, 'wind_cdir_full': 'south', 'slp': 1010, 'datetime': '2024-07-18:00', 'ts': 1721260800, 'dewpt': 73.4, 'uv': 1, 'wind_dir': 187, 'ghi': 41, 'dhi': 31, 'precip': 0.005, 'weather': {'description': 'Overcast clouds', 'code': 804, 'icon': 'c04d'}, 'temp': 80.8, 'pres': 1003, 'app_temp': 85.8, 'timestamp_utc': '2024-07-18T00:00:00', 'clouds_mid': 84, 'snow_depth': 0}], 'lat': 35.5, 'lon': -78.5, 'state_code': 'NC', 'city_name': 'Four Oaks', 'timezone': 'America/New_York', 'country_code': 'US'}\n"
     ]
    }
   ],
   "source": [
    "import requests\n",
    "\n",
    "url = \"https://weatherbit-v1-mashape.p.rapidapi.com/forecast/3hourly\"\n",
    "\n",
    "querystring = {\"lat\":\"35.5\",\"lon\":\"-78.5\",\"units\":\"imperial\",\"lang\":\"en\"}\n",
    "\n",
    "headers = {\n",
    "\t\"x-rapidapi-key\": \"4689861f72mshf62540dd3f99f64p145cd5jsn20845b69381f\",\n",
    "\t\"x-rapidapi-host\": \"weatherbit-v1-mashape.p.rapidapi.com\"\n",
    "}\n",
    "\n",
    "response = requests.get(url, headers=headers, params=querystring)\n",
    "\n",
    "print(response.json())"
   ]
  },
  {
   "cell_type": "code",
   "execution_count": 33,
   "metadata": {},
   "outputs": [
    {
     "name": "stdout",
     "output_type": "stream",
     "text": [
      "Data saved to weather_data.csv\n"
     ]
    }
   ],
   "source": [
    "import requests\n",
    "import pandas as pd\n",
    "\n",
    "# API details\n",
    "url = \"https://weatherbit-v1-mashape.p.rapidapi.com/forecast/3hourly\"\n",
    "querystring = {\n",
    "    \"lat\": \"35.5\",\n",
    "    \"lon\": \"-78.5\",\n",
    "    \"units\": \"imperial\",\n",
    "    \"lang\": \"en\"\n",
    "}\n",
    "headers = {\n",
    "    \"x-rapidapi-key\": \"4689861f72mshf62540dd3f99f64p145cd5jsn20845b69381f\",\n",
    "    \"x-rapidapi-host\": \"weatherbit-v1-mashape.p.rapidapi.com\"\n",
    "}\n",
    "\n",
    "# Step 1: Fetch weather data\n",
    "response = requests.get(url, headers=headers, params=querystring)\n",
    "\n",
    "if response.status_code == 200:\n",
    "    weather_data = response.json()\n",
    "else:\n",
    "    print(f\"Failed to fetch weather data with status code {response.status_code}\")\n",
    "    weather_data = {}\n",
    "\n",
    "# Step 2: Process the response into a DataFrame\n",
    "if weather_data:\n",
    "    hourly_forecast = weather_data.get('data', [])\n",
    "    df = pd.DataFrame(hourly_forecast)\n",
    "else:\n",
    "    df = pd.DataFrame()\n",
    "\n",
    "# Step 3: Save the DataFrame to a CSV file\n",
    "df.to_csv('weather_data.csv', index=False)\n",
    "\n",
    "print(\"Data saved to weather_data.csv\")\n"
   ]
  },
  {
   "cell_type": "code",
   "execution_count": null,
   "metadata": {},
   "outputs": [],
   "source": []
  }
 ],
 "metadata": {
  "kernelspec": {
   "display_name": "Python 3",
   "language": "python",
   "name": "python3"
  },
  "language_info": {
   "codemirror_mode": {
    "name": "ipython",
    "version": 3
   },
   "file_extension": ".py",
   "mimetype": "text/x-python",
   "name": "python",
   "nbconvert_exporter": "python",
   "pygments_lexer": "ipython3",
   "version": "3.12.2"
  }
 },
 "nbformat": 4,
 "nbformat_minor": 2
}
