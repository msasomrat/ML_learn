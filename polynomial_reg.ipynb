{
 "cells": [
  {
   "cell_type": "code",
   "execution_count": 320,
   "metadata": {},
   "outputs": [],
   "source": [
    "import pandas as pd\n",
    "import numpy as np"
   ]
  },
  {
   "cell_type": "code",
   "execution_count": 321,
   "metadata": {},
   "outputs": [],
   "source": [
    "import matplotlib.pyplot as plt"
   ]
  },
  {
   "cell_type": "code",
   "execution_count": 322,
   "metadata": {},
   "outputs": [],
   "source": [
    "from sklearn.model_selection import train_test_split\n",
    "\n",
    "from sklearn.linear_model import LinearRegression,SGDRegressor\n",
    "\n",
    "from sklearn.preprocessing import PolynomialFeatures,StandardScaler\n",
    "\n",
    "from sklearn.metrics import r2_score\n",
    "\n",
    "from sklearn.pipeline import Pipeline"
   ]
  },
  {
   "cell_type": "code",
   "execution_count": 323,
   "metadata": {},
   "outputs": [],
   "source": [
    "x = 6 * np.random.rand(200, 1) - 3"
   ]
  },
  {
   "cell_type": "code",
   "execution_count": 324,
   "metadata": {},
   "outputs": [],
   "source": [
    "y = 0.8 * x**2 + 0.9 * x + 2 + np.random.randn(200, 1)"
   ]
  },
  {
   "cell_type": "code",
   "execution_count": 325,
   "metadata": {},
   "outputs": [
    {
     "data": {
      "text/plain": [
       "array([[-0.37166511],\n",
       "       [-0.74658262],\n",
       "       [ 1.30413857],\n",
       "       [ 0.36837492],\n",
       "       [-0.01727305],\n",
       "       [ 0.94245052],\n",
       "       [ 1.2532854 ],\n",
       "       [ 0.79393859],\n",
       "       [ 2.50529904],\n",
       "       [-0.67929066],\n",
       "       [-0.45972224],\n",
       "       [ 1.78586863],\n",
       "       [ 0.39672282],\n",
       "       [ 0.17323841],\n",
       "       [-0.24878536],\n",
       "       [ 0.31090103],\n",
       "       [ 0.33851621],\n",
       "       [-0.49945831],\n",
       "       [ 1.93305157],\n",
       "       [-0.59469219],\n",
       "       [-0.17682889],\n",
       "       [-1.22373618],\n",
       "       [-1.34250751],\n",
       "       [-0.4557838 ],\n",
       "       [-0.09024079],\n",
       "       [-1.14206949],\n",
       "       [-0.84244794],\n",
       "       [ 0.54014443],\n",
       "       [ 0.67490617],\n",
       "       [ 0.68891179],\n",
       "       [ 1.58976507],\n",
       "       [-0.02770923],\n",
       "       [ 0.06756112],\n",
       "       [-2.27703002],\n",
       "       [ 0.56678203],\n",
       "       [ 0.73164285],\n",
       "       [ 0.91050629],\n",
       "       [-1.75406525],\n",
       "       [ 1.06587656],\n",
       "       [ 0.99989599],\n",
       "       [-0.61641766],\n",
       "       [ 1.32102356],\n",
       "       [-0.17302994],\n",
       "       [-2.32179144],\n",
       "       [-0.32999587],\n",
       "       [ 0.5571267 ],\n",
       "       [-0.31274604],\n",
       "       [-1.16132527],\n",
       "       [-0.20330589],\n",
       "       [-0.87392984],\n",
       "       [ 0.80592412],\n",
       "       [-0.33395487],\n",
       "       [-0.04722424],\n",
       "       [-0.66276557],\n",
       "       [-0.68524595],\n",
       "       [-1.83612701],\n",
       "       [-0.27053277],\n",
       "       [ 1.04619469],\n",
       "       [ 0.85047079],\n",
       "       [-0.59343012],\n",
       "       [-0.61625335],\n",
       "       [-0.11162329],\n",
       "       [-0.37893326],\n",
       "       [ 1.19499318],\n",
       "       [ 0.94943771],\n",
       "       [-2.19153637],\n",
       "       [-1.01813214],\n",
       "       [ 1.03058766],\n",
       "       [-0.11700543],\n",
       "       [ 0.25956671],\n",
       "       [-1.66991726],\n",
       "       [-0.31543115],\n",
       "       [-0.6065732 ],\n",
       "       [ 0.12483993],\n",
       "       [-0.43328089],\n",
       "       [ 0.48779254],\n",
       "       [-0.49832537],\n",
       "       [ 0.03596108],\n",
       "       [ 0.9679478 ],\n",
       "       [ 0.90480134],\n",
       "       [ 0.13978157],\n",
       "       [-0.49704774],\n",
       "       [-0.25873246],\n",
       "       [ 0.19909609],\n",
       "       [-0.01501348],\n",
       "       [-0.64148677],\n",
       "       [ 0.14094016],\n",
       "       [ 1.4712857 ],\n",
       "       [ 0.82786092],\n",
       "       [ 0.48236237],\n",
       "       [ 1.28719824],\n",
       "       [-0.46463823],\n",
       "       [-1.16912444],\n",
       "       [-1.79917027],\n",
       "       [ 1.4990154 ],\n",
       "       [-0.49878052],\n",
       "       [ 0.2371732 ],\n",
       "       [-1.77705694],\n",
       "       [ 0.4625186 ],\n",
       "       [ 1.12361937],\n",
       "       [ 0.79916812],\n",
       "       [-0.28416484],\n",
       "       [ 0.05456099],\n",
       "       [-0.27592918],\n",
       "       [ 0.66776257],\n",
       "       [-0.07324221],\n",
       "       [ 1.22335245],\n",
       "       [ 0.68630607],\n",
       "       [ 1.39823896],\n",
       "       [-0.93702826],\n",
       "       [ 1.68494722],\n",
       "       [-0.88864184],\n",
       "       [ 0.28702274],\n",
       "       [ 2.52242319],\n",
       "       [-1.89281902],\n",
       "       [-0.75249423],\n",
       "       [-0.03974331],\n",
       "       [ 0.13052104],\n",
       "       [-0.29369303],\n",
       "       [ 0.30645874],\n",
       "       [-1.57417399],\n",
       "       [ 1.59675477],\n",
       "       [-0.55453336],\n",
       "       [-0.51969691],\n",
       "       [-0.4914322 ],\n",
       "       [ 0.59584958],\n",
       "       [-0.59530478],\n",
       "       [ 0.20004515],\n",
       "       [-1.16668703],\n",
       "       [ 0.45327264],\n",
       "       [ 0.24226539],\n",
       "       [-0.1474197 ],\n",
       "       [-0.6356274 ],\n",
       "       [-1.01675434],\n",
       "       [ 0.14090659],\n",
       "       [-0.0050629 ],\n",
       "       [-1.04478257],\n",
       "       [-0.48520186],\n",
       "       [ 0.51222995],\n",
       "       [ 0.39392933],\n",
       "       [-0.9224916 ],\n",
       "       [-0.51182263],\n",
       "       [ 0.01165334],\n",
       "       [-0.65593989],\n",
       "       [-0.18011992],\n",
       "       [-0.11263728],\n",
       "       [ 0.02464726],\n",
       "       [-0.80756205],\n",
       "       [-0.16776147],\n",
       "       [-0.1059057 ],\n",
       "       [ 1.47718372],\n",
       "       [ 0.62449167],\n",
       "       [ 0.97218618],\n",
       "       [ 0.24785401],\n",
       "       [ 0.26584307],\n",
       "       [ 1.22634814],\n",
       "       [-0.74968113],\n",
       "       [-0.3780921 ],\n",
       "       [-1.21632215],\n",
       "       [-0.70253231],\n",
       "       [-1.64829788],\n",
       "       [ 0.45054503],\n",
       "       [-0.50523318],\n",
       "       [-0.57349089],\n",
       "       [-0.7638742 ],\n",
       "       [-0.18725672],\n",
       "       [ 0.75087263],\n",
       "       [ 0.25669618],\n",
       "       [-0.3188972 ],\n",
       "       [-0.240337  ],\n",
       "       [-1.39818656],\n",
       "       [-0.47067675],\n",
       "       [ 0.34460876],\n",
       "       [ 0.17283132],\n",
       "       [ 0.45017392],\n",
       "       [ 1.04405616],\n",
       "       [ 1.51357313],\n",
       "       [ 0.18054225],\n",
       "       [ 0.99301043],\n",
       "       [ 0.08246367],\n",
       "       [ 1.59187427],\n",
       "       [ 0.85513391],\n",
       "       [-0.51322953],\n",
       "       [-0.2136388 ],\n",
       "       [ 0.92005285],\n",
       "       [-0.35027466],\n",
       "       [-0.3803612 ],\n",
       "       [ 0.27022246],\n",
       "       [ 1.25478622],\n",
       "       [ 0.25514056],\n",
       "       [-0.55028381],\n",
       "       [-0.04076768],\n",
       "       [-0.23129822],\n",
       "       [-1.98646929],\n",
       "       [ 0.09962308],\n",
       "       [ 0.07564615],\n",
       "       [ 1.02261589],\n",
       "       [ 0.03024626],\n",
       "       [-0.37866623],\n",
       "       [-0.26021322]])"
      ]
     },
     "execution_count": 325,
     "metadata": {},
     "output_type": "execute_result"
    }
   ],
   "source": [
    "np.random.randn(200, 1)"
   ]
  },
  {
   "cell_type": "code",
   "execution_count": 326,
   "metadata": {},
   "outputs": [
    {
     "data": {
      "text/plain": [
       "array([[-0.21279886],\n",
       "       [-0.34376811],\n",
       "       [ 1.03436272],\n",
       "       [ 1.35592052],\n",
       "       [ 0.89945375],\n",
       "       [ 1.48776397],\n",
       "       [-1.89618529],\n",
       "       [ 2.94849549],\n",
       "       [-2.11973773],\n",
       "       [ 2.89250864],\n",
       "       [-1.81113268],\n",
       "       [ 2.48082815],\n",
       "       [-1.64211866],\n",
       "       [ 2.04375661],\n",
       "       [ 0.28905061],\n",
       "       [ 1.69312194],\n",
       "       [-0.7232403 ],\n",
       "       [-0.53100782],\n",
       "       [-1.59522241],\n",
       "       [-2.78567532],\n",
       "       [ 0.57810118],\n",
       "       [ 2.1693297 ],\n",
       "       [ 1.54026465],\n",
       "       [ 0.56803922],\n",
       "       [ 2.84370571],\n",
       "       [-0.97284361],\n",
       "       [-2.78686784],\n",
       "       [ 1.29477545],\n",
       "       [ 1.04495321],\n",
       "       [ 0.41117985],\n",
       "       [ 1.89463762],\n",
       "       [ 2.47234798],\n",
       "       [ 1.39576549],\n",
       "       [ 1.29014918],\n",
       "       [ 2.67121611],\n",
       "       [-1.94659408],\n",
       "       [ 0.6517855 ],\n",
       "       [ 1.74402067],\n",
       "       [-2.97715005],\n",
       "       [-2.24944281],\n",
       "       [ 0.50172863],\n",
       "       [-1.27218014],\n",
       "       [ 0.76109607],\n",
       "       [-1.31272097],\n",
       "       [ 1.17423148],\n",
       "       [-2.3096425 ],\n",
       "       [ 0.55047507],\n",
       "       [-1.60219569],\n",
       "       [-2.77642358],\n",
       "       [-2.21229008],\n",
       "       [-0.22568396],\n",
       "       [ 2.53300548],\n",
       "       [ 1.93633434],\n",
       "       [-0.90004217],\n",
       "       [ 1.48718615],\n",
       "       [ 0.87716267],\n",
       "       [ 0.9470412 ],\n",
       "       [-2.93463151],\n",
       "       [-2.75756464],\n",
       "       [-2.45303857],\n",
       "       [ 1.65437851],\n",
       "       [-2.79425922],\n",
       "       [ 2.62364867],\n",
       "       [ 1.24485145],\n",
       "       [ 0.18340661],\n",
       "       [ 2.89849288],\n",
       "       [ 0.99129894],\n",
       "       [ 1.80716133],\n",
       "       [-2.69350892],\n",
       "       [-0.28018509],\n",
       "       [ 1.02394629],\n",
       "       [-0.88486715],\n",
       "       [ 2.11813287],\n",
       "       [-2.28287216],\n",
       "       [-1.88766566],\n",
       "       [ 1.02597367],\n",
       "       [ 0.73091331],\n",
       "       [ 2.9424334 ],\n",
       "       [-0.47928999],\n",
       "       [-2.30694544],\n",
       "       [ 2.21877824],\n",
       "       [-1.62507623],\n",
       "       [-0.53983584],\n",
       "       [-2.61036992],\n",
       "       [ 0.87467558],\n",
       "       [-0.53216811],\n",
       "       [-1.85719656],\n",
       "       [-1.30789478],\n",
       "       [ 1.44816213],\n",
       "       [-0.61918633],\n",
       "       [-1.01917558],\n",
       "       [ 2.48074784],\n",
       "       [-1.22995794],\n",
       "       [ 0.99115048],\n",
       "       [-2.99648684],\n",
       "       [-1.13244548],\n",
       "       [ 2.47865688],\n",
       "       [ 1.55761434],\n",
       "       [ 0.44178976],\n",
       "       [-2.81494112],\n",
       "       [ 0.27096213],\n",
       "       [-2.46296392],\n",
       "       [-0.07116824],\n",
       "       [ 0.83451569],\n",
       "       [-0.36902825],\n",
       "       [ 1.80486817],\n",
       "       [ 1.80100427],\n",
       "       [ 0.17319042],\n",
       "       [-2.85309268],\n",
       "       [-2.45462386],\n",
       "       [ 2.64208005],\n",
       "       [-1.41840293],\n",
       "       [-0.82422091],\n",
       "       [-1.99878411],\n",
       "       [ 1.12678016],\n",
       "       [-1.56239129],\n",
       "       [ 1.87024209],\n",
       "       [ 2.04407917],\n",
       "       [ 0.7168064 ],\n",
       "       [-0.20293938],\n",
       "       [ 0.10648033],\n",
       "       [ 2.08567036],\n",
       "       [-2.21026559],\n",
       "       [-1.38354416],\n",
       "       [-2.22795318],\n",
       "       [ 0.13377606],\n",
       "       [-2.11126493],\n",
       "       [ 0.33898763],\n",
       "       [ 2.48284442],\n",
       "       [-2.19433305],\n",
       "       [-0.06983092],\n",
       "       [ 2.87563249],\n",
       "       [ 2.7729949 ],\n",
       "       [-2.94483954],\n",
       "       [ 1.75908865],\n",
       "       [ 1.29831638],\n",
       "       [-1.15442731],\n",
       "       [-1.30641407],\n",
       "       [ 1.23597726],\n",
       "       [-1.231995  ],\n",
       "       [-0.0998873 ],\n",
       "       [-1.54651496],\n",
       "       [ 0.13149201],\n",
       "       [-2.44203652],\n",
       "       [-2.10097891],\n",
       "       [-2.81178903],\n",
       "       [ 1.13042938],\n",
       "       [ 1.61756519],\n",
       "       [-0.41858651],\n",
       "       [-0.03915605],\n",
       "       [-2.90374087],\n",
       "       [ 2.22838473],\n",
       "       [ 1.62339514],\n",
       "       [-0.88738697],\n",
       "       [-0.24693506],\n",
       "       [-0.85105151],\n",
       "       [ 1.0083241 ],\n",
       "       [-2.93582595],\n",
       "       [ 2.21992337],\n",
       "       [-2.47788263],\n",
       "       [-2.6064459 ],\n",
       "       [ 2.14739145],\n",
       "       [ 1.79713816],\n",
       "       [-1.16220727],\n",
       "       [ 1.55779918],\n",
       "       [-0.42069851],\n",
       "       [-2.33749155],\n",
       "       [ 2.0374934 ],\n",
       "       [ 0.5732646 ],\n",
       "       [-0.88447498],\n",
       "       [ 2.5640934 ],\n",
       "       [ 0.85775819],\n",
       "       [ 2.69903272],\n",
       "       [ 2.13530606],\n",
       "       [-2.79712149],\n",
       "       [ 2.59397086],\n",
       "       [-1.92867917],\n",
       "       [-2.74192222],\n",
       "       [ 0.43995092],\n",
       "       [ 1.91904364],\n",
       "       [ 2.66537679],\n",
       "       [ 2.91577283],\n",
       "       [-2.87216839],\n",
       "       [-1.27743733],\n",
       "       [-0.69046944],\n",
       "       [ 1.52412766],\n",
       "       [-0.11133174],\n",
       "       [ 2.00108406],\n",
       "       [ 1.17058913],\n",
       "       [ 0.57579201],\n",
       "       [ 0.48217662],\n",
       "       [ 0.16518338],\n",
       "       [ 2.68931816],\n",
       "       [ 2.0477207 ],\n",
       "       [ 2.14843034],\n",
       "       [-0.50698542],\n",
       "       [-1.08450213],\n",
       "       [-2.73214697],\n",
       "       [ 1.79790631],\n",
       "       [-2.83367738]])"
      ]
     },
     "execution_count": 326,
     "metadata": {},
     "output_type": "execute_result"
    }
   ],
   "source": [
    "x"
   ]
  },
  {
   "cell_type": "code",
   "execution_count": 327,
   "metadata": {},
   "outputs": [
    {
     "data": {
      "text/plain": [
       "<matplotlib.collections.PathCollection at 0x275a365c650>"
      ]
     },
     "execution_count": 327,
     "metadata": {},
     "output_type": "execute_result"
    },
    {
     "data": {
      "image/png": "[encoded data removed]",
      "text/plain": [
       "<Figure size 640x480 with 1 Axes>"
      ]
     },
     "metadata": {},
     "output_type": "display_data"
    }
   ],
   "source": [
    "plt.scatter(x,y)\n"
   ]
  },
  {
   "cell_type": "code",
   "execution_count": 328,
   "metadata": {},
   "outputs": [
    {
     "data": {
      "text/plain": [
       "[<matplotlib.lines.Line2D at 0x275a32ee120>]"
      ]
     },
     "execution_count": 328,
     "metadata": {},
     "output_type": "execute_result"
    },
    {
     "data": {
      "image/png": "[encoded data removed]",
      "text/plain": [
       "<Figure size 640x480 with 1 Axes>"
      ]
     },
     "metadata": {},
     "output_type": "display_data"
    }
   ],
   "source": [
    "plt.plot(x,y,'b.')"
   ]
  },
  {
   "cell_type": "code",
   "execution_count": 329,
   "metadata": {},
   "outputs": [
    {
     "data": {
      "image/png": "[encoded data removed]",
      "text/plain": [
       "<Figure size 640x480 with 1 Axes>"
      ]
     },
     "metadata": {},
     "output_type": "display_data"
    }
   ],
   "source": [
    "\n",
    "X_quad = np.linspace(-3, 3, 200)\n",
    "\n",
    "\n",
    "Y_quad = 1.5 * X_quad**2 + np.random.randn(200) * 1.5\n",
    "\n",
    "\n",
    "plt.scatter(X_quad, Y_quad, color='blue')\n",
    "plt.xlabel('X')\n",
    "plt.ylabel('Y')\n",
    "plt.show()"
   ]
  },
  {
   "cell_type": "code",
   "execution_count": 330,
   "metadata": {},
   "outputs": [],
   "source": [
    "x_train,x_test,y_train,y_test = train_test_split(x,y,test_size=0.2,random_state=2)"
   ]
  },
  {
   "cell_type": "code",
   "execution_count": 331,
   "metadata": {},
   "outputs": [],
   "source": [
    "model = LinearRegression()"
   ]
  },
  {
   "cell_type": "code",
   "execution_count": 332,
   "metadata": {},
   "outputs": [
    {
     "data": {
      "text/html": [
       "<style>#sk-container-id-16 {\n",
       "  /* Definition of color scheme common for light and dark mode */\n",
       "  --sklearn-color-text: black;\n",
       "  --sklearn-color-line: gray;\n",
       "  /* Definition of color scheme for unfitted estimators */\n",
       "  --sklearn-color-unfitted-level-0: #fff5e6;\n",
       "  --sklearn-color-unfitted-level-1: #f6e4d2;\n",
       "  --sklearn-color-unfitted-level-2: #ffe0b3;\n",
       "  --sklearn-color-unfitted-level-3: chocolate;\n",
       "  /* Definition of color scheme for fitted estimators */\n",
       "  --sklearn-color-fitted-level-0: #f0f8ff;\n",
       "  --sklearn-color-fitted-level-1: #d4ebff;\n",
       "  --sklearn-color-fitted-level-2: #b3dbfd;\n",
       "  --sklearn-color-fitted-level-3: cornflowerblue;\n",
       "\n",
       "  /* Specific color for light theme */\n",
       "  --sklearn-color-text-on-default-background: var(--sg-text-color, var(--theme-code-foreground, var(--jp-content-font-color1, black)));\n",
       "  --sklearn-color-background: var(--sg-background-color, var(--theme-background, var(--jp-layout-color0, white)));\n",
       "  --sklearn-color-border-box: var(--sg-text-color, var(--theme-code-foreground, var(--jp-content-font-color1, black)));\n",
       "  --sklearn-color-icon: #696969;\n",
       "\n",
       "  @media (prefers-color-scheme: dark) {\n",
       "    /* Redefinition of color scheme for dark theme */\n",
       "    --sklearn-color-text-on-default-background: var(--sg-text-color, var(--theme-code-foreground, var(--jp-content-font-color1, white)));\n",
       "    --sklearn-color-background: var(--sg-background-color, var(--theme-background, var(--jp-layout-color0, #111)));\n",
       "    --sklearn-color-border-box: var(--sg-text-color, var(--theme-code-foreground, var(--jp-content-font-color1, white)));\n",
       "    --sklearn-color-icon: #878787;\n",
       "  }\n",
       "}\n",
       "\n",
       "#sk-container-id-16 {\n",
       "  color: var(--sklearn-color-text);\n",
       "}\n",
       "\n",
       "#sk-container-id-16 pre {\n",
       "  padding: 0;\n",
       "}\n",
       "\n",
       "#sk-container-id-16 input.sk-hidden--visually {\n",
       "  border: 0;\n",
       "  clip: rect(1px 1px 1px 1px);\n",
       "  clip: rect(1px, 1px, 1px, 1px);\n",
       "  height: 1px;\n",
       "  margin: -1px;\n",
       "  overflow: hidden;\n",
       "  padding: 0;\n",
       "  position: absolute;\n",
       "  width: 1px;\n",
       "}\n",
       "\n",
       "#sk-container-id-16 div.sk-dashed-wrapped {\n",
       "  border: 1px dashed var(--sklearn-color-line);\n",
       "  margin: 0 0.4em 0.5em 0.4em;\n",
       "  box-sizing: border-box;\n",
       "  padding-bottom: 0.4em;\n",
       "  background-color: var(--sklearn-color-background);\n",
       "}\n",
       "\n",
       "#sk-container-id-16 div.sk-container {\n",
       "  /* jupyter's `normalize.less` sets `[hidden] { display: none; }`\n",
       "     but bootstrap.min.css set `[hidden] { display: none !important; }`\n",
       "     so we also need the `!important` here to be able to override the\n",
       "     default hidden behavior on the sphinx rendered scikit-learn.org.\n",
       "     See: https://github.com/scikit-learn/scikit-learn/issues/21755 */\n",
       "  display: inline-block !important;\n",
       "  position: relative;\n",
       "}\n",
       "\n",
       "#sk-container-id-16 div.sk-text-repr-fallback {\n",
       "  display: none;\n",
       "}\n",
       "\n",
       "div.sk-parallel-item,\n",
       "div.sk-serial,\n",
       "div.sk-item {\n",
       "  /* draw centered vertical line to link estimators */\n",
       "  background-image: linear-gradient(var(--sklearn-color-text-on-default-background), var(--sklearn-color-text-on-default-background));\n",
       "  background-size: 2px 100%;\n",
       "  background-repeat: no-repeat;\n",
       "  background-position: center center;\n",
       "}\n",
       "\n",
       "/* Parallel-specific style estimator block */\n",
       "\n",
       "#sk-container-id-16 div.sk-parallel-item::after {\n",
       "  content: \"\";\n",
       "  width: 100%;\n",
       "  border-bottom: 2px solid var(--sklearn-color-text-on-default-background);\n",
       "  flex-grow: 1;\n",
       "}\n",
       "\n",
       "#sk-container-id-16 div.sk-parallel {\n",
       "  display: flex;\n",
       "  align-items: stretch;\n",
       "  justify-content: center;\n",
       "  background-color: var(--sklearn-color-background);\n",
       "  position: relative;\n",
       "}\n",
       "\n",
       "#sk-container-id-16 div.sk-parallel-item {\n",
       "  display: flex;\n",
       "  flex-direction: column;\n",
       "}\n",
       "\n",
       "#sk-container-id-16 div.sk-parallel-item:first-child::after {\n",
       "  align-self: flex-end;\n",
       "  width: 50%;\n",
       "}\n",
       "\n",
       "#sk-container-id-16 div.sk-parallel-item:last-child::after {\n",
       "  align-self: flex-start;\n",
       "  width: 50%;\n",
       "}\n",
       "\n",
       "#sk-container-id-16 div.sk-parallel-item:only-child::after {\n",
       "  width: 0;\n",
       "}\n",
       "\n",
       "/* Serial-specific style estimator block */\n",
       "\n",
       "#sk-container-id-16 div.sk-serial {\n",
       "  display: flex;\n",
       "  flex-direction: column;\n",
       "  align-items: center;\n",
       "  background-color: var(--sklearn-color-background);\n",
       "  padding-right: 1em;\n",
       "  padding-left: 1em;\n",
       "}\n",
       "\n",
       "\n",
       "/* Toggleable style: style used for estimator/Pipeline/ColumnTransformer box that is\n",
       "clickable and can be expanded/collapsed.\n",
       "- Pipeline and ColumnTransformer use this feature and define the default style\n",
       "- Estimators will overwrite some part of the style using the `sk-estimator` class\n",
       "*/\n",
       "\n",
       "/* Pipeline and ColumnTransformer style (default) */\n",
       "\n",
       "#sk-container-id-16 div.sk-toggleable {\n",
       "  /* Default theme specific background. It is overwritten whether we have a\n",
       "  specific estimator or a Pipeline/ColumnTransformer */\n",
       "  background-color: var(--sklearn-color-background);\n",
       "}\n",
       "\n",
       "/* Toggleable label */\n",
       "#sk-container-id-16 label.sk-toggleable__label {\n",
       "  cursor: pointer;\n",
       "  display: block;\n",
       "  width: 100%;\n",
       "  margin-bottom: 0;\n",
       "  padding: 0.5em;\n",
       "  box-sizing: border-box;\n",
       "  text-align: center;\n",
       "}\n",
       "\n",
       "#sk-container-id-16 label.sk-toggleable__label-arrow:before {\n",
       "  /* Arrow on the left of the label */\n",
       "  content: \"▸\";\n",
       "  float: left;\n",
       "  margin-right: 0.25em;\n",
       "  color: var(--sklearn-color-icon);\n",
       "}\n",
       "\n",
       "#sk-container-id-16 label.sk-toggleable__label-arrow:hover:before {\n",
       "  color: var(--sklearn-color-text);\n",
       "}\n",
       "\n",
       "/* Toggleable content - dropdown */\n",
       "\n",
       "#sk-container-id-16 div.sk-toggleable__content {\n",
       "  max-height: 0;\n",
       "  max-width: 0;\n",
       "  overflow: hidden;\n",
       "  text-align: left;\n",
       "  /* unfitted */\n",
       "  background-color: var(--sklearn-color-unfitted-level-0);\n",
       "}\n",
       "\n",
       "#sk-container-id-16 div.sk-toggleable__content.fitted {\n",
       "  /* fitted */\n",
       "  background-color: var(--sklearn-color-fitted-level-0);\n",
       "}\n",
       "\n",
       "#sk-container-id-16 div.sk-toggleable__content pre {\n",
       "  margin: 0.2em;\n",
       "  border-radius: 0.25em;\n",
       "  color: var(--sklearn-color-text);\n",
       "  /* unfitted */\n",
       "  background-color: var(--sklearn-color-unfitted-level-0);\n",
       "}\n",
       "\n",
       "#sk-container-id-16 div.sk-toggleable__content.fitted pre {\n",
       "  /* unfitted */\n",
       "  background-color: var(--sklearn-color-fitted-level-0);\n",
       "}\n",
       "\n",
       "#sk-container-id-16 input.sk-toggleable__control:checked~div.sk-toggleable__content {\n",
       "  /* Expand drop-down */\n",
       "  max-height: 200px;\n",
       "  max-width: 100%;\n",
       "  overflow: auto;\n",
       "}\n",
       "\n",
       "#sk-container-id-16 input.sk-toggleable__control:checked~label.sk-toggleable__label-arrow:before {\n",
       "  content: \"▾\";\n",
       "}\n",
       "\n",
       "/* Pipeline/ColumnTransformer-specific style */\n",
       "\n",
       "#sk-container-id-16 div.sk-label input.sk-toggleable__control:checked~label.sk-toggleable__label {\n",
       "  color: var(--sklearn-color-text);\n",
       "  background-color: var(--sklearn-color-unfitted-level-2);\n",
       "}\n",
       "\n",
       "#sk-container-id-16 div.sk-label.fitted input.sk-toggleable__control:checked~label.sk-toggleable__label {\n",
       "  background-color: var(--sklearn-color-fitted-level-2);\n",
       "}\n",
       "\n",
       "/* Estimator-specific style */\n",
       "\n",
       "/* Colorize estimator box */\n",
       "#sk-container-id-16 div.sk-estimator input.sk-toggleable__control:checked~label.sk-toggleable__label {\n",
       "  /* unfitted */\n",
       "  background-color: var(--sklearn-color-unfitted-level-2);\n",
       "}\n",
       "\n",
       "#sk-container-id-16 div.sk-estimator.fitted input.sk-toggleable__control:checked~label.sk-toggleable__label {\n",
       "  /* fitted */\n",
       "  background-color: var(--sklearn-color-fitted-level-2);\n",
       "}\n",
       "\n",
       "#sk-container-id-16 div.sk-label label.sk-toggleable__label,\n",
       "#sk-container-id-16 div.sk-label label {\n",
       "  /* The background is the default theme color */\n",
       "  color: var(--sklearn-color-text-on-default-background);\n",
       "}\n",
       "\n",
       "/* On hover, darken the color of the background */\n",
       "#sk-container-id-16 div.sk-label:hover label.sk-toggleable__label {\n",
       "  color: var(--sklearn-color-text);\n",
       "  background-color: var(--sklearn-color-unfitted-level-2);\n",
       "}\n",
       "\n",
       "/* Label box, darken color on hover, fitted */\n",
       "#sk-container-id-16 div.sk-label.fitted:hover label.sk-toggleable__label.fitted {\n",
       "  color: var(--sklearn-color-text);\n",
       "  background-color: var(--sklearn-color-fitted-level-2);\n",
       "}\n",
       "\n",
       "/* Estimator label */\n",
       "\n",
       "#sk-container-id-16 div.sk-label label {\n",
       "  font-family: monospace;\n",
       "  font-weight: bold;\n",
       "  display: inline-block;\n",
       "  line-height: 1.2em;\n",
       "}\n",
       "\n",
       "#sk-container-id-16 div.sk-label-container {\n",
       "  text-align: center;\n",
       "}\n",
       "\n",
       "/* Estimator-specific */\n",
       "#sk-container-id-16 div.sk-estimator {\n",
       "  font-family: monospace;\n",
       "  border: 1px dotted var(--sklearn-color-border-box);\n",
       "  border-radius: 0.25em;\n",
       "  box-sizing: border-box;\n",
       "  margin-bottom: 0.5em;\n",
       "  /* unfitted */\n",
       "  background-color: var(--sklearn-color-unfitted-level-0);\n",
       "}\n",
       "\n",
       "#sk-container-id-16 div.sk-estimator.fitted {\n",
       "  /* fitted */\n",
       "  background-color: var(--sklearn-color-fitted-level-0);\n",
       "}\n",
       "\n",
       "/* on hover */\n",
       "#sk-container-id-16 div.sk-estimator:hover {\n",
       "  /* unfitted */\n",
       "  background-color: var(--sklearn-color-unfitted-level-2);\n",
       "}\n",
       "\n",
       "#sk-container-id-16 div.sk-estimator.fitted:hover {\n",
       "  /* fitted */\n",
       "  background-color: var(--sklearn-color-fitted-level-2);\n",
       "}\n",
       "\n",
       "/* Specification for estimator info (e.g. \"i\" and \"?\") */\n",
       "\n",
       "/* Common style for \"i\" and \"?\" */\n",
       "\n",
       ".sk-estimator-doc-link,\n",
       "a:link.sk-estimator-doc-link,\n",
       "a:visited.sk-estimator-doc-link {\n",
       "  float: right;\n",
       "  font-size: smaller;\n",
       "  line-height: 1em;\n",
       "  font-family: monospace;\n",
       "  background-color: var(--sklearn-color-background);\n",
       "  border-radius: 1em;\n",
       "  height: 1em;\n",
       "  width: 1em;\n",
       "  text-decoration: none !important;\n",
       "  margin-left: 1ex;\n",
       "  /* unfitted */\n",
       "  border: var(--sklearn-color-unfitted-level-1) 1pt solid;\n",
       "  color: var(--sklearn-color-unfitted-level-1);\n",
       "}\n",
       "\n",
       ".sk-estimator-doc-link.fitted,\n",
       "a:link.sk-estimator-doc-link.fitted,\n",
       "a:visited.sk-estimator-doc-link.fitted {\n",
       "  /* fitted */\n",
       "  border: var(--sklearn-color-fitted-level-1) 1pt solid;\n",
       "  color: var(--sklearn-color-fitted-level-1);\n",
       "}\n",
       "\n",
       "/* On hover */\n",
       "div.sk-estimator:hover .sk-estimator-doc-link:hover,\n",
       ".sk-estimator-doc-link:hover,\n",
       "div.sk-label-container:hover .sk-estimator-doc-link:hover,\n",
       ".sk-estimator-doc-link:hover {\n",
       "  /* unfitted */\n",
       "  background-color: var(--sklearn-color-unfitted-level-3);\n",
       "  color: var(--sklearn-color-background);\n",
       "  text-decoration: none;\n",
       "}\n",
       "\n",
       "div.sk-estimator.fitted:hover .sk-estimator-doc-link.fitted:hover,\n",
       ".sk-estimator-doc-link.fitted:hover,\n",
       "div.sk-label-container:hover .sk-estimator-doc-link.fitted:hover,\n",
       ".sk-estimator-doc-link.fitted:hover {\n",
       "  /* fitted */\n",
       "  background-color: var(--sklearn-color-fitted-level-3);\n",
       "  color: var(--sklearn-color-background);\n",
       "  text-decoration: none;\n",
       "}\n",
       "\n",
       "/* Span, style for the box shown on hovering the info icon */\n",
       ".sk-estimator-doc-link span {\n",
       "  display: none;\n",
       "  z-index: 9999;\n",
       "  position: relative;\n",
       "  font-weight: normal;\n",
       "  right: .2ex;\n",
       "  padding: .5ex;\n",
       "  margin: .5ex;\n",
       "  width: min-content;\n",
       "  min-width: 20ex;\n",
       "  max-width: 50ex;\n",
       "  color: var(--sklearn-color-text);\n",
       "  box-shadow: 2pt 2pt 4pt #999;\n",
       "  /* unfitted */\n",
       "  background: var(--sklearn-color-unfitted-level-0);\n",
       "  border: .5pt solid var(--sklearn-color-unfitted-level-3);\n",
       "}\n",
       "\n",
       ".sk-estimator-doc-link.fitted span {\n",
       "  /* fitted */\n",
       "  background: var(--sklearn-color-fitted-level-0);\n",
       "  border: var(--sklearn-color-fitted-level-3);\n",
       "}\n",
       "\n",
       ".sk-estimator-doc-link:hover span {\n",
       "  display: block;\n",
       "}\n",
       "\n",
       "/* \"?\"-specific style due to the `<a>` HTML tag */\n",
       "\n",
       "#sk-container-id-16 a.estimator_doc_link {\n",
       "  float: right;\n",
       "  font-size: 1rem;\n",
       "  line-height: 1em;\n",
       "  font-family: monospace;\n",
       "  background-color: var(--sklearn-color-background);\n",
       "  border-radius: 1rem;\n",
       "  height: 1rem;\n",
       "  width: 1rem;\n",
       "  text-decoration: none;\n",
       "  /* unfitted */\n",
       "  color: var(--sklearn-color-unfitted-level-1);\n",
       "  border: var(--sklearn-color-unfitted-level-1) 1pt solid;\n",
       "}\n",
       "\n",
       "#sk-container-id-16 a.estimator_doc_link.fitted {\n",
       "  /* fitted */\n",
       "  border: var(--sklearn-color-fitted-level-1) 1pt solid;\n",
       "  color: var(--sklearn-color-fitted-level-1);\n",
       "}\n",
       "\n",
       "/* On hover */\n",
       "#sk-container-id-16 a.estimator_doc_link:hover {\n",
       "  /* unfitted */\n",
       "  background-color: var(--sklearn-color-unfitted-level-3);\n",
       "  color: var(--sklearn-color-background);\n",
       "  text-decoration: none;\n",
       "}\n",
       "\n",
       "#sk-container-id-16 a.estimator_doc_link.fitted:hover {\n",
       "  /* fitted */\n",
       "  background-color: var(--sklearn-color-fitted-level-3);\n",
       "}\n",
       "</style><div id=\"sk-container-id-16\" class=\"sk-top-container\"><div class=\"sk-text-repr-fallback\"><pre>LinearRegression()</pre><b>In a Jupyter environment, please rerun this cell to show the HTML representation or trust the notebook. <br />On GitHub, the HTML representation is unable to render, please try loading this page with nbviewer.org.</b></div><div class=\"sk-container\" hidden><div class=\"sk-item\"><div class=\"sk-estimator fitted sk-toggleable\"><input class=\"sk-toggleable__control sk-hidden--visually\" id=\"sk-estimator-id-16\" type=\"checkbox\" checked><label for=\"sk-estimator-id-16\" class=\"sk-toggleable__label fitted sk-toggleable__label-arrow fitted\">&nbsp;&nbsp;LinearRegression<a class=\"sk-estimator-doc-link fitted\" rel=\"noreferrer\" target=\"_blank\" href=\"https://scikit-learn.org/1.4/modules/generated/sklearn.linear_model.LinearRegression.html\">?<span>Documentation for LinearRegression</span></a><span class=\"sk-estimator-doc-link fitted\">i<span>Fitted</span></span></label><div class=\"sk-toggleable__content fitted\"><pre>LinearRegression()</pre></div> </div></div></div></div>"
      ],
      "text/plain": [
       "LinearRegression()"
      ]
     },
     "execution_count": 332,
     "metadata": {},
     "output_type": "execute_result"
    }
   ],
   "source": [
    "model.fit(x_train, y_train)"
   ]
  },
  {
   "cell_type": "code",
   "execution_count": 333,
   "metadata": {},
   "outputs": [],
   "source": [
    "prediction = model.predict(x_test)"
   ]
  },
  {
   "cell_type": "code",
   "execution_count": 334,
   "metadata": {},
   "outputs": [
    {
     "data": {
      "text/plain": [
       "0.17981159017558013"
      ]
     },
     "execution_count": 334,
     "metadata": {},
     "output_type": "execute_result"
    }
   ],
   "source": [
    "r2_score(y_test, prediction)"
   ]
  },
  {
   "cell_type": "code",
   "execution_count": 335,
   "metadata": {},
   "outputs": [
    {
     "data": {
      "image/png": "[encoded data removed]",
      "text/plain": [
       "<Figure size 640x480 with 1 Axes>"
      ]
     },
     "metadata": {},
     "output_type": "display_data"
    }
   ],
   "source": [
    "plt.plot(x_train,model.predict(x_train),color='r')\n",
    "plt.scatter(x, y)\n",
    "\n",
    "plt.show()"
   ]
  },
  {
   "cell_type": "code",
   "execution_count": 336,
   "metadata": {},
   "outputs": [
    {
     "data": {
      "image/png": "[encoded data removed]",
      "text/plain": [
       "<Figure size 640x480 with 1 Axes>"
      ]
     },
     "metadata": {},
     "output_type": "display_data"
    }
   ],
   "source": [
    "plt.plot(x_train,model.predict(x_train),color='r')\n",
    "plt.plot(x, y, \"b.\")\n",
    "plt.show()"
   ]
  },
  {
   "cell_type": "code",
   "execution_count": 337,
   "metadata": {},
   "outputs": [],
   "source": [
    "poly_nom = PolynomialFeatures(degree=2,include_bias=True)"
   ]
  },
  {
   "cell_type": "code",
   "execution_count": 338,
   "metadata": {},
   "outputs": [],
   "source": [
    "x_train_trans = poly_nom.fit_transform(x_train)\n",
    "x_test_trans = poly_nom.transform(x_test)"
   ]
  },
  {
   "cell_type": "code",
   "execution_count": 339,
   "metadata": {},
   "outputs": [
    {
     "data": {
      "text/plain": [
       "array([-1.30641407])"
      ]
     },
     "execution_count": 339,
     "metadata": {},
     "output_type": "execute_result"
    }
   ],
   "source": [
    "\n",
    "x_train[0]\n"
   ]
  },
  {
   "cell_type": "code",
   "execution_count": 340,
   "metadata": {},
   "outputs": [
    {
     "data": {
      "text/plain": [
       "array([ 1.        , -1.30641407,  1.70671773])"
      ]
     },
     "execution_count": 340,
     "metadata": {},
     "output_type": "execute_result"
    }
   ],
   "source": [
    "x_train_trans[0]"
   ]
  },
  {
   "cell_type": "code",
   "execution_count": 341,
   "metadata": {},
   "outputs": [],
   "source": [
    "model2 = LinearRegression()"
   ]
  },
  {
   "cell_type": "code",
   "execution_count": 342,
   "metadata": {},
   "outputs": [
    {
     "data": {
      "text/html": [
       "<style>#sk-container-id-17 {\n",
       "  /* Definition of color scheme common for light and dark mode */\n",
       "  --sklearn-color-text: black;\n",
       "  --sklearn-color-line: gray;\n",
       "  /* Definition of color scheme for unfitted estimators */\n",
       "  --sklearn-color-unfitted-level-0: #fff5e6;\n",
       "  --sklearn-color-unfitted-level-1: #f6e4d2;\n",
       "  --sklearn-color-unfitted-level-2: #ffe0b3;\n",
       "  --sklearn-color-unfitted-level-3: chocolate;\n",
       "  /* Definition of color scheme for fitted estimators */\n",
       "  --sklearn-color-fitted-level-0: #f0f8ff;\n",
       "  --sklearn-color-fitted-level-1: #d4ebff;\n",
       "  --sklearn-color-fitted-level-2: #b3dbfd;\n",
       "  --sklearn-color-fitted-level-3: cornflowerblue;\n",
       "\n",
       "  /* Specific color for light theme */\n",
       "  --sklearn-color-text-on-default-background: var(--sg-text-color, var(--theme-code-foreground, var(--jp-content-font-color1, black)));\n",
       "  --sklearn-color-background: var(--sg-background-color, var(--theme-background, var(--jp-layout-color0, white)));\n",
       "  --sklearn-color-border-box: var(--sg-text-color, var(--theme-code-foreground, var(--jp-content-font-color1, black)));\n",
       "  --sklearn-color-icon: #696969;\n",
       "\n",
       "  @media (prefers-color-scheme: dark) {\n",
       "    /* Redefinition of color scheme for dark theme */\n",
       "    --sklearn-color-text-on-default-background: var(--sg-text-color, var(--theme-code-foreground, var(--jp-content-font-color1, white)));\n",
       "    --sklearn-color-background: var(--sg-background-color, var(--theme-background, var(--jp-layout-color0, #111)));\n",
       "    --sklearn-color-border-box: var(--sg-text-color, var(--theme-code-foreground, var(--jp-content-font-color1, white)));\n",
       "    --sklearn-color-icon: #878787;\n",
       "  }\n",
       "}\n",
       "\n",
       "#sk-container-id-17 {\n",
       "  color: var(--sklearn-color-text);\n",
       "}\n",
       "\n",
       "#sk-container-id-17 pre {\n",
       "  padding: 0;\n",
       "}\n",
       "\n",
       "#sk-container-id-17 input.sk-hidden--visually {\n",
       "  border: 0;\n",
       "  clip: rect(1px 1px 1px 1px);\n",
       "  clip: rect(1px, 1px, 1px, 1px);\n",
       "  height: 1px;\n",
       "  margin: -1px;\n",
       "  overflow: hidden;\n",
       "  padding: 0;\n",
       "  position: absolute;\n",
       "  width: 1px;\n",
       "}\n",
       "\n",
       "#sk-container-id-17 div.sk-dashed-wrapped {\n",
       "  border: 1px dashed var(--sklearn-color-line);\n",
       "  margin: 0 0.4em 0.5em 0.4em;\n",
       "  box-sizing: border-box;\n",
       "  padding-bottom: 0.4em;\n",
       "  background-color: var(--sklearn-color-background);\n",
       "}\n",
       "\n",
       "#sk-container-id-17 div.sk-container {\n",
       "  /* jupyter's `normalize.less` sets `[hidden] { display: none; }`\n",
       "     but bootstrap.min.css set `[hidden] { display: none !important; }`\n",
       "     so we also need the `!important` here to be able to override the\n",
       "     default hidden behavior on the sphinx rendered scikit-learn.org.\n",
       "     See: https://github.com/scikit-learn/scikit-learn/issues/21755 */\n",
       "  display: inline-block !important;\n",
       "  position: relative;\n",
       "}\n",
       "\n",
       "#sk-container-id-17 div.sk-text-repr-fallback {\n",
       "  display: none;\n",
       "}\n",
       "\n",
       "div.sk-parallel-item,\n",
       "div.sk-serial,\n",
       "div.sk-item {\n",
       "  /* draw centered vertical line to link estimators */\n",
       "  background-image: linear-gradient(var(--sklearn-color-text-on-default-background), var(--sklearn-color-text-on-default-background));\n",
       "  background-size: 2px 100%;\n",
       "  background-repeat: no-repeat;\n",
       "  background-position: center center;\n",
       "}\n",
       "\n",
       "/* Parallel-specific style estimator block */\n",
       "\n",
       "#sk-container-id-17 div.sk-parallel-item::after {\n",
       "  content: \"\";\n",
       "  width: 100%;\n",
       "  border-bottom: 2px solid var(--sklearn-color-text-on-default-background);\n",
       "  flex-grow: 1;\n",
       "}\n",
       "\n",
       "#sk-container-id-17 div.sk-parallel {\n",
       "  display: flex;\n",
       "  align-items: stretch;\n",
       "  justify-content: center;\n",
       "  background-color: var(--sklearn-color-background);\n",
       "  position: relative;\n",
       "}\n",
       "\n",
       "#sk-container-id-17 div.sk-parallel-item {\n",
       "  display: flex;\n",
       "  flex-direction: column;\n",
       "}\n",
       "\n",
       "#sk-container-id-17 div.sk-parallel-item:first-child::after {\n",
       "  align-self: flex-end;\n",
       "  width: 50%;\n",
       "}\n",
       "\n",
       "#sk-container-id-17 div.sk-parallel-item:last-child::after {\n",
       "  align-self: flex-start;\n",
       "  width: 50%;\n",
       "}\n",
       "\n",
       "#sk-container-id-17 div.sk-parallel-item:only-child::after {\n",
       "  width: 0;\n",
       "}\n",
       "\n",
       "/* Serial-specific style estimator block */\n",
       "\n",
       "#sk-container-id-17 div.sk-serial {\n",
       "  display: flex;\n",
       "  flex-direction: column;\n",
       "  align-items: center;\n",
       "  background-color: var(--sklearn-color-background);\n",
       "  padding-right: 1em;\n",
       "  padding-left: 1em;\n",
       "}\n",
       "\n",
       "\n",
       "/* Toggleable style: style used for estimator/Pipeline/ColumnTransformer box that is\n",
       "clickable and can be expanded/collapsed.\n",
       "- Pipeline and ColumnTransformer use this feature and define the default style\n",
       "- Estimators will overwrite some part of the style using the `sk-estimator` class\n",
       "*/\n",
       "\n",
       "/* Pipeline and ColumnTransformer style (default) */\n",
       "\n",
       "#sk-container-id-17 div.sk-toggleable {\n",
       "  /* Default theme specific background. It is overwritten whether we have a\n",
       "  specific estimator or a Pipeline/ColumnTransformer */\n",
       "  background-color: var(--sklearn-color-background);\n",
       "}\n",
       "\n",
       "/* Toggleable label */\n",
       "#sk-container-id-17 label.sk-toggleable__label {\n",
       "  cursor: pointer;\n",
       "  display: block;\n",
       "  width: 100%;\n",
       "  margin-bottom: 0;\n",
       "  padding: 0.5em;\n",
       "  box-sizing: border-box;\n",
       "  text-align: center;\n",
       "}\n",
       "\n",
       "#sk-container-id-17 label.sk-toggleable__label-arrow:before {\n",
       "  /* Arrow on the left of the label */\n",
       "  content: \"▸\";\n",
       "  float: left;\n",
       "  margin-right: 0.25em;\n",
       "  color: var(--sklearn-color-icon);\n",
       "}\n",
       "\n",
       "#sk-container-id-17 label.sk-toggleable__label-arrow:hover:before {\n",
       "  color: var(--sklearn-color-text);\n",
       "}\n",
       "\n",
       "/* Toggleable content - dropdown */\n",
       "\n",
       "#sk-container-id-17 div.sk-toggleable__content {\n",
       "  max-height: 0;\n",
       "  max-width: 0;\n",
       "  overflow: hidden;\n",
       "  text-align: left;\n",
       "  /* unfitted */\n",
       "  background-color: var(--sklearn-color-unfitted-level-0);\n",
       "}\n",
       "\n",
       "#sk-container-id-17 div.sk-toggleable__content.fitted {\n",
       "  /* fitted */\n",
       "  background-color: var(--sklearn-color-fitted-level-0);\n",
       "}\n",
       "\n",
       "#sk-container-id-17 div.sk-toggleable__content pre {\n",
       "  margin: 0.2em;\n",
       "  border-radius: 0.25em;\n",
       "  color: var(--sklearn-color-text);\n",
       "  /* unfitted */\n",
       "  background-color: var(--sklearn-color-unfitted-level-0);\n",
       "}\n",
       "\n",
       "#sk-container-id-17 div.sk-toggleable__content.fitted pre {\n",
       "  /* unfitted */\n",
       "  background-color: var(--sklearn-color-fitted-level-0);\n",
       "}\n",
       "\n",
       "#sk-container-id-17 input.sk-toggleable__control:checked~div.sk-toggleable__content {\n",
       "  /* Expand drop-down */\n",
       "  max-height: 200px;\n",
       "  max-width: 100%;\n",
       "  overflow: auto;\n",
       "}\n",
       "\n",
       "#sk-container-id-17 input.sk-toggleable__control:checked~label.sk-toggleable__label-arrow:before {\n",
       "  content: \"▾\";\n",
       "}\n",
       "\n",
       "/* Pipeline/ColumnTransformer-specific style */\n",
       "\n",
       "#sk-container-id-17 div.sk-label input.sk-toggleable__control:checked~label.sk-toggleable__label {\n",
       "  color: var(--sklearn-color-text);\n",
       "  background-color: var(--sklearn-color-unfitted-level-2);\n",
       "}\n",
       "\n",
       "#sk-container-id-17 div.sk-label.fitted input.sk-toggleable__control:checked~label.sk-toggleable__label {\n",
       "  background-color: var(--sklearn-color-fitted-level-2);\n",
       "}\n",
       "\n",
       "/* Estimator-specific style */\n",
       "\n",
       "/* Colorize estimator box */\n",
       "#sk-container-id-17 div.sk-estimator input.sk-toggleable__control:checked~label.sk-toggleable__label {\n",
       "  /* unfitted */\n",
       "  background-color: var(--sklearn-color-unfitted-level-2);\n",
       "}\n",
       "\n",
       "#sk-container-id-17 div.sk-estimator.fitted input.sk-toggleable__control:checked~label.sk-toggleable__label {\n",
       "  /* fitted */\n",
       "  background-color: var(--sklearn-color-fitted-level-2);\n",
       "}\n",
       "\n",
       "#sk-container-id-17 div.sk-label label.sk-toggleable__label,\n",
       "#sk-container-id-17 div.sk-label label {\n",
       "  /* The background is the default theme color */\n",
       "  color: var(--sklearn-color-text-on-default-background);\n",
       "}\n",
       "\n",
       "/* On hover, darken the color of the background */\n",
       "#sk-container-id-17 div.sk-label:hover label.sk-toggleable__label {\n",
       "  color: var(--sklearn-color-text);\n",
       "  background-color: var(--sklearn-color-unfitted-level-2);\n",
       "}\n",
       "\n",
       "/* Label box, darken color on hover, fitted */\n",
       "#sk-container-id-17 div.sk-label.fitted:hover label.sk-toggleable__label.fitted {\n",
       "  color: var(--sklearn-color-text);\n",
       "  background-color: var(--sklearn-color-fitted-level-2);\n",
       "}\n",
       "\n",
       "/* Estimator label */\n",
       "\n",
       "#sk-container-id-17 div.sk-label label {\n",
       "  font-family: monospace;\n",
       "  font-weight: bold;\n",
       "  display: inline-block;\n",
       "  line-height: 1.2em;\n",
       "}\n",
       "\n",
       "#sk-container-id-17 div.sk-label-container {\n",
       "  text-align: center;\n",
       "}\n",
       "\n",
       "/* Estimator-specific */\n",
       "#sk-container-id-17 div.sk-estimator {\n",
       "  font-family: monospace;\n",
       "  border: 1px dotted var(--sklearn-color-border-box);\n",
       "  border-radius: 0.25em;\n",
       "  box-sizing: border-box;\n",
       "  margin-bottom: 0.5em;\n",
       "  /* unfitted */\n",
       "  background-color: var(--sklearn-color-unfitted-level-0);\n",
       "}\n",
       "\n",
       "#sk-container-id-17 div.sk-estimator.fitted {\n",
       "  /* fitted */\n",
       "  background-color: var(--sklearn-color-fitted-level-0);\n",
       "}\n",
       "\n",
       "/* on hover */\n",
       "#sk-container-id-17 div.sk-estimator:hover {\n",
       "  /* unfitted */\n",
       "  background-color: var(--sklearn-color-unfitted-level-2);\n",
       "}\n",
       "\n",
       "#sk-container-id-17 div.sk-estimator.fitted:hover {\n",
       "  /* fitted */\n",
       "  background-color: var(--sklearn-color-fitted-level-2);\n",
       "}\n",
       "\n",
       "/* Specification for estimator info (e.g. \"i\" and \"?\") */\n",
       "\n",
       "/* Common style for \"i\" and \"?\" */\n",
       "\n",
       ".sk-estimator-doc-link,\n",
       "a:link.sk-estimator-doc-link,\n",
       "a:visited.sk-estimator-doc-link {\n",
       "  float: right;\n",
       "  font-size: smaller;\n",
       "  line-height: 1em;\n",
       "  font-family: monospace;\n",
       "  background-color: var(--sklearn-color-background);\n",
       "  border-radius: 1em;\n",
       "  height: 1em;\n",
       "  width: 1em;\n",
       "  text-decoration: none !important;\n",
       "  margin-left: 1ex;\n",
       "  /* unfitted */\n",
       "  border: var(--sklearn-color-unfitted-level-1) 1pt solid;\n",
       "  color: var(--sklearn-color-unfitted-level-1);\n",
       "}\n",
       "\n",
       ".sk-estimator-doc-link.fitted,\n",
       "a:link.sk-estimator-doc-link.fitted,\n",
       "a:visited.sk-estimator-doc-link.fitted {\n",
       "  /* fitted */\n",
       "  border: var(--sklearn-color-fitted-level-1) 1pt solid;\n",
       "  color: var(--sklearn-color-fitted-level-1);\n",
       "}\n",
       "\n",
       "/* On hover */\n",
       "div.sk-estimator:hover .sk-estimator-doc-link:hover,\n",
       ".sk-estimator-doc-link:hover,\n",
       "div.sk-label-container:hover .sk-estimator-doc-link:hover,\n",
       ".sk-estimator-doc-link:hover {\n",
       "  /* unfitted */\n",
       "  background-color: var(--sklearn-color-unfitted-level-3);\n",
       "  color: var(--sklearn-color-background);\n",
       "  text-decoration: none;\n",
       "}\n",
       "\n",
       "div.sk-estimator.fitted:hover .sk-estimator-doc-link.fitted:hover,\n",
       ".sk-estimator-doc-link.fitted:hover,\n",
       "div.sk-label-container:hover .sk-estimator-doc-link.fitted:hover,\n",
       ".sk-estimator-doc-link.fitted:hover {\n",
       "  /* fitted */\n",
       "  background-color: var(--sklearn-color-fitted-level-3);\n",
       "  color: var(--sklearn-color-background);\n",
       "  text-decoration: none;\n",
       "}\n",
       "\n",
       "/* Span, style for the box shown on hovering the info icon */\n",
       ".sk-estimator-doc-link span {\n",
       "  display: none;\n",
       "  z-index: 9999;\n",
       "  position: relative;\n",
       "  font-weight: normal;\n",
       "  right: .2ex;\n",
       "  padding: .5ex;\n",
       "  margin: .5ex;\n",
       "  width: min-content;\n",
       "  min-width: 20ex;\n",
       "  max-width: 50ex;\n",
       "  color: var(--sklearn-color-text);\n",
       "  box-shadow: 2pt 2pt 4pt #999;\n",
       "  /* unfitted */\n",
       "  background: var(--sklearn-color-unfitted-level-0);\n",
       "  border: .5pt solid var(--sklearn-color-unfitted-level-3);\n",
       "}\n",
       "\n",
       ".sk-estimator-doc-link.fitted span {\n",
       "  /* fitted */\n",
       "  background: var(--sklearn-color-fitted-level-0);\n",
       "  border: var(--sklearn-color-fitted-level-3);\n",
       "}\n",
       "\n",
       ".sk-estimator-doc-link:hover span {\n",
       "  display: block;\n",
       "}\n",
       "\n",
       "/* \"?\"-specific style due to the `<a>` HTML tag */\n",
       "\n",
       "#sk-container-id-17 a.estimator_doc_link {\n",
       "  float: right;\n",
       "  font-size: 1rem;\n",
       "  line-height: 1em;\n",
       "  font-family: monospace;\n",
       "  background-color: var(--sklearn-color-background);\n",
       "  border-radius: 1rem;\n",
       "  height: 1rem;\n",
       "  width: 1rem;\n",
       "  text-decoration: none;\n",
       "  /* unfitted */\n",
       "  color: var(--sklearn-color-unfitted-level-1);\n",
       "  border: var(--sklearn-color-unfitted-level-1) 1pt solid;\n",
       "}\n",
       "\n",
       "#sk-container-id-17 a.estimator_doc_link.fitted {\n",
       "  /* fitted */\n",
       "  border: var(--sklearn-color-fitted-level-1) 1pt solid;\n",
       "  color: var(--sklearn-color-fitted-level-1);\n",
       "}\n",
       "\n",
       "/* On hover */\n",
       "#sk-container-id-17 a.estimator_doc_link:hover {\n",
       "  /* unfitted */\n",
       "  background-color: var(--sklearn-color-unfitted-level-3);\n",
       "  color: var(--sklearn-color-background);\n",
       "  text-decoration: none;\n",
       "}\n",
       "\n",
       "#sk-container-id-17 a.estimator_doc_link.fitted:hover {\n",
       "  /* fitted */\n",
       "  background-color: var(--sklearn-color-fitted-level-3);\n",
       "}\n",
       "</style><div id=\"sk-container-id-17\" class=\"sk-top-container\"><div class=\"sk-text-repr-fallback\"><pre>LinearRegression()</pre><b>In a Jupyter environment, please rerun this cell to show the HTML representation or trust the notebook. <br />On GitHub, the HTML representation is unable to render, please try loading this page with nbviewer.org.</b></div><div class=\"sk-container\" hidden><div class=\"sk-item\"><div class=\"sk-estimator fitted sk-toggleable\"><input class=\"sk-toggleable__control sk-hidden--visually\" id=\"sk-estimator-id-17\" type=\"checkbox\" checked><label for=\"sk-estimator-id-17\" class=\"sk-toggleable__label fitted sk-toggleable__label-arrow fitted\">&nbsp;&nbsp;LinearRegression<a class=\"sk-estimator-doc-link fitted\" rel=\"noreferrer\" target=\"_blank\" href=\"https://scikit-learn.org/1.4/modules/generated/sklearn.linear_model.LinearRegression.html\">?<span>Documentation for LinearRegression</span></a><span class=\"sk-estimator-doc-link fitted\">i<span>Fitted</span></span></label><div class=\"sk-toggleable__content fitted\"><pre>LinearRegression()</pre></div> </div></div></div></div>"
      ],
      "text/plain": [
       "LinearRegression()"
      ]
     },
     "execution_count": 342,
     "metadata": {},
     "output_type": "execute_result"
    }
   ],
   "source": [
    "model2.fit(x_train_trans, y_train)"
   ]
  },
  {
   "cell_type": "code",
   "execution_count": 343,
   "metadata": {},
   "outputs": [],
   "source": [
    "prediction2 = model2.predict(x_test_trans)"
   ]
  },
  {
   "cell_type": "code",
   "execution_count": 344,
   "metadata": {},
   "outputs": [
    {
     "data": {
      "text/plain": [
       "0.8579719549084165"
      ]
     },
     "execution_count": 344,
     "metadata": {},
     "output_type": "execute_result"
    }
   ],
   "source": [
    "r2_score(y_test, prediction2)"
   ]
  },
  {
   "cell_type": "code",
   "execution_count": 345,
   "metadata": {},
   "outputs": [
    {
     "data": {
      "text/plain": [
       "array([1.84746591])"
      ]
     },
     "execution_count": 345,
     "metadata": {},
     "output_type": "execute_result"
    }
   ],
   "source": [
    "model2.intercept_"
   ]
  },
  {
   "cell_type": "code",
   "execution_count": 346,
   "metadata": {},
   "outputs": [
    {
     "data": {
      "text/plain": [
       "array([[0.        , 0.89422159, 0.8384202 ]])"
      ]
     },
     "execution_count": 346,
     "metadata": {},
     "output_type": "execute_result"
    }
   ],
   "source": [
    "model2.coef_"
   ]
  },
  {
   "cell_type": "code",
   "execution_count": 347,
   "metadata": {},
   "outputs": [],
   "source": [
    "x_new=np.linspace(-3, 3, 200).reshape(200, 1)\n"
   ]
  },
  {
   "cell_type": "code",
   "execution_count": 348,
   "metadata": {},
   "outputs": [],
   "source": [
    "x_new_poly = poly_nom.transform(x_new)"
   ]
  },
  {
   "cell_type": "code",
   "execution_count": 349,
   "metadata": {},
   "outputs": [],
   "source": [
    "y_new = model2.predict(x_new_poly)"
   ]
  },
  {
   "cell_type": "code",
   "execution_count": 350,
   "metadata": {},
   "outputs": [
    {
     "data": {
      "image/png": "[encoded data removed]",
      "text/plain": [
       "<Figure size 640x480 with 1 Axes>"
      ]
     },
     "metadata": {},
     "output_type": "display_data"
    }
   ],
   "source": [
    "\n",
    "plt.plot(x_new, y_new, \"r-\", linewidth=2, label=\"Predictions\")\n",
    "plt.plot(x_train, y_train, \"b.\",label='Training points')\n",
    "plt.plot(x_test, y_test, \"g.\",label='Testing points')\n",
    "\n",
    "plt.legend()\n",
    "plt.show()"
   ]
  },
  {
   "cell_type": "code",
   "execution_count": 351,
   "metadata": {},
   "outputs": [],
   "source": [
    "def polynomial_regression(degree):\n",
    "    X_new=np.linspace(-3, 3, 100).reshape(100, 1)\n",
    "    X_new_poly = poly_nom.transform(X_new)\n",
    "\n",
    "    polybig_features = PolynomialFeatures(degree=degree, include_bias=False)\n",
    "    std_scaler = StandardScaler()\n",
    "    lin_reg = LinearRegression()\n",
    "    polynomial_regression = Pipeline([\n",
    "            (\"poly_features\", polybig_features),\n",
    "            (\"std_scaler\", std_scaler),\n",
    "            (\"lin_reg\", lin_reg),\n",
    "        ])\n",
    "    polynomial_regression.fit(x, y)\n",
    "    y_newbig = polynomial_regression.predict(X_new)\n",
    "    plt.plot(X_new, y_newbig,'r', label=\"Degree \" + str(degree), linewidth=2)\n",
    "\n",
    "    plt.plot(x_train, y_train, \"b.\", linewidth=3)\n",
    "    plt.plot(x_test, y_test, \"g.\", linewidth=3)\n",
    "    plt.legend(loc=\"upper left\")\n",
    "    plt.xlabel(\"X\")\n",
    "    plt.ylabel(\"y\")\n",
    "    plt.axis([-3, 3, 0, 10])\n",
    "    plt.show()"
   ]
  },
  {
   "cell_type": "code",
   "execution_count": 352,
   "metadata": {},
   "outputs": [
    {
     "data": {
      "image/png": "[encoded data removed]",
      "text/plain": [
       "<Figure size 640x480 with 1 Axes>"
      ]
     },
     "metadata": {},
     "output_type": "display_data"
    }
   ],
   "source": [
    "polynomial_regression(300)"
   ]
  },
  {
   "cell_type": "code",
   "execution_count": 353,
   "metadata": {},
   "outputs": [
    {
     "data": {
      "text/plain": [
       "array([[0],\n",
       "       [1],\n",
       "       [2]], dtype=int64)"
      ]
     },
     "execution_count": 353,
     "metadata": {},
     "output_type": "execute_result"
    }
   ],
   "source": [
    "poly_nom.powers_"
   ]
  },
  {
   "cell_type": "code",
   "execution_count": 354,
   "metadata": {},
   "outputs": [
    {
     "name": "stderr",
     "output_type": "stream",
     "text": [
      "C:\\Users\\shoab\\AppData\\Roaming\\Python\\Python312\\site-packages\\sklearn\\utils\\validation.py:1300: DataConversionWarning:\n",
      "\n",
      "A column-vector y was passed when a 1d array was expected. Please change the shape of y to (n_samples, ), for example using ravel().\n",
      "\n"
     ]
    },
    {
     "data": {
      "image/png": "[encoded data removed]",
      "text/plain": [
       "<Figure size 640x480 with 1 Axes>"
      ]
     },
     "metadata": {},
     "output_type": "display_data"
    }
   ],
   "source": [
    "poly = PolynomialFeatures(degree=2)\n",
    "\n",
    "X_train_trans = poly.fit_transform(x_train)\n",
    "X_test_trans = poly.transform(x_test)\n",
    "\n",
    "sgd = SGDRegressor(max_iter=100)\n",
    "sgd.fit(X_train_trans,y_train)\n",
    "\n",
    "X_new=np.linspace(-2.9, 2.8, 200).reshape(200, 1)\n",
    "X_new_poly = poly.transform(X_new)\n",
    "y_new = sgd.predict(X_new_poly)\n",
    "\n",
    "y_pred = sgd.predict(X_test_trans)\n",
    "\n",
    "plt.plot(X_new, y_new, \"r-\", linewidth=2, label=\"Predictions \" + str(round(r2_score(y_test,y_pred),2)))\n",
    "plt.plot(x_train, y_train, \"b.\",label='Training points')\n",
    "plt.plot(x_test, y_test, \"g.\",label='Testing points')\n",
    "plt.xlabel(\"X\")\n",
    "plt.ylabel(\"y\")\n",
    "plt.legend()\n",
    "plt.show()"
   ]
  },
  {
   "cell_type": "code",
   "execution_count": 355,
   "metadata": {},
   "outputs": [],
   "source": [
    "x = 7 * np.random.rand(100, 1) - 2.8\n",
    "y = 7 * np.random.rand(100, 1) - 2.8"
   ]
  },
  {
   "cell_type": "code",
   "execution_count": 356,
   "metadata": {},
   "outputs": [],
   "source": [
    "z = x**2 + y**2 + 0.2*x + 0.2*y + 0.1*x*y +2 + np.random.randn(100, 1)"
   ]
  },
  {
   "cell_type": "code",
   "execution_count": 357,
   "metadata": {},
   "outputs": [
    {
     "data": {
      "application/vnd.plotly.v1+json": {
       "config": {
        "plotlyServerURL": "https://plot.ly"
       },
       "data": [
        {
         "hovertemplate": "x=%{x}<br>y=%{y}<br>z=%{z}<extra></extra>",
         "legendgroup": "",
         "marker": {
          "color": "#636efa",
          "symbol": "circle"
         },
         "mode": "markers",
         "name": "",
         "scene": "scene",
         "showlegend": false,
         "type": "scatter3d",
         "x": [
          -2.6235002018569573,
          -1.955321001036281,
          1.1438915457336671,
          0.1743500731550114,
          -1.9187642615116816,
          3.638636407633352,
          -2.335939742516773,
          -0.47582111320529696,
          -1.6462321623776468,
          -0.6909811436354016,
          -1.0359621297882995,
          3.5719065886791634,
          -2.18188413371701,
          -2.74655850141563,
          0.5522530210948786,
          2.883542087774786,
          0.795901445651384,
          -1.2883826969669374,
          3.0176213268194614,
          1.540693347889306,
          1.2687044015493125,
          2.0764265330716176,
          -1.3911909097538637,
          0.9630358687734155,
          3.761252231533036,
          -0.03755467463141926,
          -1.9092505897244059,
          -0.28171421316377243,
          1.0844973977902947,
          2.527703812976691,
          1.2235376463009366,
          2.134172174180054,
          0.524637536145546,
          -1.697297514876394,
          -1.0697543444485476,
          -1.9572253561050639,
          -0.5613502733771996,
          4.131366668619323,
          2.760955494537434,
          -2.6678650566694335,
          1.160992495455885,
          3.391625921740925,
          -2.376008283966713,
          2.7695041644174134,
          -1.7844747269813732,
          -0.21332380441046617,
          -1.5666163199862533,
          0.6229720854355012,
          -1.6163625682614549,
          1.6433981022860369,
          0.7002648767882613,
          1.0560567517150523,
          0.8108019423490451,
          -2.2633159075122284,
          4.084405172525835,
          -1.649625172462641,
          4.143061557890445,
          0.8647909825523135,
          -1.2181987503153302,
          4.160420002110237,
          2.003271956023317,
          2.3993683598792677,
          3.071378884175985,
          1.999452121765727,
          1.703594474934551,
          3.247716245494466,
          -0.3656732511370544,
          -1.0096587155977108,
          -0.882829448517892,
          -2.6430949640227537,
          1.7025164221075064,
          2.581027924582539,
          -0.38725775880707136,
          -1.45450890381209,
          3.0780052981372776,
          -1.5241945639969248,
          -2.291329630094923,
          -1.0148270985142656,
          2.542168716812945,
          -0.5433176793161376,
          -0.49672053892305845,
          -1.6084416723888335,
          2.1168106651139222,
          1.1119003255545419,
          2.581822792622222,
          2.0392354788668534,
          -2.279548773863504,
          2.2267716140402163,
          1.1012966305620089,
          1.841887544250766,
          1.8869225478099088,
          2.276311920565493,
          2.6999053190423705,
          -2.3549694251224,
          0.4440082026841483,
          -2.510876637696644,
          1.9901551643485398,
          -0.0584165300603412,
          0.1286303382337719,
          2.604391849612039
         ],
         "y": [
          0.0893535864812316,
          2.1099395622040857,
          3.2105489941982466,
          0.8607783981414783,
          -1.8988256848617366,
          -0.7731116618212699,
          -2.587408768436645,
          0.5634371723263953,
          -0.9574576915917143,
          1.2848660974228991,
          -2.025907006811731,
          1.403571260449909,
          1.9366049913878705,
          -2.328928501651411,
          3.843721419955683,
          -2.5920765469561355,
          -1.7839865265696635,
          3.315643258076846,
          3.689110421566733,
          -1.3309685076110491,
          1.3734765295630087,
          -0.9802812565413912,
          -0.19330189250049967,
          1.1599726865088922,
          1.8020715781232148,
          -1.0531288474679874,
          4.140723483918725,
          1.5848979646958812,
          2.7321020279932613,
          3.8047857837644186,
          -1.7646763665040526,
          0.5342598671752583,
          -0.08933650353325584,
          0.16509623759675662,
          0.5169496814006616,
          3.6616333173653075,
          0.7441076693997655,
          0.8738783175495781,
          0.4515980274081133,
          2.8883787586868133,
          -0.3894595336504727,
          1.041207892564779,
          -1.8147242507672803,
          -0.7489980421365083,
          -0.4206691191836729,
          -1.5397852072952172,
          0.1968551163168999,
          -2.6486222870158884,
          4.027103990408078,
          -0.8229764659330501,
          -0.3743785369870447,
          1.992933337849725,
          3.0142502438529055,
          -1.7261005896759078,
          3.5066276177236464,
          -1.1469769878914637,
          1.893537264526838,
          3.0360712026162364,
          3.1694544078376605,
          -0.22027942131681488,
          -2.72554188640028,
          -1.4035152469525478,
          -2.3351876260467854,
          -2.2614723444621307,
          -0.970389508784975,
          0.7853475099603653,
          -1.8028673668608184,
          -2.112753592292255,
          -1.3123401240698982,
          2.708916762135895,
          2.757996624282163,
          0.9904131221475145,
          -0.30383520306564504,
          3.867209754526419,
          2.1565410728124146,
          -2.6282893054716823,
          3.4455501775641,
          -1.7600478047304904,
          -1.5070879776673785,
          3.3768498355251886,
          -2.399296208509172,
          1.865832713349107,
          3.702599583967208,
          -0.4294030028856115,
          2.521546990294085,
          3.5412659517209164,
          2.7811620591228223,
          -2.010893351534539,
          1.2964338516058262,
          -0.7681186533330542,
          2.1036597797831575,
          -2.7599916528913333,
          -1.7421880720347152,
          -0.6851493324550231,
          2.6036475050800085,
          -1.2274194628844013,
          -0.14534178015203203,
          2.361856335342037,
          -0.37596872282327265,
          3.7408123921294685
         ],
         "z": [
          8.263810832348748,
          9.987330558470271,
          13.702430439848712,
          2.925615496387673,
          8.190215228301787,
          16.02991329426188,
          14.587596531459665,
          2.123711874674964,
          6.85761832672247,
          3.5352572894430576,
          8.219543283062217,
          18.098494788064645,
          10.98556546332997,
          14.193301621432242,
          19.587531133369097,
          16.901033389468072,
          5.173476935699367,
          12.890949297019926,
          27.879298786445016,
          4.937577647327415,
          6.3018137809187165,
          6.069871498758596,
          3.440843208006815,
          6.136821891538433,
          21.404532111116037,
          1.6965472804794326,
          23.143247116507915,
          5.337974074534921,
          13.564784987421854,
          24.0592224455515,
          6.239798066731798,
          6.65901566421327,
          1.9297398599274098,
          5.094769799900256,
          3.3956654297871816,
          17.227678325386822,
          2.5289399195758198,
          21.741005994619567,
          12.20221347648894,
          16.55071408839774,
          3.6156306468971215,
          15.799002474278058,
          10.282247255089473,
          11.432135414067657,
          4.564022663171488,
          2.780032548698026,
          3.7226552869983314,
          8.28532763939129,
          19.833446819808152,
          2.9707584280325134,
          3.021689862132052,
          6.947606644031873,
          10.915976038132634,
          9.65931687084505,
          34.1411221542332,
          7.397294874493351,
          26.130954368465222,
          13.897935713577013,
          12.617862025740068,
          21.278525332514718,
          11.392266751796061,
          9.015872422758154,
          16.323565114572343,
          11.819003479273713,
          5.236545056695006,
          14.393562172069737,
          6.083854622733986,
          8.139716119432359,
          2.587524876011841,
          16.22717325737469,
          13.157000529687023,
          9.518424637230003,
          1.6326721501947001,
          19.553424358082154,
          17.62124915459877,
          9.715172628374866,
          19.1045692816394,
          6.768936372655315,
          11.124415208416805,
          13.933395228110172,
          5.346123257668038,
          7.710147325898819,
          21.5523174793444,
          2.1485224772530875,
          17.9720094986963,
          21.03801052481861,
          15.205909300644928,
          9.405666219844388,
          4.793463201548415,
          3.703065323169742,
          12.4547210080235,
          12.830878636925807,
          11.864313693298282,
          7.247962895350342,
          9.84024095969457,
          7.671777710440558,
          6.4029171840081585,
          7.217427128605117,
          1.2702679407685245,
          25.113554825738678
         ]
        }
       ],
       "layout": {
        "legend": {
         "tracegroupgap": 0
        },
        "margin": {
         "t": 60
        },
        "scene": {
         "domain": {
          "x": [
           0,
           1
          ],
          "y": [
           0,
           1
          ]
         },
         "xaxis": {
          "title": {
           "text": "x"
          }
         },
         "yaxis": {
          "title": {
           "text": "y"
          }
         },
         "zaxis": {
          "title": {
           "text": "z"
          }
         }
        },
        "template": {
         "data": {
          "bar": [
           {
            "error_x": {
             "color": "#2a3f5f"
            },
            "error_y": {
             "color": "#2a3f5f"
            },
            "marker": {
             "line": {
              "color": "#E5ECF6",
              "width": 0.5
             },
             "pattern": {
              "fillmode": "overlay",
              "size": 10,
              "solidity": 0.2
             }
            },
            "type": "bar"
           }
          ],
          "barpolar": [
           {
            "marker": {
             "line": {
              "color": "#E5ECF6",
              "width": 0.5
             },
             "pattern": {
              "fillmode": "overlay",
              "size": 10,
              "solidity": 0.2
             }
            },
            "type": "barpolar"
           }
          ],
          "carpet": [
           {
            "aaxis": {
             "endlinecolor": "#2a3f5f",
             "gridcolor": "white",
             "linecolor": "white",
             "minorgridcolor": "white",
             "startlinecolor": "#2a3f5f"
            },
            "baxis": {
             "endlinecolor": "#2a3f5f",
             "gridcolor": "white",
             "linecolor": "white",
             "minorgridcolor": "white",
             "startlinecolor": "#2a3f5f"
            },
            "type": "carpet"
           }
          ],
          "choropleth": [
           {
            "colorbar": {
             "outlinewidth": 0,
             "ticks": ""
            },
            "type": "choropleth"
           }
          ],
          "contour": [
           {
            "colorbar": {
             "outlinewidth": 0,
             "ticks": ""
            },
            "colorscale": [
             [
              0,
              "#0d0887"
             ],
             [
              0.1111111111111111,
              "#46039f"
             ],
             [
              0.2222222222222222,
              "#7201a8"
             ],
             [
              0.3333333333333333,
              "#9c179e"
             ],
             [
              0.4444444444444444,
              "#bd3786"
             ],
             [
              0.5555555555555556,
              "#d8576b"
             ],
             [
              0.6666666666666666,
              "#ed7953"
             ],
             [
              0.7777777777777778,
              "#fb9f3a"
             ],
             [
              0.8888888888888888,
              "#fdca26"
             ],
             [
              1,
              "#f0f921"
             ]
            ],
            "type": "contour"
           }
          ],
          "contourcarpet": [
           {
            "colorbar": {
             "outlinewidth": 0,
             "ticks": ""
            },
            "type": "contourcarpet"
           }
          ],
          "heatmap": [
           {
            "colorbar": {
             "outlinewidth": 0,
             "ticks": ""
            },
            "colorscale": [
             [
              0,
              "#0d0887"
             ],
             [
              0.1111111111111111,
              "#46039f"
             ],
             [
              0.2222222222222222,
              "#7201a8"
             ],
             [
              0.3333333333333333,
              "#9c179e"
             ],
             [
              0.4444444444444444,
              "#bd3786"
             ],
             [
              0.5555555555555556,
              "#d8576b"
             ],
             [
              0.6666666666666666,
              "#ed7953"
             ],
             [
              0.7777777777777778,
              "#fb9f3a"
             ],
             [
              0.8888888888888888,
              "#fdca26"
             ],
             [
              1,
              "#f0f921"
             ]
            ],
            "type": "heatmap"
           }
          ],
          "heatmapgl": [
           {
            "colorbar": {
             "outlinewidth": 0,
             "ticks": ""
            },
            "colorscale": [
             [
              0,
              "#0d0887"
             ],
             [
              0.1111111111111111,
              "#46039f"
             ],
             [
              0.2222222222222222,
              "#7201a8"
             ],
             [
              0.3333333333333333,
              "#9c179e"
             ],
             [
              0.4444444444444444,
              "#bd3786"
             ],
             [
              0.5555555555555556,
              "#d8576b"
             ],
             [
              0.6666666666666666,
              "#ed7953"
             ],
             [
              0.7777777777777778,
              "#fb9f3a"
             ],
             [
              0.8888888888888888,
              "#fdca26"
             ],
             [
              1,
              "#f0f921"
             ]
            ],
            "type": "heatmapgl"
           }
          ],
          "histogram": [
           {
            "marker": {
             "pattern": {
              "fillmode": "overlay",
              "size": 10,
              "solidity": 0.2
             }
            },
            "type": "histogram"
           }
          ],
          "histogram2d": [
           {
            "colorbar": {
             "outlinewidth": 0,
             "ticks": ""
            },
            "colorscale": [
             [
              0,
              "#0d0887"
             ],
             [
              0.1111111111111111,
              "#46039f"
             ],
             [
              0.2222222222222222,
              "#7201a8"
             ],
             [
              0.3333333333333333,
              "#9c179e"
             ],
             [
              0.4444444444444444,
              "#bd3786"
             ],
             [
              0.5555555555555556,
              "#d8576b"
             ],
             [
              0.6666666666666666,
              "#ed7953"
             ],
             [
              0.7777777777777778,
              "#fb9f3a"
             ],
             [
              0.8888888888888888,
              "#fdca26"
             ],
             [
              1,
              "#f0f921"
             ]
            ],
            "type": "histogram2d"
           }
          ],
          "histogram2dcontour": [
           {
            "colorbar": {
             "outlinewidth": 0,
             "ticks": ""
            },
            "colorscale": [
             [
              0,
              "#0d0887"
             ],
             [
              0.1111111111111111,
              "#46039f"
             ],
             [
              0.2222222222222222,
              "#7201a8"
             ],
             [
              0.3333333333333333,
              "#9c179e"
             ],
             [
              0.4444444444444444,
              "#bd3786"
             ],
             [
              0.5555555555555556,
              "#d8576b"
             ],
             [
              0.6666666666666666,
              "#ed7953"
             ],
             [
              0.7777777777777778,
              "#fb9f3a"
             ],
             [
              0.8888888888888888,
              "#fdca26"
             ],
             [
              1,
              "#f0f921"
             ]
            ],
            "type": "histogram2dcontour"
           }
          ],
          "mesh3d": [
           {
            "colorbar": {
             "outlinewidth": 0,
             "ticks": ""
            },
            "type": "mesh3d"
           }
          ],
          "parcoords": [
           {
            "line": {
             "colorbar": {
              "outlinewidth": 0,
              "ticks": ""
             }
            },
            "type": "parcoords"
           }
          ],
          "pie": [
           {
            "automargin": true,
            "type": "pie"
           }
          ],
          "scatter": [
           {
            "fillpattern": {
             "fillmode": "overlay",
             "size": 10,
             "solidity": 0.2
            },
            "type": "scatter"
           }
          ],
          "scatter3d": [
           {
            "line": {
             "colorbar": {
              "outlinewidth": 0,
              "ticks": ""
             }
            },
            "marker": {
             "colorbar": {
              "outlinewidth": 0,
              "ticks": ""
             }
            },
            "type": "scatter3d"
           }
          ],
          "scattercarpet": [
           {
            "marker": {
             "colorbar": {
              "outlinewidth": 0,
              "ticks": ""
             }
            },
            "type": "scattercarpet"
           }
          ],
          "scattergeo": [
           {
            "marker": {
             "colorbar": {
              "outlinewidth": 0,
              "ticks": ""
             }
            },
            "type": "scattergeo"
           }
          ],
          "scattergl": [
           {
            "marker": {
             "colorbar": {
              "outlinewidth": 0,
              "ticks": ""
             }
            },
            "type": "scattergl"
           }
          ],
          "scattermapbox": [
           {
            "marker": {
             "colorbar": {
              "outlinewidth": 0,
              "ticks": ""
             }
            },
            "type": "scattermapbox"
           }
          ],
          "scatterpolar": [
           {
            "marker": {
             "colorbar": {
              "outlinewidth": 0,
              "ticks": ""
             }
            },
            "type": "scatterpolar"
           }
          ],
          "scatterpolargl": [
           {
            "marker": {
             "colorbar": {
              "outlinewidth": 0,
              "ticks": ""
             }
            },
            "type": "scatterpolargl"
           }
          ],
          "scatterternary": [
           {
            "marker": {
             "colorbar": {
              "outlinewidth": 0,
              "ticks": ""
             }
            },
            "type": "scatterternary"
           }
          ],
          "surface": [
           {
            "colorbar": {
             "outlinewidth": 0,
             "ticks": ""
            },
            "colorscale": [
             [
              0,
              "#0d0887"
             ],
             [
              0.1111111111111111,
              "#46039f"
             ],
             [
              0.2222222222222222,
              "#7201a8"
             ],
             [
              0.3333333333333333,
              "#9c179e"
             ],
             [
              0.4444444444444444,
              "#bd3786"
             ],
             [
              0.5555555555555556,
              "#d8576b"
             ],
             [
              0.6666666666666666,
              "#ed7953"
             ],
             [
              0.7777777777777778,
              "#fb9f3a"
             ],
             [
              0.8888888888888888,
              "#fdca26"
             ],
             [
              1,
              "#f0f921"
             ]
            ],
            "type": "surface"
           }
          ],
          "table": [
           {
            "cells": {
             "fill": {
              "color": "#EBF0F8"
             },
             "line": {
              "color": "white"
             }
            },
            "header": {
             "fill": {
              "color": "#C8D4E3"
             },
             "line": {
              "color": "white"
             }
            },
            "type": "table"
           }
          ]
         },
         "layout": {
          "annotationdefaults": {
           "arrowcolor": "#2a3f5f",
           "arrowhead": 0,
           "arrowwidth": 1
          },
          "autotypenumbers": "strict",
          "coloraxis": {
           "colorbar": {
            "outlinewidth": 0,
            "ticks": ""
           }
          },
          "colorscale": {
           "diverging": [
            [
             0,
             "#8e0152"
            ],
            [
             0.1,
             "#c51b7d"
            ],
            [
             0.2,
             "#de77ae"
            ],
            [
             0.3,
             "#f1b6da"
            ],
            [
             0.4,
             "#fde0ef"
            ],
            [
             0.5,
             "#f7f7f7"
            ],
            [
             0.6,
             "#e6f5d0"
            ],
            [
             0.7,
             "#b8e186"
            ],
            [
             0.8,
             "#7fbc41"
            ],
            [
             0.9,
             "#4d9221"
            ],
            [
             1,
             "#276419"
            ]
           ],
           "sequential": [
            [
             0,
             "#0d0887"
            ],
            [
             0.1111111111111111,
             "#46039f"
            ],
            [
             0.2222222222222222,
             "#7201a8"
            ],
            [
             0.3333333333333333,
             "#9c179e"
            ],
            [
             0.4444444444444444,
             "#bd3786"
            ],
            [
             0.5555555555555556,
             "#d8576b"
            ],
            [
             0.6666666666666666,
             "#ed7953"
            ],
            [
             0.7777777777777778,
             "#fb9f3a"
            ],
            [
             0.8888888888888888,
             "#fdca26"
            ],
            [
             1,
             "#f0f921"
            ]
           ],
           "sequentialminus": [
            [
             0,
             "#0d0887"
            ],
            [
             0.1111111111111111,
             "#46039f"
            ],
            [
             0.2222222222222222,
             "#7201a8"
            ],
            [
             0.3333333333333333,
             "#9c179e"
            ],
            [
             0.4444444444444444,
             "#bd3786"
            ],
            [
             0.5555555555555556,
             "#d8576b"
            ],
            [
             0.6666666666666666,
             "#ed7953"
            ],
            [
             0.7777777777777778,
             "#fb9f3a"
            ],
            [
             0.8888888888888888,
             "#fdca26"
            ],
            [
             1,
             "#f0f921"
            ]
           ]
          },
          "colorway": [
           "#636efa",
           "#EF553B",
           "#00cc96",
           "#ab63fa",
           "#FFA15A",
           "#19d3f3",
           "#FF6692",
           "#B6E880",
           "#FF97FF",
           "#FECB52"
          ],
          "font": {
           "color": "#2a3f5f"
          },
          "geo": {
           "bgcolor": "white",
           "lakecolor": "white",
           "landcolor": "#E5ECF6",
           "showlakes": true,
           "showland": true,
           "subunitcolor": "white"
          },
          "hoverlabel": {
           "align": "left"
          },
          "hovermode": "closest",
          "mapbox": {
           "style": "light"
          },
          "paper_bgcolor": "white",
          "plot_bgcolor": "#E5ECF6",
          "polar": {
           "angularaxis": {
            "gridcolor": "white",
            "linecolor": "white",
            "ticks": ""
           },
           "bgcolor": "#E5ECF6",
           "radialaxis": {
            "gridcolor": "white",
            "linecolor": "white",
            "ticks": ""
           }
          },
          "scene": {
           "xaxis": {
            "backgroundcolor": "#E5ECF6",
            "gridcolor": "white",
            "gridwidth": 2,
            "linecolor": "white",
            "showbackground": true,
            "ticks": "",
            "zerolinecolor": "white"
           },
           "yaxis": {
            "backgroundcolor": "#E5ECF6",
            "gridcolor": "white",
            "gridwidth": 2,
            "linecolor": "white",
            "showbackground": true,
            "ticks": "",
            "zerolinecolor": "white"
           },
           "zaxis": {
            "backgroundcolor": "#E5ECF6",
            "gridcolor": "white",
            "gridwidth": 2,
            "linecolor": "white",
            "showbackground": true,
            "ticks": "",
            "zerolinecolor": "white"
           }
          },
          "shapedefaults": {
           "line": {
            "color": "#2a3f5f"
           }
          },
          "ternary": {
           "aaxis": {
            "gridcolor": "white",
            "linecolor": "white",
            "ticks": ""
           },
           "baxis": {
            "gridcolor": "white",
            "linecolor": "white",
            "ticks": ""
           },
           "bgcolor": "#E5ECF6",
           "caxis": {
            "gridcolor": "white",
            "linecolor": "white",
            "ticks": ""
           }
          },
          "title": {
           "x": 0.05
          },
          "xaxis": {
           "automargin": true,
           "gridcolor": "white",
           "linecolor": "white",
           "ticks": "",
           "title": {
            "standoff": 15
           },
           "zerolinecolor": "white",
           "zerolinewidth": 2
          },
          "yaxis": {
           "automargin": true,
           "gridcolor": "white",
           "linecolor": "white",
           "ticks": "",
           "title": {
            "standoff": 15
           },
           "zerolinecolor": "white",
           "zerolinewidth": 2
          }
         }
        }
       }
      }
     },
     "metadata": {},
     "output_type": "display_data"
    }
   ],
   "source": [
    "import plotly.express as px\n",
    "df = px.data.iris()\n",
    "fig = px.scatter_3d(df, x=x.ravel(), y=y.ravel(), z=z.ravel())\n",
    "fig.show()"
   ]
  },
  {
   "cell_type": "code",
   "execution_count": 358,
   "metadata": {},
   "outputs": [],
   "source": [
    "lr = LinearRegression()\n",
    "lr.fit(np.array([x,y]).reshape(100,2),z)\n",
    "\n",
    "x_input = np.linspace(x.min(), x.max(), 10)\n",
    "y_input = np.linspace(y.min(), y.max(), 10)\n",
    "xGrid, yGrid = np.meshgrid(x_input,y_input)\n",
    "\n",
    "final = np.vstack((xGrid.ravel().reshape(1,100),yGrid.ravel().reshape(1,100))).T\n",
    "\n",
    "z_final = lr.predict(final).reshape(10,10)"
   ]
  },
  {
   "cell_type": "code",
   "execution_count": 359,
   "metadata": {},
   "outputs": [
    {
     "data": {
      "application/vnd.plotly.v1+json": {
       "config": {
        "plotlyServerURL": "https://plot.ly"
       },
       "data": [
        {
         "hovertemplate": "x=%{x}<br>y=%{y}<br>z=%{z}<extra></extra>",
         "legendgroup": "",
         "marker": {
          "color": "#636efa",
          "symbol": "circle"
         },
         "mode": "markers",
         "name": "",
         "scene": "scene",
         "showlegend": false,
         "type": "scatter3d",
         "x": [
          -2.6235002018569573,
          -1.955321001036281,
          1.1438915457336671,
          0.1743500731550114,
          -1.9187642615116816,
          3.638636407633352,
          -2.335939742516773,
          -0.47582111320529696,
          -1.6462321623776468,
          -0.6909811436354016,
          -1.0359621297882995,
          3.5719065886791634,
          -2.18188413371701,
          -2.74655850141563,
          0.5522530210948786,
          2.883542087774786,
          0.795901445651384,
          -1.2883826969669374,
          3.0176213268194614,
          1.540693347889306,
          1.2687044015493125,
          2.0764265330716176,
          -1.3911909097538637,
          0.9630358687734155,
          3.761252231533036,
          -0.03755467463141926,
          -1.9092505897244059,
          -0.28171421316377243,
          1.0844973977902947,
          2.527703812976691,
          1.2235376463009366,
          2.134172174180054,
          0.524637536145546,
          -1.697297514876394,
          -1.0697543444485476,
          -1.9572253561050639,
          -0.5613502733771996,
          4.131366668619323,
          2.760955494537434,
          -2.6678650566694335,
          1.160992495455885,
          3.391625921740925,
          -2.376008283966713,
          2.7695041644174134,
          -1.7844747269813732,
          -0.21332380441046617,
          -1.5666163199862533,
          0.6229720854355012,
          -1.6163625682614549,
          1.6433981022860369,
          0.7002648767882613,
          1.0560567517150523,
          0.8108019423490451,
          -2.2633159075122284,
          4.084405172525835,
          -1.649625172462641,
          4.143061557890445,
          0.8647909825523135,
          -1.2181987503153302,
          4.160420002110237,
          2.003271956023317,
          2.3993683598792677,
          3.071378884175985,
          1.999452121765727,
          1.703594474934551,
          3.247716245494466,
          -0.3656732511370544,
          -1.0096587155977108,
          -0.882829448517892,
          -2.6430949640227537,
          1.7025164221075064,
          2.581027924582539,
          -0.38725775880707136,
          -1.45450890381209,
          3.0780052981372776,
          -1.5241945639969248,
          -2.291329630094923,
          -1.0148270985142656,
          2.542168716812945,
          -0.5433176793161376,
          -0.49672053892305845,
          -1.6084416723888335,
          2.1168106651139222,
          1.1119003255545419,
          2.581822792622222,
          2.0392354788668534,
          -2.279548773863504,
          2.2267716140402163,
          1.1012966305620089,
          1.841887544250766,
          1.8869225478099088,
          2.276311920565493,
          2.6999053190423705,
          -2.3549694251224,
          0.4440082026841483,
          -2.510876637696644,
          1.9901551643485398,
          -0.0584165300603412,
          0.1286303382337719,
          2.604391849612039
         ],
         "y": [
          0.0893535864812316,
          2.1099395622040857,
          3.2105489941982466,
          0.8607783981414783,
          -1.8988256848617366,
          -0.7731116618212699,
          -2.587408768436645,
          0.5634371723263953,
          -0.9574576915917143,
          1.2848660974228991,
          -2.025907006811731,
          1.403571260449909,
          1.9366049913878705,
          -2.328928501651411,
          3.843721419955683,
          -2.5920765469561355,
          -1.7839865265696635,
          3.315643258076846,
          3.689110421566733,
          -1.3309685076110491,
          1.3734765295630087,
          -0.9802812565413912,
          -0.19330189250049967,
          1.1599726865088922,
          1.8020715781232148,
          -1.0531288474679874,
          4.140723483918725,
          1.5848979646958812,
          2.7321020279932613,
          3.8047857837644186,
          -1.7646763665040526,
          0.5342598671752583,
          -0.08933650353325584,
          0.16509623759675662,
          0.5169496814006616,
          3.6616333173653075,
          0.7441076693997655,
          0.8738783175495781,
          0.4515980274081133,
          2.8883787586868133,
          -0.3894595336504727,
          1.041207892564779,
          -1.8147242507672803,
          -0.7489980421365083,
          -0.4206691191836729,
          -1.5397852072952172,
          0.1968551163168999,
          -2.6486222870158884,
          4.027103990408078,
          -0.8229764659330501,
          -0.3743785369870447,
          1.992933337849725,
          3.0142502438529055,
          -1.7261005896759078,
          3.5066276177236464,
          -1.1469769878914637,
          1.893537264526838,
          3.0360712026162364,
          3.1694544078376605,
          -0.22027942131681488,
          -2.72554188640028,
          -1.4035152469525478,
          -2.3351876260467854,
          -2.2614723444621307,
          -0.970389508784975,
          0.7853475099603653,
          -1.8028673668608184,
          -2.112753592292255,
          -1.3123401240698982,
          2.708916762135895,
          2.757996624282163,
          0.9904131221475145,
          -0.30383520306564504,
          3.867209754526419,
          2.1565410728124146,
          -2.6282893054716823,
          3.4455501775641,
          -1.7600478047304904,
          -1.5070879776673785,
          3.3768498355251886,
          -2.399296208509172,
          1.865832713349107,
          3.702599583967208,
          -0.4294030028856115,
          2.521546990294085,
          3.5412659517209164,
          2.7811620591228223,
          -2.010893351534539,
          1.2964338516058262,
          -0.7681186533330542,
          2.1036597797831575,
          -2.7599916528913333,
          -1.7421880720347152,
          -0.6851493324550231,
          2.6036475050800085,
          -1.2274194628844013,
          -0.14534178015203203,
          2.361856335342037,
          -0.37596872282327265,
          3.7408123921294685
         ],
         "z": [
          8.263810832348748,
          9.987330558470271,
          13.702430439848712,
          2.925615496387673,
          8.190215228301787,
          16.02991329426188,
          14.587596531459665,
          2.123711874674964,
          6.85761832672247,
          3.5352572894430576,
          8.219543283062217,
          18.098494788064645,
          10.98556546332997,
          14.193301621432242,
          19.587531133369097,
          16.901033389468072,
          5.173476935699367,
          12.890949297019926,
          27.879298786445016,
          4.937577647327415,
          6.3018137809187165,
          6.069871498758596,
          3.440843208006815,
          6.136821891538433,
          21.404532111116037,
          1.6965472804794326,
          23.143247116507915,
          5.337974074534921,
          13.564784987421854,
          24.0592224455515,
          6.239798066731798,
          6.65901566421327,
          1.9297398599274098,
          5.094769799900256,
          3.3956654297871816,
          17.227678325386822,
          2.5289399195758198,
          21.741005994619567,
          12.20221347648894,
          16.55071408839774,
          3.6156306468971215,
          15.799002474278058,
          10.282247255089473,
          11.432135414067657,
          4.564022663171488,
          2.780032548698026,
          3.7226552869983314,
          8.28532763939129,
          19.833446819808152,
          2.9707584280325134,
          3.021689862132052,
          6.947606644031873,
          10.915976038132634,
          9.65931687084505,
          34.1411221542332,
          7.397294874493351,
          26.130954368465222,
          13.897935713577013,
          12.617862025740068,
          21.278525332514718,
          11.392266751796061,
          9.015872422758154,
          16.323565114572343,
          11.819003479273713,
          5.236545056695006,
          14.393562172069737,
          6.083854622733986,
          8.139716119432359,
          2.587524876011841,
          16.22717325737469,
          13.157000529687023,
          9.518424637230003,
          1.6326721501947001,
          19.553424358082154,
          17.62124915459877,
          9.715172628374866,
          19.1045692816394,
          6.768936372655315,
          11.124415208416805,
          13.933395228110172,
          5.346123257668038,
          7.710147325898819,
          21.5523174793444,
          2.1485224772530875,
          17.9720094986963,
          21.03801052481861,
          15.205909300644928,
          9.405666219844388,
          4.793463201548415,
          3.703065323169742,
          12.4547210080235,
          12.830878636925807,
          11.864313693298282,
          7.247962895350342,
          9.84024095969457,
          7.671777710440558,
          6.4029171840081585,
          7.217427128605117,
          1.2702679407685245,
          25.113554825738678
         ]
        },
        {
         "type": "surface",
         "x": [
          -2.74655850141563,
          -1.9791164454683117,
          -1.2116743895209932,
          -0.44423233357367486,
          0.32320972237364387,
          1.0906517783209626,
          1.8580938342682805,
          2.625535890215599,
          3.392977946162918,
          4.160420002110237
         ],
         "y": [
          -2.7599916528913333,
          -1.9932455265791047,
          -1.2264994002668759,
          -0.45975327395464705,
          0.30699285235758156,
          1.0737389786698102,
          1.8404851049820392,
          2.607231231294268,
          3.3739773576064964,
          4.140723483918725
         ],
         "z": [
          [
           9.129194265996054,
           9.263179979364265,
           9.397165692732475,
           9.531151406100687,
           9.665137119468898,
           9.799122832837108,
           9.93310854620532,
           10.06709425957353,
           10.201079972941741,
           10.335065686309953
          ],
          [
           9.421660489848739,
           9.555646203216948,
           9.68963191658516,
           9.823617629953372,
           9.957603343321582,
           10.091589056689793,
           10.225574770058003,
           10.359560483426215,
           10.493546196794426,
           10.627531910162636
          ],
          [
           9.714126713701422,
           9.848112427069633,
           9.982098140437843,
           10.116083853806055,
           10.250069567174265,
           10.384055280542476,
           10.518040993910688,
           10.652026707278898,
           10.78601242064711,
           10.91999813401532
          ],
          [
           10.006592937554105,
           10.140578650922317,
           10.274564364290528,
           10.408550077658738,
           10.54253579102695,
           10.67652150439516,
           10.810507217763371,
           10.944492931131583,
           11.078478644499793,
           11.212464357868004
          ],
          [
           10.29905916140679,
           10.433044874775,
           10.567030588143211,
           10.701016301511421,
           10.835002014879633,
           10.968987728247845,
           11.102973441616054,
           11.236959154984266,
           11.370944868352478,
           11.504930581720687
          ],
          [
           10.591525385259473,
           10.725511098627685,
           10.859496811995895,
           10.993482525364106,
           11.127468238732316,
           11.261453952100528,
           11.39543966546874,
           11.52942537883695,
           11.66341109220516,
           11.79739680557337
          ],
          [
           10.883991609112156,
           11.017977322480368,
           11.15196303584858,
           11.28594874921679,
           11.419934462585001,
           11.55392017595321,
           11.687905889321422,
           11.821891602689634,
           11.955877316057844,
           12.089863029426056
          ],
          [
           11.176457832964841,
           11.310443546333051,
           11.444429259701263,
           11.578414973069474,
           11.712400686437684,
           11.846386399805896,
           11.980372113174106,
           12.114357826542317,
           12.248343539910529,
           12.382329253278739
          ],
          [
           11.468924056817524,
           11.602909770185736,
           11.736895483553946,
           11.870881196922157,
           12.004866910290367,
           12.138852623658579,
           12.27283833702679,
           12.406824050395,
           12.540809763763212,
           12.674795477131422
          ],
          [
           11.761390280670208,
           11.89537599403842,
           12.029361707406629,
           12.16334742077484,
           12.297333134143052,
           12.431318847511262,
           12.565304560879474,
           12.699290274247684,
           12.833275987615895,
           12.967261700984107
          ]
         ]
        }
       ],
       "layout": {
        "legend": {
         "tracegroupgap": 0
        },
        "margin": {
         "t": 60
        },
        "scene": {
         "domain": {
          "x": [
           0,
           1
          ],
          "y": [
           0,
           1
          ]
         },
         "xaxis": {
          "title": {
           "text": "x"
          }
         },
         "yaxis": {
          "title": {
           "text": "y"
          }
         },
         "zaxis": {
          "title": {
           "text": "z"
          }
         }
        },
        "template": {
         "data": {
          "bar": [
           {
            "error_x": {
             "color": "#2a3f5f"
            },
            "error_y": {
             "color": "#2a3f5f"
            },
            "marker": {
             "line": {
              "color": "#E5ECF6",
              "width": 0.5
             },
             "pattern": {
              "fillmode": "overlay",
              "size": 10,
              "solidity": 0.2
             }
            },
            "type": "bar"
           }
          ],
          "barpolar": [
           {
            "marker": {
             "line": {
              "color": "#E5ECF6",
              "width": 0.5
             },
             "pattern": {
              "fillmode": "overlay",
              "size": 10,
              "solidity": 0.2
             }
            },
            "type": "barpolar"
           }
          ],
          "carpet": [
           {
            "aaxis": {
             "endlinecolor": "#2a3f5f",
             "gridcolor": "white",
             "linecolor": "white",
             "minorgridcolor": "white",
             "startlinecolor": "#2a3f5f"
            },
            "baxis": {
             "endlinecolor": "#2a3f5f",
             "gridcolor": "white",
             "linecolor": "white",
             "minorgridcolor": "white",
             "startlinecolor": "#2a3f5f"
            },
            "type": "carpet"
           }
          ],
          "choropleth": [
           {
            "colorbar": {
             "outlinewidth": 0,
             "ticks": ""
            },
            "type": "choropleth"
           }
          ],
          "contour": [
           {
            "colorbar": {
             "outlinewidth": 0,
             "ticks": ""
            },
            "colorscale": [
             [
              0,
              "#0d0887"
             ],
             [
              0.1111111111111111,
              "#46039f"
             ],
             [
              0.2222222222222222,
              "#7201a8"
             ],
             [
              0.3333333333333333,
              "#9c179e"
             ],
             [
              0.4444444444444444,
              "#bd3786"
             ],
             [
              0.5555555555555556,
              "#d8576b"
             ],
             [
              0.6666666666666666,
              "#ed7953"
             ],
             [
              0.7777777777777778,
              "#fb9f3a"
             ],
             [
              0.8888888888888888,
              "#fdca26"
             ],
             [
              1,
              "#f0f921"
             ]
            ],
            "type": "contour"
           }
          ],
          "contourcarpet": [
           {
            "colorbar": {
             "outlinewidth": 0,
             "ticks": ""
            },
            "type": "contourcarpet"
           }
          ],
          "heatmap": [
           {
            "colorbar": {
             "outlinewidth": 0,
             "ticks": ""
            },
            "colorscale": [
             [
              0,
              "#0d0887"
             ],
             [
              0.1111111111111111,
              "#46039f"
             ],
             [
              0.2222222222222222,
              "#7201a8"
             ],
             [
              0.3333333333333333,
              "#9c179e"
             ],
             [
              0.4444444444444444,
              "#bd3786"
             ],
             [
              0.5555555555555556,
              "#d8576b"
             ],
             [
              0.6666666666666666,
              "#ed7953"
             ],
             [
              0.7777777777777778,
              "#fb9f3a"
             ],
             [
              0.8888888888888888,
              "#fdca26"
             ],
             [
              1,
              "#f0f921"
             ]
            ],
            "type": "heatmap"
           }
          ],
          "heatmapgl": [
           {
            "colorbar": {
             "outlinewidth": 0,
             "ticks": ""
            },
            "colorscale": [
             [
              0,
              "#0d0887"
             ],
             [
              0.1111111111111111,
              "#46039f"
             ],
             [
              0.2222222222222222,
              "#7201a8"
             ],
             [
              0.3333333333333333,
              "#9c179e"
             ],
             [
              0.4444444444444444,
              "#bd3786"
             ],
             [
              0.5555555555555556,
              "#d8576b"
             ],
             [
              0.6666666666666666,
              "#ed7953"
             ],
             [
              0.7777777777777778,
              "#fb9f3a"
             ],
             [
              0.8888888888888888,
              "#fdca26"
             ],
             [
              1,
              "#f0f921"
             ]
            ],
            "type": "heatmapgl"
           }
          ],
          "histogram": [
           {
            "marker": {
             "pattern": {
              "fillmode": "overlay",
              "size": 10,
              "solidity": 0.2
             }
            },
            "type": "histogram"
           }
          ],
          "histogram2d": [
           {
            "colorbar": {
             "outlinewidth": 0,
             "ticks": ""
            },
            "colorscale": [
             [
              0,
              "#0d0887"
             ],
             [
              0.1111111111111111,
              "#46039f"
             ],
             [
              0.2222222222222222,
              "#7201a8"
             ],
             [
              0.3333333333333333,
              "#9c179e"
             ],
             [
              0.4444444444444444,
              "#bd3786"
             ],
             [
              0.5555555555555556,
              "#d8576b"
             ],
             [
              0.6666666666666666,
              "#ed7953"
             ],
             [
              0.7777777777777778,
              "#fb9f3a"
             ],
             [
              0.8888888888888888,
              "#fdca26"
             ],
             [
              1,
              "#f0f921"
             ]
            ],
            "type": "histogram2d"
           }
          ],
          "histogram2dcontour": [
           {
            "colorbar": {
             "outlinewidth": 0,
             "ticks": ""
            },
            "colorscale": [
             [
              0,
              "#0d0887"
             ],
             [
              0.1111111111111111,
              "#46039f"
             ],
             [
              0.2222222222222222,
              "#7201a8"
             ],
             [
              0.3333333333333333,
              "#9c179e"
             ],
             [
              0.4444444444444444,
              "#bd3786"
             ],
             [
              0.5555555555555556,
              "#d8576b"
             ],
             [
              0.6666666666666666,
              "#ed7953"
             ],
             [
              0.7777777777777778,
              "#fb9f3a"
             ],
             [
              0.8888888888888888,
              "#fdca26"
             ],
             [
              1,
              "#f0f921"
             ]
            ],
            "type": "histogram2dcontour"
           }
          ],
          "mesh3d": [
           {
            "colorbar": {
             "outlinewidth": 0,
             "ticks": ""
            },
            "type": "mesh3d"
           }
          ],
          "parcoords": [
           {
            "line": {
             "colorbar": {
              "outlinewidth": 0,
              "ticks": ""
             }
            },
            "type": "parcoords"
           }
          ],
          "pie": [
           {
            "automargin": true,
            "type": "pie"
           }
          ],
          "scatter": [
           {
            "fillpattern": {
             "fillmode": "overlay",
             "size": 10,
             "solidity": 0.2
            },
            "type": "scatter"
           }
          ],
          "scatter3d": [
           {
            "line": {
             "colorbar": {
              "outlinewidth": 0,
              "ticks": ""
             }
            },
            "marker": {
             "colorbar": {
              "outlinewidth": 0,
              "ticks": ""
             }
            },
            "type": "scatter3d"
           }
          ],
          "scattercarpet": [
           {
            "marker": {
             "colorbar": {
              "outlinewidth": 0,
              "ticks": ""
             }
            },
            "type": "scattercarpet"
           }
          ],
          "scattergeo": [
           {
            "marker": {
             "colorbar": {
              "outlinewidth": 0,
              "ticks": ""
             }
            },
            "type": "scattergeo"
           }
          ],
          "scattergl": [
           {
            "marker": {
             "colorbar": {
              "outlinewidth": 0,
              "ticks": ""
             }
            },
            "type": "scattergl"
           }
          ],
          "scattermapbox": [
           {
            "marker": {
             "colorbar": {
              "outlinewidth": 0,
              "ticks": ""
             }
            },
            "type": "scattermapbox"
           }
          ],
          "scatterpolar": [
           {
            "marker": {
             "colorbar": {
              "outlinewidth": 0,
              "ticks": ""
             }
            },
            "type": "scatterpolar"
           }
          ],
          "scatterpolargl": [
           {
            "marker": {
             "colorbar": {
              "outlinewidth": 0,
              "ticks": ""
             }
            },
            "type": "scatterpolargl"
           }
          ],
          "scatterternary": [
           {
            "marker": {
             "colorbar": {
              "outlinewidth": 0,
              "ticks": ""
             }
            },
            "type": "scatterternary"
           }
          ],
          "surface": [
           {
            "colorbar": {
             "outlinewidth": 0,
             "ticks": ""
            },
            "colorscale": [
             [
              0,
              "#0d0887"
             ],
             [
              0.1111111111111111,
              "#46039f"
             ],
             [
              0.2222222222222222,
              "#7201a8"
             ],
             [
              0.3333333333333333,
              "#9c179e"
             ],
             [
              0.4444444444444444,
              "#bd3786"
             ],
             [
              0.5555555555555556,
              "#d8576b"
             ],
             [
              0.6666666666666666,
              "#ed7953"
             ],
             [
              0.7777777777777778,
              "#fb9f3a"
             ],
             [
              0.8888888888888888,
              "#fdca26"
             ],
             [
              1,
              "#f0f921"
             ]
            ],
            "type": "surface"
           }
          ],
          "table": [
           {
            "cells": {
             "fill": {
              "color": "#EBF0F8"
             },
             "line": {
              "color": "white"
             }
            },
            "header": {
             "fill": {
              "color": "#C8D4E3"
             },
             "line": {
              "color": "white"
             }
            },
            "type": "table"
           }
          ]
         },
         "layout": {
          "annotationdefaults": {
           "arrowcolor": "#2a3f5f",
           "arrowhead": 0,
           "arrowwidth": 1
          },
          "autotypenumbers": "strict",
          "coloraxis": {
           "colorbar": {
            "outlinewidth": 0,
            "ticks": ""
           }
          },
          "colorscale": {
           "diverging": [
            [
             0,
             "#8e0152"
            ],
            [
             0.1,
             "#c51b7d"
            ],
            [
             0.2,
             "#de77ae"
            ],
            [
             0.3,
             "#f1b6da"
            ],
            [
             0.4,
             "#fde0ef"
            ],
            [
             0.5,
             "#f7f7f7"
            ],
            [
             0.6,
             "#e6f5d0"
            ],
            [
             0.7,
             "#b8e186"
            ],
            [
             0.8,
             "#7fbc41"
            ],
            [
             0.9,
             "#4d9221"
            ],
            [
             1,
             "#276419"
            ]
           ],
           "sequential": [
            [
             0,
             "#0d0887"
            ],
            [
             0.1111111111111111,
             "#46039f"
            ],
            [
             0.2222222222222222,
             "#7201a8"
            ],
            [
             0.3333333333333333,
             "#9c179e"
            ],
            [
             0.4444444444444444,
             "#bd3786"
            ],
            [
             0.5555555555555556,
             "#d8576b"
            ],
            [
             0.6666666666666666,
             "#ed7953"
            ],
            [
             0.7777777777777778,
             "#fb9f3a"
            ],
            [
             0.8888888888888888,
             "#fdca26"
            ],
            [
             1,
             "#f0f921"
            ]
           ],
           "sequentialminus": [
            [
             0,
             "#0d0887"
            ],
            [
             0.1111111111111111,
             "#46039f"
            ],
            [
             0.2222222222222222,
             "#7201a8"
            ],
            [
             0.3333333333333333,
             "#9c179e"
            ],
            [
             0.4444444444444444,
             "#bd3786"
            ],
            [
             0.5555555555555556,
             "#d8576b"
            ],
            [
             0.6666666666666666,
             "#ed7953"
            ],
            [
             0.7777777777777778,
             "#fb9f3a"
            ],
            [
             0.8888888888888888,
             "#fdca26"
            ],
            [
             1,
             "#f0f921"
            ]
           ]
          },
          "colorway": [
           "#636efa",
           "#EF553B",
           "#00cc96",
           "#ab63fa",
           "#FFA15A",
           "#19d3f3",
           "#FF6692",
           "#B6E880",
           "#FF97FF",
           "#FECB52"
          ],
          "font": {
           "color": "#2a3f5f"
          },
          "geo": {
           "bgcolor": "white",
           "lakecolor": "white",
           "landcolor": "#E5ECF6",
           "showlakes": true,
           "showland": true,
           "subunitcolor": "white"
          },
          "hoverlabel": {
           "align": "left"
          },
          "hovermode": "closest",
          "mapbox": {
           "style": "light"
          },
          "paper_bgcolor": "white",
          "plot_bgcolor": "#E5ECF6",
          "polar": {
           "angularaxis": {
            "gridcolor": "white",
            "linecolor": "white",
            "ticks": ""
           },
           "bgcolor": "#E5ECF6",
           "radialaxis": {
            "gridcolor": "white",
            "linecolor": "white",
            "ticks": ""
           }
          },
          "scene": {
           "xaxis": {
            "backgroundcolor": "#E5ECF6",
            "gridcolor": "white",
            "gridwidth": 2,
            "linecolor": "white",
            "showbackground": true,
            "ticks": "",
            "zerolinecolor": "white"
           },
           "yaxis": {
            "backgroundcolor": "#E5ECF6",
            "gridcolor": "white",
            "gridwidth": 2,
            "linecolor": "white",
            "showbackground": true,
            "ticks": "",
            "zerolinecolor": "white"
           },
           "zaxis": {
            "backgroundcolor": "#E5ECF6",
            "gridcolor": "white",
            "gridwidth": 2,
            "linecolor": "white",
            "showbackground": true,
            "ticks": "",
            "zerolinecolor": "white"
           }
          },
          "shapedefaults": {
           "line": {
            "color": "#2a3f5f"
           }
          },
          "ternary": {
           "aaxis": {
            "gridcolor": "white",
            "linecolor": "white",
            "ticks": ""
           },
           "baxis": {
            "gridcolor": "white",
            "linecolor": "white",
            "ticks": ""
           },
           "bgcolor": "#E5ECF6",
           "caxis": {
            "gridcolor": "white",
            "linecolor": "white",
            "ticks": ""
           }
          },
          "title": {
           "x": 0.05
          },
          "xaxis": {
           "automargin": true,
           "gridcolor": "white",
           "linecolor": "white",
           "ticks": "",
           "title": {
            "standoff": 15
           },
           "zerolinecolor": "white",
           "zerolinewidth": 2
          },
          "yaxis": {
           "automargin": true,
           "gridcolor": "white",
           "linecolor": "white",
           "ticks": "",
           "title": {
            "standoff": 15
           },
           "zerolinecolor": "white",
           "zerolinewidth": 2
          }
         }
        }
       }
      }
     },
     "metadata": {},
     "output_type": "display_data"
    }
   ],
   "source": [
    "import plotly.graph_objects as go\n",
    "\n",
    "fig = px.scatter_3d(df, x=x.ravel(), y=y.ravel(), z=z.ravel())\n",
    "\n",
    "fig.add_trace(go.Surface(x = x_input, y = y_input, z =z_final ))\n",
    "\n",
    "fig.show()"
   ]
  },
  {
   "cell_type": "code",
   "execution_count": 360,
   "metadata": {},
   "outputs": [
    {
     "data": {
      "text/plain": [
       "(100, 2)"
      ]
     },
     "execution_count": 360,
     "metadata": {},
     "output_type": "execute_result"
    }
   ],
   "source": [
    "\n",
    "X_multi = np.array([x,y]).reshape(100,2)\n",
    "X_multi.shape"
   ]
  },
  {
   "cell_type": "code",
   "execution_count": 361,
   "metadata": {},
   "outputs": [],
   "source": [
    "poly = PolynomialFeatures(degree=30)\n",
    "X_multi_trans = poly.fit_transform(X_multi)"
   ]
  },
  {
   "cell_type": "code",
   "execution_count": 362,
   "metadata": {},
   "outputs": [
    {
     "data": {
      "text/plain": [
       "2"
      ]
     },
     "execution_count": 362,
     "metadata": {},
     "output_type": "execute_result"
    }
   ],
   "source": [
    "poly.n_features_in_"
   ]
  },
  {
   "cell_type": "code",
   "execution_count": 363,
   "metadata": {},
   "outputs": [
    {
     "data": {
      "text/plain": [
       "496"
      ]
     },
     "execution_count": 363,
     "metadata": {},
     "output_type": "execute_result"
    }
   ],
   "source": [
    "poly.n_output_features_"
   ]
  },
  {
   "cell_type": "code",
   "execution_count": 364,
   "metadata": {},
   "outputs": [
    {
     "data": {
      "text/plain": [
       "array([[ 0,  0],\n",
       "       [ 1,  0],\n",
       "       [ 0,  1],\n",
       "       [ 2,  0],\n",
       "       [ 1,  1],\n",
       "       [ 0,  2],\n",
       "       [ 3,  0],\n",
       "       [ 2,  1],\n",
       "       [ 1,  2],\n",
       "       [ 0,  3],\n",
       "       [ 4,  0],\n",
       "       [ 3,  1],\n",
       "       [ 2,  2],\n",
       "       [ 1,  3],\n",
       "       [ 0,  4],\n",
       "       [ 5,  0],\n",
       "       [ 4,  1],\n",
       "       [ 3,  2],\n",
       "       [ 2,  3],\n",
       "       [ 1,  4],\n",
       "       [ 0,  5],\n",
       "       [ 6,  0],\n",
       "       [ 5,  1],\n",
       "       [ 4,  2],\n",
       "       [ 3,  3],\n",
       "       [ 2,  4],\n",
       "       [ 1,  5],\n",
       "       [ 0,  6],\n",
       "       [ 7,  0],\n",
       "       [ 6,  1],\n",
       "       [ 5,  2],\n",
       "       [ 4,  3],\n",
       "       [ 3,  4],\n",
       "       [ 2,  5],\n",
       "       [ 1,  6],\n",
       "       [ 0,  7],\n",
       "       [ 8,  0],\n",
       "       [ 7,  1],\n",
       "       [ 6,  2],\n",
       "       [ 5,  3],\n",
       "       [ 4,  4],\n",
       "       [ 3,  5],\n",
       "       [ 2,  6],\n",
       "       [ 1,  7],\n",
       "       [ 0,  8],\n",
       "       [ 9,  0],\n",
       "       [ 8,  1],\n",
       "       [ 7,  2],\n",
       "       [ 6,  3],\n",
       "       [ 5,  4],\n",
       "       [ 4,  5],\n",
       "       [ 3,  6],\n",
       "       [ 2,  7],\n",
       "       [ 1,  8],\n",
       "       [ 0,  9],\n",
       "       [10,  0],\n",
       "       [ 9,  1],\n",
       "       [ 8,  2],\n",
       "       [ 7,  3],\n",
       "       [ 6,  4],\n",
       "       [ 5,  5],\n",
       "       [ 4,  6],\n",
       "       [ 3,  7],\n",
       "       [ 2,  8],\n",
       "       [ 1,  9],\n",
       "       [ 0, 10],\n",
       "       [11,  0],\n",
       "       [10,  1],\n",
       "       [ 9,  2],\n",
       "       [ 8,  3],\n",
       "       [ 7,  4],\n",
       "       [ 6,  5],\n",
       "       [ 5,  6],\n",
       "       [ 4,  7],\n",
       "       [ 3,  8],\n",
       "       [ 2,  9],\n",
       "       [ 1, 10],\n",
       "       [ 0, 11],\n",
       "       [12,  0],\n",
       "       [11,  1],\n",
       "       [10,  2],\n",
       "       [ 9,  3],\n",
       "       [ 8,  4],\n",
       "       [ 7,  5],\n",
       "       [ 6,  6],\n",
       "       [ 5,  7],\n",
       "       [ 4,  8],\n",
       "       [ 3,  9],\n",
       "       [ 2, 10],\n",
       "       [ 1, 11],\n",
       "       [ 0, 12],\n",
       "       [13,  0],\n",
       "       [12,  1],\n",
       "       [11,  2],\n",
       "       [10,  3],\n",
       "       [ 9,  4],\n",
       "       [ 8,  5],\n",
       "       [ 7,  6],\n",
       "       [ 6,  7],\n",
       "       [ 5,  8],\n",
       "       [ 4,  9],\n",
       "       [ 3, 10],\n",
       "       [ 2, 11],\n",
       "       [ 1, 12],\n",
       "       [ 0, 13],\n",
       "       [14,  0],\n",
       "       [13,  1],\n",
       "       [12,  2],\n",
       "       [11,  3],\n",
       "       [10,  4],\n",
       "       [ 9,  5],\n",
       "       [ 8,  6],\n",
       "       [ 7,  7],\n",
       "       [ 6,  8],\n",
       "       [ 5,  9],\n",
       "       [ 4, 10],\n",
       "       [ 3, 11],\n",
       "       [ 2, 12],\n",
       "       [ 1, 13],\n",
       "       [ 0, 14],\n",
       "       [15,  0],\n",
       "       [14,  1],\n",
       "       [13,  2],\n",
       "       [12,  3],\n",
       "       [11,  4],\n",
       "       [10,  5],\n",
       "       [ 9,  6],\n",
       "       [ 8,  7],\n",
       "       [ 7,  8],\n",
       "       [ 6,  9],\n",
       "       [ 5, 10],\n",
       "       [ 4, 11],\n",
       "       [ 3, 12],\n",
       "       [ 2, 13],\n",
       "       [ 1, 14],\n",
       "       [ 0, 15],\n",
       "       [16,  0],\n",
       "       [15,  1],\n",
       "       [14,  2],\n",
       "       [13,  3],\n",
       "       [12,  4],\n",
       "       [11,  5],\n",
       "       [10,  6],\n",
       "       [ 9,  7],\n",
       "       [ 8,  8],\n",
       "       [ 7,  9],\n",
       "       [ 6, 10],\n",
       "       [ 5, 11],\n",
       "       [ 4, 12],\n",
       "       [ 3, 13],\n",
       "       [ 2, 14],\n",
       "       [ 1, 15],\n",
       "       [ 0, 16],\n",
       "       [17,  0],\n",
       "       [16,  1],\n",
       "       [15,  2],\n",
       "       [14,  3],\n",
       "       [13,  4],\n",
       "       [12,  5],\n",
       "       [11,  6],\n",
       "       [10,  7],\n",
       "       [ 9,  8],\n",
       "       [ 8,  9],\n",
       "       [ 7, 10],\n",
       "       [ 6, 11],\n",
       "       [ 5, 12],\n",
       "       [ 4, 13],\n",
       "       [ 3, 14],\n",
       "       [ 2, 15],\n",
       "       [ 1, 16],\n",
       "       [ 0, 17],\n",
       "       [18,  0],\n",
       "       [17,  1],\n",
       "       [16,  2],\n",
       "       [15,  3],\n",
       "       [14,  4],\n",
       "       [13,  5],\n",
       "       [12,  6],\n",
       "       [11,  7],\n",
       "       [10,  8],\n",
       "       [ 9,  9],\n",
       "       [ 8, 10],\n",
       "       [ 7, 11],\n",
       "       [ 6, 12],\n",
       "       [ 5, 13],\n",
       "       [ 4, 14],\n",
       "       [ 3, 15],\n",
       "       [ 2, 16],\n",
       "       [ 1, 17],\n",
       "       [ 0, 18],\n",
       "       [19,  0],\n",
       "       [18,  1],\n",
       "       [17,  2],\n",
       "       [16,  3],\n",
       "       [15,  4],\n",
       "       [14,  5],\n",
       "       [13,  6],\n",
       "       [12,  7],\n",
       "       [11,  8],\n",
       "       [10,  9],\n",
       "       [ 9, 10],\n",
       "       [ 8, 11],\n",
       "       [ 7, 12],\n",
       "       [ 6, 13],\n",
       "       [ 5, 14],\n",
       "       [ 4, 15],\n",
       "       [ 3, 16],\n",
       "       [ 2, 17],\n",
       "       [ 1, 18],\n",
       "       [ 0, 19],\n",
       "       [20,  0],\n",
       "       [19,  1],\n",
       "       [18,  2],\n",
       "       [17,  3],\n",
       "       [16,  4],\n",
       "       [15,  5],\n",
       "       [14,  6],\n",
       "       [13,  7],\n",
       "       [12,  8],\n",
       "       [11,  9],\n",
       "       [10, 10],\n",
       "       [ 9, 11],\n",
       "       [ 8, 12],\n",
       "       [ 7, 13],\n",
       "       [ 6, 14],\n",
       "       [ 5, 15],\n",
       "       [ 4, 16],\n",
       "       [ 3, 17],\n",
       "       [ 2, 18],\n",
       "       [ 1, 19],\n",
       "       [ 0, 20],\n",
       "       [21,  0],\n",
       "       [20,  1],\n",
       "       [19,  2],\n",
       "       [18,  3],\n",
       "       [17,  4],\n",
       "       [16,  5],\n",
       "       [15,  6],\n",
       "       [14,  7],\n",
       "       [13,  8],\n",
       "       [12,  9],\n",
       "       [11, 10],\n",
       "       [10, 11],\n",
       "       [ 9, 12],\n",
       "       [ 8, 13],\n",
       "       [ 7, 14],\n",
       "       [ 6, 15],\n",
       "       [ 5, 16],\n",
       "       [ 4, 17],\n",
       "       [ 3, 18],\n",
       "       [ 2, 19],\n",
       "       [ 1, 20],\n",
       "       [ 0, 21],\n",
       "       [22,  0],\n",
       "       [21,  1],\n",
       "       [20,  2],\n",
       "       [19,  3],\n",
       "       [18,  4],\n",
       "       [17,  5],\n",
       "       [16,  6],\n",
       "       [15,  7],\n",
       "       [14,  8],\n",
       "       [13,  9],\n",
       "       [12, 10],\n",
       "       [11, 11],\n",
       "       [10, 12],\n",
       "       [ 9, 13],\n",
       "       [ 8, 14],\n",
       "       [ 7, 15],\n",
       "       [ 6, 16],\n",
       "       [ 5, 17],\n",
       "       [ 4, 18],\n",
       "       [ 3, 19],\n",
       "       [ 2, 20],\n",
       "       [ 1, 21],\n",
       "       [ 0, 22],\n",
       "       [23,  0],\n",
       "       [22,  1],\n",
       "       [21,  2],\n",
       "       [20,  3],\n",
       "       [19,  4],\n",
       "       [18,  5],\n",
       "       [17,  6],\n",
       "       [16,  7],\n",
       "       [15,  8],\n",
       "       [14,  9],\n",
       "       [13, 10],\n",
       "       [12, 11],\n",
       "       [11, 12],\n",
       "       [10, 13],\n",
       "       [ 9, 14],\n",
       "       [ 8, 15],\n",
       "       [ 7, 16],\n",
       "       [ 6, 17],\n",
       "       [ 5, 18],\n",
       "       [ 4, 19],\n",
       "       [ 3, 20],\n",
       "       [ 2, 21],\n",
       "       [ 1, 22],\n",
       "       [ 0, 23],\n",
       "       [24,  0],\n",
       "       [23,  1],\n",
       "       [22,  2],\n",
       "       [21,  3],\n",
       "       [20,  4],\n",
       "       [19,  5],\n",
       "       [18,  6],\n",
       "       [17,  7],\n",
       "       [16,  8],\n",
       "       [15,  9],\n",
       "       [14, 10],\n",
       "       [13, 11],\n",
       "       [12, 12],\n",
       "       [11, 13],\n",
       "       [10, 14],\n",
       "       [ 9, 15],\n",
       "       [ 8, 16],\n",
       "       [ 7, 17],\n",
       "       [ 6, 18],\n",
       "       [ 5, 19],\n",
       "       [ 4, 20],\n",
       "       [ 3, 21],\n",
       "       [ 2, 22],\n",
       "       [ 1, 23],\n",
       "       [ 0, 24],\n",
       "       [25,  0],\n",
       "       [24,  1],\n",
       "       [23,  2],\n",
       "       [22,  3],\n",
       "       [21,  4],\n",
       "       [20,  5],\n",
       "       [19,  6],\n",
       "       [18,  7],\n",
       "       [17,  8],\n",
       "       [16,  9],\n",
       "       [15, 10],\n",
       "       [14, 11],\n",
       "       [13, 12],\n",
       "       [12, 13],\n",
       "       [11, 14],\n",
       "       [10, 15],\n",
       "       [ 9, 16],\n",
       "       [ 8, 17],\n",
       "       [ 7, 18],\n",
       "       [ 6, 19],\n",
       "       [ 5, 20],\n",
       "       [ 4, 21],\n",
       "       [ 3, 22],\n",
       "       [ 2, 23],\n",
       "       [ 1, 24],\n",
       "       [ 0, 25],\n",
       "       [26,  0],\n",
       "       [25,  1],\n",
       "       [24,  2],\n",
       "       [23,  3],\n",
       "       [22,  4],\n",
       "       [21,  5],\n",
       "       [20,  6],\n",
       "       [19,  7],\n",
       "       [18,  8],\n",
       "       [17,  9],\n",
       "       [16, 10],\n",
       "       [15, 11],\n",
       "       [14, 12],\n",
       "       [13, 13],\n",
       "       [12, 14],\n",
       "       [11, 15],\n",
       "       [10, 16],\n",
       "       [ 9, 17],\n",
       "       [ 8, 18],\n",
       "       [ 7, 19],\n",
       "       [ 6, 20],\n",
       "       [ 5, 21],\n",
       "       [ 4, 22],\n",
       "       [ 3, 23],\n",
       "       [ 2, 24],\n",
       "       [ 1, 25],\n",
       "       [ 0, 26],\n",
       "       [27,  0],\n",
       "       [26,  1],\n",
       "       [25,  2],\n",
       "       [24,  3],\n",
       "       [23,  4],\n",
       "       [22,  5],\n",
       "       [21,  6],\n",
       "       [20,  7],\n",
       "       [19,  8],\n",
       "       [18,  9],\n",
       "       [17, 10],\n",
       "       [16, 11],\n",
       "       [15, 12],\n",
       "       [14, 13],\n",
       "       [13, 14],\n",
       "       [12, 15],\n",
       "       [11, 16],\n",
       "       [10, 17],\n",
       "       [ 9, 18],\n",
       "       [ 8, 19],\n",
       "       [ 7, 20],\n",
       "       [ 6, 21],\n",
       "       [ 5, 22],\n",
       "       [ 4, 23],\n",
       "       [ 3, 24],\n",
       "       [ 2, 25],\n",
       "       [ 1, 26],\n",
       "       [ 0, 27],\n",
       "       [28,  0],\n",
       "       [27,  1],\n",
       "       [26,  2],\n",
       "       [25,  3],\n",
       "       [24,  4],\n",
       "       [23,  5],\n",
       "       [22,  6],\n",
       "       [21,  7],\n",
       "       [20,  8],\n",
       "       [19,  9],\n",
       "       [18, 10],\n",
       "       [17, 11],\n",
       "       [16, 12],\n",
       "       [15, 13],\n",
       "       [14, 14],\n",
       "       [13, 15],\n",
       "       [12, 16],\n",
       "       [11, 17],\n",
       "       [10, 18],\n",
       "       [ 9, 19],\n",
       "       [ 8, 20],\n",
       "       [ 7, 21],\n",
       "       [ 6, 22],\n",
       "       [ 5, 23],\n",
       "       [ 4, 24],\n",
       "       [ 3, 25],\n",
       "       [ 2, 26],\n",
       "       [ 1, 27],\n",
       "       [ 0, 28],\n",
       "       [29,  0],\n",
       "       [28,  1],\n",
       "       [27,  2],\n",
       "       [26,  3],\n",
       "       [25,  4],\n",
       "       [24,  5],\n",
       "       [23,  6],\n",
       "       [22,  7],\n",
       "       [21,  8],\n",
       "       [20,  9],\n",
       "       [19, 10],\n",
       "       [18, 11],\n",
       "       [17, 12],\n",
       "       [16, 13],\n",
       "       [15, 14],\n",
       "       [14, 15],\n",
       "       [13, 16],\n",
       "       [12, 17],\n",
       "       [11, 18],\n",
       "       [10, 19],\n",
       "       [ 9, 20],\n",
       "       [ 8, 21],\n",
       "       [ 7, 22],\n",
       "       [ 6, 23],\n",
       "       [ 5, 24],\n",
       "       [ 4, 25],\n",
       "       [ 3, 26],\n",
       "       [ 2, 27],\n",
       "       [ 1, 28],\n",
       "       [ 0, 29],\n",
       "       [30,  0],\n",
       "       [29,  1],\n",
       "       [28,  2],\n",
       "       [27,  3],\n",
       "       [26,  4],\n",
       "       [25,  5],\n",
       "       [24,  6],\n",
       "       [23,  7],\n",
       "       [22,  8],\n",
       "       [21,  9],\n",
       "       [20, 10],\n",
       "       [19, 11],\n",
       "       [18, 12],\n",
       "       [17, 13],\n",
       "       [16, 14],\n",
       "       [15, 15],\n",
       "       [14, 16],\n",
       "       [13, 17],\n",
       "       [12, 18],\n",
       "       [11, 19],\n",
       "       [10, 20],\n",
       "       [ 9, 21],\n",
       "       [ 8, 22],\n",
       "       [ 7, 23],\n",
       "       [ 6, 24],\n",
       "       [ 5, 25],\n",
       "       [ 4, 26],\n",
       "       [ 3, 27],\n",
       "       [ 2, 28],\n",
       "       [ 1, 29],\n",
       "       [ 0, 30]], dtype=int64)"
      ]
     },
     "execution_count": 364,
     "metadata": {},
     "output_type": "execute_result"
    }
   ],
   "source": [
    "poly.powers_"
   ]
  },
  {
   "cell_type": "code",
   "execution_count": 365,
   "metadata": {},
   "outputs": [
    {
     "data": {
      "text/plain": [
       "(100, 496)"
      ]
     },
     "execution_count": 365,
     "metadata": {},
     "output_type": "execute_result"
    }
   ],
   "source": [
    "\n",
    "X_multi_trans.shape"
   ]
  },
  {
   "cell_type": "code",
   "execution_count": 366,
   "metadata": {},
   "outputs": [
    {
     "data": {
      "text/html": [
       "<style>#sk-container-id-18 {\n",
       "  /* Definition of color scheme common for light and dark mode */\n",
       "  --sklearn-color-text: black;\n",
       "  --sklearn-color-line: gray;\n",
       "  /* Definition of color scheme for unfitted estimators */\n",
       "  --sklearn-color-unfitted-level-0: #fff5e6;\n",
       "  --sklearn-color-unfitted-level-1: #f6e4d2;\n",
       "  --sklearn-color-unfitted-level-2: #ffe0b3;\n",
       "  --sklearn-color-unfitted-level-3: chocolate;\n",
       "  /* Definition of color scheme for fitted estimators */\n",
       "  --sklearn-color-fitted-level-0: #f0f8ff;\n",
       "  --sklearn-color-fitted-level-1: #d4ebff;\n",
       "  --sklearn-color-fitted-level-2: #b3dbfd;\n",
       "  --sklearn-color-fitted-level-3: cornflowerblue;\n",
       "\n",
       "  /* Specific color for light theme */\n",
       "  --sklearn-color-text-on-default-background: var(--sg-text-color, var(--theme-code-foreground, var(--jp-content-font-color1, black)));\n",
       "  --sklearn-color-background: var(--sg-background-color, var(--theme-background, var(--jp-layout-color0, white)));\n",
       "  --sklearn-color-border-box: var(--sg-text-color, var(--theme-code-foreground, var(--jp-content-font-color1, black)));\n",
       "  --sklearn-color-icon: #696969;\n",
       "\n",
       "  @media (prefers-color-scheme: dark) {\n",
       "    /* Redefinition of color scheme for dark theme */\n",
       "    --sklearn-color-text-on-default-background: var(--sg-text-color, var(--theme-code-foreground, var(--jp-content-font-color1, white)));\n",
       "    --sklearn-color-background: var(--sg-background-color, var(--theme-background, var(--jp-layout-color0, #111)));\n",
       "    --sklearn-color-border-box: var(--sg-text-color, var(--theme-code-foreground, var(--jp-content-font-color1, white)));\n",
       "    --sklearn-color-icon: #878787;\n",
       "  }\n",
       "}\n",
       "\n",
       "#sk-container-id-18 {\n",
       "  color: var(--sklearn-color-text);\n",
       "}\n",
       "\n",
       "#sk-container-id-18 pre {\n",
       "  padding: 0;\n",
       "}\n",
       "\n",
       "#sk-container-id-18 input.sk-hidden--visually {\n",
       "  border: 0;\n",
       "  clip: rect(1px 1px 1px 1px);\n",
       "  clip: rect(1px, 1px, 1px, 1px);\n",
       "  height: 1px;\n",
       "  margin: -1px;\n",
       "  overflow: hidden;\n",
       "  padding: 0;\n",
       "  position: absolute;\n",
       "  width: 1px;\n",
       "}\n",
       "\n",
       "#sk-container-id-18 div.sk-dashed-wrapped {\n",
       "  border: 1px dashed var(--sklearn-color-line);\n",
       "  margin: 0 0.4em 0.5em 0.4em;\n",
       "  box-sizing: border-box;\n",
       "  padding-bottom: 0.4em;\n",
       "  background-color: var(--sklearn-color-background);\n",
       "}\n",
       "\n",
       "#sk-container-id-18 div.sk-container {\n",
       "  /* jupyter's `normalize.less` sets `[hidden] { display: none; }`\n",
       "     but bootstrap.min.css set `[hidden] { display: none !important; }`\n",
       "     so we also need the `!important` here to be able to override the\n",
       "     default hidden behavior on the sphinx rendered scikit-learn.org.\n",
       "     See: https://github.com/scikit-learn/scikit-learn/issues/21755 */\n",
       "  display: inline-block !important;\n",
       "  position: relative;\n",
       "}\n",
       "\n",
       "#sk-container-id-18 div.sk-text-repr-fallback {\n",
       "  display: none;\n",
       "}\n",
       "\n",
       "div.sk-parallel-item,\n",
       "div.sk-serial,\n",
       "div.sk-item {\n",
       "  /* draw centered vertical line to link estimators */\n",
       "  background-image: linear-gradient(var(--sklearn-color-text-on-default-background), var(--sklearn-color-text-on-default-background));\n",
       "  background-size: 2px 100%;\n",
       "  background-repeat: no-repeat;\n",
       "  background-position: center center;\n",
       "}\n",
       "\n",
       "/* Parallel-specific style estimator block */\n",
       "\n",
       "#sk-container-id-18 div.sk-parallel-item::after {\n",
       "  content: \"\";\n",
       "  width: 100%;\n",
       "  border-bottom: 2px solid var(--sklearn-color-text-on-default-background);\n",
       "  flex-grow: 1;\n",
       "}\n",
       "\n",
       "#sk-container-id-18 div.sk-parallel {\n",
       "  display: flex;\n",
       "  align-items: stretch;\n",
       "  justify-content: center;\n",
       "  background-color: var(--sklearn-color-background);\n",
       "  position: relative;\n",
       "}\n",
       "\n",
       "#sk-container-id-18 div.sk-parallel-item {\n",
       "  display: flex;\n",
       "  flex-direction: column;\n",
       "}\n",
       "\n",
       "#sk-container-id-18 div.sk-parallel-item:first-child::after {\n",
       "  align-self: flex-end;\n",
       "  width: 50%;\n",
       "}\n",
       "\n",
       "#sk-container-id-18 div.sk-parallel-item:last-child::after {\n",
       "  align-self: flex-start;\n",
       "  width: 50%;\n",
       "}\n",
       "\n",
       "#sk-container-id-18 div.sk-parallel-item:only-child::after {\n",
       "  width: 0;\n",
       "}\n",
       "\n",
       "/* Serial-specific style estimator block */\n",
       "\n",
       "#sk-container-id-18 div.sk-serial {\n",
       "  display: flex;\n",
       "  flex-direction: column;\n",
       "  align-items: center;\n",
       "  background-color: var(--sklearn-color-background);\n",
       "  padding-right: 1em;\n",
       "  padding-left: 1em;\n",
       "}\n",
       "\n",
       "\n",
       "/* Toggleable style: style used for estimator/Pipeline/ColumnTransformer box that is\n",
       "clickable and can be expanded/collapsed.\n",
       "- Pipeline and ColumnTransformer use this feature and define the default style\n",
       "- Estimators will overwrite some part of the style using the `sk-estimator` class\n",
       "*/\n",
       "\n",
       "/* Pipeline and ColumnTransformer style (default) */\n",
       "\n",
       "#sk-container-id-18 div.sk-toggleable {\n",
       "  /* Default theme specific background. It is overwritten whether we have a\n",
       "  specific estimator or a Pipeline/ColumnTransformer */\n",
       "  background-color: var(--sklearn-color-background);\n",
       "}\n",
       "\n",
       "/* Toggleable label */\n",
       "#sk-container-id-18 label.sk-toggleable__label {\n",
       "  cursor: pointer;\n",
       "  display: block;\n",
       "  width: 100%;\n",
       "  margin-bottom: 0;\n",
       "  padding: 0.5em;\n",
       "  box-sizing: border-box;\n",
       "  text-align: center;\n",
       "}\n",
       "\n",
       "#sk-container-id-18 label.sk-toggleable__label-arrow:before {\n",
       "  /* Arrow on the left of the label */\n",
       "  content: \"▸\";\n",
       "  float: left;\n",
       "  margin-right: 0.25em;\n",
       "  color: var(--sklearn-color-icon);\n",
       "}\n",
       "\n",
       "#sk-container-id-18 label.sk-toggleable__label-arrow:hover:before {\n",
       "  color: var(--sklearn-color-text);\n",
       "}\n",
       "\n",
       "/* Toggleable content - dropdown */\n",
       "\n",
       "#sk-container-id-18 div.sk-toggleable__content {\n",
       "  max-height: 0;\n",
       "  max-width: 0;\n",
       "  overflow: hidden;\n",
       "  text-align: left;\n",
       "  /* unfitted */\n",
       "  background-color: var(--sklearn-color-unfitted-level-0);\n",
       "}\n",
       "\n",
       "#sk-container-id-18 div.sk-toggleable__content.fitted {\n",
       "  /* fitted */\n",
       "  background-color: var(--sklearn-color-fitted-level-0);\n",
       "}\n",
       "\n",
       "#sk-container-id-18 div.sk-toggleable__content pre {\n",
       "  margin: 0.2em;\n",
       "  border-radius: 0.25em;\n",
       "  color: var(--sklearn-color-text);\n",
       "  /* unfitted */\n",
       "  background-color: var(--sklearn-color-unfitted-level-0);\n",
       "}\n",
       "\n",
       "#sk-container-id-18 div.sk-toggleable__content.fitted pre {\n",
       "  /* unfitted */\n",
       "  background-color: var(--sklearn-color-fitted-level-0);\n",
       "}\n",
       "\n",
       "#sk-container-id-18 input.sk-toggleable__control:checked~div.sk-toggleable__content {\n",
       "  /* Expand drop-down */\n",
       "  max-height: 200px;\n",
       "  max-width: 100%;\n",
       "  overflow: auto;\n",
       "}\n",
       "\n",
       "#sk-container-id-18 input.sk-toggleable__control:checked~label.sk-toggleable__label-arrow:before {\n",
       "  content: \"▾\";\n",
       "}\n",
       "\n",
       "/* Pipeline/ColumnTransformer-specific style */\n",
       "\n",
       "#sk-container-id-18 div.sk-label input.sk-toggleable__control:checked~label.sk-toggleable__label {\n",
       "  color: var(--sklearn-color-text);\n",
       "  background-color: var(--sklearn-color-unfitted-level-2);\n",
       "}\n",
       "\n",
       "#sk-container-id-18 div.sk-label.fitted input.sk-toggleable__control:checked~label.sk-toggleable__label {\n",
       "  background-color: var(--sklearn-color-fitted-level-2);\n",
       "}\n",
       "\n",
       "/* Estimator-specific style */\n",
       "\n",
       "/* Colorize estimator box */\n",
       "#sk-container-id-18 div.sk-estimator input.sk-toggleable__control:checked~label.sk-toggleable__label {\n",
       "  /* unfitted */\n",
       "  background-color: var(--sklearn-color-unfitted-level-2);\n",
       "}\n",
       "\n",
       "#sk-container-id-18 div.sk-estimator.fitted input.sk-toggleable__control:checked~label.sk-toggleable__label {\n",
       "  /* fitted */\n",
       "  background-color: var(--sklearn-color-fitted-level-2);\n",
       "}\n",
       "\n",
       "#sk-container-id-18 div.sk-label label.sk-toggleable__label,\n",
       "#sk-container-id-18 div.sk-label label {\n",
       "  /* The background is the default theme color */\n",
       "  color: var(--sklearn-color-text-on-default-background);\n",
       "}\n",
       "\n",
       "/* On hover, darken the color of the background */\n",
       "#sk-container-id-18 div.sk-label:hover label.sk-toggleable__label {\n",
       "  color: var(--sklearn-color-text);\n",
       "  background-color: var(--sklearn-color-unfitted-level-2);\n",
       "}\n",
       "\n",
       "/* Label box, darken color on hover, fitted */\n",
       "#sk-container-id-18 div.sk-label.fitted:hover label.sk-toggleable__label.fitted {\n",
       "  color: var(--sklearn-color-text);\n",
       "  background-color: var(--sklearn-color-fitted-level-2);\n",
       "}\n",
       "\n",
       "/* Estimator label */\n",
       "\n",
       "#sk-container-id-18 div.sk-label label {\n",
       "  font-family: monospace;\n",
       "  font-weight: bold;\n",
       "  display: inline-block;\n",
       "  line-height: 1.2em;\n",
       "}\n",
       "\n",
       "#sk-container-id-18 div.sk-label-container {\n",
       "  text-align: center;\n",
       "}\n",
       "\n",
       "/* Estimator-specific */\n",
       "#sk-container-id-18 div.sk-estimator {\n",
       "  font-family: monospace;\n",
       "  border: 1px dotted var(--sklearn-color-border-box);\n",
       "  border-radius: 0.25em;\n",
       "  box-sizing: border-box;\n",
       "  margin-bottom: 0.5em;\n",
       "  /* unfitted */\n",
       "  background-color: var(--sklearn-color-unfitted-level-0);\n",
       "}\n",
       "\n",
       "#sk-container-id-18 div.sk-estimator.fitted {\n",
       "  /* fitted */\n",
       "  background-color: var(--sklearn-color-fitted-level-0);\n",
       "}\n",
       "\n",
       "/* on hover */\n",
       "#sk-container-id-18 div.sk-estimator:hover {\n",
       "  /* unfitted */\n",
       "  background-color: var(--sklearn-color-unfitted-level-2);\n",
       "}\n",
       "\n",
       "#sk-container-id-18 div.sk-estimator.fitted:hover {\n",
       "  /* fitted */\n",
       "  background-color: var(--sklearn-color-fitted-level-2);\n",
       "}\n",
       "\n",
       "/* Specification for estimator info (e.g. \"i\" and \"?\") */\n",
       "\n",
       "/* Common style for \"i\" and \"?\" */\n",
       "\n",
       ".sk-estimator-doc-link,\n",
       "a:link.sk-estimator-doc-link,\n",
       "a:visited.sk-estimator-doc-link {\n",
       "  float: right;\n",
       "  font-size: smaller;\n",
       "  line-height: 1em;\n",
       "  font-family: monospace;\n",
       "  background-color: var(--sklearn-color-background);\n",
       "  border-radius: 1em;\n",
       "  height: 1em;\n",
       "  width: 1em;\n",
       "  text-decoration: none !important;\n",
       "  margin-left: 1ex;\n",
       "  /* unfitted */\n",
       "  border: var(--sklearn-color-unfitted-level-1) 1pt solid;\n",
       "  color: var(--sklearn-color-unfitted-level-1);\n",
       "}\n",
       "\n",
       ".sk-estimator-doc-link.fitted,\n",
       "a:link.sk-estimator-doc-link.fitted,\n",
       "a:visited.sk-estimator-doc-link.fitted {\n",
       "  /* fitted */\n",
       "  border: var(--sklearn-color-fitted-level-1) 1pt solid;\n",
       "  color: var(--sklearn-color-fitted-level-1);\n",
       "}\n",
       "\n",
       "/* On hover */\n",
       "div.sk-estimator:hover .sk-estimator-doc-link:hover,\n",
       ".sk-estimator-doc-link:hover,\n",
       "div.sk-label-container:hover .sk-estimator-doc-link:hover,\n",
       ".sk-estimator-doc-link:hover {\n",
       "  /* unfitted */\n",
       "  background-color: var(--sklearn-color-unfitted-level-3);\n",
       "  color: var(--sklearn-color-background);\n",
       "  text-decoration: none;\n",
       "}\n",
       "\n",
       "div.sk-estimator.fitted:hover .sk-estimator-doc-link.fitted:hover,\n",
       ".sk-estimator-doc-link.fitted:hover,\n",
       "div.sk-label-container:hover .sk-estimator-doc-link.fitted:hover,\n",
       ".sk-estimator-doc-link.fitted:hover {\n",
       "  /* fitted */\n",
       "  background-color: var(--sklearn-color-fitted-level-3);\n",
       "  color: var(--sklearn-color-background);\n",
       "  text-decoration: none;\n",
       "}\n",
       "\n",
       "/* Span, style for the box shown on hovering the info icon */\n",
       ".sk-estimator-doc-link span {\n",
       "  display: none;\n",
       "  z-index: 9999;\n",
       "  position: relative;\n",
       "  font-weight: normal;\n",
       "  right: .2ex;\n",
       "  padding: .5ex;\n",
       "  margin: .5ex;\n",
       "  width: min-content;\n",
       "  min-width: 20ex;\n",
       "  max-width: 50ex;\n",
       "  color: var(--sklearn-color-text);\n",
       "  box-shadow: 2pt 2pt 4pt #999;\n",
       "  /* unfitted */\n",
       "  background: var(--sklearn-color-unfitted-level-0);\n",
       "  border: .5pt solid var(--sklearn-color-unfitted-level-3);\n",
       "}\n",
       "\n",
       ".sk-estimator-doc-link.fitted span {\n",
       "  /* fitted */\n",
       "  background: var(--sklearn-color-fitted-level-0);\n",
       "  border: var(--sklearn-color-fitted-level-3);\n",
       "}\n",
       "\n",
       ".sk-estimator-doc-link:hover span {\n",
       "  display: block;\n",
       "}\n",
       "\n",
       "/* \"?\"-specific style due to the `<a>` HTML tag */\n",
       "\n",
       "#sk-container-id-18 a.estimator_doc_link {\n",
       "  float: right;\n",
       "  font-size: 1rem;\n",
       "  line-height: 1em;\n",
       "  font-family: monospace;\n",
       "  background-color: var(--sklearn-color-background);\n",
       "  border-radius: 1rem;\n",
       "  height: 1rem;\n",
       "  width: 1rem;\n",
       "  text-decoration: none;\n",
       "  /* unfitted */\n",
       "  color: var(--sklearn-color-unfitted-level-1);\n",
       "  border: var(--sklearn-color-unfitted-level-1) 1pt solid;\n",
       "}\n",
       "\n",
       "#sk-container-id-18 a.estimator_doc_link.fitted {\n",
       "  /* fitted */\n",
       "  border: var(--sklearn-color-fitted-level-1) 1pt solid;\n",
       "  color: var(--sklearn-color-fitted-level-1);\n",
       "}\n",
       "\n",
       "/* On hover */\n",
       "#sk-container-id-18 a.estimator_doc_link:hover {\n",
       "  /* unfitted */\n",
       "  background-color: var(--sklearn-color-unfitted-level-3);\n",
       "  color: var(--sklearn-color-background);\n",
       "  text-decoration: none;\n",
       "}\n",
       "\n",
       "#sk-container-id-18 a.estimator_doc_link.fitted:hover {\n",
       "  /* fitted */\n",
       "  background-color: var(--sklearn-color-fitted-level-3);\n",
       "}\n",
       "</style><div id=\"sk-container-id-18\" class=\"sk-top-container\"><div class=\"sk-text-repr-fallback\"><pre>LinearRegression()</pre><b>In a Jupyter environment, please rerun this cell to show the HTML representation or trust the notebook. <br />On GitHub, the HTML representation is unable to render, please try loading this page with nbviewer.org.</b></div><div class=\"sk-container\" hidden><div class=\"sk-item\"><div class=\"sk-estimator fitted sk-toggleable\"><input class=\"sk-toggleable__control sk-hidden--visually\" id=\"sk-estimator-id-18\" type=\"checkbox\" checked><label for=\"sk-estimator-id-18\" class=\"sk-toggleable__label fitted sk-toggleable__label-arrow fitted\">&nbsp;&nbsp;LinearRegression<a class=\"sk-estimator-doc-link fitted\" rel=\"noreferrer\" target=\"_blank\" href=\"https://scikit-learn.org/1.4/modules/generated/sklearn.linear_model.LinearRegression.html\">?<span>Documentation for LinearRegression</span></a><span class=\"sk-estimator-doc-link fitted\">i<span>Fitted</span></span></label><div class=\"sk-toggleable__content fitted\"><pre>LinearRegression()</pre></div> </div></div></div></div>"
      ],
      "text/plain": [
       "LinearRegression()"
      ]
     },
     "execution_count": 366,
     "metadata": {},
     "output_type": "execute_result"
    }
   ],
   "source": [
    "lr = LinearRegression()\n",
    "lr.fit(X_multi_trans,z)"
   ]
  },
  {
   "cell_type": "code",
   "execution_count": 367,
   "metadata": {},
   "outputs": [],
   "source": [
    "\n",
    "X_test_multi = poly.transform(final)"
   ]
  },
  {
   "cell_type": "code",
   "execution_count": 368,
   "metadata": {},
   "outputs": [],
   "source": [
    "z_final = lr.predict(X_multi_trans).reshape(10,10)"
   ]
  },
  {
   "cell_type": "code",
   "execution_count": 369,
   "metadata": {},
   "outputs": [],
   "source": [
    "fig = px.scatter_3d(x=x.ravel(), y=y.ravel(), z=z.ravel())"
   ]
  },
  {
   "cell_type": "code",
   "execution_count": 370,
   "metadata": {},
   "outputs": [
    {
     "data": {
      "application/vnd.plotly.v1+json": {
       "config": {
        "plotlyServerURL": "https://plot.ly"
       },
       "data": [
        {
         "hovertemplate": "x=%{x}<br>y=%{y}<br>z=%{z}<extra></extra>",
         "legendgroup": "",
         "marker": {
          "color": "#636efa",
          "symbol": "circle"
         },
         "mode": "markers",
         "name": "",
         "scene": "scene",
         "showlegend": false,
         "type": "scatter3d",
         "x": [
          -2.6235002018569573,
          -1.955321001036281,
          1.1438915457336671,
          0.1743500731550114,
          -1.9187642615116816,
          3.638636407633352,
          -2.335939742516773,
          -0.47582111320529696,
          -1.6462321623776468,
          -0.6909811436354016,
          -1.0359621297882995,
          3.5719065886791634,
          -2.18188413371701,
          -2.74655850141563,
          0.5522530210948786,
          2.883542087774786,
          0.795901445651384,
          -1.2883826969669374,
          3.0176213268194614,
          1.540693347889306,
          1.2687044015493125,
          2.0764265330716176,
          -1.3911909097538637,
          0.9630358687734155,
          3.761252231533036,
          -0.03755467463141926,
          -1.9092505897244059,
          -0.28171421316377243,
          1.0844973977902947,
          2.527703812976691,
          1.2235376463009366,
          2.134172174180054,
          0.524637536145546,
          -1.697297514876394,
          -1.0697543444485476,
          -1.9572253561050639,
          -0.5613502733771996,
          4.131366668619323,
          2.760955494537434,
          -2.6678650566694335,
          1.160992495455885,
          3.391625921740925,
          -2.376008283966713,
          2.7695041644174134,
          -1.7844747269813732,
          -0.21332380441046617,
          -1.5666163199862533,
          0.6229720854355012,
          -1.6163625682614549,
          1.6433981022860369,
          0.7002648767882613,
          1.0560567517150523,
          0.8108019423490451,
          -2.2633159075122284,
          4.084405172525835,
          -1.649625172462641,
          4.143061557890445,
          0.8647909825523135,
          -1.2181987503153302,
          4.160420002110237,
          2.003271956023317,
          2.3993683598792677,
          3.071378884175985,
          1.999452121765727,
          1.703594474934551,
          3.247716245494466,
          -0.3656732511370544,
          -1.0096587155977108,
          -0.882829448517892,
          -2.6430949640227537,
          1.7025164221075064,
          2.581027924582539,
          -0.38725775880707136,
          -1.45450890381209,
          3.0780052981372776,
          -1.5241945639969248,
          -2.291329630094923,
          -1.0148270985142656,
          2.542168716812945,
          -0.5433176793161376,
          -0.49672053892305845,
          -1.6084416723888335,
          2.1168106651139222,
          1.1119003255545419,
          2.581822792622222,
          2.0392354788668534,
          -2.279548773863504,
          2.2267716140402163,
          1.1012966305620089,
          1.841887544250766,
          1.8869225478099088,
          2.276311920565493,
          2.6999053190423705,
          -2.3549694251224,
          0.4440082026841483,
          -2.510876637696644,
          1.9901551643485398,
          -0.0584165300603412,
          0.1286303382337719,
          2.604391849612039
         ],
         "y": [
          0.0893535864812316,
          2.1099395622040857,
          3.2105489941982466,
          0.8607783981414783,
          -1.8988256848617366,
          -0.7731116618212699,
          -2.587408768436645,
          0.5634371723263953,
          -0.9574576915917143,
          1.2848660974228991,
          -2.025907006811731,
          1.403571260449909,
          1.9366049913878705,
          -2.328928501651411,
          3.843721419955683,
          -2.5920765469561355,
          -1.7839865265696635,
          3.315643258076846,
          3.689110421566733,
          -1.3309685076110491,
          1.3734765295630087,
          -0.9802812565413912,
          -0.19330189250049967,
          1.1599726865088922,
          1.8020715781232148,
          -1.0531288474679874,
          4.140723483918725,
          1.5848979646958812,
          2.7321020279932613,
          3.8047857837644186,
          -1.7646763665040526,
          0.5342598671752583,
          -0.08933650353325584,
          0.16509623759675662,
          0.5169496814006616,
          3.6616333173653075,
          0.7441076693997655,
          0.8738783175495781,
          0.4515980274081133,
          2.8883787586868133,
          -0.3894595336504727,
          1.041207892564779,
          -1.8147242507672803,
          -0.7489980421365083,
          -0.4206691191836729,
          -1.5397852072952172,
          0.1968551163168999,
          -2.6486222870158884,
          4.027103990408078,
          -0.8229764659330501,
          -0.3743785369870447,
          1.992933337849725,
          3.0142502438529055,
          -1.7261005896759078,
          3.5066276177236464,
          -1.1469769878914637,
          1.893537264526838,
          3.0360712026162364,
          3.1694544078376605,
          -0.22027942131681488,
          -2.72554188640028,
          -1.4035152469525478,
          -2.3351876260467854,
          -2.2614723444621307,
          -0.970389508784975,
          0.7853475099603653,
          -1.8028673668608184,
          -2.112753592292255,
          -1.3123401240698982,
          2.708916762135895,
          2.757996624282163,
          0.9904131221475145,
          -0.30383520306564504,
          3.867209754526419,
          2.1565410728124146,
          -2.6282893054716823,
          3.4455501775641,
          -1.7600478047304904,
          -1.5070879776673785,
          3.3768498355251886,
          -2.399296208509172,
          1.865832713349107,
          3.702599583967208,
          -0.4294030028856115,
          2.521546990294085,
          3.5412659517209164,
          2.7811620591228223,
          -2.010893351534539,
          1.2964338516058262,
          -0.7681186533330542,
          2.1036597797831575,
          -2.7599916528913333,
          -1.7421880720347152,
          -0.6851493324550231,
          2.6036475050800085,
          -1.2274194628844013,
          -0.14534178015203203,
          2.361856335342037,
          -0.37596872282327265,
          3.7408123921294685
         ],
         "z": [
          8.263810832348748,
          9.987330558470271,
          13.702430439848712,
          2.925615496387673,
          8.190215228301787,
          16.02991329426188,
          14.587596531459665,
          2.123711874674964,
          6.85761832672247,
          3.5352572894430576,
          8.219543283062217,
          18.098494788064645,
          10.98556546332997,
          14.193301621432242,
          19.587531133369097,
          16.901033389468072,
          5.173476935699367,
          12.890949297019926,
          27.879298786445016,
          4.937577647327415,
          6.3018137809187165,
          6.069871498758596,
          3.440843208006815,
          6.136821891538433,
          21.404532111116037,
          1.6965472804794326,
          23.143247116507915,
          5.337974074534921,
          13.564784987421854,
          24.0592224455515,
          6.239798066731798,
          6.65901566421327,
          1.9297398599274098,
          5.094769799900256,
          3.3956654297871816,
          17.227678325386822,
          2.5289399195758198,
          21.741005994619567,
          12.20221347648894,
          16.55071408839774,
          3.6156306468971215,
          15.799002474278058,
          10.282247255089473,
          11.432135414067657,
          4.564022663171488,
          2.780032548698026,
          3.7226552869983314,
          8.28532763939129,
          19.833446819808152,
          2.9707584280325134,
          3.021689862132052,
          6.947606644031873,
          10.915976038132634,
          9.65931687084505,
          34.1411221542332,
          7.397294874493351,
          26.130954368465222,
          13.897935713577013,
          12.617862025740068,
          21.278525332514718,
          11.392266751796061,
          9.015872422758154,
          16.323565114572343,
          11.819003479273713,
          5.236545056695006,
          14.393562172069737,
          6.083854622733986,
          8.139716119432359,
          2.587524876011841,
          16.22717325737469,
          13.157000529687023,
          9.518424637230003,
          1.6326721501947001,
          19.553424358082154,
          17.62124915459877,
          9.715172628374866,
          19.1045692816394,
          6.768936372655315,
          11.124415208416805,
          13.933395228110172,
          5.346123257668038,
          7.710147325898819,
          21.5523174793444,
          2.1485224772530875,
          17.9720094986963,
          21.03801052481861,
          15.205909300644928,
          9.405666219844388,
          4.793463201548415,
          3.703065323169742,
          12.4547210080235,
          12.830878636925807,
          11.864313693298282,
          7.247962895350342,
          9.84024095969457,
          7.671777710440558,
          6.4029171840081585,
          7.217427128605117,
          1.2702679407685245,
          25.113554825738678
         ]
        }
       ],
       "layout": {
        "legend": {
         "tracegroupgap": 0
        },
        "margin": {
         "t": 60
        },
        "scene": {
         "domain": {
          "x": [
           0,
           1
          ],
          "y": [
           0,
           1
          ]
         },
         "xaxis": {
          "title": {
           "text": "x"
          }
         },
         "yaxis": {
          "title": {
           "text": "y"
          }
         },
         "zaxis": {
          "title": {
           "text": "z"
          }
         }
        },
        "template": {
         "data": {
          "bar": [
           {
            "error_x": {
             "color": "#2a3f5f"
            },
            "error_y": {
             "color": "#2a3f5f"
            },
            "marker": {
             "line": {
              "color": "#E5ECF6",
              "width": 0.5
             },
             "pattern": {
              "fillmode": "overlay",
              "size": 10,
              "solidity": 0.2
             }
            },
            "type": "bar"
           }
          ],
          "barpolar": [
           {
            "marker": {
             "line": {
              "color": "#E5ECF6",
              "width": 0.5
             },
             "pattern": {
              "fillmode": "overlay",
              "size": 10,
              "solidity": 0.2
             }
            },
            "type": "barpolar"
           }
          ],
          "carpet": [
           {
            "aaxis": {
             "endlinecolor": "#2a3f5f",
             "gridcolor": "white",
             "linecolor": "white",
             "minorgridcolor": "white",
             "startlinecolor": "#2a3f5f"
            },
            "baxis": {
             "endlinecolor": "#2a3f5f",
             "gridcolor": "white",
             "linecolor": "white",
             "minorgridcolor": "white",
             "startlinecolor": "#2a3f5f"
            },
            "type": "carpet"
           }
          ],
          "choropleth": [
           {
            "colorbar": {
             "outlinewidth": 0,
             "ticks": ""
            },
            "type": "choropleth"
           }
          ],
          "contour": [
           {
            "colorbar": {
             "outlinewidth": 0,
             "ticks": ""
            },
            "colorscale": [
             [
              0,
              "#0d0887"
             ],
             [
              0.1111111111111111,
              "#46039f"
             ],
             [
              0.2222222222222222,
              "#7201a8"
             ],
             [
              0.3333333333333333,
              "#9c179e"
             ],
             [
              0.4444444444444444,
              "#bd3786"
             ],
             [
              0.5555555555555556,
              "#d8576b"
             ],
             [
              0.6666666666666666,
              "#ed7953"
             ],
             [
              0.7777777777777778,
              "#fb9f3a"
             ],
             [
              0.8888888888888888,
              "#fdca26"
             ],
             [
              1,
              "#f0f921"
             ]
            ],
            "type": "contour"
           }
          ],
          "contourcarpet": [
           {
            "colorbar": {
             "outlinewidth": 0,
             "ticks": ""
            },
            "type": "contourcarpet"
           }
          ],
          "heatmap": [
           {
            "colorbar": {
             "outlinewidth": 0,
             "ticks": ""
            },
            "colorscale": [
             [
              0,
              "#0d0887"
             ],
             [
              0.1111111111111111,
              "#46039f"
             ],
             [
              0.2222222222222222,
              "#7201a8"
             ],
             [
              0.3333333333333333,
              "#9c179e"
             ],
             [
              0.4444444444444444,
              "#bd3786"
             ],
             [
              0.5555555555555556,
              "#d8576b"
             ],
             [
              0.6666666666666666,
              "#ed7953"
             ],
             [
              0.7777777777777778,
              "#fb9f3a"
             ],
             [
              0.8888888888888888,
              "#fdca26"
             ],
             [
              1,
              "#f0f921"
             ]
            ],
            "type": "heatmap"
           }
          ],
          "heatmapgl": [
           {
            "colorbar": {
             "outlinewidth": 0,
             "ticks": ""
            },
            "colorscale": [
             [
              0,
              "#0d0887"
             ],
             [
              0.1111111111111111,
              "#46039f"
             ],
             [
              0.2222222222222222,
              "#7201a8"
             ],
             [
              0.3333333333333333,
              "#9c179e"
             ],
             [
              0.4444444444444444,
              "#bd3786"
             ],
             [
              0.5555555555555556,
              "#d8576b"
             ],
             [
              0.6666666666666666,
              "#ed7953"
             ],
             [
              0.7777777777777778,
              "#fb9f3a"
             ],
             [
              0.8888888888888888,
              "#fdca26"
             ],
             [
              1,
              "#f0f921"
             ]
            ],
            "type": "heatmapgl"
           }
          ],
          "histogram": [
           {
            "marker": {
             "pattern": {
              "fillmode": "overlay",
              "size": 10,
              "solidity": 0.2
             }
            },
            "type": "histogram"
           }
          ],
          "histogram2d": [
           {
            "colorbar": {
             "outlinewidth": 0,
             "ticks": ""
            },
            "colorscale": [
             [
              0,
              "#0d0887"
             ],
             [
              0.1111111111111111,
              "#46039f"
             ],
             [
              0.2222222222222222,
              "#7201a8"
             ],
             [
              0.3333333333333333,
              "#9c179e"
             ],
             [
              0.4444444444444444,
              "#bd3786"
             ],
             [
              0.5555555555555556,
              "#d8576b"
             ],
             [
              0.6666666666666666,
              "#ed7953"
             ],
             [
              0.7777777777777778,
              "#fb9f3a"
             ],
             [
              0.8888888888888888,
              "#fdca26"
             ],
             [
              1,
              "#f0f921"
             ]
            ],
            "type": "histogram2d"
           }
          ],
          "histogram2dcontour": [
           {
            "colorbar": {
             "outlinewidth": 0,
             "ticks": ""
            },
            "colorscale": [
             [
              0,
              "#0d0887"
             ],
             [
              0.1111111111111111,
              "#46039f"
             ],
             [
              0.2222222222222222,
              "#7201a8"
             ],
             [
              0.3333333333333333,
              "#9c179e"
             ],
             [
              0.4444444444444444,
              "#bd3786"
             ],
             [
              0.5555555555555556,
              "#d8576b"
             ],
             [
              0.6666666666666666,
              "#ed7953"
             ],
             [
              0.7777777777777778,
              "#fb9f3a"
             ],
             [
              0.8888888888888888,
              "#fdca26"
             ],
             [
              1,
              "#f0f921"
             ]
            ],
            "type": "histogram2dcontour"
           }
          ],
          "mesh3d": [
           {
            "colorbar": {
             "outlinewidth": 0,
             "ticks": ""
            },
            "type": "mesh3d"
           }
          ],
          "parcoords": [
           {
            "line": {
             "colorbar": {
              "outlinewidth": 0,
              "ticks": ""
             }
            },
            "type": "parcoords"
           }
          ],
          "pie": [
           {
            "automargin": true,
            "type": "pie"
           }
          ],
          "scatter": [
           {
            "fillpattern": {
             "fillmode": "overlay",
             "size": 10,
             "solidity": 0.2
            },
            "type": "scatter"
           }
          ],
          "scatter3d": [
           {
            "line": {
             "colorbar": {
              "outlinewidth": 0,
              "ticks": ""
             }
            },
            "marker": {
             "colorbar": {
              "outlinewidth": 0,
              "ticks": ""
             }
            },
            "type": "scatter3d"
           }
          ],
          "scattercarpet": [
           {
            "marker": {
             "colorbar": {
              "outlinewidth": 0,
              "ticks": ""
             }
            },
            "type": "scattercarpet"
           }
          ],
          "scattergeo": [
           {
            "marker": {
             "colorbar": {
              "outlinewidth": 0,
              "ticks": ""
             }
            },
            "type": "scattergeo"
           }
          ],
          "scattergl": [
           {
            "marker": {
             "colorbar": {
              "outlinewidth": 0,
              "ticks": ""
             }
            },
            "type": "scattergl"
           }
          ],
          "scattermapbox": [
           {
            "marker": {
             "colorbar": {
              "outlinewidth": 0,
              "ticks": ""
             }
            },
            "type": "scattermapbox"
           }
          ],
          "scatterpolar": [
           {
            "marker": {
             "colorbar": {
              "outlinewidth": 0,
              "ticks": ""
             }
            },
            "type": "scatterpolar"
           }
          ],
          "scatterpolargl": [
           {
            "marker": {
             "colorbar": {
              "outlinewidth": 0,
              "ticks": ""
             }
            },
            "type": "scatterpolargl"
           }
          ],
          "scatterternary": [
           {
            "marker": {
             "colorbar": {
              "outlinewidth": 0,
              "ticks": ""
             }
            },
            "type": "scatterternary"
           }
          ],
          "surface": [
           {
            "colorbar": {
             "outlinewidth": 0,
             "ticks": ""
            },
            "colorscale": [
             [
              0,
              "#0d0887"
             ],
             [
              0.1111111111111111,
              "#46039f"
             ],
             [
              0.2222222222222222,
              "#7201a8"
             ],
             [
              0.3333333333333333,
              "#9c179e"
             ],
             [
              0.4444444444444444,
              "#bd3786"
             ],
             [
              0.5555555555555556,
              "#d8576b"
             ],
             [
              0.6666666666666666,
              "#ed7953"
             ],
             [
              0.7777777777777778,
              "#fb9f3a"
             ],
             [
              0.8888888888888888,
              "#fdca26"
             ],
             [
              1,
              "#f0f921"
             ]
            ],
            "type": "surface"
           }
          ],
          "table": [
           {
            "cells": {
             "fill": {
              "color": "#EBF0F8"
             },
             "line": {
              "color": "white"
             }
            },
            "header": {
             "fill": {
              "color": "#C8D4E3"
             },
             "line": {
              "color": "white"
             }
            },
            "type": "table"
           }
          ]
         },
         "layout": {
          "annotationdefaults": {
           "arrowcolor": "#2a3f5f",
           "arrowhead": 0,
           "arrowwidth": 1
          },
          "autotypenumbers": "strict",
          "coloraxis": {
           "colorbar": {
            "outlinewidth": 0,
            "ticks": ""
           }
          },
          "colorscale": {
           "diverging": [
            [
             0,
             "#8e0152"
            ],
            [
             0.1,
             "#c51b7d"
            ],
            [
             0.2,
             "#de77ae"
            ],
            [
             0.3,
             "#f1b6da"
            ],
            [
             0.4,
             "#fde0ef"
            ],
            [
             0.5,
             "#f7f7f7"
            ],
            [
             0.6,
             "#e6f5d0"
            ],
            [
             0.7,
             "#b8e186"
            ],
            [
             0.8,
             "#7fbc41"
            ],
            [
             0.9,
             "#4d9221"
            ],
            [
             1,
             "#276419"
            ]
           ],
           "sequential": [
            [
             0,
             "#0d0887"
            ],
            [
             0.1111111111111111,
             "#46039f"
            ],
            [
             0.2222222222222222,
             "#7201a8"
            ],
            [
             0.3333333333333333,
             "#9c179e"
            ],
            [
             0.4444444444444444,
             "#bd3786"
            ],
            [
             0.5555555555555556,
             "#d8576b"
            ],
            [
             0.6666666666666666,
             "#ed7953"
            ],
            [
             0.7777777777777778,
             "#fb9f3a"
            ],
            [
             0.8888888888888888,
             "#fdca26"
            ],
            [
             1,
             "#f0f921"
            ]
           ],
           "sequentialminus": [
            [
             0,
             "#0d0887"
            ],
            [
             0.1111111111111111,
             "#46039f"
            ],
            [
             0.2222222222222222,
             "#7201a8"
            ],
            [
             0.3333333333333333,
             "#9c179e"
            ],
            [
             0.4444444444444444,
             "#bd3786"
            ],
            [
             0.5555555555555556,
             "#d8576b"
            ],
            [
             0.6666666666666666,
             "#ed7953"
            ],
            [
             0.7777777777777778,
             "#fb9f3a"
            ],
            [
             0.8888888888888888,
             "#fdca26"
            ],
            [
             1,
             "#f0f921"
            ]
           ]
          },
          "colorway": [
           "#636efa",
           "#EF553B",
           "#00cc96",
           "#ab63fa",
           "#FFA15A",
           "#19d3f3",
           "#FF6692",
           "#B6E880",
           "#FF97FF",
           "#FECB52"
          ],
          "font": {
           "color": "#2a3f5f"
          },
          "geo": {
           "bgcolor": "white",
           "lakecolor": "white",
           "landcolor": "#E5ECF6",
           "showlakes": true,
           "showland": true,
           "subunitcolor": "white"
          },
          "hoverlabel": {
           "align": "left"
          },
          "hovermode": "closest",
          "mapbox": {
           "style": "light"
          },
          "paper_bgcolor": "white",
          "plot_bgcolor": "#E5ECF6",
          "polar": {
           "angularaxis": {
            "gridcolor": "white",
            "linecolor": "white",
            "ticks": ""
           },
           "bgcolor": "#E5ECF6",
           "radialaxis": {
            "gridcolor": "white",
            "linecolor": "white",
            "ticks": ""
           }
          },
          "scene": {
           "xaxis": {
            "backgroundcolor": "#E5ECF6",
            "gridcolor": "white",
            "gridwidth": 2,
            "linecolor": "white",
            "showbackground": true,
            "ticks": "",
            "zerolinecolor": "white"
           },
           "yaxis": {
            "backgroundcolor": "#E5ECF6",
            "gridcolor": "white",
            "gridwidth": 2,
            "linecolor": "white",
            "showbackground": true,
            "ticks": "",
            "zerolinecolor": "white"
           },
           "zaxis": {
            "backgroundcolor": "#E5ECF6",
            "gridcolor": "white",
            "gridwidth": 2,
            "linecolor": "white",
            "showbackground": true,
            "ticks": "",
            "zerolinecolor": "white"
           }
          },
          "shapedefaults": {
           "line": {
            "color": "#2a3f5f"
           }
          },
          "ternary": {
           "aaxis": {
            "gridcolor": "white",
            "linecolor": "white",
            "ticks": ""
           },
           "baxis": {
            "gridcolor": "white",
            "linecolor": "white",
            "ticks": ""
           },
           "bgcolor": "#E5ECF6",
           "caxis": {
            "gridcolor": "white",
            "linecolor": "white",
            "ticks": ""
           }
          },
          "title": {
           "x": 0.05
          },
          "xaxis": {
           "automargin": true,
           "gridcolor": "white",
           "linecolor": "white",
           "ticks": "",
           "title": {
            "standoff": 15
           },
           "zerolinecolor": "white",
           "zerolinewidth": 2
          },
          "yaxis": {
           "automargin": true,
           "gridcolor": "white",
           "linecolor": "white",
           "ticks": "",
           "title": {
            "standoff": 15
           },
           "zerolinecolor": "white",
           "zerolinewidth": 2
          }
         }
        }
       }
      }
     },
     "metadata": {},
     "output_type": "display_data"
    }
   ],
   "source": [
    "fig"
   ]
  },
  {
   "cell_type": "code",
   "execution_count": 371,
   "metadata": {},
   "outputs": [
    {
     "data": {
      "application/vnd.plotly.v1+json": {
       "config": {
        "plotlyServerURL": "https://plot.ly"
       },
       "data": [
        {
         "hovertemplate": "x=%{x}<br>y=%{y}<br>z=%{z}<extra></extra>",
         "legendgroup": "",
         "marker": {
          "color": "#636efa",
          "symbol": "circle"
         },
         "mode": "markers",
         "name": "",
         "scene": "scene",
         "showlegend": false,
         "type": "scatter3d",
         "x": [
          -2.6235002018569573,
          -1.955321001036281,
          1.1438915457336671,
          0.1743500731550114,
          -1.9187642615116816,
          3.638636407633352,
          -2.335939742516773,
          -0.47582111320529696,
          -1.6462321623776468,
          -0.6909811436354016,
          -1.0359621297882995,
          3.5719065886791634,
          -2.18188413371701,
          -2.74655850141563,
          0.5522530210948786,
          2.883542087774786,
          0.795901445651384,
          -1.2883826969669374,
          3.0176213268194614,
          1.540693347889306,
          1.2687044015493125,
          2.0764265330716176,
          -1.3911909097538637,
          0.9630358687734155,
          3.761252231533036,
          -0.03755467463141926,
          -1.9092505897244059,
          -0.28171421316377243,
          1.0844973977902947,
          2.527703812976691,
          1.2235376463009366,
          2.134172174180054,
          0.524637536145546,
          -1.697297514876394,
          -1.0697543444485476,
          -1.9572253561050639,
          -0.5613502733771996,
          4.131366668619323,
          2.760955494537434,
          -2.6678650566694335,
          1.160992495455885,
          3.391625921740925,
          -2.376008283966713,
          2.7695041644174134,
          -1.7844747269813732,
          -0.21332380441046617,
          -1.5666163199862533,
          0.6229720854355012,
          -1.6163625682614549,
          1.6433981022860369,
          0.7002648767882613,
          1.0560567517150523,
          0.8108019423490451,
          -2.2633159075122284,
          4.084405172525835,
          -1.649625172462641,
          4.143061557890445,
          0.8647909825523135,
          -1.2181987503153302,
          4.160420002110237,
          2.003271956023317,
          2.3993683598792677,
          3.071378884175985,
          1.999452121765727,
          1.703594474934551,
          3.247716245494466,
          -0.3656732511370544,
          -1.0096587155977108,
          -0.882829448517892,
          -2.6430949640227537,
          1.7025164221075064,
          2.581027924582539,
          -0.38725775880707136,
          -1.45450890381209,
          3.0780052981372776,
          -1.5241945639969248,
          -2.291329630094923,
          -1.0148270985142656,
          2.542168716812945,
          -0.5433176793161376,
          -0.49672053892305845,
          -1.6084416723888335,
          2.1168106651139222,
          1.1119003255545419,
          2.581822792622222,
          2.0392354788668534,
          -2.279548773863504,
          2.2267716140402163,
          1.1012966305620089,
          1.841887544250766,
          1.8869225478099088,
          2.276311920565493,
          2.6999053190423705,
          -2.3549694251224,
          0.4440082026841483,
          -2.510876637696644,
          1.9901551643485398,
          -0.0584165300603412,
          0.1286303382337719,
          2.604391849612039
         ],
         "y": [
          0.0893535864812316,
          2.1099395622040857,
          3.2105489941982466,
          0.8607783981414783,
          -1.8988256848617366,
          -0.7731116618212699,
          -2.587408768436645,
          0.5634371723263953,
          -0.9574576915917143,
          1.2848660974228991,
          -2.025907006811731,
          1.403571260449909,
          1.9366049913878705,
          -2.328928501651411,
          3.843721419955683,
          -2.5920765469561355,
          -1.7839865265696635,
          3.315643258076846,
          3.689110421566733,
          -1.3309685076110491,
          1.3734765295630087,
          -0.9802812565413912,
          -0.19330189250049967,
          1.1599726865088922,
          1.8020715781232148,
          -1.0531288474679874,
          4.140723483918725,
          1.5848979646958812,
          2.7321020279932613,
          3.8047857837644186,
          -1.7646763665040526,
          0.5342598671752583,
          -0.08933650353325584,
          0.16509623759675662,
          0.5169496814006616,
          3.6616333173653075,
          0.7441076693997655,
          0.8738783175495781,
          0.4515980274081133,
          2.8883787586868133,
          -0.3894595336504727,
          1.041207892564779,
          -1.8147242507672803,
          -0.7489980421365083,
          -0.4206691191836729,
          -1.5397852072952172,
          0.1968551163168999,
          -2.6486222870158884,
          4.027103990408078,
          -0.8229764659330501,
          -0.3743785369870447,
          1.992933337849725,
          3.0142502438529055,
          -1.7261005896759078,
          3.5066276177236464,
          -1.1469769878914637,
          1.893537264526838,
          3.0360712026162364,
          3.1694544078376605,
          -0.22027942131681488,
          -2.72554188640028,
          -1.4035152469525478,
          -2.3351876260467854,
          -2.2614723444621307,
          -0.970389508784975,
          0.7853475099603653,
          -1.8028673668608184,
          -2.112753592292255,
          -1.3123401240698982,
          2.708916762135895,
          2.757996624282163,
          0.9904131221475145,
          -0.30383520306564504,
          3.867209754526419,
          2.1565410728124146,
          -2.6282893054716823,
          3.4455501775641,
          -1.7600478047304904,
          -1.5070879776673785,
          3.3768498355251886,
          -2.399296208509172,
          1.865832713349107,
          3.702599583967208,
          -0.4294030028856115,
          2.521546990294085,
          3.5412659517209164,
          2.7811620591228223,
          -2.010893351534539,
          1.2964338516058262,
          -0.7681186533330542,
          2.1036597797831575,
          -2.7599916528913333,
          -1.7421880720347152,
          -0.6851493324550231,
          2.6036475050800085,
          -1.2274194628844013,
          -0.14534178015203203,
          2.361856335342037,
          -0.37596872282327265,
          3.7408123921294685
         ],
         "z": [
          8.263810832348748,
          9.987330558470271,
          13.702430439848712,
          2.925615496387673,
          8.190215228301787,
          16.02991329426188,
          14.587596531459665,
          2.123711874674964,
          6.85761832672247,
          3.5352572894430576,
          8.219543283062217,
          18.098494788064645,
          10.98556546332997,
          14.193301621432242,
          19.587531133369097,
          16.901033389468072,
          5.173476935699367,
          12.890949297019926,
          27.879298786445016,
          4.937577647327415,
          6.3018137809187165,
          6.069871498758596,
          3.440843208006815,
          6.136821891538433,
          21.404532111116037,
          1.6965472804794326,
          23.143247116507915,
          5.337974074534921,
          13.564784987421854,
          24.0592224455515,
          6.239798066731798,
          6.65901566421327,
          1.9297398599274098,
          5.094769799900256,
          3.3956654297871816,
          17.227678325386822,
          2.5289399195758198,
          21.741005994619567,
          12.20221347648894,
          16.55071408839774,
          3.6156306468971215,
          15.799002474278058,
          10.282247255089473,
          11.432135414067657,
          4.564022663171488,
          2.780032548698026,
          3.7226552869983314,
          8.28532763939129,
          19.833446819808152,
          2.9707584280325134,
          3.021689862132052,
          6.947606644031873,
          10.915976038132634,
          9.65931687084505,
          34.1411221542332,
          7.397294874493351,
          26.130954368465222,
          13.897935713577013,
          12.617862025740068,
          21.278525332514718,
          11.392266751796061,
          9.015872422758154,
          16.323565114572343,
          11.819003479273713,
          5.236545056695006,
          14.393562172069737,
          6.083854622733986,
          8.139716119432359,
          2.587524876011841,
          16.22717325737469,
          13.157000529687023,
          9.518424637230003,
          1.6326721501947001,
          19.553424358082154,
          17.62124915459877,
          9.715172628374866,
          19.1045692816394,
          6.768936372655315,
          11.124415208416805,
          13.933395228110172,
          5.346123257668038,
          7.710147325898819,
          21.5523174793444,
          2.1485224772530875,
          17.9720094986963,
          21.03801052481861,
          15.205909300644928,
          9.405666219844388,
          4.793463201548415,
          3.703065323169742,
          12.4547210080235,
          12.830878636925807,
          11.864313693298282,
          7.247962895350342,
          9.84024095969457,
          7.671777710440558,
          6.4029171840081585,
          7.217427128605117,
          1.2702679407685245,
          25.113554825738678
         ]
        },
        {
         "type": "surface",
         "x": [
          -2.74655850141563,
          -1.9791164454683117,
          -1.2116743895209932,
          -0.44423233357367486,
          0.32320972237364387,
          1.0906517783209626,
          1.8580938342682805,
          2.625535890215599,
          3.392977946162918,
          4.160420002110237
         ],
         "y": [
          -2.7599916528913333,
          -1.9932455265791047,
          -1.2264994002668759,
          -0.45975327395464705,
          0.30699285235758156,
          1.0737389786698102,
          1.8404851049820392,
          2.607231231294268,
          3.3739773576064964,
          4.140723483918725
         ],
         "z": [
          [
           8.266096720894414,
           11.101083758063593,
           13.695144961079198,
           2.929716395170974,
           7.829233735104797,
           16.029220888813573,
           14.59094686289652,
           2.1184766687951857,
           10.456120199006232,
           3.5377815463147932
          ],
          [
           8.218477143375342,
           16.426011338969534,
           10.985428164204198,
           14.213469772644633,
           19.5865959212683,
           16.899110441227524,
           5.179383436262331,
           12.889083088681648,
           27.829178164204198,
           4.934359679421025
          ],
          [
           6.300453493794041,
           6.069383213718968,
           3.348627201001907,
           6.61596391223782,
           21.408717085327314,
           11.084756655413276,
           23.142192196756216,
           5.2696078517041975,
           13.659500429829198,
           24.004959414204198
          ],
          [
           6.246087303807574,
           6.659138033588963,
           1.932333300312596,
           11.075574958425769,
           3.34525303026064,
           17.228480088015633,
           4.63429675018298,
           21.76516468306406,
           12.201477771348866,
           16.54921400216742
          ],
          [
           4.099170363032616,
           15.796595169377245,
           10.283506403168278,
           11.458697727372485,
           4.572601595308672,
           2.779492618938523,
           3.741134385069447,
           8.29457225506528,
           19.83161278989107,
           2.9684343072153503
          ],
          [
           3.0182393209983935,
           6.947491297920781,
           10.864984468311807,
           9.671984931876498,
           10.784634646344317,
           7.393625654411583,
           26.134639391166704,
           13.900467226704198,
           12.614395449360448,
           21.276504824360448
          ],
          [
           11.119759593843053,
           11.08047196228709,
           16.323828121671315,
           11.900467226704198,
           5.2246859767041975,
           14.372575490426161,
           11.083124646508649,
           8.139053652485448,
           11.08321417081874,
           16.22066594143732
          ],
          [
           11.083211405015025,
           9.626205422389805,
           -0.3257944671362587,
           19.611154536207753,
           17.609939882954198,
           9.72455516395937,
           19.093527624806004,
           6.7652438380323225,
           11.115940878590184,
           13.938649485310155
          ],
          [
           5.344119528730946,
           7.723278480073052,
           11.085515012695344,
           2.147486963207914,
           17.96757073183878,
           20.97663513054474,
           15.200271914204198,
           9.491395930250722,
           4.792473147114354,
           3.703735659321385
          ],
          [
           12.417947451075154,
           12.830459902485448,
           11.863479922016698,
           7.231432745655614,
           11.145838223232214,
           7.646169433792668,
           6.539289910033492,
           7.214804346164303,
           1.268938150446477,
           25.111893007954198
          ]
         ]
        }
       ],
       "layout": {
        "legend": {
         "tracegroupgap": 0
        },
        "margin": {
         "t": 60
        },
        "scene": {
         "domain": {
          "x": [
           0,
           1
          ],
          "y": [
           0,
           1
          ]
         },
         "xaxis": {
          "title": {
           "text": "x"
          }
         },
         "yaxis": {
          "title": {
           "text": "y"
          }
         },
         "zaxis": {
          "title": {
           "text": "z"
          }
         }
        },
        "template": {
         "data": {
          "bar": [
           {
            "error_x": {
             "color": "#2a3f5f"
            },
            "error_y": {
             "color": "#2a3f5f"
            },
            "marker": {
             "line": {
              "color": "#E5ECF6",
              "width": 0.5
             },
             "pattern": {
              "fillmode": "overlay",
              "size": 10,
              "solidity": 0.2
             }
            },
            "type": "bar"
           }
          ],
          "barpolar": [
           {
            "marker": {
             "line": {
              "color": "#E5ECF6",
              "width": 0.5
             },
             "pattern": {
              "fillmode": "overlay",
              "size": 10,
              "solidity": 0.2
             }
            },
            "type": "barpolar"
           }
          ],
          "carpet": [
           {
            "aaxis": {
             "endlinecolor": "#2a3f5f",
             "gridcolor": "white",
             "linecolor": "white",
             "minorgridcolor": "white",
             "startlinecolor": "#2a3f5f"
            },
            "baxis": {
             "endlinecolor": "#2a3f5f",
             "gridcolor": "white",
             "linecolor": "white",
             "minorgridcolor": "white",
             "startlinecolor": "#2a3f5f"
            },
            "type": "carpet"
           }
          ],
          "choropleth": [
           {
            "colorbar": {
             "outlinewidth": 0,
             "ticks": ""
            },
            "type": "choropleth"
           }
          ],
          "contour": [
           {
            "colorbar": {
             "outlinewidth": 0,
             "ticks": ""
            },
            "colorscale": [
             [
              0,
              "#0d0887"
             ],
             [
              0.1111111111111111,
              "#46039f"
             ],
             [
              0.2222222222222222,
              "#7201a8"
             ],
             [
              0.3333333333333333,
              "#9c179e"
             ],
             [
              0.4444444444444444,
              "#bd3786"
             ],
             [
              0.5555555555555556,
              "#d8576b"
             ],
             [
              0.6666666666666666,
              "#ed7953"
             ],
             [
              0.7777777777777778,
              "#fb9f3a"
             ],
             [
              0.8888888888888888,
              "#fdca26"
             ],
             [
              1,
              "#f0f921"
             ]
            ],
            "type": "contour"
           }
          ],
          "contourcarpet": [
           {
            "colorbar": {
             "outlinewidth": 0,
             "ticks": ""
            },
            "type": "contourcarpet"
           }
          ],
          "heatmap": [
           {
            "colorbar": {
             "outlinewidth": 0,
             "ticks": ""
            },
            "colorscale": [
             [
              0,
              "#0d0887"
             ],
             [
              0.1111111111111111,
              "#46039f"
             ],
             [
              0.2222222222222222,
              "#7201a8"
             ],
             [
              0.3333333333333333,
              "#9c179e"
             ],
             [
              0.4444444444444444,
              "#bd3786"
             ],
             [
              0.5555555555555556,
              "#d8576b"
             ],
             [
              0.6666666666666666,
              "#ed7953"
             ],
             [
              0.7777777777777778,
              "#fb9f3a"
             ],
             [
              0.8888888888888888,
              "#fdca26"
             ],
             [
              1,
              "#f0f921"
             ]
            ],
            "type": "heatmap"
           }
          ],
          "heatmapgl": [
           {
            "colorbar": {
             "outlinewidth": 0,
             "ticks": ""
            },
            "colorscale": [
             [
              0,
              "#0d0887"
             ],
             [
              0.1111111111111111,
              "#46039f"
             ],
             [
              0.2222222222222222,
              "#7201a8"
             ],
             [
              0.3333333333333333,
              "#9c179e"
             ],
             [
              0.4444444444444444,
              "#bd3786"
             ],
             [
              0.5555555555555556,
              "#d8576b"
             ],
             [
              0.6666666666666666,
              "#ed7953"
             ],
             [
              0.7777777777777778,
              "#fb9f3a"
             ],
             [
              0.8888888888888888,
              "#fdca26"
             ],
             [
              1,
              "#f0f921"
             ]
            ],
            "type": "heatmapgl"
           }
          ],
          "histogram": [
           {
            "marker": {
             "pattern": {
              "fillmode": "overlay",
              "size": 10,
              "solidity": 0.2
             }
            },
            "type": "histogram"
           }
          ],
          "histogram2d": [
           {
            "colorbar": {
             "outlinewidth": 0,
             "ticks": ""
            },
            "colorscale": [
             [
              0,
              "#0d0887"
             ],
             [
              0.1111111111111111,
              "#46039f"
             ],
             [
              0.2222222222222222,
              "#7201a8"
             ],
             [
              0.3333333333333333,
              "#9c179e"
             ],
             [
              0.4444444444444444,
              "#bd3786"
             ],
             [
              0.5555555555555556,
              "#d8576b"
             ],
             [
              0.6666666666666666,
              "#ed7953"
             ],
             [
              0.7777777777777778,
              "#fb9f3a"
             ],
             [
              0.8888888888888888,
              "#fdca26"
             ],
             [
              1,
              "#f0f921"
             ]
            ],
            "type": "histogram2d"
           }
          ],
          "histogram2dcontour": [
           {
            "colorbar": {
             "outlinewidth": 0,
             "ticks": ""
            },
            "colorscale": [
             [
              0,
              "#0d0887"
             ],
             [
              0.1111111111111111,
              "#46039f"
             ],
             [
              0.2222222222222222,
              "#7201a8"
             ],
             [
              0.3333333333333333,
              "#9c179e"
             ],
             [
              0.4444444444444444,
              "#bd3786"
             ],
             [
              0.5555555555555556,
              "#d8576b"
             ],
             [
              0.6666666666666666,
              "#ed7953"
             ],
             [
              0.7777777777777778,
              "#fb9f3a"
             ],
             [
              0.8888888888888888,
              "#fdca26"
             ],
             [
              1,
              "#f0f921"
             ]
            ],
            "type": "histogram2dcontour"
           }
          ],
          "mesh3d": [
           {
            "colorbar": {
             "outlinewidth": 0,
             "ticks": ""
            },
            "type": "mesh3d"
           }
          ],
          "parcoords": [
           {
            "line": {
             "colorbar": {
              "outlinewidth": 0,
              "ticks": ""
             }
            },
            "type": "parcoords"
           }
          ],
          "pie": [
           {
            "automargin": true,
            "type": "pie"
           }
          ],
          "scatter": [
           {
            "fillpattern": {
             "fillmode": "overlay",
             "size": 10,
             "solidity": 0.2
            },
            "type": "scatter"
           }
          ],
          "scatter3d": [
           {
            "line": {
             "colorbar": {
              "outlinewidth": 0,
              "ticks": ""
             }
            },
            "marker": {
             "colorbar": {
              "outlinewidth": 0,
              "ticks": ""
             }
            },
            "type": "scatter3d"
           }
          ],
          "scattercarpet": [
           {
            "marker": {
             "colorbar": {
              "outlinewidth": 0,
              "ticks": ""
             }
            },
            "type": "scattercarpet"
           }
          ],
          "scattergeo": [
           {
            "marker": {
             "colorbar": {
              "outlinewidth": 0,
              "ticks": ""
             }
            },
            "type": "scattergeo"
           }
          ],
          "scattergl": [
           {
            "marker": {
             "colorbar": {
              "outlinewidth": 0,
              "ticks": ""
             }
            },
            "type": "scattergl"
           }
          ],
          "scattermapbox": [
           {
            "marker": {
             "colorbar": {
              "outlinewidth": 0,
              "ticks": ""
             }
            },
            "type": "scattermapbox"
           }
          ],
          "scatterpolar": [
           {
            "marker": {
             "colorbar": {
              "outlinewidth": 0,
              "ticks": ""
             }
            },
            "type": "scatterpolar"
           }
          ],
          "scatterpolargl": [
           {
            "marker": {
             "colorbar": {
              "outlinewidth": 0,
              "ticks": ""
             }
            },
            "type": "scatterpolargl"
           }
          ],
          "scatterternary": [
           {
            "marker": {
             "colorbar": {
              "outlinewidth": 0,
              "ticks": ""
             }
            },
            "type": "scatterternary"
           }
          ],
          "surface": [
           {
            "colorbar": {
             "outlinewidth": 0,
             "ticks": ""
            },
            "colorscale": [
             [
              0,
              "#0d0887"
             ],
             [
              0.1111111111111111,
              "#46039f"
             ],
             [
              0.2222222222222222,
              "#7201a8"
             ],
             [
              0.3333333333333333,
              "#9c179e"
             ],
             [
              0.4444444444444444,
              "#bd3786"
             ],
             [
              0.5555555555555556,
              "#d8576b"
             ],
             [
              0.6666666666666666,
              "#ed7953"
             ],
             [
              0.7777777777777778,
              "#fb9f3a"
             ],
             [
              0.8888888888888888,
              "#fdca26"
             ],
             [
              1,
              "#f0f921"
             ]
            ],
            "type": "surface"
           }
          ],
          "table": [
           {
            "cells": {
             "fill": {
              "color": "#EBF0F8"
             },
             "line": {
              "color": "white"
             }
            },
            "header": {
             "fill": {
              "color": "#C8D4E3"
             },
             "line": {
              "color": "white"
             }
            },
            "type": "table"
           }
          ]
         },
         "layout": {
          "annotationdefaults": {
           "arrowcolor": "#2a3f5f",
           "arrowhead": 0,
           "arrowwidth": 1
          },
          "autotypenumbers": "strict",
          "coloraxis": {
           "colorbar": {
            "outlinewidth": 0,
            "ticks": ""
           }
          },
          "colorscale": {
           "diverging": [
            [
             0,
             "#8e0152"
            ],
            [
             0.1,
             "#c51b7d"
            ],
            [
             0.2,
             "#de77ae"
            ],
            [
             0.3,
             "#f1b6da"
            ],
            [
             0.4,
             "#fde0ef"
            ],
            [
             0.5,
             "#f7f7f7"
            ],
            [
             0.6,
             "#e6f5d0"
            ],
            [
             0.7,
             "#b8e186"
            ],
            [
             0.8,
             "#7fbc41"
            ],
            [
             0.9,
             "#4d9221"
            ],
            [
             1,
             "#276419"
            ]
           ],
           "sequential": [
            [
             0,
             "#0d0887"
            ],
            [
             0.1111111111111111,
             "#46039f"
            ],
            [
             0.2222222222222222,
             "#7201a8"
            ],
            [
             0.3333333333333333,
             "#9c179e"
            ],
            [
             0.4444444444444444,
             "#bd3786"
            ],
            [
             0.5555555555555556,
             "#d8576b"
            ],
            [
             0.6666666666666666,
             "#ed7953"
            ],
            [
             0.7777777777777778,
             "#fb9f3a"
            ],
            [
             0.8888888888888888,
             "#fdca26"
            ],
            [
             1,
             "#f0f921"
            ]
           ],
           "sequentialminus": [
            [
             0,
             "#0d0887"
            ],
            [
             0.1111111111111111,
             "#46039f"
            ],
            [
             0.2222222222222222,
             "#7201a8"
            ],
            [
             0.3333333333333333,
             "#9c179e"
            ],
            [
             0.4444444444444444,
             "#bd3786"
            ],
            [
             0.5555555555555556,
             "#d8576b"
            ],
            [
             0.6666666666666666,
             "#ed7953"
            ],
            [
             0.7777777777777778,
             "#fb9f3a"
            ],
            [
             0.8888888888888888,
             "#fdca26"
            ],
            [
             1,
             "#f0f921"
            ]
           ]
          },
          "colorway": [
           "#636efa",
           "#EF553B",
           "#00cc96",
           "#ab63fa",
           "#FFA15A",
           "#19d3f3",
           "#FF6692",
           "#B6E880",
           "#FF97FF",
           "#FECB52"
          ],
          "font": {
           "color": "#2a3f5f"
          },
          "geo": {
           "bgcolor": "white",
           "lakecolor": "white",
           "landcolor": "#E5ECF6",
           "showlakes": true,
           "showland": true,
           "subunitcolor": "white"
          },
          "hoverlabel": {
           "align": "left"
          },
          "hovermode": "closest",
          "mapbox": {
           "style": "light"
          },
          "paper_bgcolor": "white",
          "plot_bgcolor": "#E5ECF6",
          "polar": {
           "angularaxis": {
            "gridcolor": "white",
            "linecolor": "white",
            "ticks": ""
           },
           "bgcolor": "#E5ECF6",
           "radialaxis": {
            "gridcolor": "white",
            "linecolor": "white",
            "ticks": ""
           }
          },
          "scene": {
           "xaxis": {
            "backgroundcolor": "#E5ECF6",
            "gridcolor": "white",
            "gridwidth": 2,
            "linecolor": "white",
            "showbackground": true,
            "ticks": "",
            "zerolinecolor": "white"
           },
           "yaxis": {
            "backgroundcolor": "#E5ECF6",
            "gridcolor": "white",
            "gridwidth": 2,
            "linecolor": "white",
            "showbackground": true,
            "ticks": "",
            "zerolinecolor": "white"
           },
           "zaxis": {
            "backgroundcolor": "#E5ECF6",
            "gridcolor": "white",
            "gridwidth": 2,
            "linecolor": "white",
            "showbackground": true,
            "ticks": "",
            "zerolinecolor": "white"
           }
          },
          "shapedefaults": {
           "line": {
            "color": "#2a3f5f"
           }
          },
          "ternary": {
           "aaxis": {
            "gridcolor": "white",
            "linecolor": "white",
            "ticks": ""
           },
           "baxis": {
            "gridcolor": "white",
            "linecolor": "white",
            "ticks": ""
           },
           "bgcolor": "#E5ECF6",
           "caxis": {
            "gridcolor": "white",
            "linecolor": "white",
            "ticks": ""
           }
          },
          "title": {
           "x": 0.05
          },
          "xaxis": {
           "automargin": true,
           "gridcolor": "white",
           "linecolor": "white",
           "ticks": "",
           "title": {
            "standoff": 15
           },
           "zerolinecolor": "white",
           "zerolinewidth": 2
          },
          "yaxis": {
           "automargin": true,
           "gridcolor": "white",
           "linecolor": "white",
           "ticks": "",
           "title": {
            "standoff": 15
           },
           "zerolinecolor": "white",
           "zerolinewidth": 2
          }
         }
        }
       }
      }
     },
     "metadata": {},
     "output_type": "display_data"
    }
   ],
   "source": [
    "fig.add_trace(go.Surface(x = x_input, y = y_input, z =z_final))"
   ]
  },
  {
   "cell_type": "code",
   "execution_count": 372,
   "metadata": {},
   "outputs": [
    {
     "data": {
      "application/vnd.plotly.v1+json": {
       "config": {
        "plotlyServerURL": "https://plot.ly"
       },
       "data": [
        {
         "hovertemplate": "x=%{x}<br>y=%{y}<br>z=%{z}<extra></extra>",
         "legendgroup": "",
         "marker": {
          "color": "#636efa",
          "symbol": "circle"
         },
         "mode": "markers",
         "name": "",
         "scene": "scene",
         "showlegend": false,
         "type": "scatter3d",
         "x": [
          -2.6235002018569573,
          -1.955321001036281,
          1.1438915457336671,
          0.1743500731550114,
          -1.9187642615116816,
          3.638636407633352,
          -2.335939742516773,
          -0.47582111320529696,
          -1.6462321623776468,
          -0.6909811436354016,
          -1.0359621297882995,
          3.5719065886791634,
          -2.18188413371701,
          -2.74655850141563,
          0.5522530210948786,
          2.883542087774786,
          0.795901445651384,
          -1.2883826969669374,
          3.0176213268194614,
          1.540693347889306,
          1.2687044015493125,
          2.0764265330716176,
          -1.3911909097538637,
          0.9630358687734155,
          3.761252231533036,
          -0.03755467463141926,
          -1.9092505897244059,
          -0.28171421316377243,
          1.0844973977902947,
          2.527703812976691,
          1.2235376463009366,
          2.134172174180054,
          0.524637536145546,
          -1.697297514876394,
          -1.0697543444485476,
          -1.9572253561050639,
          -0.5613502733771996,
          4.131366668619323,
          2.760955494537434,
          -2.6678650566694335,
          1.160992495455885,
          3.391625921740925,
          -2.376008283966713,
          2.7695041644174134,
          -1.7844747269813732,
          -0.21332380441046617,
          -1.5666163199862533,
          0.6229720854355012,
          -1.6163625682614549,
          1.6433981022860369,
          0.7002648767882613,
          1.0560567517150523,
          0.8108019423490451,
          -2.2633159075122284,
          4.084405172525835,
          -1.649625172462641,
          4.143061557890445,
          0.8647909825523135,
          -1.2181987503153302,
          4.160420002110237,
          2.003271956023317,
          2.3993683598792677,
          3.071378884175985,
          1.999452121765727,
          1.703594474934551,
          3.247716245494466,
          -0.3656732511370544,
          -1.0096587155977108,
          -0.882829448517892,
          -2.6430949640227537,
          1.7025164221075064,
          2.581027924582539,
          -0.38725775880707136,
          -1.45450890381209,
          3.0780052981372776,
          -1.5241945639969248,
          -2.291329630094923,
          -1.0148270985142656,
          2.542168716812945,
          -0.5433176793161376,
          -0.49672053892305845,
          -1.6084416723888335,
          2.1168106651139222,
          1.1119003255545419,
          2.581822792622222,
          2.0392354788668534,
          -2.279548773863504,
          2.2267716140402163,
          1.1012966305620089,
          1.841887544250766,
          1.8869225478099088,
          2.276311920565493,
          2.6999053190423705,
          -2.3549694251224,
          0.4440082026841483,
          -2.510876637696644,
          1.9901551643485398,
          -0.0584165300603412,
          0.1286303382337719,
          2.604391849612039
         ],
         "y": [
          0.0893535864812316,
          2.1099395622040857,
          3.2105489941982466,
          0.8607783981414783,
          -1.8988256848617366,
          -0.7731116618212699,
          -2.587408768436645,
          0.5634371723263953,
          -0.9574576915917143,
          1.2848660974228991,
          -2.025907006811731,
          1.403571260449909,
          1.9366049913878705,
          -2.328928501651411,
          3.843721419955683,
          -2.5920765469561355,
          -1.7839865265696635,
          3.315643258076846,
          3.689110421566733,
          -1.3309685076110491,
          1.3734765295630087,
          -0.9802812565413912,
          -0.19330189250049967,
          1.1599726865088922,
          1.8020715781232148,
          -1.0531288474679874,
          4.140723483918725,
          1.5848979646958812,
          2.7321020279932613,
          3.8047857837644186,
          -1.7646763665040526,
          0.5342598671752583,
          -0.08933650353325584,
          0.16509623759675662,
          0.5169496814006616,
          3.6616333173653075,
          0.7441076693997655,
          0.8738783175495781,
          0.4515980274081133,
          2.8883787586868133,
          -0.3894595336504727,
          1.041207892564779,
          -1.8147242507672803,
          -0.7489980421365083,
          -0.4206691191836729,
          -1.5397852072952172,
          0.1968551163168999,
          -2.6486222870158884,
          4.027103990408078,
          -0.8229764659330501,
          -0.3743785369870447,
          1.992933337849725,
          3.0142502438529055,
          -1.7261005896759078,
          3.5066276177236464,
          -1.1469769878914637,
          1.893537264526838,
          3.0360712026162364,
          3.1694544078376605,
          -0.22027942131681488,
          -2.72554188640028,
          -1.4035152469525478,
          -2.3351876260467854,
          -2.2614723444621307,
          -0.970389508784975,
          0.7853475099603653,
          -1.8028673668608184,
          -2.112753592292255,
          -1.3123401240698982,
          2.708916762135895,
          2.757996624282163,
          0.9904131221475145,
          -0.30383520306564504,
          3.867209754526419,
          2.1565410728124146,
          -2.6282893054716823,
          3.4455501775641,
          -1.7600478047304904,
          -1.5070879776673785,
          3.3768498355251886,
          -2.399296208509172,
          1.865832713349107,
          3.702599583967208,
          -0.4294030028856115,
          2.521546990294085,
          3.5412659517209164,
          2.7811620591228223,
          -2.010893351534539,
          1.2964338516058262,
          -0.7681186533330542,
          2.1036597797831575,
          -2.7599916528913333,
          -1.7421880720347152,
          -0.6851493324550231,
          2.6036475050800085,
          -1.2274194628844013,
          -0.14534178015203203,
          2.361856335342037,
          -0.37596872282327265,
          3.7408123921294685
         ],
         "z": [
          8.263810832348748,
          9.987330558470271,
          13.702430439848712,
          2.925615496387673,
          8.190215228301787,
          16.02991329426188,
          14.587596531459665,
          2.123711874674964,
          6.85761832672247,
          3.5352572894430576,
          8.219543283062217,
          18.098494788064645,
          10.98556546332997,
          14.193301621432242,
          19.587531133369097,
          16.901033389468072,
          5.173476935699367,
          12.890949297019926,
          27.879298786445016,
          4.937577647327415,
          6.3018137809187165,
          6.069871498758596,
          3.440843208006815,
          6.136821891538433,
          21.404532111116037,
          1.6965472804794326,
          23.143247116507915,
          5.337974074534921,
          13.564784987421854,
          24.0592224455515,
          6.239798066731798,
          6.65901566421327,
          1.9297398599274098,
          5.094769799900256,
          3.3956654297871816,
          17.227678325386822,
          2.5289399195758198,
          21.741005994619567,
          12.20221347648894,
          16.55071408839774,
          3.6156306468971215,
          15.799002474278058,
          10.282247255089473,
          11.432135414067657,
          4.564022663171488,
          2.780032548698026,
          3.7226552869983314,
          8.28532763939129,
          19.833446819808152,
          2.9707584280325134,
          3.021689862132052,
          6.947606644031873,
          10.915976038132634,
          9.65931687084505,
          34.1411221542332,
          7.397294874493351,
          26.130954368465222,
          13.897935713577013,
          12.617862025740068,
          21.278525332514718,
          11.392266751796061,
          9.015872422758154,
          16.323565114572343,
          11.819003479273713,
          5.236545056695006,
          14.393562172069737,
          6.083854622733986,
          8.139716119432359,
          2.587524876011841,
          16.22717325737469,
          13.157000529687023,
          9.518424637230003,
          1.6326721501947001,
          19.553424358082154,
          17.62124915459877,
          9.715172628374866,
          19.1045692816394,
          6.768936372655315,
          11.124415208416805,
          13.933395228110172,
          5.346123257668038,
          7.710147325898819,
          21.5523174793444,
          2.1485224772530875,
          17.9720094986963,
          21.03801052481861,
          15.205909300644928,
          9.405666219844388,
          4.793463201548415,
          3.703065323169742,
          12.4547210080235,
          12.830878636925807,
          11.864313693298282,
          7.247962895350342,
          9.84024095969457,
          7.671777710440558,
          6.4029171840081585,
          7.217427128605117,
          1.2702679407685245,
          25.113554825738678
         ]
        },
        {
         "type": "surface",
         "x": [
          -2.74655850141563,
          -1.9791164454683117,
          -1.2116743895209932,
          -0.44423233357367486,
          0.32320972237364387,
          1.0906517783209626,
          1.8580938342682805,
          2.625535890215599,
          3.392977946162918,
          4.160420002110237
         ],
         "y": [
          -2.7599916528913333,
          -1.9932455265791047,
          -1.2264994002668759,
          -0.45975327395464705,
          0.30699285235758156,
          1.0737389786698102,
          1.8404851049820392,
          2.607231231294268,
          3.3739773576064964,
          4.140723483918725
         ],
         "z": [
          [
           8.266096720894414,
           11.101083758063593,
           13.695144961079198,
           2.929716395170974,
           7.829233735104797,
           16.029220888813573,
           14.59094686289652,
           2.1184766687951857,
           10.456120199006232,
           3.5377815463147932
          ],
          [
           8.218477143375342,
           16.426011338969534,
           10.985428164204198,
           14.213469772644633,
           19.5865959212683,
           16.899110441227524,
           5.179383436262331,
           12.889083088681648,
           27.829178164204198,
           4.934359679421025
          ],
          [
           6.300453493794041,
           6.069383213718968,
           3.348627201001907,
           6.61596391223782,
           21.408717085327314,
           11.084756655413276,
           23.142192196756216,
           5.2696078517041975,
           13.659500429829198,
           24.004959414204198
          ],
          [
           6.246087303807574,
           6.659138033588963,
           1.932333300312596,
           11.075574958425769,
           3.34525303026064,
           17.228480088015633,
           4.63429675018298,
           21.76516468306406,
           12.201477771348866,
           16.54921400216742
          ],
          [
           4.099170363032616,
           15.796595169377245,
           10.283506403168278,
           11.458697727372485,
           4.572601595308672,
           2.779492618938523,
           3.741134385069447,
           8.29457225506528,
           19.83161278989107,
           2.9684343072153503
          ],
          [
           3.0182393209983935,
           6.947491297920781,
           10.864984468311807,
           9.671984931876498,
           10.784634646344317,
           7.393625654411583,
           26.134639391166704,
           13.900467226704198,
           12.614395449360448,
           21.276504824360448
          ],
          [
           11.119759593843053,
           11.08047196228709,
           16.323828121671315,
           11.900467226704198,
           5.2246859767041975,
           14.372575490426161,
           11.083124646508649,
           8.139053652485448,
           11.08321417081874,
           16.22066594143732
          ],
          [
           11.083211405015025,
           9.626205422389805,
           -0.3257944671362587,
           19.611154536207753,
           17.609939882954198,
           9.72455516395937,
           19.093527624806004,
           6.7652438380323225,
           11.115940878590184,
           13.938649485310155
          ],
          [
           5.344119528730946,
           7.723278480073052,
           11.085515012695344,
           2.147486963207914,
           17.96757073183878,
           20.97663513054474,
           15.200271914204198,
           9.491395930250722,
           4.792473147114354,
           3.703735659321385
          ],
          [
           12.417947451075154,
           12.830459902485448,
           11.863479922016698,
           7.231432745655614,
           11.145838223232214,
           7.646169433792668,
           6.539289910033492,
           7.214804346164303,
           1.268938150446477,
           25.111893007954198
          ]
         ]
        }
       ],
       "layout": {
        "legend": {
         "tracegroupgap": 0
        },
        "margin": {
         "t": 60
        },
        "scene": {
         "domain": {
          "x": [
           0,
           1
          ],
          "y": [
           0,
           1
          ]
         },
         "xaxis": {
          "title": {
           "text": "x"
          }
         },
         "yaxis": {
          "title": {
           "text": "y"
          }
         },
         "zaxis": {
          "range": [
           0,
           35
          ],
          "title": {
           "text": "z"
          }
         }
        },
        "template": {
         "data": {
          "bar": [
           {
            "error_x": {
             "color": "#2a3f5f"
            },
            "error_y": {
             "color": "#2a3f5f"
            },
            "marker": {
             "line": {
              "color": "#E5ECF6",
              "width": 0.5
             },
             "pattern": {
              "fillmode": "overlay",
              "size": 10,
              "solidity": 0.2
             }
            },
            "type": "bar"
           }
          ],
          "barpolar": [
           {
            "marker": {
             "line": {
              "color": "#E5ECF6",
              "width": 0.5
             },
             "pattern": {
              "fillmode": "overlay",
              "size": 10,
              "solidity": 0.2
             }
            },
            "type": "barpolar"
           }
          ],
          "carpet": [
           {
            "aaxis": {
             "endlinecolor": "#2a3f5f",
             "gridcolor": "white",
             "linecolor": "white",
             "minorgridcolor": "white",
             "startlinecolor": "#2a3f5f"
            },
            "baxis": {
             "endlinecolor": "#2a3f5f",
             "gridcolor": "white",
             "linecolor": "white",
             "minorgridcolor": "white",
             "startlinecolor": "#2a3f5f"
            },
            "type": "carpet"
           }
          ],
          "choropleth": [
           {
            "colorbar": {
             "outlinewidth": 0,
             "ticks": ""
            },
            "type": "choropleth"
           }
          ],
          "contour": [
           {
            "colorbar": {
             "outlinewidth": 0,
             "ticks": ""
            },
            "colorscale": [
             [
              0,
              "#0d0887"
             ],
             [
              0.1111111111111111,
              "#46039f"
             ],
             [
              0.2222222222222222,
              "#7201a8"
             ],
             [
              0.3333333333333333,
              "#9c179e"
             ],
             [
              0.4444444444444444,
              "#bd3786"
             ],
             [
              0.5555555555555556,
              "#d8576b"
             ],
             [
              0.6666666666666666,
              "#ed7953"
             ],
             [
              0.7777777777777778,
              "#fb9f3a"
             ],
             [
              0.8888888888888888,
              "#fdca26"
             ],
             [
              1,
              "#f0f921"
             ]
            ],
            "type": "contour"
           }
          ],
          "contourcarpet": [
           {
            "colorbar": {
             "outlinewidth": 0,
             "ticks": ""
            },
            "type": "contourcarpet"
           }
          ],
          "heatmap": [
           {
            "colorbar": {
             "outlinewidth": 0,
             "ticks": ""
            },
            "colorscale": [
             [
              0,
              "#0d0887"
             ],
             [
              0.1111111111111111,
              "#46039f"
             ],
             [
              0.2222222222222222,
              "#7201a8"
             ],
             [
              0.3333333333333333,
              "#9c179e"
             ],
             [
              0.4444444444444444,
              "#bd3786"
             ],
             [
              0.5555555555555556,
              "#d8576b"
             ],
             [
              0.6666666666666666,
              "#ed7953"
             ],
             [
              0.7777777777777778,
              "#fb9f3a"
             ],
             [
              0.8888888888888888,
              "#fdca26"
             ],
             [
              1,
              "#f0f921"
             ]
            ],
            "type": "heatmap"
           }
          ],
          "heatmapgl": [
           {
            "colorbar": {
             "outlinewidth": 0,
             "ticks": ""
            },
            "colorscale": [
             [
              0,
              "#0d0887"
             ],
             [
              0.1111111111111111,
              "#46039f"
             ],
             [
              0.2222222222222222,
              "#7201a8"
             ],
             [
              0.3333333333333333,
              "#9c179e"
             ],
             [
              0.4444444444444444,
              "#bd3786"
             ],
             [
              0.5555555555555556,
              "#d8576b"
             ],
             [
              0.6666666666666666,
              "#ed7953"
             ],
             [
              0.7777777777777778,
              "#fb9f3a"
             ],
             [
              0.8888888888888888,
              "#fdca26"
             ],
             [
              1,
              "#f0f921"
             ]
            ],
            "type": "heatmapgl"
           }
          ],
          "histogram": [
           {
            "marker": {
             "pattern": {
              "fillmode": "overlay",
              "size": 10,
              "solidity": 0.2
             }
            },
            "type": "histogram"
           }
          ],
          "histogram2d": [
           {
            "colorbar": {
             "outlinewidth": 0,
             "ticks": ""
            },
            "colorscale": [
             [
              0,
              "#0d0887"
             ],
             [
              0.1111111111111111,
              "#46039f"
             ],
             [
              0.2222222222222222,
              "#7201a8"
             ],
             [
              0.3333333333333333,
              "#9c179e"
             ],
             [
              0.4444444444444444,
              "#bd3786"
             ],
             [
              0.5555555555555556,
              "#d8576b"
             ],
             [
              0.6666666666666666,
              "#ed7953"
             ],
             [
              0.7777777777777778,
              "#fb9f3a"
             ],
             [
              0.8888888888888888,
              "#fdca26"
             ],
             [
              1,
              "#f0f921"
             ]
            ],
            "type": "histogram2d"
           }
          ],
          "histogram2dcontour": [
           {
            "colorbar": {
             "outlinewidth": 0,
             "ticks": ""
            },
            "colorscale": [
             [
              0,
              "#0d0887"
             ],
             [
              0.1111111111111111,
              "#46039f"
             ],
             [
              0.2222222222222222,
              "#7201a8"
             ],
             [
              0.3333333333333333,
              "#9c179e"
             ],
             [
              0.4444444444444444,
              "#bd3786"
             ],
             [
              0.5555555555555556,
              "#d8576b"
             ],
             [
              0.6666666666666666,
              "#ed7953"
             ],
             [
              0.7777777777777778,
              "#fb9f3a"
             ],
             [
              0.8888888888888888,
              "#fdca26"
             ],
             [
              1,
              "#f0f921"
             ]
            ],
            "type": "histogram2dcontour"
           }
          ],
          "mesh3d": [
           {
            "colorbar": {
             "outlinewidth": 0,
             "ticks": ""
            },
            "type": "mesh3d"
           }
          ],
          "parcoords": [
           {
            "line": {
             "colorbar": {
              "outlinewidth": 0,
              "ticks": ""
             }
            },
            "type": "parcoords"
           }
          ],
          "pie": [
           {
            "automargin": true,
            "type": "pie"
           }
          ],
          "scatter": [
           {
            "fillpattern": {
             "fillmode": "overlay",
             "size": 10,
             "solidity": 0.2
            },
            "type": "scatter"
           }
          ],
          "scatter3d": [
           {
            "line": {
             "colorbar": {
              "outlinewidth": 0,
              "ticks": ""
             }
            },
            "marker": {
             "colorbar": {
              "outlinewidth": 0,
              "ticks": ""
             }
            },
            "type": "scatter3d"
           }
          ],
          "scattercarpet": [
           {
            "marker": {
             "colorbar": {
              "outlinewidth": 0,
              "ticks": ""
             }
            },
            "type": "scattercarpet"
           }
          ],
          "scattergeo": [
           {
            "marker": {
             "colorbar": {
              "outlinewidth": 0,
              "ticks": ""
             }
            },
            "type": "scattergeo"
           }
          ],
          "scattergl": [
           {
            "marker": {
             "colorbar": {
              "outlinewidth": 0,
              "ticks": ""
             }
            },
            "type": "scattergl"
           }
          ],
          "scattermapbox": [
           {
            "marker": {
             "colorbar": {
              "outlinewidth": 0,
              "ticks": ""
             }
            },
            "type": "scattermapbox"
           }
          ],
          "scatterpolar": [
           {
            "marker": {
             "colorbar": {
              "outlinewidth": 0,
              "ticks": ""
             }
            },
            "type": "scatterpolar"
           }
          ],
          "scatterpolargl": [
           {
            "marker": {
             "colorbar": {
              "outlinewidth": 0,
              "ticks": ""
             }
            },
            "type": "scatterpolargl"
           }
          ],
          "scatterternary": [
           {
            "marker": {
             "colorbar": {
              "outlinewidth": 0,
              "ticks": ""
             }
            },
            "type": "scatterternary"
           }
          ],
          "surface": [
           {
            "colorbar": {
             "outlinewidth": 0,
             "ticks": ""
            },
            "colorscale": [
             [
              0,
              "#0d0887"
             ],
             [
              0.1111111111111111,
              "#46039f"
             ],
             [
              0.2222222222222222,
              "#7201a8"
             ],
             [
              0.3333333333333333,
              "#9c179e"
             ],
             [
              0.4444444444444444,
              "#bd3786"
             ],
             [
              0.5555555555555556,
              "#d8576b"
             ],
             [
              0.6666666666666666,
              "#ed7953"
             ],
             [
              0.7777777777777778,
              "#fb9f3a"
             ],
             [
              0.8888888888888888,
              "#fdca26"
             ],
             [
              1,
              "#f0f921"
             ]
            ],
            "type": "surface"
           }
          ],
          "table": [
           {
            "cells": {
             "fill": {
              "color": "#EBF0F8"
             },
             "line": {
              "color": "white"
             }
            },
            "header": {
             "fill": {
              "color": "#C8D4E3"
             },
             "line": {
              "color": "white"
             }
            },
            "type": "table"
           }
          ]
         },
         "layout": {
          "annotationdefaults": {
           "arrowcolor": "#2a3f5f",
           "arrowhead": 0,
           "arrowwidth": 1
          },
          "autotypenumbers": "strict",
          "coloraxis": {
           "colorbar": {
            "outlinewidth": 0,
            "ticks": ""
           }
          },
          "colorscale": {
           "diverging": [
            [
             0,
             "#8e0152"
            ],
            [
             0.1,
             "#c51b7d"
            ],
            [
             0.2,
             "#de77ae"
            ],
            [
             0.3,
             "#f1b6da"
            ],
            [
             0.4,
             "#fde0ef"
            ],
            [
             0.5,
             "#f7f7f7"
            ],
            [
             0.6,
             "#e6f5d0"
            ],
            [
             0.7,
             "#b8e186"
            ],
            [
             0.8,
             "#7fbc41"
            ],
            [
             0.9,
             "#4d9221"
            ],
            [
             1,
             "#276419"
            ]
           ],
           "sequential": [
            [
             0,
             "#0d0887"
            ],
            [
             0.1111111111111111,
             "#46039f"
            ],
            [
             0.2222222222222222,
             "#7201a8"
            ],
            [
             0.3333333333333333,
             "#9c179e"
            ],
            [
             0.4444444444444444,
             "#bd3786"
            ],
            [
             0.5555555555555556,
             "#d8576b"
            ],
            [
             0.6666666666666666,
             "#ed7953"
            ],
            [
             0.7777777777777778,
             "#fb9f3a"
            ],
            [
             0.8888888888888888,
             "#fdca26"
            ],
            [
             1,
             "#f0f921"
            ]
           ],
           "sequentialminus": [
            [
             0,
             "#0d0887"
            ],
            [
             0.1111111111111111,
             "#46039f"
            ],
            [
             0.2222222222222222,
             "#7201a8"
            ],
            [
             0.3333333333333333,
             "#9c179e"
            ],
            [
             0.4444444444444444,
             "#bd3786"
            ],
            [
             0.5555555555555556,
             "#d8576b"
            ],
            [
             0.6666666666666666,
             "#ed7953"
            ],
            [
             0.7777777777777778,
             "#fb9f3a"
            ],
            [
             0.8888888888888888,
             "#fdca26"
            ],
            [
             1,
             "#f0f921"
            ]
           ]
          },
          "colorway": [
           "#636efa",
           "#EF553B",
           "#00cc96",
           "#ab63fa",
           "#FFA15A",
           "#19d3f3",
           "#FF6692",
           "#B6E880",
           "#FF97FF",
           "#FECB52"
          ],
          "font": {
           "color": "#2a3f5f"
          },
          "geo": {
           "bgcolor": "white",
           "lakecolor": "white",
           "landcolor": "#E5ECF6",
           "showlakes": true,
           "showland": true,
           "subunitcolor": "white"
          },
          "hoverlabel": {
           "align": "left"
          },
          "hovermode": "closest",
          "mapbox": {
           "style": "light"
          },
          "paper_bgcolor": "white",
          "plot_bgcolor": "#E5ECF6",
          "polar": {
           "angularaxis": {
            "gridcolor": "white",
            "linecolor": "white",
            "ticks": ""
           },
           "bgcolor": "#E5ECF6",
           "radialaxis": {
            "gridcolor": "white",
            "linecolor": "white",
            "ticks": ""
           }
          },
          "scene": {
           "xaxis": {
            "backgroundcolor": "#E5ECF6",
            "gridcolor": "white",
            "gridwidth": 2,
            "linecolor": "white",
            "showbackground": true,
            "ticks": "",
            "zerolinecolor": "white"
           },
           "yaxis": {
            "backgroundcolor": "#E5ECF6",
            "gridcolor": "white",
            "gridwidth": 2,
            "linecolor": "white",
            "showbackground": true,
            "ticks": "",
            "zerolinecolor": "white"
           },
           "zaxis": {
            "backgroundcolor": "#E5ECF6",
            "gridcolor": "white",
            "gridwidth": 2,
            "linecolor": "white",
            "showbackground": true,
            "ticks": "",
            "zerolinecolor": "white"
           }
          },
          "shapedefaults": {
           "line": {
            "color": "#2a3f5f"
           }
          },
          "ternary": {
           "aaxis": {
            "gridcolor": "white",
            "linecolor": "white",
            "ticks": ""
           },
           "baxis": {
            "gridcolor": "white",
            "linecolor": "white",
            "ticks": ""
           },
           "bgcolor": "#E5ECF6",
           "caxis": {
            "gridcolor": "white",
            "linecolor": "white",
            "ticks": ""
           }
          },
          "title": {
           "x": 0.05
          },
          "xaxis": {
           "automargin": true,
           "gridcolor": "white",
           "linecolor": "white",
           "ticks": "",
           "title": {
            "standoff": 15
           },
           "zerolinecolor": "white",
           "zerolinewidth": 2
          },
          "yaxis": {
           "automargin": true,
           "gridcolor": "white",
           "linecolor": "white",
           "ticks": "",
           "title": {
            "standoff": 15
           },
           "zerolinecolor": "white",
           "zerolinewidth": 2
          }
         }
        }
       }
      }
     },
     "metadata": {},
     "output_type": "display_data"
    }
   ],
   "source": [
    "fig.update_layout(scene = dict(zaxis = dict(range=[0,35])))"
   ]
  },
  {
   "cell_type": "code",
   "execution_count": 373,
   "metadata": {},
   "outputs": [
    {
     "data": {
      "application/vnd.plotly.v1+json": {
       "config": {
        "plotlyServerURL": "https://plot.ly"
       },
       "data": [
        {
         "hovertemplate": "x=%{x}<br>y=%{y}<br>z=%{z}<extra></extra>",
         "legendgroup": "",
         "marker": {
          "color": "#636efa",
          "symbol": "circle"
         },
         "mode": "markers",
         "name": "",
         "scene": "scene",
         "showlegend": false,
         "type": "scatter3d",
         "x": [
          -2.6235002018569573,
          -1.955321001036281,
          1.1438915457336671,
          0.1743500731550114,
          -1.9187642615116816,
          3.638636407633352,
          -2.335939742516773,
          -0.47582111320529696,
          -1.6462321623776468,
          -0.6909811436354016,
          -1.0359621297882995,
          3.5719065886791634,
          -2.18188413371701,
          -2.74655850141563,
          0.5522530210948786,
          2.883542087774786,
          0.795901445651384,
          -1.2883826969669374,
          3.0176213268194614,
          1.540693347889306,
          1.2687044015493125,
          2.0764265330716176,
          -1.3911909097538637,
          0.9630358687734155,
          3.761252231533036,
          -0.03755467463141926,
          -1.9092505897244059,
          -0.28171421316377243,
          1.0844973977902947,
          2.527703812976691,
          1.2235376463009366,
          2.134172174180054,
          0.524637536145546,
          -1.697297514876394,
          -1.0697543444485476,
          -1.9572253561050639,
          -0.5613502733771996,
          4.131366668619323,
          2.760955494537434,
          -2.6678650566694335,
          1.160992495455885,
          3.391625921740925,
          -2.376008283966713,
          2.7695041644174134,
          -1.7844747269813732,
          -0.21332380441046617,
          -1.5666163199862533,
          0.6229720854355012,
          -1.6163625682614549,
          1.6433981022860369,
          0.7002648767882613,
          1.0560567517150523,
          0.8108019423490451,
          -2.2633159075122284,
          4.084405172525835,
          -1.649625172462641,
          4.143061557890445,
          0.8647909825523135,
          -1.2181987503153302,
          4.160420002110237,
          2.003271956023317,
          2.3993683598792677,
          3.071378884175985,
          1.999452121765727,
          1.703594474934551,
          3.247716245494466,
          -0.3656732511370544,
          -1.0096587155977108,
          -0.882829448517892,
          -2.6430949640227537,
          1.7025164221075064,
          2.581027924582539,
          -0.38725775880707136,
          -1.45450890381209,
          3.0780052981372776,
          -1.5241945639969248,
          -2.291329630094923,
          -1.0148270985142656,
          2.542168716812945,
          -0.5433176793161376,
          -0.49672053892305845,
          -1.6084416723888335,
          2.1168106651139222,
          1.1119003255545419,
          2.581822792622222,
          2.0392354788668534,
          -2.279548773863504,
          2.2267716140402163,
          1.1012966305620089,
          1.841887544250766,
          1.8869225478099088,
          2.276311920565493,
          2.6999053190423705,
          -2.3549694251224,
          0.4440082026841483,
          -2.510876637696644,
          1.9901551643485398,
          -0.0584165300603412,
          0.1286303382337719,
          2.604391849612039
         ],
         "y": [
          0.0893535864812316,
          2.1099395622040857,
          3.2105489941982466,
          0.8607783981414783,
          -1.8988256848617366,
          -0.7731116618212699,
          -2.587408768436645,
          0.5634371723263953,
          -0.9574576915917143,
          1.2848660974228991,
          -2.025907006811731,
          1.403571260449909,
          1.9366049913878705,
          -2.328928501651411,
          3.843721419955683,
          -2.5920765469561355,
          -1.7839865265696635,
          3.315643258076846,
          3.689110421566733,
          -1.3309685076110491,
          1.3734765295630087,
          -0.9802812565413912,
          -0.19330189250049967,
          1.1599726865088922,
          1.8020715781232148,
          -1.0531288474679874,
          4.140723483918725,
          1.5848979646958812,
          2.7321020279932613,
          3.8047857837644186,
          -1.7646763665040526,
          0.5342598671752583,
          -0.08933650353325584,
          0.16509623759675662,
          0.5169496814006616,
          3.6616333173653075,
          0.7441076693997655,
          0.8738783175495781,
          0.4515980274081133,
          2.8883787586868133,
          -0.3894595336504727,
          1.041207892564779,
          -1.8147242507672803,
          -0.7489980421365083,
          -0.4206691191836729,
          -1.5397852072952172,
          0.1968551163168999,
          -2.6486222870158884,
          4.027103990408078,
          -0.8229764659330501,
          -0.3743785369870447,
          1.992933337849725,
          3.0142502438529055,
          -1.7261005896759078,
          3.5066276177236464,
          -1.1469769878914637,
          1.893537264526838,
          3.0360712026162364,
          3.1694544078376605,
          -0.22027942131681488,
          -2.72554188640028,
          -1.4035152469525478,
          -2.3351876260467854,
          -2.2614723444621307,
          -0.970389508784975,
          0.7853475099603653,
          -1.8028673668608184,
          -2.112753592292255,
          -1.3123401240698982,
          2.708916762135895,
          2.757996624282163,
          0.9904131221475145,
          -0.30383520306564504,
          3.867209754526419,
          2.1565410728124146,
          -2.6282893054716823,
          3.4455501775641,
          -1.7600478047304904,
          -1.5070879776673785,
          3.3768498355251886,
          -2.399296208509172,
          1.865832713349107,
          3.702599583967208,
          -0.4294030028856115,
          2.521546990294085,
          3.5412659517209164,
          2.7811620591228223,
          -2.010893351534539,
          1.2964338516058262,
          -0.7681186533330542,
          2.1036597797831575,
          -2.7599916528913333,
          -1.7421880720347152,
          -0.6851493324550231,
          2.6036475050800085,
          -1.2274194628844013,
          -0.14534178015203203,
          2.361856335342037,
          -0.37596872282327265,
          3.7408123921294685
         ],
         "z": [
          8.263810832348748,
          9.987330558470271,
          13.702430439848712,
          2.925615496387673,
          8.190215228301787,
          16.02991329426188,
          14.587596531459665,
          2.123711874674964,
          6.85761832672247,
          3.5352572894430576,
          8.219543283062217,
          18.098494788064645,
          10.98556546332997,
          14.193301621432242,
          19.587531133369097,
          16.901033389468072,
          5.173476935699367,
          12.890949297019926,
          27.879298786445016,
          4.937577647327415,
          6.3018137809187165,
          6.069871498758596,
          3.440843208006815,
          6.136821891538433,
          21.404532111116037,
          1.6965472804794326,
          23.143247116507915,
          5.337974074534921,
          13.564784987421854,
          24.0592224455515,
          6.239798066731798,
          6.65901566421327,
          1.9297398599274098,
          5.094769799900256,
          3.3956654297871816,
          17.227678325386822,
          2.5289399195758198,
          21.741005994619567,
          12.20221347648894,
          16.55071408839774,
          3.6156306468971215,
          15.799002474278058,
          10.282247255089473,
          11.432135414067657,
          4.564022663171488,
          2.780032548698026,
          3.7226552869983314,
          8.28532763939129,
          19.833446819808152,
          2.9707584280325134,
          3.021689862132052,
          6.947606644031873,
          10.915976038132634,
          9.65931687084505,
          34.1411221542332,
          7.397294874493351,
          26.130954368465222,
          13.897935713577013,
          12.617862025740068,
          21.278525332514718,
          11.392266751796061,
          9.015872422758154,
          16.323565114572343,
          11.819003479273713,
          5.236545056695006,
          14.393562172069737,
          6.083854622733986,
          8.139716119432359,
          2.587524876011841,
          16.22717325737469,
          13.157000529687023,
          9.518424637230003,
          1.6326721501947001,
          19.553424358082154,
          17.62124915459877,
          9.715172628374866,
          19.1045692816394,
          6.768936372655315,
          11.124415208416805,
          13.933395228110172,
          5.346123257668038,
          7.710147325898819,
          21.5523174793444,
          2.1485224772530875,
          17.9720094986963,
          21.03801052481861,
          15.205909300644928,
          9.405666219844388,
          4.793463201548415,
          3.703065323169742,
          12.4547210080235,
          12.830878636925807,
          11.864313693298282,
          7.247962895350342,
          9.84024095969457,
          7.671777710440558,
          6.4029171840081585,
          7.217427128605117,
          1.2702679407685245,
          25.113554825738678
         ]
        },
        {
         "type": "surface",
         "x": [
          -2.74655850141563,
          -1.9791164454683117,
          -1.2116743895209932,
          -0.44423233357367486,
          0.32320972237364387,
          1.0906517783209626,
          1.8580938342682805,
          2.625535890215599,
          3.392977946162918,
          4.160420002110237
         ],
         "y": [
          -2.7599916528913333,
          -1.9932455265791047,
          -1.2264994002668759,
          -0.45975327395464705,
          0.30699285235758156,
          1.0737389786698102,
          1.8404851049820392,
          2.607231231294268,
          3.3739773576064964,
          4.140723483918725
         ],
         "z": [
          [
           8.266096720894414,
           11.101083758063593,
           13.695144961079198,
           2.929716395170974,
           7.829233735104797,
           16.029220888813573,
           14.59094686289652,
           2.1184766687951857,
           10.456120199006232,
           3.5377815463147932
          ],
          [
           8.218477143375342,
           16.426011338969534,
           10.985428164204198,
           14.213469772644633,
           19.5865959212683,
           16.899110441227524,
           5.179383436262331,
           12.889083088681648,
           27.829178164204198,
           4.934359679421025
          ],
          [
           6.300453493794041,
           6.069383213718968,
           3.348627201001907,
           6.61596391223782,
           21.408717085327314,
           11.084756655413276,
           23.142192196756216,
           5.2696078517041975,
           13.659500429829198,
           24.004959414204198
          ],
          [
           6.246087303807574,
           6.659138033588963,
           1.932333300312596,
           11.075574958425769,
           3.34525303026064,
           17.228480088015633,
           4.63429675018298,
           21.76516468306406,
           12.201477771348866,
           16.54921400216742
          ],
          [
           4.099170363032616,
           15.796595169377245,
           10.283506403168278,
           11.458697727372485,
           4.572601595308672,
           2.779492618938523,
           3.741134385069447,
           8.29457225506528,
           19.83161278989107,
           2.9684343072153503
          ],
          [
           3.0182393209983935,
           6.947491297920781,
           10.864984468311807,
           9.671984931876498,
           10.784634646344317,
           7.393625654411583,
           26.134639391166704,
           13.900467226704198,
           12.614395449360448,
           21.276504824360448
          ],
          [
           11.119759593843053,
           11.08047196228709,
           16.323828121671315,
           11.900467226704198,
           5.2246859767041975,
           14.372575490426161,
           11.083124646508649,
           8.139053652485448,
           11.08321417081874,
           16.22066594143732
          ],
          [
           11.083211405015025,
           9.626205422389805,
           -0.3257944671362587,
           19.611154536207753,
           17.609939882954198,
           9.72455516395937,
           19.093527624806004,
           6.7652438380323225,
           11.115940878590184,
           13.938649485310155
          ],
          [
           5.344119528730946,
           7.723278480073052,
           11.085515012695344,
           2.147486963207914,
           17.96757073183878,
           20.97663513054474,
           15.200271914204198,
           9.491395930250722,
           4.792473147114354,
           3.703735659321385
          ],
          [
           12.417947451075154,
           12.830459902485448,
           11.863479922016698,
           7.231432745655614,
           11.145838223232214,
           7.646169433792668,
           6.539289910033492,
           7.214804346164303,
           1.268938150446477,
           25.111893007954198
          ]
         ]
        }
       ],
       "layout": {
        "legend": {
         "tracegroupgap": 0
        },
        "margin": {
         "t": 60
        },
        "scene": {
         "domain": {
          "x": [
           0,
           1
          ],
          "y": [
           0,
           1
          ]
         },
         "xaxis": {
          "title": {
           "text": "x"
          }
         },
         "yaxis": {
          "title": {
           "text": "y"
          }
         },
         "zaxis": {
          "range": [
           0,
           35
          ],
          "title": {
           "text": "z"
          }
         }
        },
        "template": {
         "data": {
          "bar": [
           {
            "error_x": {
             "color": "#2a3f5f"
            },
            "error_y": {
             "color": "#2a3f5f"
            },
            "marker": {
             "line": {
              "color": "#E5ECF6",
              "width": 0.5
             },
             "pattern": {
              "fillmode": "overlay",
              "size": 10,
              "solidity": 0.2
             }
            },
            "type": "bar"
           }
          ],
          "barpolar": [
           {
            "marker": {
             "line": {
              "color": "#E5ECF6",
              "width": 0.5
             },
             "pattern": {
              "fillmode": "overlay",
              "size": 10,
              "solidity": 0.2
             }
            },
            "type": "barpolar"
           }
          ],
          "carpet": [
           {
            "aaxis": {
             "endlinecolor": "#2a3f5f",
             "gridcolor": "white",
             "linecolor": "white",
             "minorgridcolor": "white",
             "startlinecolor": "#2a3f5f"
            },
            "baxis": {
             "endlinecolor": "#2a3f5f",
             "gridcolor": "white",
             "linecolor": "white",
             "minorgridcolor": "white",
             "startlinecolor": "#2a3f5f"
            },
            "type": "carpet"
           }
          ],
          "choropleth": [
           {
            "colorbar": {
             "outlinewidth": 0,
             "ticks": ""
            },
            "type": "choropleth"
           }
          ],
          "contour": [
           {
            "colorbar": {
             "outlinewidth": 0,
             "ticks": ""
            },
            "colorscale": [
             [
              0,
              "#0d0887"
             ],
             [
              0.1111111111111111,
              "#46039f"
             ],
             [
              0.2222222222222222,
              "#7201a8"
             ],
             [
              0.3333333333333333,
              "#9c179e"
             ],
             [
              0.4444444444444444,
              "#bd3786"
             ],
             [
              0.5555555555555556,
              "#d8576b"
             ],
             [
              0.6666666666666666,
              "#ed7953"
             ],
             [
              0.7777777777777778,
              "#fb9f3a"
             ],
             [
              0.8888888888888888,
              "#fdca26"
             ],
             [
              1,
              "#f0f921"
             ]
            ],
            "type": "contour"
           }
          ],
          "contourcarpet": [
           {
            "colorbar": {
             "outlinewidth": 0,
             "ticks": ""
            },
            "type": "contourcarpet"
           }
          ],
          "heatmap": [
           {
            "colorbar": {
             "outlinewidth": 0,
             "ticks": ""
            },
            "colorscale": [
             [
              0,
              "#0d0887"
             ],
             [
              0.1111111111111111,
              "#46039f"
             ],
             [
              0.2222222222222222,
              "#7201a8"
             ],
             [
              0.3333333333333333,
              "#9c179e"
             ],
             [
              0.4444444444444444,
              "#bd3786"
             ],
             [
              0.5555555555555556,
              "#d8576b"
             ],
             [
              0.6666666666666666,
              "#ed7953"
             ],
             [
              0.7777777777777778,
              "#fb9f3a"
             ],
             [
              0.8888888888888888,
              "#fdca26"
             ],
             [
              1,
              "#f0f921"
             ]
            ],
            "type": "heatmap"
           }
          ],
          "heatmapgl": [
           {
            "colorbar": {
             "outlinewidth": 0,
             "ticks": ""
            },
            "colorscale": [
             [
              0,
              "#0d0887"
             ],
             [
              0.1111111111111111,
              "#46039f"
             ],
             [
              0.2222222222222222,
              "#7201a8"
             ],
             [
              0.3333333333333333,
              "#9c179e"
             ],
             [
              0.4444444444444444,
              "#bd3786"
             ],
             [
              0.5555555555555556,
              "#d8576b"
             ],
             [
              0.6666666666666666,
              "#ed7953"
             ],
             [
              0.7777777777777778,
              "#fb9f3a"
             ],
             [
              0.8888888888888888,
              "#fdca26"
             ],
             [
              1,
              "#f0f921"
             ]
            ],
            "type": "heatmapgl"
           }
          ],
          "histogram": [
           {
            "marker": {
             "pattern": {
              "fillmode": "overlay",
              "size": 10,
              "solidity": 0.2
             }
            },
            "type": "histogram"
           }
          ],
          "histogram2d": [
           {
            "colorbar": {
             "outlinewidth": 0,
             "ticks": ""
            },
            "colorscale": [
             [
              0,
              "#0d0887"
             ],
             [
              0.1111111111111111,
              "#46039f"
             ],
             [
              0.2222222222222222,
              "#7201a8"
             ],
             [
              0.3333333333333333,
              "#9c179e"
             ],
             [
              0.4444444444444444,
              "#bd3786"
             ],
             [
              0.5555555555555556,
              "#d8576b"
             ],
             [
              0.6666666666666666,
              "#ed7953"
             ],
             [
              0.7777777777777778,
              "#fb9f3a"
             ],
             [
              0.8888888888888888,
              "#fdca26"
             ],
             [
              1,
              "#f0f921"
             ]
            ],
            "type": "histogram2d"
           }
          ],
          "histogram2dcontour": [
           {
            "colorbar": {
             "outlinewidth": 0,
             "ticks": ""
            },
            "colorscale": [
             [
              0,
              "#0d0887"
             ],
             [
              0.1111111111111111,
              "#46039f"
             ],
             [
              0.2222222222222222,
              "#7201a8"
             ],
             [
              0.3333333333333333,
              "#9c179e"
             ],
             [
              0.4444444444444444,
              "#bd3786"
             ],
             [
              0.5555555555555556,
              "#d8576b"
             ],
             [
              0.6666666666666666,
              "#ed7953"
             ],
             [
              0.7777777777777778,
              "#fb9f3a"
             ],
             [
              0.8888888888888888,
              "#fdca26"
             ],
             [
              1,
              "#f0f921"
             ]
            ],
            "type": "histogram2dcontour"
           }
          ],
          "mesh3d": [
           {
            "colorbar": {
             "outlinewidth": 0,
             "ticks": ""
            },
            "type": "mesh3d"
           }
          ],
          "parcoords": [
           {
            "line": {
             "colorbar": {
              "outlinewidth": 0,
              "ticks": ""
             }
            },
            "type": "parcoords"
           }
          ],
          "pie": [
           {
            "automargin": true,
            "type": "pie"
           }
          ],
          "scatter": [
           {
            "fillpattern": {
             "fillmode": "overlay",
             "size": 10,
             "solidity": 0.2
            },
            "type": "scatter"
           }
          ],
          "scatter3d": [
           {
            "line": {
             "colorbar": {
              "outlinewidth": 0,
              "ticks": ""
             }
            },
            "marker": {
             "colorbar": {
              "outlinewidth": 0,
              "ticks": ""
             }
            },
            "type": "scatter3d"
           }
          ],
          "scattercarpet": [
           {
            "marker": {
             "colorbar": {
              "outlinewidth": 0,
              "ticks": ""
             }
            },
            "type": "scattercarpet"
           }
          ],
          "scattergeo": [
           {
            "marker": {
             "colorbar": {
              "outlinewidth": 0,
              "ticks": ""
             }
            },
            "type": "scattergeo"
           }
          ],
          "scattergl": [
           {
            "marker": {
             "colorbar": {
              "outlinewidth": 0,
              "ticks": ""
             }
            },
            "type": "scattergl"
           }
          ],
          "scattermapbox": [
           {
            "marker": {
             "colorbar": {
              "outlinewidth": 0,
              "ticks": ""
             }
            },
            "type": "scattermapbox"
           }
          ],
          "scatterpolar": [
           {
            "marker": {
             "colorbar": {
              "outlinewidth": 0,
              "ticks": ""
             }
            },
            "type": "scatterpolar"
           }
          ],
          "scatterpolargl": [
           {
            "marker": {
             "colorbar": {
              "outlinewidth": 0,
              "ticks": ""
             }
            },
            "type": "scatterpolargl"
           }
          ],
          "scatterternary": [
           {
            "marker": {
             "colorbar": {
              "outlinewidth": 0,
              "ticks": ""
             }
            },
            "type": "scatterternary"
           }
          ],
          "surface": [
           {
            "colorbar": {
             "outlinewidth": 0,
             "ticks": ""
            },
            "colorscale": [
             [
              0,
              "#0d0887"
             ],
             [
              0.1111111111111111,
              "#46039f"
             ],
             [
              0.2222222222222222,
              "#7201a8"
             ],
             [
              0.3333333333333333,
              "#9c179e"
             ],
             [
              0.4444444444444444,
              "#bd3786"
             ],
             [
              0.5555555555555556,
              "#d8576b"
             ],
             [
              0.6666666666666666,
              "#ed7953"
             ],
             [
              0.7777777777777778,
              "#fb9f3a"
             ],
             [
              0.8888888888888888,
              "#fdca26"
             ],
             [
              1,
              "#f0f921"
             ]
            ],
            "type": "surface"
           }
          ],
          "table": [
           {
            "cells": {
             "fill": {
              "color": "#EBF0F8"
             },
             "line": {
              "color": "white"
             }
            },
            "header": {
             "fill": {
              "color": "#C8D4E3"
             },
             "line": {
              "color": "white"
             }
            },
            "type": "table"
           }
          ]
         },
         "layout": {
          "annotationdefaults": {
           "arrowcolor": "#2a3f5f",
           "arrowhead": 0,
           "arrowwidth": 1
          },
          "autotypenumbers": "strict",
          "coloraxis": {
           "colorbar": {
            "outlinewidth": 0,
            "ticks": ""
           }
          },
          "colorscale": {
           "diverging": [
            [
             0,
             "#8e0152"
            ],
            [
             0.1,
             "#c51b7d"
            ],
            [
             0.2,
             "#de77ae"
            ],
            [
             0.3,
             "#f1b6da"
            ],
            [
             0.4,
             "#fde0ef"
            ],
            [
             0.5,
             "#f7f7f7"
            ],
            [
             0.6,
             "#e6f5d0"
            ],
            [
             0.7,
             "#b8e186"
            ],
            [
             0.8,
             "#7fbc41"
            ],
            [
             0.9,
             "#4d9221"
            ],
            [
             1,
             "#276419"
            ]
           ],
           "sequential": [
            [
             0,
             "#0d0887"
            ],
            [
             0.1111111111111111,
             "#46039f"
            ],
            [
             0.2222222222222222,
             "#7201a8"
            ],
            [
             0.3333333333333333,
             "#9c179e"
            ],
            [
             0.4444444444444444,
             "#bd3786"
            ],
            [
             0.5555555555555556,
             "#d8576b"
            ],
            [
             0.6666666666666666,
             "#ed7953"
            ],
            [
             0.7777777777777778,
             "#fb9f3a"
            ],
            [
             0.8888888888888888,
             "#fdca26"
            ],
            [
             1,
             "#f0f921"
            ]
           ],
           "sequentialminus": [
            [
             0,
             "#0d0887"
            ],
            [
             0.1111111111111111,
             "#46039f"
            ],
            [
             0.2222222222222222,
             "#7201a8"
            ],
            [
             0.3333333333333333,
             "#9c179e"
            ],
            [
             0.4444444444444444,
             "#bd3786"
            ],
            [
             0.5555555555555556,
             "#d8576b"
            ],
            [
             0.6666666666666666,
             "#ed7953"
            ],
            [
             0.7777777777777778,
             "#fb9f3a"
            ],
            [
             0.8888888888888888,
             "#fdca26"
            ],
            [
             1,
             "#f0f921"
            ]
           ]
          },
          "colorway": [
           "#636efa",
           "#EF553B",
           "#00cc96",
           "#ab63fa",
           "#FFA15A",
           "#19d3f3",
           "#FF6692",
           "#B6E880",
           "#FF97FF",
           "#FECB52"
          ],
          "font": {
           "color": "#2a3f5f"
          },
          "geo": {
           "bgcolor": "white",
           "lakecolor": "white",
           "landcolor": "#E5ECF6",
           "showlakes": true,
           "showland": true,
           "subunitcolor": "white"
          },
          "hoverlabel": {
           "align": "left"
          },
          "hovermode": "closest",
          "mapbox": {
           "style": "light"
          },
          "paper_bgcolor": "white",
          "plot_bgcolor": "#E5ECF6",
          "polar": {
           "angularaxis": {
            "gridcolor": "white",
            "linecolor": "white",
            "ticks": ""
           },
           "bgcolor": "#E5ECF6",
           "radialaxis": {
            "gridcolor": "white",
            "linecolor": "white",
            "ticks": ""
           }
          },
          "scene": {
           "xaxis": {
            "backgroundcolor": "#E5ECF6",
            "gridcolor": "white",
            "gridwidth": 2,
            "linecolor": "white",
            "showbackground": true,
            "ticks": "",
            "zerolinecolor": "white"
           },
           "yaxis": {
            "backgroundcolor": "#E5ECF6",
            "gridcolor": "white",
            "gridwidth": 2,
            "linecolor": "white",
            "showbackground": true,
            "ticks": "",
            "zerolinecolor": "white"
           },
           "zaxis": {
            "backgroundcolor": "#E5ECF6",
            "gridcolor": "white",
            "gridwidth": 2,
            "linecolor": "white",
            "showbackground": true,
            "ticks": "",
            "zerolinecolor": "white"
           }
          },
          "shapedefaults": {
           "line": {
            "color": "#2a3f5f"
           }
          },
          "ternary": {
           "aaxis": {
            "gridcolor": "white",
            "linecolor": "white",
            "ticks": ""
           },
           "baxis": {
            "gridcolor": "white",
            "linecolor": "white",
            "ticks": ""
           },
           "bgcolor": "#E5ECF6",
           "caxis": {
            "gridcolor": "white",
            "linecolor": "white",
            "ticks": ""
           }
          },
          "title": {
           "x": 0.05
          },
          "xaxis": {
           "automargin": true,
           "gridcolor": "white",
           "linecolor": "white",
           "ticks": "",
           "title": {
            "standoff": 15
           },
           "zerolinecolor": "white",
           "zerolinewidth": 2
          },
          "yaxis": {
           "automargin": true,
           "gridcolor": "white",
           "linecolor": "white",
           "ticks": "",
           "title": {
            "standoff": 15
           },
           "zerolinecolor": "white",
           "zerolinewidth": 2
          }
         }
        }
       }
      }
     },
     "metadata": {},
     "output_type": "display_data"
    }
   ],
   "source": [
    "fig.show()"
   ]
  },
  {
   "cell_type": "code",
   "execution_count": null,
   "metadata": {},
   "outputs": [],
   "source": []
  }
 ],
 "metadata": {
  "kernelspec": {
   "display_name": "Python 3",
   "language": "python",
   "name": "python3"
  },
  "language_info": {
   "codemirror_mode": {
    "name": "ipython",
    "version": 3
   },
   "file_extension": ".py",
   "mimetype": "text/x-python",
   "name": "python",
   "nbconvert_exporter": "python",
   "pygments_lexer": "ipython3",
   "version": "3.12.2"
  }
 },
 "nbformat": 4,
 "nbformat_minor": 2
}
